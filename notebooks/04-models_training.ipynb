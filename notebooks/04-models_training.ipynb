{
 "cells": [
  {
   "cell_type": "code",
   "execution_count": 1,
   "metadata": {
    "colab": {
     "base_uri": "https://localhost:8080/"
    },
    "executionInfo": {
     "elapsed": 17776,
     "status": "ok",
     "timestamp": 1728026996326,
     "user": {
      "displayName": "Ruth Parajó Ferrer",
      "userId": "07031545869212809064"
     },
     "user_tz": -120
    },
    "id": "xJJ2jzpfkpt0",
    "outputId": "435323a9-257c-4d2a-9b4e-33146751fa24"
   },
   "outputs": [
    {
     "name": "stderr",
     "output_type": "stream",
     "text": [
      "2024-11-13 10:37:10.959704: E external/local_xla/xla/stream_executor/cuda/cuda_fft.cc:485] Unable to register cuFFT factory: Attempting to register factory for plugin cuFFT when one has already been registered\n",
      "2024-11-13 10:37:10.988349: E external/local_xla/xla/stream_executor/cuda/cuda_dnn.cc:8454] Unable to register cuDNN factory: Attempting to register factory for plugin cuDNN when one has already been registered\n",
      "2024-11-13 10:37:10.997317: E external/local_xla/xla/stream_executor/cuda/cuda_blas.cc:1452] Unable to register cuBLAS factory: Attempting to register factory for plugin cuBLAS when one has already been registered\n",
      "2024-11-13 10:37:11.020288: I tensorflow/core/platform/cpu_feature_guard.cc:210] This TensorFlow binary is optimized to use available CPU instructions in performance-critical operations.\n",
      "To enable the following instructions: AVX2 FMA, in other operations, rebuild TensorFlow with the appropriate compiler flags.\n",
      "2024-11-13 10:37:12.374795: W tensorflow/compiler/tf2tensorrt/utils/py_utils.cc:38] TF-TRT Warning: Could not find TensorRT\n"
     ]
    }
   ],
   "source": [
    "from functions import *\n",
    "from models import *"
   ]
  },
  {
   "cell_type": "code",
   "execution_count": 2,
   "metadata": {
    "executionInfo": {
     "elapsed": 760,
     "status": "ok",
     "timestamp": 1728026997084,
     "user": {
      "displayName": "Ruth Parajó Ferrer",
      "userId": "07031545869212809064"
     },
     "user_tz": -120
    },
    "id": "cdgXKy8WkrF0"
   },
   "outputs": [],
   "source": [
    "import matplotlib.pyplot as plt\n",
    "import glob\n",
    "from skimage.transform import resize\n",
    "from sklearn.model_selection import train_test_split\n",
    "from sklearn.linear_model import LinearRegression\n",
    "import geopandas as gpd\n",
    "from sklearn.metrics import mean_absolute_error, mean_squared_error, r2_score\n",
    "import matplotlib\n",
    "import seaborn as sns\n",
    "from sklearn.preprocessing import OneHotEncoder\n",
    "import time\n",
    "from datetime import datetime\n",
    "from collections import Counter\n",
    "from multiprocessing import Pool\n",
    "import gc"
   ]
  },
  {
   "cell_type": "code",
   "execution_count": 3,
   "metadata": {},
   "outputs": [],
   "source": [
    "os.environ['TF_CPP_MIN_LOG_LEVEL'] = '2' \n",
    "gpus = tf.config.experimental.list_physical_devices('GPU')\n",
    "for gpu in gpus:\n",
    "    tf.config.experimental.set_memory_growth(gpu, True)"
   ]
  },
  {
   "cell_type": "markdown",
   "metadata": {
    "id": "ibqF7sdakyQ6"
   },
   "source": [
    "## Load data"
   ]
  },
  {
   "cell_type": "code",
   "execution_count": 4,
   "metadata": {},
   "outputs": [],
   "source": [
    "source_folder = '../data/external/raster_masks'\n",
    "rivers = {}\n",
    "source_path = '../data/preprocessed/'\n",
    "data_paths = ['lst','slope', 'discharge', 'ndvi','altitude']#, 'ndvi', 'wt', 'masked','discharge', 'slope']#, 'wt_interpolated']\n",
    "dir_paths = [os.path.join(source_path,p) for p in data_paths]\n",
    "all_dir_paths = {k:[] for k in data_paths}    \n",
    "total_data = {}\n",
    "total_times = {}\n",
    "complete_rivers = []\n",
    "filter_river = None\n",
    "W=256\n",
    "time_split = False\n"
   ]
  },
  {
   "cell_type": "code",
   "execution_count": 5,
   "metadata": {},
   "outputs": [
    {
     "name": "stdout",
     "output_type": "stream",
     "text": [
      "lst : (955, 256, 256, 3)\n",
      "ndvi : (955, 256, 256)\n",
      "slope (955, 256, 256)\n",
      "discharge (955, 256, 256)\n",
      "altitude (955, 256, 256)\n"
     ]
    }
   ],
   "source": [
    "filepaths = [os.path.join(source_folder, f) for f in os.listdir(source_folder) if os.path.isfile(os.path.join(source_folder, f))]\n",
    "with Pool() as pool:\n",
    "    river_data = pool.map(load_river_raster, filepaths)\n",
    "    rivers = {name: data for name, data in river_data}\n",
    "\n",
    "\n",
    "# Load input paths\n",
    "for i,dir_p in enumerate(dir_paths):\n",
    "    if data_paths[i] != 'discharge' and data_paths[i] != 'slope' and data_paths[i] != 'altitude':\n",
    "        imgs_per_river = Counter()\n",
    "    for subdir, dirs,files in os.walk(dir_p):\n",
    "        if subdir != dir_p and not subdir.endswith('masked') and not subdir.endswith('.ipynb_checkpoints'): \n",
    "            all_dir_paths[data_paths[i]].append(subdir)\n",
    "        elif subdir.endswith('masked') and 'masked' in data_paths:\n",
    "            all_dir_paths['masked'].append(subdir)\n",
    "        elif dir_p.endswith('altitude'):\n",
    "            all_dir_paths[data_paths[i]].extend(files)\n",
    "            \n",
    "# Load input data\n",
    "for k,v in all_dir_paths.items():\n",
    "    if filter_river != None:\n",
    "        v = [v[i] for i in filter_river]\n",
    "    \n",
    "    if k != 'discharge' and k != 'slope' and k != 'altitude':\n",
    "        if k == 'lst' or k == 'masked':\n",
    "            list_rgb = [True]*len(v)\n",
    "        else:\n",
    "            list_rgb = [False]*len(v)\n",
    "            \n",
    "        data, times = load_data(v,W,list_rgb)\n",
    "        if k!='masked':\n",
    "            labels = []\n",
    "            for ki,value in data.items():\n",
    "                labels+=[ki.split('/')[-1]]*len(value)\n",
    "        \n",
    "        data_values = [np.array(img) for sublist in list(data.values()) for img in sublist]\n",
    "        times_list = [t for sublist in times for t in sublist]\n",
    "   \n",
    "        if time_split:\n",
    "            dates = [datetime.strptime(date, '%Y-%m') for date in times_list]\n",
    "            pairs = sorted(zip(dates, data_values, labels), key=lambda x: x[0])\n",
    "            sorted_dates, data_values, labels = zip(*pairs)\n",
    "            times_list = [date.strftime('%Y-%m') for date in sorted_dates]\n",
    "            \n",
    "        total_data[k] = np.array(data_values)\n",
    "        total_times[k] = times_list\n",
    "        print(k,':' ,total_data[k].shape)\n",
    "\n",
    "\n",
    "for k,v in all_dir_paths.items():\n",
    "    total = []\n",
    "    if k == 'discharge' or k == 'slope' or k == 'altitude':\n",
    "        imgss = {}\n",
    "        for i,lab in enumerate(labels):\n",
    "            for file in v:\n",
    "                if lab == file.split('/')[-1] or lab == file.split('.')[0]:\n",
    "                    if lab not in imgss.keys():\n",
    "                        if k != 'altitude':\n",
    "                            file_path = os.path.join(file,os.listdir(file)[0])\n",
    "                        else:\n",
    "                            file_path = os.path.join('../data/preprocessed/altitude', file)\n",
    "                        \n",
    "                        r,m = load_raster(file_path, False)\n",
    "                        var = resize_image(r, W,W)\n",
    "                        var = np.where(np.isnan(var), 0.0, var)\n",
    "\n",
    "                        imgss[lab] = var\n",
    "                    else:\n",
    "                        var = imgss[lab]\n",
    "                    total.append(var)\n",
    "                        \n",
    "        total_data[k] = np.array(total)\n",
    "        print(k, np.array(total).shape)\n",
    "\n",
    "\n",
    "# Load cos and sin variables\n",
    "str_months = ['Jan', 'Feb', 'Mar', 'Apr', 'May', 'Jun', 'Jul', 'Aug', 'Sep', 'Oct', 'Nov', 'Dec']\n",
    "\n",
    "\n",
    "# Load target variable\n",
    "water_temp = pd.read_csv('../data/preprocessed/wt/water_temp.csv', index_col=0)\n",
    "times_ordered = total_times['lst']\n",
    "wt_temp=[]\n",
    "for cell, date in zip(labels,times_ordered):\n",
    "    temp = water_temp[(water_temp[\"Cell\"] == cell) & (water_temp[\"Date\"] == date)][\"WaterTemp\"]\n",
    "    if not temp.empty:\n",
    "        wt_temp.append(temp.values[0])\n",
    "data_targets = np.array(wt_temp)\n"
   ]
  },
  {
   "cell_type": "markdown",
   "metadata": {},
   "source": [
    "### Concatenate additional inputs"
   ]
  },
  {
   "cell_type": "markdown",
   "metadata": {
    "jp-MarkdownHeadingCollapsed": true
   },
   "source": [
    "#### Vectorize dates"
   ]
  },
  {
   "cell_type": "code",
   "execution_count": 6,
   "metadata": {},
   "outputs": [
    {
     "data": {
      "image/png": "[encoded data removed]",
      "text/plain": [
       "<Figure size 800x600 with 1 Axes>"
      ]
     },
     "metadata": {},
     "output_type": "display_data"
    }
   ],
   "source": [
    "import numpy as np\n",
    "\n",
    "def get_months_vectorized(times):\n",
    "    \"\"\"\n",
    "    Calculate the cosine and sine values for each month in a given list of dates.\n",
    "    Additionally, return a dictionary that maps each unique cosine value to its corresponding month.\n",
    "    \n",
    "    Parameters:\n",
    "    ----------\n",
    "    times : list or array-like\n",
    "        A list of date strings or datetime objects from which month information is extracted.\n",
    "        \n",
    "    Returns:\n",
    "    -------\n",
    "    cosine_months : np.ndarray\n",
    "        An array of cosine values corresponding to each month in the `times` input.\n",
    "        \n",
    "    sine_months : np.ndarray\n",
    "        An array of sine values corresponding to each month in the `times` input.\n",
    "        \n",
    "    cos_to_month : dict\n",
    "        A dictionary where each key is a unique cosine value and the corresponding value is the month (1-12) \n",
    "        associated with that cosine value.\"\"\"\n",
    "    \n",
    "    month_cosine_dict = {month: np.cos((month - 1) / 12 * 2 * np.pi) for month in range(1, 13)}\n",
    "    month_sinus_dict = {month: np.sin((month - 1) / 12 * 2 * np.pi) for month in range(1, 13)}\n",
    "    \n",
    "    cos_to_month = {cos_val: month for month, cos_val in month_cosine_dict.items()}\n",
    "    \n",
    "    def cosine_for_month(month):\n",
    "        return month_cosine_dict[month]\n",
    "\n",
    "    def sine_for_month(month):\n",
    "        return month_sinus_dict[month]\n",
    "\n",
    "    cosine_vectorized = np.vectorize(cosine_for_month)\n",
    "    sine_vectorized = np.vectorize(sine_for_month)\n",
    "\n",
    "    times_dt = pd.to_datetime(times)\n",
    "    months = times_dt.month\n",
    "\n",
    "    cosine_months = cosine_vectorized(months)\n",
    "    sine_months = sine_vectorized(months)\n",
    "    \n",
    "    return cosine_months, sine_months, cos_to_month\n",
    "\n",
    "month_cosine_dict = {month: np.cos((month - 1) / 12 * 2 * np.pi) for month in range(1, 13)}\n",
    "month_sinus_dict = {month: np.sin((month - 1) / 12 * 2 * np.pi) for month in range(1, 13)}\n",
    "    \n",
    "months = list(month_cosine_dict.keys())\n",
    "cosine_values = list(month_cosine_dict.values())\n",
    "sinus_values = list(month_sinus_dict.values())\n",
    "str_months = ['Jan', 'Feb', 'Mar', 'Apr', 'May', 'Jun', 'Jul', 'Aug', 'Sep', 'Oct', 'Nov', 'Dec']\n",
    "\n",
    "plt.figure(figsize=(8, 6))\n",
    "plt.plot(months, cosine_values, marker='o',color='red')\n",
    "plt.plot(months, sinus_values, marker='o',color='green')\n",
    "plt.xticks(months, str_months)\n",
    "plt.xlabel('Month')\n",
    "plt.ylabel('Sinus and cosinus Value')\n",
    "plt.title('Cyclic Cosine Representation of Months')\n",
    "plt.grid(True)\n",
    "plt.show()\n"
   ]
  },
  {
   "cell_type": "code",
   "execution_count": 7,
   "metadata": {},
   "outputs": [
    {
     "name": "stdout",
     "output_type": "stream",
     "text": [
      "955 955\n"
     ]
    }
   ],
   "source": [
    "cosine_months, sine_months, cos_to_month = get_months_vectorized(total_times['lst'])\n",
    "print(len(cosine_months),len(sine_months))"
   ]
  },
  {
   "cell_type": "markdown",
   "metadata": {},
   "source": [
    "#### Vectorize lat and lon"
   ]
  },
  {
   "cell_type": "code",
   "execution_count": 8,
   "metadata": {},
   "outputs": [
    {
     "data": {
      "text/html": [
       "<div>\n",
       "<style scoped>\n",
       "    .dataframe tbody tr th:only-of-type {\n",
       "        vertical-align: middle;\n",
       "    }\n",
       "\n",
       "    .dataframe tbody tr th {\n",
       "        vertical-align: top;\n",
       "    }\n",
       "\n",
       "    .dataframe thead th {\n",
       "        text-align: right;\n",
       "    }\n",
       "</style>\n",
       "<table border=\"1\" class=\"dataframe\">\n",
       "  <thead>\n",
       "    <tr style=\"text-align: right;\">\n",
       "      <th></th>\n",
       "      <th>Cell</th>\n",
       "      <th>Latitude</th>\n",
       "      <th>Longitude</th>\n",
       "    </tr>\n",
       "  </thead>\n",
       "  <tbody>\n",
       "    <tr>\n",
       "      <th>0</th>\n",
       "      <td>1</td>\n",
       "      <td>2656959</td>\n",
       "      <td>1259353.0</td>\n",
       "    </tr>\n",
       "    <tr>\n",
       "      <th>1</th>\n",
       "      <td>2</td>\n",
       "      <td>2733557</td>\n",
       "      <td>1118162.0</td>\n",
       "    </tr>\n",
       "    <tr>\n",
       "      <th>2</th>\n",
       "      <td>3</td>\n",
       "      <td>2629128</td>\n",
       "      <td>1140919.0</td>\n",
       "    </tr>\n",
       "    <tr>\n",
       "      <th>3</th>\n",
       "      <td>4</td>\n",
       "      <td>2734998</td>\n",
       "      <td>1182035.0</td>\n",
       "    </tr>\n",
       "    <tr>\n",
       "      <th>4</th>\n",
       "      <td>5</td>\n",
       "      <td>2623616</td>\n",
       "      <td>1200426.0</td>\n",
       "    </tr>\n",
       "    <tr>\n",
       "      <th>...</th>\n",
       "      <td>...</td>\n",
       "      <td>...</td>\n",
       "      <td>...</td>\n",
       "    </tr>\n",
       "    <tr>\n",
       "      <th>75</th>\n",
       "      <td>77</td>\n",
       "      <td>2611732</td>\n",
       "      <td>1272316.0</td>\n",
       "    </tr>\n",
       "    <tr>\n",
       "      <th>76</th>\n",
       "      <td>78</td>\n",
       "      <td>2604814</td>\n",
       "      <td>1192679.0</td>\n",
       "    </tr>\n",
       "    <tr>\n",
       "      <th>77</th>\n",
       "      <td>79</td>\n",
       "      <td>2658557</td>\n",
       "      <td>1218252.0</td>\n",
       "    </tr>\n",
       "    <tr>\n",
       "      <th>78</th>\n",
       "      <td>80</td>\n",
       "      <td>2561671</td>\n",
       "      <td>1187319.0</td>\n",
       "    </tr>\n",
       "    <tr>\n",
       "      <th>79</th>\n",
       "      <td>81</td>\n",
       "      <td>2643694</td>\n",
       "      <td>1137291.0</td>\n",
       "    </tr>\n",
       "  </tbody>\n",
       "</table>\n",
       "<p>80 rows × 3 columns</p>\n",
       "</div>"
      ],
      "text/plain": [
       "    Cell  Latitude  Longitude\n",
       "0      1   2656959  1259353.0\n",
       "1      2   2733557  1118162.0\n",
       "2      3   2629128  1140919.0\n",
       "3      4   2734998  1182035.0\n",
       "4      5   2623616  1200426.0\n",
       "..   ...       ...        ...\n",
       "75    77   2611732  1272316.0\n",
       "76    78   2604814  1192679.0\n",
       "77    79   2658557  1218252.0\n",
       "78    80   2561671  1187319.0\n",
       "79    81   2643694  1137291.0\n",
       "\n",
       "[80 rows x 3 columns]"
      ]
     },
     "execution_count": 8,
     "metadata": {},
     "output_type": "execute_result"
    }
   ],
   "source": [
    "file_path = '../data/raw/wt/cell_coordinates.csv'\n",
    "lat_lon = pd.read_csv(file_path)\n",
    "lat_lon"
   ]
  },
  {
   "cell_type": "code",
   "execution_count": 9,
   "metadata": {
    "scrolled": true
   },
   "outputs": [
    {
     "name": "stdout",
     "output_type": "stream",
     "text": [
      "955 955\n"
     ]
    }
   ],
   "source": [
    "len(labels)\n",
    "lats=[]\n",
    "lons=[]\n",
    "for label in labels:\n",
    "    num_cell = int(label.split('_')[-1])\n",
    "    lat = lat_lon[lat_lon.Cell==num_cell].Latitude.values[0]\n",
    "    lon = lat_lon[lat_lon.Cell==num_cell].Longitude.values[0]\n",
    "    lats.append(lat)\n",
    "    lons.append(lon)\n",
    "lats = np.array(lats)\n",
    "lons = np.array(lons)\n",
    "print(len(lats),len(lons))"
   ]
  },
  {
   "cell_type": "code",
   "execution_count": 10,
   "metadata": {},
   "outputs": [],
   "source": [
    "additional_inputs = np.column_stack((cosine_months, sine_months, lats, lons))"
   ]
  },
  {
   "cell_type": "markdown",
   "metadata": {
    "id": "5Y2TXyInRBmC"
   },
   "source": [
    "## Do experiment"
   ]
  },
  {
   "cell_type": "markdown",
   "metadata": {},
   "source": [
    "### Parameters"
   ]
  },
  {
   "cell_type": "code",
   "execution_count": 11,
   "metadata": {},
   "outputs": [],
   "source": [
    "W = 256\n",
    "filter_river = None#[3,11,12]\n",
    "inputs = ['lst']#,'slope', 'discharge','ndvi']#,'discharge', 'slope','altitude']#['ndvi','discharge', 'slope']\n",
    "conditioned = True\n",
    "batch_size = 64\n",
    "epochs = 300\n",
    "model_name = \"baseline_CNN\" #img_wise_CNN, UNet, transfer_learning_VGG16, CNN, img_2_img\n",
    "stratified = False\n",
    "physics_guided = False"
   ]
  },
  {
   "cell_type": "markdown",
   "metadata": {},
   "source": [
    "#### Adapt inputs shape"
   ]
  },
  {
   "cell_type": "code",
   "execution_count": 12,
   "metadata": {},
   "outputs": [],
   "source": [
    "# Choose inputs\n",
    "inputs_d = [total_data[inp] for inp in inputs]\n",
    "# List to store the processed additional images\n",
    "expanded_images = []\n",
    "# Expand dimensions for single-channel images, leave multi-channel images as they are\n",
    "for img in inputs_d:\n",
    "    if img.ndim == 3:  # Case where image is (n, 256, 256) (single-channel)\n",
    "        expanded_images.append(np.expand_dims(img, axis=-1))  # Expand to add an extra channel\n",
    "    elif img.ndim == 4:  # Case where image already has multiple channels (n, 256, 256, c)\n",
    "        expanded_images.append(img)  # Leave the image as it is\n",
    "# Concatenate all images along the last axis (channels)\n",
    "combined_input = np.concatenate(expanded_images, axis=-1)\n",
    "# The final combined input is stored in input_data\n",
    "input_data = combined_input"
   ]
  },
  {
   "cell_type": "markdown",
   "metadata": {},
   "source": [
    "### Split data"
   ]
  },
  {
   "cell_type": "code",
   "execution_count": 13,
   "metadata": {},
   "outputs": [
    {
     "name": "stdout",
     "output_type": "stream",
     "text": [
      "Train: 765 imágenes, (765, 256, 256, 3)\n",
      "Val: 95 imágenes, (95, 256, 256, 3)\n",
      "Test: 95 imágenes, (95, 256, 256, 3)\n",
      " Additional inputs (955, 4)\n",
      "(765,) (95,) (95,)\n"
     ]
    }
   ],
   "source": [
    "if time_split:\n",
    "    train_ratio = 0.6\n",
    "    val_ratio = 0.2\n",
    "    test_ratio = 0.2\n",
    "    \n",
    "    # Calcular el tamaño de cada conjunto\n",
    "    total_images = len(input_data)\n",
    "    train_size = int(total_images * train_ratio)\n",
    "    val_size = int(total_images * val_ratio)\n",
    "    indices = np.arange(total_images)\n",
    "    \n",
    "    train_index = indices[:train_size]                       # Primeros índices para entrenamiento\n",
    "    validation_index = indices[train_size:train_size + val_size]    # Siguientes índices para validación\n",
    "    test_index = indices[train_size + val_size:]             # Últimos índices para prueba\n",
    "       \n",
    "elif stratified:\n",
    "    train_index, validation_index, test_index = split_data_stratified(input_data, data_targets, labels)\n",
    "else:\n",
    "    train_index, validation_index, test_index = split_data(input_data, data_targets)\n",
    "            \n",
    "validation_input = input_data[validation_index, :] / 255.0  # Normalize inputs\n",
    "validation_target = data_targets[validation_index]\n",
    "test_input = input_data[test_index, :] / 255.0  # Normalize inputs\n",
    "test_target = data_targets[test_index]\n",
    "train_input = input_data[train_index, :] / 255.0  # Normalize inputs\n",
    "train_target = data_targets[train_index]\n",
    "\n",
    "additional_inputs_train = additional_inputs[train_index, :]\n",
    "additional_inputs_validation = additional_inputs[validation_index, :]\n",
    "additional_inputs_test = additional_inputs[test_index, :]\n",
    "\n",
    "print(f\"Train: {len(train_input)} imágenes, {train_input.shape}\")\n",
    "print(f\"Val: {len(validation_input)} imágenes, {validation_input.shape}\")\n",
    "print(f\"Test: {len(test_input)} imágenes, {test_input.shape}\")\n",
    "print(f\" Additional inputs {additional_inputs.shape}\")\n",
    "print(train_target.shape, validation_target.shape, test_target.shape)\n",
    "\n",
    "train_dates = np.array(total_times['lst'])[train_index] \n",
    "validation_dates = np.array(total_times['lst'])[validation_index] \n",
    "test_dates = np.array(total_times['lst'])[test_index] "
   ]
  },
  {
   "cell_type": "code",
   "execution_count": 14,
   "metadata": {
    "scrolled": true
   },
   "outputs": [
    {
     "name": "stdout",
     "output_type": "stream",
     "text": [
      "['2013-08' '2013-12' '2015-02' '2015-07' '2015-08' '2016-05' '2016-11'\n",
      " '2017-04' '2017-11' '2018-04' '2018-09' '2018-10' '2019-01' '2019-04'\n",
      " '2019-09' '2020-04' '2020-10' '2021-03' '2021-04' '2021-10' '2021-11'\n",
      " '2022-02' '2022-11' '2023-02' '2023-03' '2023-11' '2014-12' '2015-03'\n",
      " '2015-10' '2017-07' '2017-10' '2018-02' '2018-05' '2019-04' '2023-10'\n",
      " '2024-05' '2015-05' '2017-08' '2018-07' '2018-09' '2019-11' '2022-01'\n",
      " '2023-08' '2023-11' '2023-12' '2024-01' '2024-02' '2013-11' '2014-07'\n",
      " '2019-02' '2019-07' '2019-08' '2021-06' '2022-05' '2013-09' '2014-04'\n",
      " '2015-03' '2016-11' '2017-06' '2017-11' '2018-01' '2018-02' '2018-03'\n",
      " '2018-05' '2018-11' '2020-04' '2022-01' '2022-06' '2023-07' '2016-06'\n",
      " '2016-10' '2017-11' '2018-01' '2018-04' '2018-05' '2019-09' '2020-02'\n",
      " '2022-09' '2013-03' '2013-06' '2013-10' '2014-01' '2014-03' '2014-05'\n",
      " '2015-09' '2016-03' '2016-09' '2016-11' '2017-02' '2017-04' '2017-05'\n",
      " '2018-05' '2018-07' '2018-08' '2018-10' '2018-11' '2018-12' '2019-02'\n",
      " '2019-07' '2019-09' '2019-12' '2020-09' '2020-11' '2021-01' '2021-05'\n",
      " '2021-06' '2021-11' '2022-07' '2022-09' '2022-12' '2023-02' '2023-08'\n",
      " '2023-09' '2024-03' '2014-05' '2017-09' '2018-04' '2018-12' '2019-03'\n",
      " '2019-07' '2020-04' '2020-08' '2020-12' '2022-02' '2023-01' '2024-04'\n",
      " '2014-03' '2014-04' '2015-05' '2016-05' '2017-05' '2014-01' '2014-02'\n",
      " '2016-01' '2016-03' '2017-04' '2018-01' '2021-05' '2021-10' '2022-09'\n",
      " '2023-03' '2023-09' '2024-02' '2013-04' '2013-09' '2014-01' '2014-10'\n",
      " '2014-12' '2015-06' '2016-03' '2016-06' '2016-11' '2017-01' '2017-04'\n",
      " '2017-12' '2018-06' '2018-07' '2019-03' '2019-06' '2019-07' '2019-12'\n",
      " '2020-02' '2020-07' '2021-12' '2022-02' '2023-01' '2023-02' '2023-12'\n",
      " '2024-02' '2024-06' '2024-07' '2024-08' '2024-09' '2014-03' '2016-02'\n",
      " '2016-09' '2016-10' '2017-12' '2020-07' '2021-05' '2021-06' '2022-11'\n",
      " '2023-03' '2023-07' '2023-08' '2024-03' '2013-09' '2013-11' '2014-05'\n",
      " '2014-11' '2015-01' '2017-05' '2017-11' '2018-04' '2019-12' '2021-03'\n",
      " '2022-09' '2022-11' '2013-05' '2014-02' '2014-03' '2014-10' '2015-12'\n",
      " '2016-10' '2018-05' '2019-02' '2019-04' '2019-06' '2020-07' '2020-10'\n",
      " '2021-02' '2021-03' '2021-04' '2021-08' '2022-01' '2022-08' '2022-11'\n",
      " '2022-12' '2023-11' '2024-08' '2013-06' '2014-10' '2015-12' '2016-01'\n",
      " '2018-01' '2018-05' '2021-07' '2022-07' '2023-03' '2024-02' '2024-05'\n",
      " '2013-09' '2017-09' '2018-10' '2019-12' '2020-12' '2023-09' '2024-06'\n",
      " '2024-07' '2013-12' '2014-01' '2015-11' '2016-02' '2016-05' '2017-02'\n",
      " '2017-03' '2017-04' '2017-06' '2017-08' '2017-12' '2018-06' '2018-07'\n",
      " '2019-07' '2020-06' '2020-07' '2021-03' '2021-11' '2022-02' '2022-09'\n",
      " '2023-04' '2023-11' '2024-07' '2013-03' '2014-05' '2015-02' '2015-11'\n",
      " '2016-03' '2018-01' '2018-03' '2018-05' '2018-12' '2020-11' '2021-02'\n",
      " '2021-12' '2022-02' '2022-04' '2022-10' '2024-02' '2024-06' '2015-06'\n",
      " '2017-03' '2017-09' '2018-04' '2019-02' '2022-05' '2013-05' '2013-06'\n",
      " '2013-08' '2013-12' '2014-01' '2015-09' '2015-11' '2016-01' '2016-02'\n",
      " '2016-03' '2016-12' '2017-03' '2017-08' '2017-12' '2018-01' '2018-05'\n",
      " '2018-06' '2019-04' '2019-05' '2019-07' '2019-09' '2019-12' '2020-02'\n",
      " '2020-06' '2020-09' '2020-10' '2020-12' '2021-01' '2021-02' '2021-05'\n",
      " '2021-06' '2021-08' '2021-11' '2022-02' '2022-08' '2022-11' '2023-02'\n",
      " '2023-07' '2023-09' '2024-04' '2013-03' '2014-01' '2014-08' '2014-10'\n",
      " '2016-02' '2016-05' '2016-07' '2018-06' '2018-10' '2019-08' '2019-12'\n",
      " '2020-02' '2020-10' '2021-12' '2022-06' '2022-07' '2023-06' '2023-12'\n",
      " '2024-02' '2024-08' '2013-11' '2015-08' '2015-09' '2016-10' '2016-12'\n",
      " '2017-04' '2018-01' '2019-02' '2021-01' '2021-09' '2021-12' '2022-01'\n",
      " '2022-06' '2023-03' '2024-02' '2024-05' '2013-03' '2013-06' '2013-08'\n",
      " '2014-06' '2014-09' '2015-07' '2015-08' '2015-10' '2016-02' '2016-05'\n",
      " '2016-09' '2016-12' '2017-09' '2018-01' '2018-10' '2019-08' '2019-12'\n",
      " '2020-03' '2020-05' '2020-10' '2021-01' '2021-04' '2021-06' '2021-08'\n",
      " '2022-05' '2022-07' '2023-01' '2023-05' '2024-08' '2024-09' '2013-05'\n",
      " '2013-08' '2013-11' '2014-01' '2015-08' '2015-09' '2016-02' '2016-08'\n",
      " '2017-04' '2018-01' '2019-06' '2019-12' '2021-06' '2021-07' '2021-08'\n",
      " '2021-09' '2024-01' '2024-08' '2013-06' '2013-12' '2014-09' '2015-03'\n",
      " '2015-05' '2017-06' '2017-07' '2017-08' '2018-02' '2018-05' '2018-10'\n",
      " '2019-01' '2021-03' '2021-08' '2022-01' '2022-08' '2023-05' '2023-12'\n",
      " '2024-05' '2024-06' '2024-07' '2014-03' '2015-06' '2015-09' '2016-08'\n",
      " '2016-09' '2016-10' '2017-06' '2019-06' '2020-06' '2021-02' '2021-07'\n",
      " '2021-10' '2022-10' '2024-02' '2013-06' '2014-04' '2015-04' '2016-06'\n",
      " '2017-05' '2017-11' '2018-08' '2013-04' '2013-11' '2014-02' '2014-06'\n",
      " '2014-07' '2016-04' '2016-06' '2017-12' '2019-11' '2021-05' '2021-08'\n",
      " '2023-10' '2024-08' '2014-12' '2016-11' '2016-12' '2017-04' '2017-06'\n",
      " '2019-10' '2019-12' '2020-08' '2022-02' '2013-12' '2014-02' '2014-07'\n",
      " '2014-10' '2015-01' '2015-05' '2016-04' '2016-11' '2017-03' '2017-04'\n",
      " '2018-04' '2018-05' '2018-11' '2018-12' '2019-01' '2021-05' '2021-08'\n",
      " '2021-10' '2022-09' '2024-09' '2013-04' '2013-05' '2015-01' '2019-02'\n",
      " '2020-12' '2022-09' '2024-09' '2013-08' '2019-06' '2020-04' '2021-03'\n",
      " '2021-08' '2024-03' '2013-04' '2017-07' '2020-12' '2021-03' '2022-01'\n",
      " '2023-09' '2014-07' '2014-10' '2014-11' '2015-09' '2017-12' '2019-02'\n",
      " '2019-05' '2020-03' '2021-04' '2022-10' '2023-04' '2023-12' '2024-04'\n",
      " '2024-08' '2013-07' '2013-10' '2013-12' '2014-05' '2014-12' '2015-02'\n",
      " '2016-05' '2016-07' '2017-06' '2017-09' '2017-10' '2017-12' '2018-03'\n",
      " '2019-04' '2019-08' '2020-07' '2020-08' '2021-08' '2021-10' '2021-12'\n",
      " '2022-06' '2023-01' '2023-10' '2024-03' '2013-09' '2013-12' '2014-01'\n",
      " '2014-02' '2014-08' '2016-03' '2016-10' '2016-12' '2017-02' '2018-12'\n",
      " '2019-01' '2019-03' '2019-09' '2020-03' '2020-06' '2020-08' '2020-09'\n",
      " '2020-10' '2021-04' '2021-06' '2022-06' '2022-07' '2023-03' '2024-05'\n",
      " '2013-06' '2013-11' '2014-06' '2014-11' '2015-04' '2015-06' '2016-07'\n",
      " '2017-12' '2021-06' '2022-01' '2022-08' '2023-03' '2013-06' '2013-07'\n",
      " '2015-02' '2016-08' '2016-10' '2020-02' '2020-11' '2021-06' '2021-09'\n",
      " '2022-05' '2022-10' '2023-02' '2024-07' '2014-01' '2015-10' '2017-08'\n",
      " '2021-03' '2014-03' '2014-04' '2014-07' '2014-12' '2016-01' '2016-02'\n",
      " '2016-11' '2017-03' '2017-05' '2018-01' '2018-03' '2018-07' '2018-10'\n",
      " '2018-12' '2019-02' '2019-09' '2020-02' '2020-07' '2020-09' '2021-02'\n",
      " '2021-06' '2021-11' '2022-04' '2022-07' '2022-10' '2022-11' '2023-07'\n",
      " '2023-09' '2024-01' '2024-04' '2024-09' '2013-06' '2013-07' '2013-09'\n",
      " '2013-11' '2014-08' '2014-11' '2015-02' '2015-11' '2016-04' '2018-02'\n",
      " '2020-02' '2020-07' '2020-08' '2020-09' '2021-09' '2022-05' '2013-10'\n",
      " '2014-05' '2015-01' '2015-10' '2016-08' '2017-06' '2018-06' '2018-11'\n",
      " '2019-11' '2020-06' '2020-08' '2021-03' '2023-03' '2023-05' '2023-08'\n",
      " '2013-12' '2014-04' '2014-07' '2015-02' '2015-03' '2015-09' '2016-02'\n",
      " '2016-04' '2016-06' '2017-01' '2017-02' '2017-06' '2018-10' '2019-03'\n",
      " '2020-05' '2020-11' '2021-05' '2022-06' '2022-07' '2023-02' '2024-02'\n",
      " '2013-08' '2013-09' '2014-01' '2014-10' '2014-11' '2015-03' '2015-07'\n",
      " '2015-08' '2015-10' '2015-11' '2016-01' '2016-08' '2016-10' '2017-02'\n",
      " '2018-02' '2018-06' '2018-09' '2018-10' '2018-11' '2019-01' '2019-05'\n",
      " '2019-06' '2019-10' '2020-01' '2020-03' '2021-12' '2022-05' '2022-06'\n",
      " '2022-07' '2023-01' '2023-07' '2024-01' '2024-06' '2024-08' '2013-08'\n",
      " '2014-01' '2014-06' '2015-01' '2017-04' '2017-08' '2017-09' '2018-08'\n",
      " '2018-11' '2018-12' '2019-03' '2019-04' '2019-06' '2020-03' '2020-09'\n",
      " '2020-11' '2021-09' '2021-12' '2022-03' '2024-04' '2024-06' '2013-07'\n",
      " '2014-03' '2014-09' '2014-10' '2016-03' '2019-03' '2020-08' '2021-06'\n",
      " '2022-12' '2023-08' '2023-10' '2024-03' '2024-04' '2013-05' '2013-08'\n",
      " '2014-10' '2015-10' '2016-03' '2019-02' '2020-01' '2021-05' '2021-08'\n",
      " '2024-05' '2024-07']\n",
      "['2019-05' '2018-07' '2018-10' '2015-06' '2016-08' '2023-02' '2014-12'\n",
      " '2016-08' '2015-02' '2023-07' '2015-03' '2018-02' '2013-05' '2021-09'\n",
      " '2015-08' '2015-03' '2019-09' '2020-01' '2018-04' '2014-10' '2023-03'\n",
      " '2017-01' '2018-09' '2021-03' '2017-03' '2016-04' '2016-08' '2023-10'\n",
      " '2020-06' '2018-10' '2015-03' '2024-07' '2023-08' '2017-11' '2020-05'\n",
      " '2015-01' '2017-09' '2015-05' '2021-04' '2014-08' '2016-08' '2020-05'\n",
      " '2017-10' '2020-12' '2020-11' '2023-08' '2023-11' '2020-10' '2015-02'\n",
      " '2019-01' '2023-11' '2022-07' '2015-09' '2015-03' '2016-06' '2018-02'\n",
      " '2021-03' '2021-07' '2017-09' '2021-01' '2024-02' '2014-01' '2019-03'\n",
      " '2014-11' '2023-04' '2014-03' '2021-11' '2017-11' '2014-11' '2015-01'\n",
      " '2024-07' '2020-12' '2021-12' '2014-02' '2013-07' '2020-12' '2021-05'\n",
      " '2013-12' '2016-10' '2022-12' '2016-05' '2019-04' '2022-10' '2014-11'\n",
      " '2021-09' '2017-04' '2018-11' '2023-09' '2018-02' '2017-01' '2015-05'\n",
      " '2017-04' '2019-07' '2015-08' '2022-09']\n",
      "['2018-09' '2024-03' '2014-09' '2022-01' '2018-04' '2020-06' '2020-06'\n",
      " '2015-05' '2018-03' '2015-11' '2015-05' '2019-10' '2023-10' '2023-01'\n",
      " '2022-07' '2014-03' '2015-08' '2014-07' '2022-12' '2023-11' '2019-04'\n",
      " '2024-05' '2014-08' '2019-04' '2019-02' '2017-07' '2021-12' '2019-01'\n",
      " '2020-01' '2020-01' '2019-03' '2024-01' '2017-12' '2021-07' '2015-02'\n",
      " '2024-07' '2014-05' '2022-05' '2023-10' '2021-03' '2019-12' '2023-11'\n",
      " '2020-06' '2019-08' '2024-05' '2018-10' '2019-08' '2022-12' '2018-05'\n",
      " '2014-10' '2021-08' '2019-08' '2017-03' '2024-05' '2016-12' '2021-12'\n",
      " '2016-04' '2021-09' '2022-05' '2023-01' '2021-05' '2024-09' '2016-04'\n",
      " '2016-11' '2021-04' '2020-07' '2020-06' '2021-02' '2023-06' '2018-12'\n",
      " '2017-10' '2023-09' '2015-04' '2021-09' '2019-03' '2023-12' '2019-11'\n",
      " '2017-11' '2013-11' '2020-04' '2019-11' '2016-03' '2020-08' '2015-01'\n",
      " '2019-10' '2022-09' '2013-10' '2016-02' '2017-01' '2018-01' '2018-03'\n",
      " '2013-07' '2018-02' '2021-07' '2020-04']\n"
     ]
    }
   ],
   "source": [
    "print(train_dates)\n",
    "print(validation_dates)\n",
    "print(test_dates)"
   ]
  },
  {
   "cell_type": "markdown",
   "metadata": {},
   "source": [
    "#### Select inputs and model"
   ]
  },
  {
   "cell_type": "code",
   "execution_count": 15,
   "metadata": {},
   "outputs": [
    {
     "name": "stdout",
     "output_type": "stream",
     "text": [
      "2\n"
     ]
    }
   ],
   "source": [
    "if len(train_input.shape) == 3:\n",
    "    input_shape = train_input.shape[1:]+(1,)\n",
    "else:\n",
    "    input_shape = train_input.shape[1:]\n",
    "    \n",
    "# Adapt input to condition\n",
    "if conditioned:\n",
    "    input_args = (input_shape, additional_inputs.shape[1])\n",
    "    model_input = [train_input, additional_inputs_train]\n",
    "    val_model_input = [validation_input, additional_inputs_validation]\n",
    "    test_model_input = [test_input, additional_inputs_test]\n",
    "\n",
    "else:\n",
    "    input_args = input_shape\n",
    "    model_input = train_input\n",
    "    val_model_input = validation_input\n",
    "    test_model_input = test_input\n",
    "\n",
    "print(len(model_input))\n",
    "    "
   ]
  },
  {
   "cell_type": "code",
   "execution_count": 16,
   "metadata": {},
   "outputs": [
    {
     "name": "stderr",
     "output_type": "stream",
     "text": [
      "2024-11-13 10:37:40.874711: I tensorflow/core/common_runtime/gpu/gpu_device.cc:2021] Created device /job:localhost/replica:0/task:0/device:GPU:0 with 10530 MB memory:  -> device: 0, name: NVIDIA GeForce GTX 1080 Ti, pci bus id: 0000:02:00.0, compute capability: 6.1\n",
      "2024-11-13 10:37:40.875299: I tensorflow/core/common_runtime/gpu/gpu_device.cc:2021] Created device /job:localhost/replica:0/task:0/device:GPU:1 with 2178 MB memory:  -> device: 1, name: NVIDIA GeForce GTX 1080 Ti, pci bus id: 0000:81:00.0, compute capability: 6.1\n"
     ]
    }
   ],
   "source": [
    "# Start model\n",
    "start_time = time.time()\n",
    "if model_name == \"baseline_CNN\":\n",
    "    if conditioned:\n",
    "        model = build_cnn_model_features(input_args[0], input_args[1])\n",
    "    else:\n",
    "        model = build_cnn_baseline(input_args)\n",
    "elif model_name == 'CNN':\n",
    "    model = build_cnn_model(input_args)\n",
    "elif model_name == 'img_2_img':\n",
    "    model = build_img_2_img_model(input_args)\n",
    "elif model_name == 'UNet':\n",
    "    model = build_unet(input_args)\n",
    "elif model_name == 'transfer_learning_VGG16':\n",
    "    train_input = train_input[:, :, :, :3]\n",
    "    model = build_transfer_model((W, W, 3))\n",
    "elif model_name == \"img_wise_CNN_improved\":\n",
    "    model = build_simplified_cnn_model_improved(input_args)\n",
    "        "
   ]
  },
  {
   "cell_type": "markdown",
   "metadata": {},
   "source": [
    "### Train model"
   ]
  },
  {
   "cell_type": "code",
   "execution_count": 17,
   "metadata": {
    "scrolled": true
   },
   "outputs": [
    {
     "name": "stderr",
     "output_type": "stream",
     "text": [
      "2024-11-13 10:37:45.444321: I external/local_xla/xla/stream_executor/cuda/cuda_dnn.cc:531] Loaded cuDNN version 8907\n",
      "WARNING: All log messages before absl::InitializeLog() is called are written to STDERR\n",
      "W0000 00:00:1731490665.518750  972424 gpu_timer.cc:114] Skipping the delay kernel, measurement accuracy will be reduced\n",
      "W0000 00:00:1731490665.554745  972424 gpu_timer.cc:114] Skipping the delay kernel, measurement accuracy will be reduced\n",
      "W0000 00:00:1731490665.557496  972424 gpu_timer.cc:114] Skipping the delay kernel, measurement accuracy will be reduced\n",
      "W0000 00:00:1731490665.570027  972424 gpu_timer.cc:114] Skipping the delay kernel, measurement accuracy will be reduced\n",
      "W0000 00:00:1731490665.574135  972424 gpu_timer.cc:114] Skipping the delay kernel, measurement accuracy will be reduced\n",
      "W0000 00:00:1731490665.578198  972424 gpu_timer.cc:114] Skipping the delay kernel, measurement accuracy will be reduced\n",
      "W0000 00:00:1731490665.582690  972424 gpu_timer.cc:114] Skipping the delay kernel, measurement accuracy will be reduced\n",
      "W0000 00:00:1731490665.586906  972424 gpu_timer.cc:114] Skipping the delay kernel, measurement accuracy will be reduced\n",
      "W0000 00:00:1731490665.591732  972424 gpu_timer.cc:114] Skipping the delay kernel, measurement accuracy will be reduced\n",
      "W0000 00:00:1731490665.595768  972424 gpu_timer.cc:114] Skipping the delay kernel, measurement accuracy will be reduced\n",
      "W0000 00:00:1731490665.599785  972424 gpu_timer.cc:114] Skipping the delay kernel, measurement accuracy will be reduced\n",
      "W0000 00:00:1731490665.604531  972424 gpu_timer.cc:114] Skipping the delay kernel, measurement accuracy will be reduced\n",
      "W0000 00:00:1731490665.609018  972424 gpu_timer.cc:114] Skipping the delay kernel, measurement accuracy will be reduced\n",
      "W0000 00:00:1731490665.614257  972424 gpu_timer.cc:114] Skipping the delay kernel, measurement accuracy will be reduced\n",
      "W0000 00:00:1731490665.619409  972424 gpu_timer.cc:114] Skipping the delay kernel, measurement accuracy will be reduced\n",
      "W0000 00:00:1731490665.624105  972424 gpu_timer.cc:114] Skipping the delay kernel, measurement accuracy will be reduced\n",
      "W0000 00:00:1731490665.628970  972424 gpu_timer.cc:114] Skipping the delay kernel, measurement accuracy will be reduced\n",
      "W0000 00:00:1731490665.633863  972424 gpu_timer.cc:114] Skipping the delay kernel, measurement accuracy will be reduced\n",
      "W0000 00:00:1731490665.641587  972424 gpu_timer.cc:114] Skipping the delay kernel, measurement accuracy will be reduced\n",
      "W0000 00:00:1731490665.649113  972424 gpu_timer.cc:114] Skipping the delay kernel, measurement accuracy will be reduced\n",
      "W0000 00:00:1731490665.658703  972424 gpu_timer.cc:114] Skipping the delay kernel, measurement accuracy will be reduced\n",
      "W0000 00:00:1731490665.666434  972424 gpu_timer.cc:114] Skipping the delay kernel, measurement accuracy will be reduced\n",
      "W0000 00:00:1731490665.679452  972424 gpu_timer.cc:114] Skipping the delay kernel, measurement accuracy will be reduced\n",
      "W0000 00:00:1731490665.745578  972424 gpu_timer.cc:114] Skipping the delay kernel, measurement accuracy will be reduced\n",
      "W0000 00:00:1731490665.765009  972424 gpu_timer.cc:114] Skipping the delay kernel, measurement accuracy will be reduced\n",
      "W0000 00:00:1731490665.777204  972424 gpu_timer.cc:114] Skipping the delay kernel, measurement accuracy will be reduced\n",
      "W0000 00:00:1731490666.388840  972424 gpu_timer.cc:114] Skipping the delay kernel, measurement accuracy will be reduced\n",
      "W0000 00:00:1731490666.391565  972424 gpu_timer.cc:114] Skipping the delay kernel, measurement accuracy will be reduced\n",
      "W0000 00:00:1731490666.395826  972424 gpu_timer.cc:114] Skipping the delay kernel, measurement accuracy will be reduced\n",
      "W0000 00:00:1731490666.398642  972424 gpu_timer.cc:114] Skipping the delay kernel, measurement accuracy will be reduced\n",
      "W0000 00:00:1731490666.401587  972424 gpu_timer.cc:114] Skipping the delay kernel, measurement accuracy will be reduced\n",
      "W0000 00:00:1731490666.405524  972424 gpu_timer.cc:114] Skipping the delay kernel, measurement accuracy will be reduced\n",
      "W0000 00:00:1731490666.408503  972424 gpu_timer.cc:114] Skipping the delay kernel, measurement accuracy will be reduced\n",
      "W0000 00:00:1731490666.413334  972424 gpu_timer.cc:114] Skipping the delay kernel, measurement accuracy will be reduced\n",
      "W0000 00:00:1731490666.418241  972424 gpu_timer.cc:114] Skipping the delay kernel, measurement accuracy will be reduced\n",
      "W0000 00:00:1731490666.420772  972424 gpu_timer.cc:114] Skipping the delay kernel, measurement accuracy will be reduced\n",
      "W0000 00:00:1731490666.422415  972424 gpu_timer.cc:114] Skipping the delay kernel, measurement accuracy will be reduced\n",
      "W0000 00:00:1731490666.425023  972424 gpu_timer.cc:114] Skipping the delay kernel, measurement accuracy will be reduced\n",
      "W0000 00:00:1731490666.426727  972424 gpu_timer.cc:114] Skipping the delay kernel, measurement accuracy will be reduced\n",
      "W0000 00:00:1731490666.429990  972424 gpu_timer.cc:114] Skipping the delay kernel, measurement accuracy will be reduced\n",
      "W0000 00:00:1731490666.437987  972424 gpu_timer.cc:114] Skipping the delay kernel, measurement accuracy will be reduced\n",
      "W0000 00:00:1731490666.440470  972424 gpu_timer.cc:114] Skipping the delay kernel, measurement accuracy will be reduced\n",
      "W0000 00:00:1731490666.442976  972424 gpu_timer.cc:114] Skipping the delay kernel, measurement accuracy will be reduced\n",
      "W0000 00:00:1731490666.445471  972424 gpu_timer.cc:114] Skipping the delay kernel, measurement accuracy will be reduced\n",
      "W0000 00:00:1731490666.448687  972424 gpu_timer.cc:114] Skipping the delay kernel, measurement accuracy will be reduced\n",
      "W0000 00:00:1731490666.451016  972424 gpu_timer.cc:114] Skipping the delay kernel, measurement accuracy will be reduced\n",
      "W0000 00:00:1731490666.455537  972424 gpu_timer.cc:114] Skipping the delay kernel, measurement accuracy will be reduced\n",
      "W0000 00:00:1731490666.458253  972424 gpu_timer.cc:114] Skipping the delay kernel, measurement accuracy will be reduced\n",
      "W0000 00:00:1731490666.464749  972424 gpu_timer.cc:114] Skipping the delay kernel, measurement accuracy will be reduced\n",
      "W0000 00:00:1731490666.469492  972424 gpu_timer.cc:114] Skipping the delay kernel, measurement accuracy will be reduced\n",
      "W0000 00:00:1731490666.474245  972424 gpu_timer.cc:114] Skipping the delay kernel, measurement accuracy will be reduced\n",
      "W0000 00:00:1731490666.497281  972424 gpu_timer.cc:114] Skipping the delay kernel, measurement accuracy will be reduced\n",
      "W0000 00:00:1731490666.498580  972424 gpu_timer.cc:114] Skipping the delay kernel, measurement accuracy will be reduced\n",
      "W0000 00:00:1731490666.500504  972424 gpu_timer.cc:114] Skipping the delay kernel, measurement accuracy will be reduced\n",
      "W0000 00:00:1731490666.501826  972424 gpu_timer.cc:114] Skipping the delay kernel, measurement accuracy will be reduced\n",
      "W0000 00:00:1731490666.503237  972424 gpu_timer.cc:114] Skipping the delay kernel, measurement accuracy will be reduced\n",
      "W0000 00:00:1731490666.504828  972424 gpu_timer.cc:114] Skipping the delay kernel, measurement accuracy will be reduced\n",
      "W0000 00:00:1731490666.506775  972424 gpu_timer.cc:114] Skipping the delay kernel, measurement accuracy will be reduced\n",
      "W0000 00:00:1731490666.508486  972424 gpu_timer.cc:114] Skipping the delay kernel, measurement accuracy will be reduced\n",
      "W0000 00:00:1731490666.510697  972424 gpu_timer.cc:114] Skipping the delay kernel, measurement accuracy will be reduced\n",
      "W0000 00:00:1731490666.512034  972424 gpu_timer.cc:114] Skipping the delay kernel, measurement accuracy will be reduced\n",
      "W0000 00:00:1731490666.513401  972424 gpu_timer.cc:114] Skipping the delay kernel, measurement accuracy will be reduced\n",
      "W0000 00:00:1731490666.516702  972424 gpu_timer.cc:114] Skipping the delay kernel, measurement accuracy will be reduced\n",
      "W0000 00:00:1731490666.518151  972424 gpu_timer.cc:114] Skipping the delay kernel, measurement accuracy will be reduced\n",
      "W0000 00:00:1731490666.519655  972424 gpu_timer.cc:114] Skipping the delay kernel, measurement accuracy will be reduced\n",
      "W0000 00:00:1731490666.521318  972424 gpu_timer.cc:114] Skipping the delay kernel, measurement accuracy will be reduced\n",
      "W0000 00:00:1731490666.523213  972424 gpu_timer.cc:114] Skipping the delay kernel, measurement accuracy will be reduced\n",
      "W0000 00:00:1731490666.525138  972424 gpu_timer.cc:114] Skipping the delay kernel, measurement accuracy will be reduced\n",
      "W0000 00:00:1731490666.527117  972424 gpu_timer.cc:114] Skipping the delay kernel, measurement accuracy will be reduced\n",
      "W0000 00:00:1731490666.530138  972424 gpu_timer.cc:114] Skipping the delay kernel, measurement accuracy will be reduced\n",
      "W0000 00:00:1731490666.532337  972424 gpu_timer.cc:114] Skipping the delay kernel, measurement accuracy will be reduced\n",
      "W0000 00:00:1731490666.535485  972424 gpu_timer.cc:114] Skipping the delay kernel, measurement accuracy will be reduced\n",
      "W0000 00:00:1731490666.537854  972424 gpu_timer.cc:114] Skipping the delay kernel, measurement accuracy will be reduced\n",
      "W0000 00:00:1731490666.541184  972424 gpu_timer.cc:114] Skipping the delay kernel, measurement accuracy will be reduced\n",
      "W0000 00:00:1731490666.543584  972424 gpu_timer.cc:114] Skipping the delay kernel, measurement accuracy will be reduced\n",
      "W0000 00:00:1731490666.546877  972424 gpu_timer.cc:114] Skipping the delay kernel, measurement accuracy will be reduced\n",
      "W0000 00:00:1731490667.717829  972424 gpu_timer.cc:114] Skipping the delay kernel, measurement accuracy will be reduced\n",
      "W0000 00:00:1731490667.719126  972424 gpu_timer.cc:114] Skipping the delay kernel, measurement accuracy will be reduced\n",
      "W0000 00:00:1731490667.721277  972424 gpu_timer.cc:114] Skipping the delay kernel, measurement accuracy will be reduced\n",
      "W0000 00:00:1731490667.723286  972424 gpu_timer.cc:114] Skipping the delay kernel, measurement accuracy will be reduced\n",
      "W0000 00:00:1731490667.725698  972424 gpu_timer.cc:114] Skipping the delay kernel, measurement accuracy will be reduced\n",
      "W0000 00:00:1731490667.727372  972424 gpu_timer.cc:114] Skipping the delay kernel, measurement accuracy will be reduced\n",
      "W0000 00:00:1731490667.730200  972424 gpu_timer.cc:114] Skipping the delay kernel, measurement accuracy will be reduced\n",
      "W0000 00:00:1731490667.732979  972424 gpu_timer.cc:114] Skipping the delay kernel, measurement accuracy will be reduced\n",
      "W0000 00:00:1731490667.737565  972424 gpu_timer.cc:114] Skipping the delay kernel, measurement accuracy will be reduced\n",
      "W0000 00:00:1731490667.741446  972424 gpu_timer.cc:114] Skipping the delay kernel, measurement accuracy will be reduced\n",
      "W0000 00:00:1731490667.764217  972424 gpu_timer.cc:114] Skipping the delay kernel, measurement accuracy will be reduced\n",
      "W0000 00:00:1731490667.772847  972424 gpu_timer.cc:114] Skipping the delay kernel, measurement accuracy will be reduced\n",
      "W0000 00:00:1731490667.775241  972424 gpu_timer.cc:114] Skipping the delay kernel, measurement accuracy will be reduced\n",
      "W0000 00:00:1731490667.778560  972424 gpu_timer.cc:114] Skipping the delay kernel, measurement accuracy will be reduced\n",
      "W0000 00:00:1731490667.780870  972424 gpu_timer.cc:114] Skipping the delay kernel, measurement accuracy will be reduced\n",
      "W0000 00:00:1731490667.784063  972424 gpu_timer.cc:114] Skipping the delay kernel, measurement accuracy will be reduced\n",
      "W0000 00:00:1731490667.787220  972424 gpu_timer.cc:114] Skipping the delay kernel, measurement accuracy will be reduced\n",
      "W0000 00:00:1731490667.790377  972424 gpu_timer.cc:114] Skipping the delay kernel, measurement accuracy will be reduced\n",
      "W0000 00:00:1731490667.796434  972424 gpu_timer.cc:114] Skipping the delay kernel, measurement accuracy will be reduced\n",
      "W0000 00:00:1731490667.799989  972424 gpu_timer.cc:114] Skipping the delay kernel, measurement accuracy will be reduced\n",
      "W0000 00:00:1731490667.804426  972424 gpu_timer.cc:114] Skipping the delay kernel, measurement accuracy will be reduced\n",
      "W0000 00:00:1731490667.809040  972424 gpu_timer.cc:114] Skipping the delay kernel, measurement accuracy will be reduced\n",
      "W0000 00:00:1731490667.818970  972424 gpu_timer.cc:114] Skipping the delay kernel, measurement accuracy will be reduced\n",
      "W0000 00:00:1731490667.884060  972424 gpu_timer.cc:114] Skipping the delay kernel, measurement accuracy will be reduced\n",
      "W0000 00:00:1731490667.888517  972424 gpu_timer.cc:114] Skipping the delay kernel, measurement accuracy will be reduced\n",
      "W0000 00:00:1731490667.892730  972424 gpu_timer.cc:114] Skipping the delay kernel, measurement accuracy will be reduced\n",
      "W0000 00:00:1731490667.897049  972424 gpu_timer.cc:114] Skipping the delay kernel, measurement accuracy will be reduced\n",
      "W0000 00:00:1731490667.901888  972424 gpu_timer.cc:114] Skipping the delay kernel, measurement accuracy will be reduced\n",
      "W0000 00:00:1731490667.905072  972424 gpu_timer.cc:114] Skipping the delay kernel, measurement accuracy will be reduced\n",
      "W0000 00:00:1731490667.909073  972424 gpu_timer.cc:114] Skipping the delay kernel, measurement accuracy will be reduced\n",
      "W0000 00:00:1731490667.913033  972424 gpu_timer.cc:114] Skipping the delay kernel, measurement accuracy will be reduced\n",
      "W0000 00:00:1731490667.920969  972424 gpu_timer.cc:114] Skipping the delay kernel, measurement accuracy will be reduced\n",
      "W0000 00:00:1731490668.000005  972424 gpu_timer.cc:114] Skipping the delay kernel, measurement accuracy will be reduced\n",
      "W0000 00:00:1731490668.019790  972424 gpu_timer.cc:114] Skipping the delay kernel, measurement accuracy will be reduced\n",
      "W0000 00:00:1731490668.023995  972424 gpu_timer.cc:114] Skipping the delay kernel, measurement accuracy will be reduced\n",
      "W0000 00:00:1731490668.028120  972424 gpu_timer.cc:114] Skipping the delay kernel, measurement accuracy will be reduced\n",
      "W0000 00:00:1731490668.035074  972424 gpu_timer.cc:114] Skipping the delay kernel, measurement accuracy will be reduced\n",
      "W0000 00:00:1731490668.042463  972424 gpu_timer.cc:114] Skipping the delay kernel, measurement accuracy will be reduced\n",
      "W0000 00:00:1731490668.049850  972424 gpu_timer.cc:114] Skipping the delay kernel, measurement accuracy will be reduced\n",
      "W0000 00:00:1731490668.057241  972424 gpu_timer.cc:114] Skipping the delay kernel, measurement accuracy will be reduced\n",
      "W0000 00:00:1731490668.064427  972424 gpu_timer.cc:114] Skipping the delay kernel, measurement accuracy will be reduced\n",
      "W0000 00:00:1731490668.075523  972424 gpu_timer.cc:114] Skipping the delay kernel, measurement accuracy will be reduced\n",
      "W0000 00:00:1731490668.085006  972424 gpu_timer.cc:114] Skipping the delay kernel, measurement accuracy will be reduced\n",
      "W0000 00:00:1731490668.089446  972424 gpu_timer.cc:114] Skipping the delay kernel, measurement accuracy will be reduced\n",
      "W0000 00:00:1731490668.094645  972424 gpu_timer.cc:114] Skipping the delay kernel, measurement accuracy will be reduced\n",
      "W0000 00:00:1731490668.144378  972424 gpu_timer.cc:114] Skipping the delay kernel, measurement accuracy will be reduced\n",
      "W0000 00:00:1731490668.182020  972424 gpu_timer.cc:114] Skipping the delay kernel, measurement accuracy will be reduced\n",
      "W0000 00:00:1731490668.195797  972424 gpu_timer.cc:114] Skipping the delay kernel, measurement accuracy will be reduced\n",
      "W0000 00:00:1731490668.204242  972424 gpu_timer.cc:114] Skipping the delay kernel, measurement accuracy will be reduced\n",
      "W0000 00:00:1731490668.210311  972424 gpu_timer.cc:114] Skipping the delay kernel, measurement accuracy will be reduced\n",
      "W0000 00:00:1731490668.220251  972424 gpu_timer.cc:114] Skipping the delay kernel, measurement accuracy will be reduced\n",
      "W0000 00:00:1731490668.226512  972424 gpu_timer.cc:114] Skipping the delay kernel, measurement accuracy will be reduced\n",
      "W0000 00:00:1731490668.232561  972424 gpu_timer.cc:114] Skipping the delay kernel, measurement accuracy will be reduced\n",
      "W0000 00:00:1731490668.239154  972424 gpu_timer.cc:114] Skipping the delay kernel, measurement accuracy will be reduced\n",
      "W0000 00:00:1731490668.244779  972424 gpu_timer.cc:114] Skipping the delay kernel, measurement accuracy will be reduced\n",
      "W0000 00:00:1731490668.252756  972424 gpu_timer.cc:114] Skipping the delay kernel, measurement accuracy will be reduced\n",
      "W0000 00:00:1731490668.262543  972424 gpu_timer.cc:114] Skipping the delay kernel, measurement accuracy will be reduced\n",
      "W0000 00:00:1731490668.267691  972424 gpu_timer.cc:114] Skipping the delay kernel, measurement accuracy will be reduced\n",
      "W0000 00:00:1731490668.278223  972424 gpu_timer.cc:114] Skipping the delay kernel, measurement accuracy will be reduced\n",
      "W0000 00:00:1731490668.288724  972424 gpu_timer.cc:114] Skipping the delay kernel, measurement accuracy will be reduced\n",
      "W0000 00:00:1731490668.298925  972424 gpu_timer.cc:114] Skipping the delay kernel, measurement accuracy will be reduced\n",
      "W0000 00:00:1731490668.310985  972424 gpu_timer.cc:114] Skipping the delay kernel, measurement accuracy will be reduced\n",
      "W0000 00:00:1731490668.325981  972424 gpu_timer.cc:114] Skipping the delay kernel, measurement accuracy will be reduced\n",
      "W0000 00:00:1731490668.338721  972424 gpu_timer.cc:114] Skipping the delay kernel, measurement accuracy will be reduced\n",
      "W0000 00:00:1731490668.345117  972424 gpu_timer.cc:114] Skipping the delay kernel, measurement accuracy will be reduced\n",
      "W0000 00:00:1731490668.354424  972424 gpu_timer.cc:114] Skipping the delay kernel, measurement accuracy will be reduced\n",
      "W0000 00:00:1731490668.396512  972424 gpu_timer.cc:114] Skipping the delay kernel, measurement accuracy will be reduced\n",
      "W0000 00:00:1731490672.053639  972424 gpu_timer.cc:114] Skipping the delay kernel, measurement accuracy will be reduced\n",
      "W0000 00:00:1731490672.055890  972424 gpu_timer.cc:114] Skipping the delay kernel, measurement accuracy will be reduced\n",
      "W0000 00:00:1731490672.058135  972424 gpu_timer.cc:114] Skipping the delay kernel, measurement accuracy will be reduced\n",
      "W0000 00:00:1731490672.061108  972424 gpu_timer.cc:114] Skipping the delay kernel, measurement accuracy will be reduced\n",
      "W0000 00:00:1731490672.064559  972424 gpu_timer.cc:114] Skipping the delay kernel, measurement accuracy will be reduced\n",
      "W0000 00:00:1731490672.067999  972424 gpu_timer.cc:114] Skipping the delay kernel, measurement accuracy will be reduced\n",
      "W0000 00:00:1731490672.070703  972424 gpu_timer.cc:114] Skipping the delay kernel, measurement accuracy will be reduced\n",
      "W0000 00:00:1731490672.074258  972424 gpu_timer.cc:114] Skipping the delay kernel, measurement accuracy will be reduced\n",
      "W0000 00:00:1731490672.078627  972424 gpu_timer.cc:114] Skipping the delay kernel, measurement accuracy will be reduced\n",
      "W0000 00:00:1731490672.082282  972424 gpu_timer.cc:114] Skipping the delay kernel, measurement accuracy will be reduced\n",
      "W0000 00:00:1731490672.085937  972424 gpu_timer.cc:114] Skipping the delay kernel, measurement accuracy will be reduced\n",
      "W0000 00:00:1731490672.090112  972424 gpu_timer.cc:114] Skipping the delay kernel, measurement accuracy will be reduced\n",
      "W0000 00:00:1731490672.094284  972424 gpu_timer.cc:114] Skipping the delay kernel, measurement accuracy will be reduced\n",
      "W0000 00:00:1731490672.098929  972424 gpu_timer.cc:114] Skipping the delay kernel, measurement accuracy will be reduced\n",
      "W0000 00:00:1731490672.103498  972424 gpu_timer.cc:114] Skipping the delay kernel, measurement accuracy will be reduced\n",
      "W0000 00:00:1731490672.107906  972424 gpu_timer.cc:114] Skipping the delay kernel, measurement accuracy will be reduced\n",
      "W0000 00:00:1731490672.114314  972424 gpu_timer.cc:114] Skipping the delay kernel, measurement accuracy will be reduced\n",
      "W0000 00:00:1731490672.122413  972424 gpu_timer.cc:114] Skipping the delay kernel, measurement accuracy will be reduced\n",
      "W0000 00:00:1731490672.156559  972424 gpu_timer.cc:114] Skipping the delay kernel, measurement accuracy will be reduced\n",
      "W0000 00:00:1731490672.163146  972424 gpu_timer.cc:114] Skipping the delay kernel, measurement accuracy will be reduced\n",
      "W0000 00:00:1731490672.173785  972424 gpu_timer.cc:114] Skipping the delay kernel, measurement accuracy will be reduced\n",
      "W0000 00:00:1731490672.204201  972424 gpu_timer.cc:114] Skipping the delay kernel, measurement accuracy will be reduced\n",
      "W0000 00:00:1731490672.206833  972424 gpu_timer.cc:114] Skipping the delay kernel, measurement accuracy will be reduced\n",
      "W0000 00:00:1731490672.211079  972424 gpu_timer.cc:114] Skipping the delay kernel, measurement accuracy will be reduced\n",
      "W0000 00:00:1731490672.213806  972424 gpu_timer.cc:114] Skipping the delay kernel, measurement accuracy will be reduced\n",
      "W0000 00:00:1731490672.217711  972424 gpu_timer.cc:114] Skipping the delay kernel, measurement accuracy will be reduced\n",
      "W0000 00:00:1731490672.220134  972424 gpu_timer.cc:114] Skipping the delay kernel, measurement accuracy will be reduced\n",
      "W0000 00:00:1731490672.221711  972424 gpu_timer.cc:114] Skipping the delay kernel, measurement accuracy will be reduced\n",
      "W0000 00:00:1731490672.224190  972424 gpu_timer.cc:114] Skipping the delay kernel, measurement accuracy will be reduced\n",
      "W0000 00:00:1731490672.225825  972424 gpu_timer.cc:114] Skipping the delay kernel, measurement accuracy will be reduced\n",
      "W0000 00:00:1731490672.228938  972424 gpu_timer.cc:114] Skipping the delay kernel, measurement accuracy will be reduced\n",
      "W0000 00:00:1731490672.231320  972424 gpu_timer.cc:114] Skipping the delay kernel, measurement accuracy will be reduced\n",
      "W0000 00:00:1731490672.233727  972424 gpu_timer.cc:114] Skipping the delay kernel, measurement accuracy will be reduced\n",
      "W0000 00:00:1731490672.236098  972424 gpu_timer.cc:114] Skipping the delay kernel, measurement accuracy will be reduced\n",
      "W0000 00:00:1731490672.239162  972424 gpu_timer.cc:114] Skipping the delay kernel, measurement accuracy will be reduced\n",
      "W0000 00:00:1731490672.241377  972424 gpu_timer.cc:114] Skipping the delay kernel, measurement accuracy will be reduced\n",
      "W0000 00:00:1731490672.245639  972424 gpu_timer.cc:114] Skipping the delay kernel, measurement accuracy will be reduced\n",
      "W0000 00:00:1731490672.248174  972424 gpu_timer.cc:114] Skipping the delay kernel, measurement accuracy will be reduced\n",
      "W0000 00:00:1731490672.254233  972424 gpu_timer.cc:114] Skipping the delay kernel, measurement accuracy will be reduced\n",
      "W0000 00:00:1731490672.259121  972424 gpu_timer.cc:114] Skipping the delay kernel, measurement accuracy will be reduced\n",
      "W0000 00:00:1731490672.264004  972424 gpu_timer.cc:114] Skipping the delay kernel, measurement accuracy will be reduced\n",
      "W0000 00:00:1731490672.290380  972424 gpu_timer.cc:114] Skipping the delay kernel, measurement accuracy will be reduced\n",
      "W0000 00:00:1731490672.291711  972424 gpu_timer.cc:114] Skipping the delay kernel, measurement accuracy will be reduced\n",
      "W0000 00:00:1731490672.293643  972424 gpu_timer.cc:114] Skipping the delay kernel, measurement accuracy will be reduced\n",
      "W0000 00:00:1731490672.294947  972424 gpu_timer.cc:114] Skipping the delay kernel, measurement accuracy will be reduced\n",
      "W0000 00:00:1731490672.296672  972424 gpu_timer.cc:114] Skipping the delay kernel, measurement accuracy will be reduced\n",
      "W0000 00:00:1731490672.297984  972424 gpu_timer.cc:114] Skipping the delay kernel, measurement accuracy will be reduced\n",
      "W0000 00:00:1731490672.299316  972424 gpu_timer.cc:114] Skipping the delay kernel, measurement accuracy will be reduced\n",
      "W0000 00:00:1731490672.300719  972424 gpu_timer.cc:114] Skipping the delay kernel, measurement accuracy will be reduced\n",
      "W0000 00:00:1731490672.302168  972424 gpu_timer.cc:114] Skipping the delay kernel, measurement accuracy will be reduced\n",
      "W0000 00:00:1731490672.303788  972424 gpu_timer.cc:114] Skipping the delay kernel, measurement accuracy will be reduced\n",
      "W0000 00:00:1731490672.305622  972424 gpu_timer.cc:114] Skipping the delay kernel, measurement accuracy will be reduced\n",
      "W0000 00:00:1731490672.307482  972424 gpu_timer.cc:114] Skipping the delay kernel, measurement accuracy will be reduced\n",
      "W0000 00:00:1731490672.309367  972424 gpu_timer.cc:114] Skipping the delay kernel, measurement accuracy will be reduced\n",
      "W0000 00:00:1731490672.311666  972424 gpu_timer.cc:114] Skipping the delay kernel, measurement accuracy will be reduced\n",
      "W0000 00:00:1731490672.313746  972424 gpu_timer.cc:114] Skipping the delay kernel, measurement accuracy will be reduced\n",
      "W0000 00:00:1731490672.316719  972424 gpu_timer.cc:114] Skipping the delay kernel, measurement accuracy will be reduced\n",
      "W0000 00:00:1731490672.318996  972424 gpu_timer.cc:114] Skipping the delay kernel, measurement accuracy will be reduced\n",
      "W0000 00:00:1731490672.322260  972424 gpu_timer.cc:114] Skipping the delay kernel, measurement accuracy will be reduced\n",
      "W0000 00:00:1731490672.324547  972424 gpu_timer.cc:114] Skipping the delay kernel, measurement accuracy will be reduced\n",
      "W0000 00:00:1731490672.327766  972424 gpu_timer.cc:114] Skipping the delay kernel, measurement accuracy will be reduced\n",
      "W0000 00:00:1731490672.370648  972424 gpu_timer.cc:114] Skipping the delay kernel, measurement accuracy will be reduced\n",
      "W0000 00:00:1731490672.371876  972424 gpu_timer.cc:114] Skipping the delay kernel, measurement accuracy will be reduced\n",
      "W0000 00:00:1731490672.374025  972424 gpu_timer.cc:114] Skipping the delay kernel, measurement accuracy will be reduced\n",
      "W0000 00:00:1731490672.376287  972424 gpu_timer.cc:114] Skipping the delay kernel, measurement accuracy will be reduced\n",
      "W0000 00:00:1731490672.377911  972424 gpu_timer.cc:114] Skipping the delay kernel, measurement accuracy will be reduced\n",
      "W0000 00:00:1731490672.380650  972424 gpu_timer.cc:114] Skipping the delay kernel, measurement accuracy will be reduced\n",
      "W0000 00:00:1731490672.383387  972424 gpu_timer.cc:114] Skipping the delay kernel, measurement accuracy will be reduced\n",
      "W0000 00:00:1731490672.387146  972424 gpu_timer.cc:114] Skipping the delay kernel, measurement accuracy will be reduced\n",
      "W0000 00:00:1731490672.390869  972424 gpu_timer.cc:114] Skipping the delay kernel, measurement accuracy will be reduced\n",
      "W0000 00:00:1731490672.395827  972424 gpu_timer.cc:114] Skipping the delay kernel, measurement accuracy will be reduced\n",
      "W0000 00:00:1731490672.397864  972424 gpu_timer.cc:114] Skipping the delay kernel, measurement accuracy will be reduced\n",
      "W0000 00:00:1731490672.400175  972424 gpu_timer.cc:114] Skipping the delay kernel, measurement accuracy will be reduced\n",
      "W0000 00:00:1731490672.402318  972424 gpu_timer.cc:114] Skipping the delay kernel, measurement accuracy will be reduced\n",
      "W0000 00:00:1731490672.404533  972424 gpu_timer.cc:114] Skipping the delay kernel, measurement accuracy will be reduced\n",
      "W0000 00:00:1731490672.407602  972424 gpu_timer.cc:114] Skipping the delay kernel, measurement accuracy will be reduced\n",
      "W0000 00:00:1731490672.410678  972424 gpu_timer.cc:114] Skipping the delay kernel, measurement accuracy will be reduced\n",
      "W0000 00:00:1731490672.413738  972424 gpu_timer.cc:114] Skipping the delay kernel, measurement accuracy will be reduced\n",
      "W0000 00:00:1731490672.417761  972424 gpu_timer.cc:114] Skipping the delay kernel, measurement accuracy will be reduced\n",
      "W0000 00:00:1731490672.420122  972424 gpu_timer.cc:114] Skipping the delay kernel, measurement accuracy will be reduced\n",
      "W0000 00:00:1731490672.424550  972424 gpu_timer.cc:114] Skipping the delay kernel, measurement accuracy will be reduced\n",
      "W0000 00:00:1731490672.428973  972424 gpu_timer.cc:114] Skipping the delay kernel, measurement accuracy will be reduced\n",
      "W0000 00:00:1731490672.432434  972424 gpu_timer.cc:114] Skipping the delay kernel, measurement accuracy will be reduced\n",
      "W0000 00:00:1731490672.492578  972424 gpu_timer.cc:114] Skipping the delay kernel, measurement accuracy will be reduced\n",
      "W0000 00:00:1731490672.497287  972424 gpu_timer.cc:114] Skipping the delay kernel, measurement accuracy will be reduced\n",
      "W0000 00:00:1731490672.501538  972424 gpu_timer.cc:114] Skipping the delay kernel, measurement accuracy will be reduced\n",
      "W0000 00:00:1731490672.506252  972424 gpu_timer.cc:114] Skipping the delay kernel, measurement accuracy will be reduced\n",
      "W0000 00:00:1731490672.509325  972424 gpu_timer.cc:114] Skipping the delay kernel, measurement accuracy will be reduced\n",
      "W0000 00:00:1731490672.513313  972424 gpu_timer.cc:114] Skipping the delay kernel, measurement accuracy will be reduced\n",
      "W0000 00:00:1731490672.517221  972424 gpu_timer.cc:114] Skipping the delay kernel, measurement accuracy will be reduced\n",
      "W0000 00:00:1731490672.524871  972424 gpu_timer.cc:114] Skipping the delay kernel, measurement accuracy will be reduced\n",
      "W0000 00:00:1731490672.532327  972424 gpu_timer.cc:114] Skipping the delay kernel, measurement accuracy will be reduced\n",
      "W0000 00:00:1731490672.553864  972424 gpu_timer.cc:114] Skipping the delay kernel, measurement accuracy will be reduced\n",
      "W0000 00:00:1731490672.557806  972424 gpu_timer.cc:114] Skipping the delay kernel, measurement accuracy will be reduced\n",
      "W0000 00:00:1731490672.561846  972424 gpu_timer.cc:114] Skipping the delay kernel, measurement accuracy will be reduced\n",
      "W0000 00:00:1731490672.568889  972424 gpu_timer.cc:114] Skipping the delay kernel, measurement accuracy will be reduced\n",
      "W0000 00:00:1731490672.576564  972424 gpu_timer.cc:114] Skipping the delay kernel, measurement accuracy will be reduced\n",
      "W0000 00:00:1731490672.584221  972424 gpu_timer.cc:114] Skipping the delay kernel, measurement accuracy will be reduced\n",
      "W0000 00:00:1731490672.591919  972424 gpu_timer.cc:114] Skipping the delay kernel, measurement accuracy will be reduced\n",
      "W0000 00:00:1731490672.598851  972424 gpu_timer.cc:114] Skipping the delay kernel, measurement accuracy will be reduced\n",
      "W0000 00:00:1731490672.610362  972424 gpu_timer.cc:114] Skipping the delay kernel, measurement accuracy will be reduced\n",
      "W0000 00:00:1731490672.620402  972424 gpu_timer.cc:114] Skipping the delay kernel, measurement accuracy will be reduced\n",
      "W0000 00:00:1731490672.624705  972424 gpu_timer.cc:114] Skipping the delay kernel, measurement accuracy will be reduced\n",
      "W0000 00:00:1731490672.629908  972424 gpu_timer.cc:114] Skipping the delay kernel, measurement accuracy will be reduced\n",
      "W0000 00:00:1731490672.679558  972424 gpu_timer.cc:114] Skipping the delay kernel, measurement accuracy will be reduced\n",
      "W0000 00:00:1731490672.716082  972424 gpu_timer.cc:114] Skipping the delay kernel, measurement accuracy will be reduced\n",
      "W0000 00:00:1731490672.729238  972424 gpu_timer.cc:114] Skipping the delay kernel, measurement accuracy will be reduced\n",
      "W0000 00:00:1731490672.737672  972424 gpu_timer.cc:114] Skipping the delay kernel, measurement accuracy will be reduced\n",
      "W0000 00:00:1731490672.747202  972424 gpu_timer.cc:114] Skipping the delay kernel, measurement accuracy will be reduced\n",
      "W0000 00:00:1731490672.753222  972424 gpu_timer.cc:114] Skipping the delay kernel, measurement accuracy will be reduced\n",
      "W0000 00:00:1731490672.759243  972424 gpu_timer.cc:114] Skipping the delay kernel, measurement accuracy will be reduced\n",
      "W0000 00:00:1731490672.765804  972424 gpu_timer.cc:114] Skipping the delay kernel, measurement accuracy will be reduced\n",
      "W0000 00:00:1731490672.771194  972424 gpu_timer.cc:114] Skipping the delay kernel, measurement accuracy will be reduced\n",
      "W0000 00:00:1731490672.779060  972424 gpu_timer.cc:114] Skipping the delay kernel, measurement accuracy will be reduced\n",
      "W0000 00:00:1731490672.788189  972424 gpu_timer.cc:114] Skipping the delay kernel, measurement accuracy will be reduced\n",
      "W0000 00:00:1731490672.793122  972424 gpu_timer.cc:114] Skipping the delay kernel, measurement accuracy will be reduced\n",
      "W0000 00:00:1731490672.803186  972424 gpu_timer.cc:114] Skipping the delay kernel, measurement accuracy will be reduced\n",
      "W0000 00:00:1731490672.813012  972424 gpu_timer.cc:114] Skipping the delay kernel, measurement accuracy will be reduced\n",
      "W0000 00:00:1731490672.822544  972424 gpu_timer.cc:114] Skipping the delay kernel, measurement accuracy will be reduced\n",
      "W0000 00:00:1731490672.833987  972424 gpu_timer.cc:114] Skipping the delay kernel, measurement accuracy will be reduced\n",
      "W0000 00:00:1731490672.848404  972424 gpu_timer.cc:114] Skipping the delay kernel, measurement accuracy will be reduced\n",
      "W0000 00:00:1731490672.861114  972424 gpu_timer.cc:114] Skipping the delay kernel, measurement accuracy will be reduced\n",
      "W0000 00:00:1731490672.867254  972424 gpu_timer.cc:114] Skipping the delay kernel, measurement accuracy will be reduced\n",
      "W0000 00:00:1731490672.876193  972424 gpu_timer.cc:114] Skipping the delay kernel, measurement accuracy will be reduced\n",
      "W0000 00:00:1731490672.916840  972424 gpu_timer.cc:114] Skipping the delay kernel, measurement accuracy will be reduced\n",
      "2024-11-13 10:37:53.057137: I tensorflow/core/framework/local_rendezvous.cc:404] Local rendezvous is aborting with status: OUT_OF_RANGE: End of sequence\n",
      "2024-11-13 10:37:53.229127: I tensorflow/core/framework/local_rendezvous.cc:404] Local rendezvous is aborting with status: OUT_OF_RANGE: End of sequence\n"
     ]
    },
    {
     "name": "stdout",
     "output_type": "stream",
     "text": [
      "Epoch 1/300 - Loss: 418597.5703 - Val Loss: 175540.7656\n"
     ]
    },
    {
     "name": "stderr",
     "output_type": "stream",
     "text": [
      "2024-11-13 10:37:57.367707: I tensorflow/core/framework/local_rendezvous.cc:404] Local rendezvous is aborting with status: OUT_OF_RANGE: End of sequence\n"
     ]
    },
    {
     "name": "stdout",
     "output_type": "stream",
     "text": [
      "Epoch 2/300 - Loss: 255582.9635 - Val Loss: 43406.2852\n",
      "Epoch 3/300 - Loss: 230780.5846 - Val Loss: 48676.3984\n"
     ]
    },
    {
     "name": "stderr",
     "output_type": "stream",
     "text": [
      "2024-11-13 10:38:05.605471: I tensorflow/core/framework/local_rendezvous.cc:404] Local rendezvous is aborting with status: OUT_OF_RANGE: End of sequence\n"
     ]
    },
    {
     "name": "stdout",
     "output_type": "stream",
     "text": [
      "Epoch 4/300 - Loss: 210546.1133 - Val Loss: 16228.8066\n",
      "Epoch 5/300 - Loss: 202267.3385 - Val Loss: 8479.0488\n",
      "Epoch 6/300 - Loss: 181123.0872 - Val Loss: 3532.3713\n",
      "Epoch 7/300 - Loss: 165668.4401 - Val Loss: 599.6727\n"
     ]
    },
    {
     "name": "stderr",
     "output_type": "stream",
     "text": [
      "2024-11-13 10:38:21.218452: I tensorflow/core/framework/local_rendezvous.cc:404] Local rendezvous is aborting with status: OUT_OF_RANGE: End of sequence\n"
     ]
    },
    {
     "name": "stdout",
     "output_type": "stream",
     "text": [
      "Epoch 8/300 - Loss: 156633.9544 - Val Loss: 4414.7261\n",
      "Epoch 9/300 - Loss: 148285.4785 - Val Loss: 9302.1680\n",
      "Epoch 10/300 - Loss: 132400.5182 - Val Loss: 4402.8745\n",
      "Epoch 11/300 - Loss: 112051.4408 - Val Loss: 8938.1826\n",
      "Epoch 12/300 - Loss: 106582.4368 - Val Loss: 1572.8940\n",
      "Epoch 13/300 - Loss: 98826.7526 - Val Loss: 8389.9727\n",
      "Epoch 14/300 - Loss: 87509.4336 - Val Loss: 6819.5649\n",
      "Epoch 15/300 - Loss: 74410.9512 - Val Loss: 1229.1764\n"
     ]
    },
    {
     "name": "stderr",
     "output_type": "stream",
     "text": [
      "2024-11-13 10:38:51.835751: I tensorflow/core/framework/local_rendezvous.cc:404] Local rendezvous is aborting with status: OUT_OF_RANGE: End of sequence\n"
     ]
    },
    {
     "name": "stdout",
     "output_type": "stream",
     "text": [
      "Epoch 16/300 - Loss: 67908.4014 - Val Loss: 2533.9382\n",
      "Epoch 17/300 - Loss: 57992.4616 - Val Loss: 5026.2046\n",
      "Epoch 18/300 - Loss: 48042.2272 - Val Loss: 2845.5913\n",
      "Epoch 19/300 - Loss: 42776.9043 - Val Loss: 8049.8901\n",
      "Epoch 20/300 - Loss: 34683.0298 - Val Loss: 708.6876\n",
      "Epoch 21/300 - Loss: 30075.1034 - Val Loss: 886.2923\n",
      "Epoch 22/300 - Loss: 23753.6081 - Val Loss: 1332.6272\n",
      "Epoch 23/300 - Loss: 21561.1353 - Val Loss: 665.4730\n",
      "Epoch 24/300 - Loss: 17414.5471 - Val Loss: 5997.4189\n",
      "Epoch 25/300 - Loss: 13832.0181 - Val Loss: 681.1120\n",
      "Epoch 26/300 - Loss: 11048.2761 - Val Loss: 1404.6223\n",
      "Epoch 27/300 - Loss: 9118.3226 - Val Loss: 2470.7947\n",
      "Epoch 28/300 - Loss: 6775.7733 - Val Loss: 253.3834\n",
      "Epoch 29/300 - Loss: 6058.2554 - Val Loss: 730.4253\n",
      "Epoch 30/300 - Loss: 4387.9111 - Val Loss: 835.4702\n",
      "Epoch 31/300 - Loss: 3414.6228 - Val Loss: 1118.9708\n"
     ]
    },
    {
     "name": "stderr",
     "output_type": "stream",
     "text": [
      "2024-11-13 10:39:55.651004: I tensorflow/core/framework/local_rendezvous.cc:404] Local rendezvous is aborting with status: OUT_OF_RANGE: End of sequence\n"
     ]
    },
    {
     "name": "stdout",
     "output_type": "stream",
     "text": [
      "Epoch 32/300 - Loss: 2748.6630 - Val Loss: 847.6956\n",
      "Epoch 33/300 - Loss: 1985.1776 - Val Loss: 355.4089\n",
      "Epoch 34/300 - Loss: 1413.3937 - Val Loss: 156.3467\n",
      "Epoch 35/300 - Loss: 1001.0173 - Val Loss: 179.2911\n",
      "Epoch 36/300 - Loss: 587.2732 - Val Loss: 63.8903\n",
      "Epoch 37/300 - Loss: 317.4813 - Val Loss: 38.8859\n",
      "Epoch 38/300 - Loss: 193.1007 - Val Loss: 435.1669\n",
      "Epoch 39/300 - Loss: 249.3157 - Val Loss: 255.6208\n",
      "Epoch 40/300 - Loss: 201.4790 - Val Loss: 390.6154\n",
      "Epoch 41/300 - Loss: 565.0661 - Val Loss: 496.4365\n",
      "Epoch 42/300 - Loss: 366.9086 - Val Loss: 272.5354\n",
      "Epoch 43/300 - Loss: 344.1317 - Val Loss: 209.8516\n",
      "Epoch 44/300 - Loss: 283.7522 - Val Loss: 319.5536\n",
      "Epoch 45/300 - Loss: 272.4944 - Val Loss: 443.0190\n",
      "Epoch 46/300 - Loss: 498.4761 - Val Loss: 236.2891\n",
      "Epoch 47/300 - Loss: 429.0640 - Val Loss: 240.3282\n",
      "Epoch 48/300 - Loss: 424.4317 - Val Loss: 287.1810\n",
      "Epoch 49/300 - Loss: 416.0830 - Val Loss: 253.3510\n",
      "Epoch 50/300 - Loss: 411.5054 - Val Loss: 195.7085\n",
      "Epoch 51/300 - Loss: 375.2674 - Val Loss: 166.6202\n",
      "Epoch 52/300 - Loss: 228.8007 - Val Loss: 149.9820\n",
      "Epoch 53/300 - Loss: 224.8722 - Val Loss: 116.9874\n",
      "Epoch 54/300 - Loss: 211.2226 - Val Loss: 134.6827\n",
      "Epoch 55/300 - Loss: 200.6343 - Val Loss: 278.0207\n",
      "Epoch 56/300 - Loss: 240.2044 - Val Loss: 141.1778\n",
      "Epoch 57/300 - Loss: 189.2159 - Val Loss: 36.1945\n",
      "Epoch 58/300 - Loss: 114.9967 - Val Loss: 119.3085\n",
      "Epoch 59/300 - Loss: 107.4968 - Val Loss: 89.4013\n",
      "Epoch 60/300 - Loss: 101.2929 - Val Loss: 132.4129\n",
      "Epoch 61/300 - Loss: 107.3098 - Val Loss: 199.9648\n",
      "Epoch 62/300 - Loss: 135.3062 - Val Loss: 79.1425\n",
      "Epoch 63/300 - Loss: 122.0412 - Val Loss: 228.0686\n"
     ]
    },
    {
     "name": "stderr",
     "output_type": "stream",
     "text": [
      "2024-11-13 10:42:01.402833: I tensorflow/core/framework/local_rendezvous.cc:404] Local rendezvous is aborting with status: OUT_OF_RANGE: End of sequence\n"
     ]
    },
    {
     "name": "stdout",
     "output_type": "stream",
     "text": [
      "Epoch 64/300 - Loss: 197.1882 - Val Loss: 176.0275\n",
      "Epoch 65/300 - Loss: 188.9258 - Val Loss: 152.7552\n",
      "Epoch 66/300 - Loss: 190.7526 - Val Loss: 126.2577\n",
      "Epoch 67/300 - Loss: 186.8751 - Val Loss: 139.2172\n",
      "Epoch 68/300 - Loss: 171.2337 - Val Loss: 209.2677\n",
      "Epoch 69/300 - Loss: 161.8301 - Val Loss: 128.7568\n",
      "Epoch 70/300 - Loss: 150.1997 - Val Loss: 152.3552\n",
      "Epoch 71/300 - Loss: 171.5551 - Val Loss: 323.4969\n",
      "Epoch 72/300 - Loss: 185.5003 - Val Loss: 223.8340\n",
      "Epoch 73/300 - Loss: 178.5729 - Val Loss: 136.2957\n",
      "Epoch 74/300 - Loss: 168.6521 - Val Loss: 140.6315\n",
      "Epoch 75/300 - Loss: 166.6575 - Val Loss: 212.7853\n",
      "Epoch 76/300 - Loss: 170.7329 - Val Loss: 234.5243\n",
      "Epoch 77/300 - Loss: 168.2414 - Val Loss: 135.8701\n",
      "Epoch 78/300 - Loss: 157.0928 - Val Loss: 150.5831\n",
      "Epoch 79/300 - Loss: 161.8721 - Val Loss: 263.1599\n",
      "Epoch 80/300 - Loss: 165.5425 - Val Loss: 205.1840\n",
      "Epoch 81/300 - Loss: 163.5256 - Val Loss: 149.6179\n",
      "Epoch 82/300 - Loss: 165.9359 - Val Loss: 205.7789\n",
      "Epoch 83/300 - Loss: 165.3321 - Val Loss: 144.1636\n",
      "Epoch 84/300 - Loss: 154.7951 - Val Loss: 193.3318\n",
      "Epoch 85/300 - Loss: 155.2271 - Val Loss: 248.4243\n",
      "Epoch 86/300 - Loss: 158.5722 - Val Loss: 166.6690\n",
      "Epoch 87/300 - Loss: 149.9575 - Val Loss: 205.8797\n",
      "Epoch 88/300 - Loss: 155.0451 - Val Loss: 144.6778\n",
      "Epoch 89/300 - Loss: 151.6330 - Val Loss: 119.2584\n",
      "Epoch 90/300 - Loss: 198.0599 - Val Loss: 129.4303\n",
      "Epoch 91/300 - Loss: 236.4546 - Val Loss: 132.1204\n",
      "Epoch 92/300 - Loss: 238.5826 - Val Loss: 54.4644\n",
      "Epoch 93/300 - Loss: 243.5231 - Val Loss: 150.9981\n",
      "Epoch 94/300 - Loss: 226.3492 - Val Loss: 134.0497\n",
      "Epoch 95/300 - Loss: 220.2046 - Val Loss: 22.9106\n",
      "Epoch 96/300 - Loss: 65.3946 - Val Loss: 109.7902\n",
      "Epoch 97/300 - Loss: 76.3809 - Val Loss: 128.7439\n",
      "Epoch 98/300 - Loss: 47.5654 - Val Loss: 16.0658\n",
      "Epoch 99/300 - Loss: 111.2704 - Val Loss: 169.1498\n",
      "Epoch 100/300 - Loss: 148.7211 - Val Loss: 72.8893\n",
      "Epoch 101/300 - Loss: 128.6111 - Val Loss: 110.1212\n",
      "Epoch 102/300 - Loss: 142.3224 - Val Loss: 50.1389\n",
      "Epoch 103/300 - Loss: 138.8592 - Val Loss: 55.9225\n",
      "Epoch 104/300 - Loss: 150.0462 - Val Loss: 101.5861\n",
      "Epoch 105/300 - Loss: 123.5312 - Val Loss: 180.9093\n",
      "Epoch 106/300 - Loss: 129.8107 - Val Loss: 175.7915\n",
      "Epoch 107/300 - Loss: 114.7991 - Val Loss: 46.5657\n",
      "Epoch 108/300 - Loss: 141.3777 - Val Loss: 100.2645\n",
      "Epoch 109/300 - Loss: 68.1741 - Val Loss: 152.1982\n",
      "Epoch 110/300 - Loss: 129.7873 - Val Loss: 157.5450\n",
      "Epoch 111/300 - Loss: 125.5320 - Val Loss: 158.8252\n",
      "Epoch 112/300 - Loss: 143.7617 - Val Loss: 121.6233\n",
      "Epoch 113/300 - Loss: 105.5323 - Val Loss: 130.2913\n",
      "Epoch 114/300 - Loss: 70.2723 - Val Loss: 108.5616\n",
      "Epoch 115/300 - Loss: 66.0310 - Val Loss: 120.1289\n",
      "Epoch 116/300 - Loss: 115.4106 - Val Loss: 142.3864\n",
      "Epoch 117/300 - Loss: 125.0412 - Val Loss: 106.0570\n",
      "Epoch 118/300 - Loss: 119.8885 - Val Loss: 105.3761\n",
      "Epoch 119/300 - Loss: 125.8290 - Val Loss: 99.7606\n",
      "Epoch 120/300 - Loss: 114.4192 - Val Loss: 113.1793\n",
      "Epoch 121/300 - Loss: 123.1830 - Val Loss: 79.5730\n",
      "Epoch 122/300 - Loss: 112.5493 - Val Loss: 158.2592\n",
      "Epoch 123/300 - Loss: 130.7457 - Val Loss: 15.9393\n",
      "Epoch 124/300 - Loss: 48.0717 - Val Loss: 21.0315\n",
      "Epoch 125/300 - Loss: 61.5026 - Val Loss: 77.8185\n",
      "Epoch 126/300 - Loss: 114.6574 - Val Loss: 114.3497\n",
      "Epoch 127/300 - Loss: 110.2789 - Val Loss: 179.2782\n"
     ]
    },
    {
     "name": "stderr",
     "output_type": "stream",
     "text": [
      "2024-11-13 10:46:25.290169: I tensorflow/core/framework/local_rendezvous.cc:404] Local rendezvous is aborting with status: OUT_OF_RANGE: End of sequence\n"
     ]
    },
    {
     "name": "stdout",
     "output_type": "stream",
     "text": [
      "Epoch 128/300 - Loss: 123.4947 - Val Loss: 97.5789\n",
      "Epoch 129/300 - Loss: 109.6281 - Val Loss: 188.9929\n",
      "Epoch 130/300 - Loss: 115.8086 - Val Loss: 153.8592\n",
      "Epoch 131/300 - Loss: 116.6474 - Val Loss: 107.5662\n",
      "Epoch 132/300 - Loss: 111.7455 - Val Loss: 174.7524\n",
      "Epoch 133/300 - Loss: 113.9338 - Val Loss: 93.5030\n",
      "Epoch 134/300 - Loss: 109.3188 - Val Loss: 140.2832\n",
      "Epoch 135/300 - Loss: 113.1336 - Val Loss: 106.8244\n",
      "Epoch 136/300 - Loss: 106.3862 - Val Loss: 104.7024\n",
      "Epoch 137/300 - Loss: 105.9669 - Val Loss: 143.3467\n",
      "Epoch 138/300 - Loss: 107.8408 - Val Loss: 106.1505\n",
      "Epoch 139/300 - Loss: 106.9579 - Val Loss: 199.0427\n",
      "Epoch 140/300 - Loss: 113.5244 - Val Loss: 141.0135\n",
      "Epoch 141/300 - Loss: 99.3172 - Val Loss: 34.1829\n",
      "Epoch 142/300 - Loss: 57.5564 - Val Loss: 53.8345\n",
      "Epoch 143/300 - Loss: 62.2506 - Val Loss: 7.6625\n",
      "Epoch 144/300 - Loss: 98.3623 - Val Loss: 29.2376\n",
      "Epoch 145/300 - Loss: 109.4036 - Val Loss: 84.0002\n",
      "Epoch 146/300 - Loss: 102.8340 - Val Loss: 46.8428\n",
      "Epoch 147/300 - Loss: 100.6482 - Val Loss: 49.0346\n",
      "Epoch 148/300 - Loss: 105.9560 - Val Loss: 97.4814\n",
      "Epoch 149/300 - Loss: 99.7818 - Val Loss: 48.6231\n",
      "Epoch 150/300 - Loss: 104.5777 - Val Loss: 104.1451\n",
      "Epoch 151/300 - Loss: 60.7418 - Val Loss: 62.7463\n",
      "Epoch 152/300 - Loss: 52.8617 - Val Loss: 52.1160\n",
      "Epoch 153/300 - Loss: 64.4044 - Val Loss: 196.5878\n",
      "Epoch 154/300 - Loss: 160.0797 - Val Loss: 199.2072\n",
      "Epoch 155/300 - Loss: 167.7274 - Val Loss: 110.7249\n",
      "Epoch 156/300 - Loss: 144.7958 - Val Loss: 163.2434\n",
      "Epoch 157/300 - Loss: 156.4903 - Val Loss: 168.4373\n",
      "Epoch 158/300 - Loss: 153.8196 - Val Loss: 24.0022\n",
      "Epoch 159/300 - Loss: 50.6173 - Val Loss: 87.2716\n",
      "Epoch 160/300 - Loss: 53.5873 - Val Loss: 34.1079\n",
      "Epoch 161/300 - Loss: 50.3282 - Val Loss: 41.8439\n",
      "Epoch 162/300 - Loss: 56.5969 - Val Loss: 163.7361\n",
      "Epoch 163/300 - Loss: 93.3494 - Val Loss: 79.7779\n",
      "Epoch 164/300 - Loss: 90.3601 - Val Loss: 54.2483\n",
      "Epoch 165/300 - Loss: 82.8251 - Val Loss: 136.4163\n",
      "Epoch 166/300 - Loss: 91.7395 - Val Loss: 48.4749\n",
      "Epoch 167/300 - Loss: 24.5095 - Val Loss: 91.7429\n",
      "Epoch 168/300 - Loss: 80.5026 - Val Loss: 37.5206\n",
      "Epoch 169/300 - Loss: 23.6039 - Val Loss: 4.2473\n",
      "Epoch 170/300 - Loss: 35.3752 - Val Loss: 68.0166\n",
      "Epoch 171/300 - Loss: 49.6507 - Val Loss: 49.2306\n",
      "Epoch 172/300 - Loss: 48.9436 - Val Loss: 58.6765\n",
      "Epoch 173/300 - Loss: 51.0363 - Val Loss: 32.9643\n",
      "Epoch 174/300 - Loss: 46.4815 - Val Loss: 53.2997\n",
      "Epoch 175/300 - Loss: 48.2203 - Val Loss: 66.7092\n",
      "Epoch 176/300 - Loss: 44.8130 - Val Loss: 20.6911\n",
      "Epoch 177/300 - Loss: 30.3758 - Val Loss: 73.5910\n",
      "Epoch 178/300 - Loss: 45.7492 - Val Loss: 62.8468\n",
      "Epoch 179/300 - Loss: 40.9501 - Val Loss: 44.6065\n",
      "Epoch 180/300 - Loss: 40.7733 - Val Loss: 60.3443\n",
      "Epoch 181/300 - Loss: 44.3529 - Val Loss: 43.7369\n",
      "Epoch 182/300 - Loss: 46.7338 - Val Loss: 89.7123\n",
      "Epoch 183/300 - Loss: 80.5357 - Val Loss: 107.9540\n",
      "Epoch 184/300 - Loss: 86.7378 - Val Loss: 83.7728\n",
      "Epoch 185/300 - Loss: 79.6186 - Val Loss: 91.0190\n",
      "Epoch 186/300 - Loss: 92.9235 - Val Loss: 6.2008\n",
      "Epoch 187/300 - Loss: 90.3157 - Val Loss: 131.1315\n",
      "Epoch 188/300 - Loss: 81.6199 - Val Loss: 72.2084\n",
      "Epoch 189/300 - Loss: 73.9355 - Val Loss: 126.9767\n",
      "Epoch 190/300 - Loss: 80.0332 - Val Loss: 107.3335\n",
      "Epoch 191/300 - Loss: 79.3241 - Val Loss: 102.0346\n",
      "Epoch 192/300 - Loss: 82.3180 - Val Loss: 59.3858\n",
      "Epoch 193/300 - Loss: 118.2941 - Val Loss: 153.2360\n",
      "Epoch 194/300 - Loss: 121.0598 - Val Loss: 171.6780\n",
      "Epoch 195/300 - Loss: 127.5680 - Val Loss: 220.5750\n",
      "Epoch 196/300 - Loss: 90.0990 - Val Loss: 16.9202\n",
      "Epoch 197/300 - Loss: 52.0232 - Val Loss: 144.5248\n",
      "Epoch 198/300 - Loss: 62.6454 - Val Loss: 6.2964\n",
      "Epoch 199/300 - Loss: 41.9278 - Val Loss: 95.6644\n",
      "Epoch 200/300 - Loss: 86.5530 - Val Loss: 33.1565\n",
      "Epoch 201/300 - Loss: 64.2049 - Val Loss: 78.8485\n",
      "Epoch 202/300 - Loss: 105.6361 - Val Loss: 169.4651\n",
      "Epoch 203/300 - Loss: 96.6865 - Val Loss: 38.7767\n",
      "Epoch 204/300 - Loss: 56.6146 - Val Loss: 21.2890\n",
      "Epoch 205/300 - Loss: 69.1110 - Val Loss: 39.9647\n",
      "Epoch 206/300 - Loss: 71.6848 - Val Loss: 54.6044\n",
      "Epoch 207/300 - Loss: 65.9868 - Val Loss: 11.7850\n",
      "Epoch 208/300 - Loss: 53.2239 - Val Loss: 3.8463\n",
      "Epoch 209/300 - Loss: 18.0096 - Val Loss: 20.9405\n",
      "Epoch 210/300 - Loss: 22.1435 - Val Loss: 66.5314\n",
      "Epoch 211/300 - Loss: 67.7473 - Val Loss: 134.3237\n",
      "Epoch 212/300 - Loss: 107.6125 - Val Loss: 80.5258\n",
      "Epoch 213/300 - Loss: 94.8626 - Val Loss: 94.8904\n",
      "Epoch 214/300 - Loss: 102.1473 - Val Loss: 86.1257\n",
      "Epoch 215/300 - Loss: 39.0029 - Val Loss: 31.0111\n",
      "Epoch 216/300 - Loss: 34.7116 - Val Loss: 39.7066\n",
      "Epoch 217/300 - Loss: 33.3919 - Val Loss: 38.2701\n",
      "Epoch 218/300 - Loss: 35.3932 - Val Loss: 11.3040\n",
      "Epoch 219/300 - Loss: 17.7713 - Val Loss: 62.4604\n",
      "Epoch 220/300 - Loss: 57.8723 - Val Loss: 68.3342\n",
      "Epoch 221/300 - Loss: 83.6669 - Val Loss: 157.9483\n",
      "Epoch 222/300 - Loss: 71.7167 - Val Loss: 72.7340\n",
      "Epoch 223/300 - Loss: 62.8400 - Val Loss: 69.2370\n",
      "Epoch 224/300 - Loss: 47.7797 - Val Loss: 44.2358\n",
      "Epoch 225/300 - Loss: 31.9461 - Val Loss: 21.0168\n",
      "Epoch 226/300 - Loss: 31.9056 - Val Loss: 38.6175\n",
      "Epoch 227/300 - Loss: 32.2544 - Val Loss: 44.9221\n",
      "Epoch 228/300 - Loss: 33.3837 - Val Loss: 32.8499\n",
      "Epoch 229/300 - Loss: 31.2919 - Val Loss: 33.8882\n",
      "Epoch 230/300 - Loss: 31.6267 - Val Loss: 38.1504\n",
      "Epoch 231/300 - Loss: 33.2847 - Val Loss: 25.0918\n",
      "Epoch 232/300 - Loss: 29.5766 - Val Loss: 17.9949\n",
      "Epoch 233/300 - Loss: 31.9957 - Val Loss: 17.7698\n",
      "Epoch 234/300 - Loss: 32.4633 - Val Loss: 20.9374\n",
      "Epoch 235/300 - Loss: 27.9931 - Val Loss: 44.0854\n",
      "Epoch 236/300 - Loss: 34.3706 - Val Loss: 54.1751\n",
      "Epoch 237/300 - Loss: 20.0724 - Val Loss: 5.6244\n",
      "Epoch 238/300 - Loss: 22.3811 - Val Loss: 20.8724\n",
      "Epoch 239/300 - Loss: 14.5581 - Val Loss: 9.5596\n",
      "Epoch 240/300 - Loss: 14.4469 - Val Loss: 12.7060\n",
      "Epoch 241/300 - Loss: 17.2761 - Val Loss: 30.0959\n",
      "Epoch 242/300 - Loss: 30.2364 - Val Loss: 43.0466\n",
      "Epoch 243/300 - Loss: 35.6453 - Val Loss: 47.4352\n",
      "Epoch 244/300 - Loss: 32.5624 - Val Loss: 15.5345\n",
      "Epoch 245/300 - Loss: 28.7762 - Val Loss: 25.5320\n",
      "Epoch 246/300 - Loss: 26.9527 - Val Loss: 39.1028\n",
      "Epoch 247/300 - Loss: 28.7457 - Val Loss: 34.1243\n",
      "Epoch 248/300 - Loss: 25.7899 - Val Loss: 43.7425\n",
      "Epoch 249/300 - Loss: 29.1558 - Val Loss: 39.1221\n",
      "Epoch 250/300 - Loss: 27.5244 - Val Loss: 31.1280\n",
      "Epoch 251/300 - Loss: 28.4015 - Val Loss: 25.5890\n",
      "Epoch 252/300 - Loss: 27.0716 - Val Loss: 35.8745\n",
      "Epoch 253/300 - Loss: 26.5818 - Val Loss: 42.7105\n",
      "Epoch 254/300 - Loss: 28.5729 - Val Loss: 41.8327\n",
      "Epoch 255/300 - Loss: 25.4943 - Val Loss: 29.1971\n"
     ]
    },
    {
     "name": "stderr",
     "output_type": "stream",
     "text": [
      "2024-11-13 10:55:02.411763: I tensorflow/core/framework/local_rendezvous.cc:404] Local rendezvous is aborting with status: OUT_OF_RANGE: End of sequence\n"
     ]
    },
    {
     "name": "stdout",
     "output_type": "stream",
     "text": [
      "Epoch 256/300 - Loss: 44.2136 - Val Loss: 49.3728\n",
      "Epoch 257/300 - Loss: 47.3130 - Val Loss: 32.2936\n",
      "Epoch 258/300 - Loss: 27.7842 - Val Loss: 3.8010\n",
      "Epoch 259/300 - Loss: 13.3855 - Val Loss: 14.9028\n",
      "Epoch 260/300 - Loss: 13.9516 - Val Loss: 43.1527\n",
      "Epoch 261/300 - Loss: 30.1554 - Val Loss: 19.5994\n",
      "Epoch 262/300 - Loss: 28.4193 - Val Loss: 17.9027\n",
      "Epoch 263/300 - Loss: 27.4601 - Val Loss: 19.5758\n",
      "Epoch 264/300 - Loss: 26.1627 - Val Loss: 24.1478\n",
      "Epoch 265/300 - Loss: 33.9226 - Val Loss: 6.0067\n",
      "Epoch 266/300 - Loss: 24.1802 - Val Loss: 7.4985\n",
      "Epoch 267/300 - Loss: 24.4534 - Val Loss: 13.4702\n",
      "Epoch 268/300 - Loss: 42.7074 - Val Loss: 20.0502\n",
      "Epoch 269/300 - Loss: 44.7278 - Val Loss: 32.9085\n",
      "Epoch 270/300 - Loss: 41.0320 - Val Loss: 44.9369\n",
      "Epoch 271/300 - Loss: 17.8610 - Val Loss: 15.0150\n",
      "Epoch 272/300 - Loss: 12.2163 - Val Loss: 8.3902\n",
      "Epoch 273/300 - Loss: 18.4645 - Val Loss: 21.4310\n",
      "Epoch 274/300 - Loss: 37.4049 - Val Loss: 69.8620\n",
      "Epoch 275/300 - Loss: 68.5354 - Val Loss: 83.1877\n",
      "Epoch 276/300 - Loss: 68.1088 - Val Loss: 82.5229\n",
      "Epoch 277/300 - Loss: 66.5747 - Val Loss: 77.8729\n",
      "Epoch 278/300 - Loss: 68.1134 - Val Loss: 74.2396\n",
      "Epoch 279/300 - Loss: 55.4380 - Val Loss: 14.1649\n",
      "Epoch 280/300 - Loss: 31.2855 - Val Loss: 5.8354\n",
      "Epoch 281/300 - Loss: 20.2106 - Val Loss: 8.6263\n",
      "Epoch 282/300 - Loss: 26.9325 - Val Loss: 65.2039\n",
      "Epoch 283/300 - Loss: 38.0296 - Val Loss: 35.5777\n",
      "Epoch 284/300 - Loss: 33.0789 - Val Loss: 49.9565\n",
      "Epoch 285/300 - Loss: 35.9404 - Val Loss: 55.5130\n",
      "Epoch 286/300 - Loss: 37.6812 - Val Loss: 37.9361\n",
      "Epoch 287/300 - Loss: 36.0345 - Val Loss: 31.5276\n",
      "Epoch 288/300 - Loss: 34.1685 - Val Loss: 35.8384\n",
      "Epoch 289/300 - Loss: 14.9276 - Val Loss: 11.6407\n",
      "Epoch 290/300 - Loss: 10.4751 - Val Loss: 14.2272\n",
      "Epoch 291/300 - Loss: 9.5995 - Val Loss: 9.0462\n",
      "Epoch 292/300 - Loss: 9.9333 - Val Loss: 11.9838\n",
      "Epoch 293/300 - Loss: 28.2308 - Val Loss: 51.9457\n",
      "Epoch 294/300 - Loss: 42.2085 - Val Loss: 41.9726\n",
      "Epoch 295/300 - Loss: 36.0011 - Val Loss: 36.7774\n",
      "Epoch 296/300 - Loss: 52.6969 - Val Loss: 27.9578\n",
      "Epoch 297/300 - Loss: 35.2667 - Val Loss: 11.5075\n",
      "Epoch 298/300 - Loss: 30.5183 - Val Loss: 17.1564\n",
      "Epoch 299/300 - Loss: 30.3138 - Val Loss: 19.9567\n",
      "Epoch 300/300 - Loss: 29.4003 - Val Loss: 15.3729\n",
      "Done training!\n"
     ]
    }
   ],
   "source": [
    "# Create batch dataset\n",
    "dataset = tf.data.Dataset.from_tensor_slices((*model_input, train_target) if conditioned else (model_input, train_target))\n",
    "dataset = dataset.batch(batch_size).cache().prefetch(tf.data.AUTOTUNE)\n",
    "\n",
    "dataset_val = tf.data.Dataset.from_tensor_slices((*val_model_input, validation_target) if conditioned else (val_model_input, validation_target))\n",
    "dataset_val = dataset_val.batch(batch_size).cache().prefetch(tf.data.AUTOTUNE)\n",
    "\n",
    "#optimizer = tf.keras.optimizers.SGD()\n",
    "optimizer = tf.keras.optimizers.Adam()\n",
    "errors_log = {\"epoch\": [], \"month\": [], \"error\": []}\n",
    "loss_per_epoch = []\n",
    "val_loss_per_epoch = []\n",
    "\n",
    "# Train model\n",
    "for epoch in range(epochs):\n",
    "    epoch_loss = 0  \n",
    "    num_batches = 0\n",
    "    for batch in dataset:\n",
    "        if conditioned:\n",
    "            model_input_batch = batch[:-1]  \n",
    "            target_batch = batch[-1]        \n",
    "        else:\n",
    "            model_input_batch, target_batch = batch  # Desempaquetado directo para un solo dataset\n",
    "\n",
    "        with tf.GradientTape() as tape:\n",
    "            y_pred = model([*model_input_batch], training=True) if conditioned else model(model_input_batch, training=True)\n",
    "            if physics_guided:\n",
    "                loss = conservation_energy_loss(target_batch, y_pred, model_input_batch, alpha=0.5, beta=0.5)\n",
    "            else:\n",
    "                loss = root_mean_squared_error(target_batch, y_pred) \n",
    "        \n",
    "        # Calculate gradients and apply optimization\n",
    "        gradients = tape.gradient(loss, model.trainable_variables)\n",
    "        optimizer.apply_gradients(zip(gradients, model.trainable_variables))\n",
    "\n",
    "        epoch_loss += loss.numpy()\n",
    "        num_batches += 1\n",
    "        \n",
    "        # Log variables values and error\n",
    "        y_true = tf.cast(target_batch, tf.float32)\n",
    "        y_pred = tf.cast(y_pred, tf.float32)\n",
    "        for i, (cos, sin, lat, lon) in enumerate(model_input_batch[1].numpy()):  \n",
    "            error = tf.abs(y_pred[i] - y_true[i]).numpy()\n",
    "            errors_log[\"epoch\"].append(epoch + 1)\n",
    "            errors_log[\"month\"].append(cos_to_month[cos])\n",
    "            errors_log[\"error\"].append(error)\n",
    "            \n",
    "    avg_epoch_loss = epoch_loss / num_batches\n",
    "    loss_per_epoch.append(avg_epoch_loss)\n",
    "    val_loss = 0\n",
    "    val_batches = 0\n",
    "    for val_batch in dataset_val:\n",
    "        if conditioned:\n",
    "            val_input_batch = batch[:-1]  \n",
    "            val_target_batch = batch[-1]        \n",
    "        else:\n",
    "            val_input_batch, val_target_batch = batch\n",
    "        val_pred = model([*val_input_batch], training=False) if conditioned else model(val_input_batch, training=False)\n",
    "        val_loss += root_mean_squared_error(val_target_batch, val_pred).numpy()\n",
    "        val_batches += 1\n",
    "        \n",
    "    avg_val_loss = val_loss / val_batches\n",
    "    val_loss_per_epoch.append(avg_val_loss)\n",
    "\n",
    "    print(f\"Epoch {epoch + 1}/{epochs} - Loss: {avg_epoch_loss:.4f} - Val Loss: {avg_val_loss:.4f}\")\n",
    "    gc.collect()\n",
    "print('Done training!')"
   ]
  },
  {
   "cell_type": "code",
   "execution_count": 20,
   "metadata": {},
   "outputs": [
    {
     "data": {
      "image/png": "[encoded data removed]",
      "text/plain": [
       "<Figure size 1000x500 with 1 Axes>"
      ]
     },
     "metadata": {},
     "output_type": "display_data"
    },
    {
     "name": "stdout",
     "output_type": "stream",
     "text": [
      "\u001b[1m3/3\u001b[0m \u001b[32m━━━━━━━━━━━━━━━━━━━━\u001b[0m\u001b[37m\u001b[0m \u001b[1m0s\u001b[0m 10ms/step\n",
      "18.324971380872327\n"
     ]
    },
    {
     "name": "stderr",
     "output_type": "stream",
     "text": [
      "/home/ruth.parajo/miniconda3/lib/python3.12/site-packages/sklearn/metrics/_regression.py:492: FutureWarning: 'squared' is deprecated in version 1.4 and will be removed in 1.6. To calculate the root mean squared error, use the function'root_mean_squared_error'.\n",
      "  warnings.warn(\n"
     ]
    }
   ],
   "source": [
    "# Convert the error log to a DataFrame for further analysis\n",
    "errors_df = pd.DataFrame(errors_log)\n",
    "errors_df[\"error\"] = errors_df[\"error\"].apply(lambda x: x[0] if len(x) == 1 else x)\n",
    "\n",
    "\n",
    "plt.figure(figsize=(10, 5))\n",
    "plt.plot(range(1, epochs + 1), loss_per_epoch, label='Training Loss')\n",
    "plt.plot(range(1, epochs + 1), val_loss_per_epoch, label='Validation Loss')\n",
    "plt.title(\"Training and Validation Loss Curve\")\n",
    "plt.xlabel(\"Epoch\")\n",
    "plt.ylabel(\"Loss\")\n",
    "plt.legend()\n",
    "plt.show()\n",
    "\n",
    "# Evaluate results\n",
    "test_prediction = model.predict(test_model_input)\n",
    "rmse_test = mean_squared_error(test_target, test_prediction, squared=False)\n",
    "print(rmse_test)"
   ]
  },
  {
   "cell_type": "code",
   "execution_count": 28,
   "metadata": {},
   "outputs": [
    {
     "data": {
      "text/html": [
       "<div>\n",
       "<style scoped>\n",
       "    .dataframe tbody tr th:only-of-type {\n",
       "        vertical-align: middle;\n",
       "    }\n",
       "\n",
       "    .dataframe tbody tr th {\n",
       "        vertical-align: top;\n",
       "    }\n",
       "\n",
       "    .dataframe thead th {\n",
       "        text-align: right;\n",
       "    }\n",
       "</style>\n",
       "<table border=\"1\" class=\"dataframe\">\n",
       "  <thead>\n",
       "    <tr style=\"text-align: right;\">\n",
       "      <th></th>\n",
       "      <th>Experiment</th>\n",
       "      <th>RMSE</th>\n",
       "      <th>Variables</th>\n",
       "      <th>Input</th>\n",
       "      <th>Split</th>\n",
       "      <th>nº samples</th>\n",
       "      <th>Batch size</th>\n",
       "      <th>Epochs</th>\n",
       "      <th>Loss</th>\n",
       "    </tr>\n",
       "  </thead>\n",
       "  <tbody>\n",
       "    <tr>\n",
       "      <th>0</th>\n",
       "      <td>0</td>\n",
       "      <td>18.324971</td>\n",
       "      <td>lst, month</td>\n",
       "      <td>47 rivers</td>\n",
       "      <td>random</td>\n",
       "      <td>955</td>\n",
       "      <td>64</td>\n",
       "      <td>300</td>\n",
       "      <td>RMSE</td>\n",
       "    </tr>\n",
       "  </tbody>\n",
       "</table>\n",
       "</div>"
      ],
      "text/plain": [
       "   Experiment       RMSE   Variables      Input   Split  nº samples  \\\n",
       "0           0  18.324971  lst, month  47 rivers  random         955   \n",
       "\n",
       "   Batch size  Epochs  Loss  \n",
       "0          64     300  RMSE  "
      ]
     },
     "execution_count": 28,
     "metadata": {},
     "output_type": "execute_result"
    }
   ],
   "source": [
    "laabeel = 'month' if conditioned else 'no label'\n",
    "var_inputs = '' if inputs == None else ', '.join(inputs)\n",
    "variables = ', '.join([var_inputs, laabeel])\n",
    "\n",
    "details = {'Experiment':[0],'RMSE':[rmse_test],'Variables':[variables],'Input': [f'{len(np.unique(labels))} rivers'], 'Split': ['random'], \\\n",
    "               'nº samples': [len(data_targets)], 'Batch size': [batch_size], 'Epochs': [epochs],  \\\n",
    "               'Loss':  ['Physics-guided' if physics_guided else 'RMSE']}\n",
    "pd.DataFrame(details)"
   ]
  },
  {
   "cell_type": "code",
   "execution_count": null,
   "metadata": {},
   "outputs": [],
   "source": [
    "import pandas as pd\n",
    "model_name = 'baseline_CNN'\n",
    "pd.read_excel(f'../results/{model_name}_results.xlsx')"
   ]
  },
  {
   "cell_type": "markdown",
   "metadata": {},
   "source": [
    "## Visualize results"
   ]
  },
  {
   "cell_type": "code",
   "execution_count": null,
   "metadata": {
    "colab": {
     "base_uri": "https://localhost:8080/",
     "height": 1000
    },
    "executionInfo": {
     "elapsed": 728,
     "status": "ok",
     "timestamp": 1728047630422,
     "user": {
      "displayName": "Ruth Parajó Ferrer",
      "userId": "07031545869212809064"
     },
     "user_tz": -120
    },
    "id": "8lInUBSuqaJL",
    "outputId": "6da1d732-2f2a-4228-d35f-de06e5ff7803",
    "scrolled": true
   },
   "outputs": [],
   "source": [
    "tf.keras.utils.plot_model(model)"
   ]
  },
  {
   "cell_type": "code",
   "execution_count": null,
   "metadata": {
    "colab": {
     "base_uri": "https://localhost:8080/",
     "height": 487
    },
    "executionInfo": {
     "elapsed": 575,
     "status": "ok",
     "timestamp": 1728046187777,
     "user": {
      "displayName": "Ruth Parajó Ferrer",
      "userId": "07031545869212809064"
     },
     "user_tz": -120
    },
    "id": "EajYGsQBjG2G",
    "outputId": "1b005f05-2bee-4259-af17-0382a232a40c",
    "scrolled": true
   },
   "outputs": [],
   "source": [
    "plt.figure(figsize=(16,5))\n",
    "#plt.clf\n",
    "plt.plot(history.history['loss'], label='train loss')\n",
    "plt.plot(history.history['val_loss'], label='validation loss')\n",
    "plt.title('Simpler CNN MSE Loss during training --- lst+ndvi with wt target')\n",
    "plt.xlabel('Epoch')\n",
    "plt.ylabel('Loss (MSE)')\n",
    "plt.legend()\n",
    "plt.grid()\n",
    "plt.show()"
   ]
  },
  {
   "cell_type": "code",
   "execution_count": null,
   "metadata": {},
   "outputs": [],
   "source": [
    "plt.savefig('../plots/cnn.png',dpi=100)"
   ]
  },
  {
   "cell_type": "code",
   "execution_count": null,
   "metadata": {
    "colab": {
     "base_uri": "https://localhost:8080/",
     "height": 472
    },
    "executionInfo": {
     "elapsed": 436,
     "status": "ok",
     "timestamp": 1728043130132,
     "user": {
      "displayName": "Ruth Parajó Ferrer",
      "userId": "07031545869212809064"
     },
     "user_tz": -120
    },
    "id": "0EYej4lojG2G",
    "outputId": "ea68cef6-398f-422a-8401-e6c02609ee06"
   },
   "outputs": [],
   "source": [
    "plt.plot(history.history['mae'], label='Training MAE')\n",
    "plt.plot(history.history['val_mae'], label='Validation MAE')\n",
    "plt.title('MAE during training')\n",
    "plt.xlabel('Epoch')\n",
    "plt.ylabel('MAE')\n",
    "plt.legend()\n",
    "plt.show()"
   ]
  },
  {
   "cell_type": "markdown",
   "metadata": {
    "id": "uv2k19g5jG2H"
   },
   "source": [
    "#### Validate and test"
   ]
  },
  {
   "cell_type": "markdown",
   "metadata": {
    "id": "ow08ZqWsjG2J"
   },
   "source": [
    "Image wise metrics results"
   ]
  },
  {
   "cell_type": "markdown",
   "metadata": {
    "id": "RbJ77fRFjG2J"
   },
   "source": [
    "See what are the areas with more prediction error"
   ]
  },
  {
   "cell_type": "code",
   "execution_count": null,
   "metadata": {
    "colab": {
     "base_uri": "https://localhost:8080/",
     "height": 1000
    },
    "executionInfo": {
     "elapsed": 4054,
     "status": "ok",
     "timestamp": 1728043150628,
     "user": {
      "displayName": "Ruth Parajó Ferrer",
      "userId": "07031545869212809064"
     },
     "user_tz": -120
    },
    "id": "SqvaSLQhjtR6",
    "outputId": "4d3a25c8-67ba-434a-ef58-cf84d17905af",
    "scrolled": true
   },
   "outputs": [],
   "source": [
    "if len(validation_prediction.shape) == 4:\n",
    "  validation_prediction=np.squeeze(validation_prediction, axis=3)\n",
    "\n",
    "diff = validation_prediction - validation_target\n",
    "for i in range(diff.shape[0]):\n",
    "  sns.heatmap(diff[i], cmap='coolwarm')\n",
    "  plt.title('Prediction Error Heatmap')\n",
    "  plt.show()"
   ]
  },
  {
   "cell_type": "markdown",
   "metadata": {
    "id": "42nOYweqjG2K"
   },
   "source": [
    "Dispersion graph and histogram of prediction errors"
   ]
  },
  {
   "cell_type": "code",
   "execution_count": null,
   "metadata": {},
   "outputs": [],
   "source": [
    "validation_target_flat = validation_target.reshape(-1)\n",
    "validation_prediction_flat = validation_prediction.reshape(-1)"
   ]
  },
  {
   "cell_type": "code",
   "execution_count": null,
   "metadata": {
    "colab": {
     "base_uri": "https://localhost:8080/",
     "height": 927
    },
    "executionInfo": {
     "elapsed": 831,
     "status": "ok",
     "timestamp": 1728043151456,
     "user": {
      "displayName": "Ruth Parajó Ferrer",
      "userId": "07031545869212809064"
     },
     "user_tz": -120
    },
    "id": "AtO-_TdpjG2K",
    "outputId": "c077eb5e-f4e6-4156-f9f2-55468aa1b0fd"
   },
   "outputs": [],
   "source": [
    "from sklearn.metrics import mean_squared_error, mean_absolute_error, r2_score\n",
    "\n",
    "# Supongamos que y_true son tus valores reales y y_pred son tus predicciones\n",
    "y_true = validation_target_flat # Valores reales\n",
    "y_pred = validation_prediction_flat  # Predicciones del modelo\n",
    "\n",
    "# Visualización\n",
    "plt.scatter(y_true, y_pred)\n",
    "plt.xlabel('True Values')\n",
    "plt.ylabel('Predictions')\n",
    "plt.plot([min(y_true), max(y_true)], [min(y_true), max(y_true)], 'r--')\n",
    "plt.title('True Values vs Predictions')\n",
    "plt.show()\n",
    "\n",
    "# Histograma de errores\n",
    "errors = y_pred - y_true\n",
    "plt.hist(errors, bins=30)\n",
    "plt.xlabel('Error')\n",
    "plt.ylabel('Frequency')\n",
    "plt.title('Histogram of Prediction Errors')\n",
    "plt.show()\n"
   ]
  }
 ],
 "metadata": {
  "colab": {
   "authorship_tag": "ABX9TyMOhs4aAZ7i01xBD4Eg2RuL",
   "provenance": [],
   "toc_visible": true
  },
  "kernelspec": {
   "display_name": "Python 3 (ipykernel)",
   "language": "python",
   "name": "python3"
  },
  "language_info": {
   "codemirror_mode": {
    "name": "ipython",
    "version": 3
   },
   "file_extension": ".py",
   "mimetype": "text/x-python",
   "name": "python",
   "nbconvert_exporter": "python",
   "pygments_lexer": "ipython3",
   "version": "3.12.4"
  }
 },
 "nbformat": 4,
 "nbformat_minor": 4
}

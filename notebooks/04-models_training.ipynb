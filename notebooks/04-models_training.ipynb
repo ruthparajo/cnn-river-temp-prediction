{
 "cells": [
  {
   "cell_type": "code",
   "execution_count": 1,
   "metadata": {
    "colab": {
     "base_uri": "https://localhost:8080/"
    },
    "executionInfo": {
     "elapsed": 17776,
     "status": "ok",
     "timestamp": 1728026996326,
     "user": {
      "displayName": "Ruth Parajó Ferrer",
      "userId": "07031545869212809064"
     },
     "user_tz": -120
    },
    "id": "xJJ2jzpfkpt0",
    "outputId": "435323a9-257c-4d2a-9b4e-33146751fa24"
   },
   "outputs": [
    {
     "name": "stderr",
     "output_type": "stream",
     "text": [
      "2024-10-18 11:02:04.562867: E external/local_xla/xla/stream_executor/cuda/cuda_fft.cc:485] Unable to register cuFFT factory: Attempting to register factory for plugin cuFFT when one has already been registered\n",
      "2024-10-18 11:02:04.584453: E external/local_xla/xla/stream_executor/cuda/cuda_dnn.cc:8454] Unable to register cuDNN factory: Attempting to register factory for plugin cuDNN when one has already been registered\n",
      "2024-10-18 11:02:04.591055: E external/local_xla/xla/stream_executor/cuda/cuda_blas.cc:1452] Unable to register cuBLAS factory: Attempting to register factory for plugin cuBLAS when one has already been registered\n",
      "2024-10-18 11:02:04.607713: I tensorflow/core/platform/cpu_feature_guard.cc:210] This TensorFlow binary is optimized to use available CPU instructions in performance-critical operations.\n",
      "To enable the following instructions: AVX2 FMA, in other operations, rebuild TensorFlow with the appropriate compiler flags.\n",
      "2024-10-18 11:02:05.584977: W tensorflow/compiler/tf2tensorrt/utils/py_utils.cc:38] TF-TRT Warning: Could not find TensorRT\n"
     ]
    }
   ],
   "source": [
    "from functions import *\n",
    "from models import *"
   ]
  },
  {
   "cell_type": "code",
   "execution_count": 2,
   "metadata": {
    "executionInfo": {
     "elapsed": 760,
     "status": "ok",
     "timestamp": 1728026997084,
     "user": {
      "displayName": "Ruth Parajó Ferrer",
      "userId": "07031545869212809064"
     },
     "user_tz": -120
    },
    "id": "cdgXKy8WkrF0"
   },
   "outputs": [],
   "source": [
    "import matplotlib.pyplot as plt\n",
    "import glob\n",
    "from skimage.transform import resize\n",
    "from sklearn.model_selection import train_test_split\n",
    "from sklearn.linear_model import LinearRegression\n",
    "import geopandas as gpd\n",
    "from sklearn.metrics import mean_absolute_error, mean_squared_error, r2_score\n",
    "import matplotlib\n",
    "import seaborn as sns"
   ]
  },
  {
   "cell_type": "markdown",
   "metadata": {
    "id": "ibqF7sdakyQ6"
   },
   "source": [
    "## Load data"
   ]
  },
  {
   "cell_type": "markdown",
   "metadata": {},
   "source": [
    "### Load rivers"
   ]
  },
  {
   "cell_type": "code",
   "execution_count": 3,
   "metadata": {},
   "outputs": [
    {
     "data": {
      "text/plain": [
       "dict_keys(['Jorenbach', 'Seltenbach', 'Plattenbach', 'Riale_di_Motom', 'Ruisseau_des_Frassy', 'Kasperabach', 'Rausenbach', 'Rotenbachli', 'Ruisseau_de_Chatillon', 'Eibachli', 'Chrauchbach', 'Fiume_Peccia', 'Emme', 'LaVenoge_shapefile', 'Leiterbergbach', 'Stossbach', 'Torrent_de_Greffe', 'Tschagibach', 'Wasserfallenbach', 'La_Saufla', 'Guuhetbach', 'Schusselbach', 'LaBroye_shapefile', 'Usser_Bargelbach', 'La_Paudeze', 'Zauggenbach', 'Bisse-Neuf', 'Ragn_da_Colm', 'Calcascia', 'Raptgusa', 'swissTLMboiron', 'Guetentalbach', 'Tschermanner_Bach', 'Susasca', 'Riale_della_Fontana', 'Haagbach', 'Ri_dei_Calcestri', 'Maira_|_Mera', 'Ruisseau_de_la_Leyvra', 'Alplibach', 'Malbunbach', 'Aletenbach', 'I_Custiell', 'Bruederbach', 'Spitzalpelibach', 'Wiesenbach', 'El_Ri_Vall_Mala', 'Ruisseau_de_Pra_Gouma', 'Ruisseau_du_Perelet', 'le_boiron2', 'Ri_di_Piera'])"
      ]
     },
     "execution_count": 3,
     "metadata": {},
     "output_type": "execute_result"
    }
   ],
   "source": [
    "import fiona\n",
    "import geopandas as gpd\n",
    "from shapely.geometry import shape\n",
    "source_folder = '../data/external/raster_masks'\n",
    "rivers = {}\n",
    "for subdir, dirs, files in os.walk(source_folder):\n",
    "    for i,file in enumerate(files):\n",
    "        r,m = load_raster(os.path.join(subdir, file), False)\n",
    "        #rius = list(img_per_river.keys())\n",
    "        name = file.split('.')[0].split('bw_')[-1]\n",
    "        rivers[name] = r\n",
    "rivers.keys()"
   ]
  },
  {
   "cell_type": "markdown",
   "metadata": {
    "id": "C6fyNHFgVykS"
   },
   "source": [
    "### Choose inputs"
   ]
  },
  {
   "cell_type": "code",
   "execution_count": 207,
   "metadata": {},
   "outputs": [],
   "source": [
    "W = 256\n",
    "filter_river = None#[3,11,12]\n",
    "inputs = None#['ndvi','discharge', 'slope']\n",
    "conditioned = False\n",
    "batch_size = 4\n",
    "epochs = 10\n",
    "model_name = \"img_wise_CNN\" #img_wise_CNN, UNet, transfer_learning_VGG16, CNN, img_2_img"
   ]
  },
  {
   "cell_type": "code",
   "execution_count": 208,
   "metadata": {
    "scrolled": true
   },
   "outputs": [
    {
     "data": {
      "text/plain": [
       "{'lst': ['../data/preprocessed/lst/Hindereggbachli',\n",
       "  '../data/preprocessed/lst/Plattenbach',\n",
       "  '../data/preprocessed/lst/Rausenbach',\n",
       "  '../data/preprocessed/lst/Riale_della_Valle',\n",
       "  '../data/preprocessed/lst/Malbunbach',\n",
       "  '../data/preprocessed/lst/Seltenbach',\n",
       "  '../data/preprocessed/lst/Ruisseau_des_Frassy',\n",
       "  '../data/preprocessed/lst/Rotenbachli',\n",
       "  '../data/preprocessed/lst/Ruisseau_de_Pra_Gouma',\n",
       "  '../data/preprocessed/lst/Torrent_de_Greffe',\n",
       "  '../data/preprocessed/lst/Guuhetbach',\n",
       "  '../data/preprocessed/lst/LaBroye_shapefile',\n",
       "  '../data/preprocessed/lst/Harmedingebachli',\n",
       "  '../data/preprocessed/lst/Hindertoss',\n",
       "  '../data/preprocessed/lst/Ragn_da_Colm',\n",
       "  '../data/preprocessed/lst/Raptgusa',\n",
       "  '../data/preprocessed/lst/Alplibach',\n",
       "  '../data/preprocessed/lst/La_Paudeze',\n",
       "  '../data/preprocessed/lst/Bisse_de_Marais',\n",
       "  '../data/preprocessed/lst/LaVenoge_shapefile',\n",
       "  '../data/preprocessed/lst/Ramserlibachli',\n",
       "  '../data/preprocessed/lst/Ri_dei_Calcestri',\n",
       "  '../data/preprocessed/lst/Susasca',\n",
       "  '../data/preprocessed/lst/Calcascia',\n",
       "  '../data/preprocessed/lst/swissTLMboiron',\n",
       "  '../data/preprocessed/lst/Ruisseau_de_Coppet',\n",
       "  '../data/preprocessed/lst/Ruisseau_des_Tenasses',\n",
       "  '../data/preprocessed/lst/Tschagibach',\n",
       "  '../data/preprocessed/lst/Spitzalpelibach',\n",
       "  '../data/preprocessed/lst/Fiume_Peccia',\n",
       "  '../data/preprocessed/lst/Wasserfallenbach',\n",
       "  '../data/preprocessed/lst/Ruisseau_de_la_Croix',\n",
       "  '../data/preprocessed/lst/Wiesenbach',\n",
       "  '../data/preprocessed/lst/Jorenbach',\n",
       "  '../data/preprocessed/lst/Ruisseau_de_la_Leyvra',\n",
       "  '../data/preprocessed/lst/Usser_Bargelbach',\n",
       "  '../data/preprocessed/lst/I_Custiell',\n",
       "  '../data/preprocessed/lst/Ri_di_Costa',\n",
       "  '../data/preprocessed/lst/Matallerbach',\n",
       "  '../data/preprocessed/lst/Guetentalbach',\n",
       "  '../data/preprocessed/lst/Eibachli',\n",
       "  '../data/preprocessed/lst/Ri_di_Piera',\n",
       "  '../data/preprocessed/lst/Emme',\n",
       "  '../data/preprocessed/lst/La_Saufla',\n",
       "  '../data/preprocessed/lst/Maira_|_Mera',\n",
       "  '../data/preprocessed/lst/Haagbach',\n",
       "  '../data/preprocessed/lst/Riale_della_Fontana',\n",
       "  '../data/preprocessed/lst/Stossbach',\n",
       "  '../data/preprocessed/lst/Leiterbergbach',\n",
       "  '../data/preprocessed/lst/Riale_di_Motom',\n",
       "  '../data/preprocessed/lst/Bisse-Neuf',\n",
       "  '../data/preprocessed/lst/Chrauchbach',\n",
       "  '../data/preprocessed/lst/Kasperabach',\n",
       "  '../data/preprocessed/lst/Ruisseau_de_Chatillon',\n",
       "  '../data/preprocessed/lst/Zauggenbach',\n",
       "  '../data/preprocessed/lst/El_Ri_Vall_Mala',\n",
       "  '../data/preprocessed/lst/Tschermanner_Bach',\n",
       "  '../data/preprocessed/lst/Schusselbach',\n",
       "  '../data/preprocessed/lst/le_boiron2',\n",
       "  '../data/preprocessed/lst/Lammbach',\n",
       "  '../data/preprocessed/lst/Aletenbach',\n",
       "  '../data/preprocessed/lst/Ruisseau_du_Perelet',\n",
       "  '../data/preprocessed/lst/Bruederbach'],\n",
       " 'ndvi': ['../data/preprocessed/ndvi/Hindereggbachli',\n",
       "  '../data/preprocessed/ndvi/Plattenbach',\n",
       "  '../data/preprocessed/ndvi/Rausenbach',\n",
       "  '../data/preprocessed/ndvi/Riale_della_Valle',\n",
       "  '../data/preprocessed/ndvi/Malbunbach',\n",
       "  '../data/preprocessed/ndvi/Seltenbach',\n",
       "  '../data/preprocessed/ndvi/Ruisseau_des_Frassy',\n",
       "  '../data/preprocessed/ndvi/Rotenbachli',\n",
       "  '../data/preprocessed/ndvi/Ruisseau_de_Pra_Gouma',\n",
       "  '../data/preprocessed/ndvi/Torrent_de_Greffe',\n",
       "  '../data/preprocessed/ndvi/Guuhetbach',\n",
       "  '../data/preprocessed/ndvi/LaBroye_shapefile',\n",
       "  '../data/preprocessed/ndvi/Harmedingebachli',\n",
       "  '../data/preprocessed/ndvi/Hindertoss',\n",
       "  '../data/preprocessed/ndvi/Ragn_da_Colm',\n",
       "  '../data/preprocessed/ndvi/Raptgusa',\n",
       "  '../data/preprocessed/ndvi/Alplibach',\n",
       "  '../data/preprocessed/ndvi/La_Paudeze',\n",
       "  '../data/preprocessed/ndvi/Bisse_de_Marais',\n",
       "  '../data/preprocessed/ndvi/LaVenoge_shapefile',\n",
       "  '../data/preprocessed/ndvi/Ramserlibachli',\n",
       "  '../data/preprocessed/ndvi/Ri_dei_Calcestri',\n",
       "  '../data/preprocessed/ndvi/Susasca',\n",
       "  '../data/preprocessed/ndvi/Calcascia',\n",
       "  '../data/preprocessed/ndvi/swissTLMboiron',\n",
       "  '../data/preprocessed/ndvi/Ruisseau_de_Coppet',\n",
       "  '../data/preprocessed/ndvi/Ruisseau_des_Tenasses',\n",
       "  '../data/preprocessed/ndvi/Tschagibach',\n",
       "  '../data/preprocessed/ndvi/Spitzalpelibach',\n",
       "  '../data/preprocessed/ndvi/Fiume_Peccia',\n",
       "  '../data/preprocessed/ndvi/Wasserfallenbach',\n",
       "  '../data/preprocessed/ndvi/Ruisseau_de_la_Croix',\n",
       "  '../data/preprocessed/ndvi/Wiesenbach',\n",
       "  '../data/preprocessed/ndvi/Jorenbach',\n",
       "  '../data/preprocessed/ndvi/Ruisseau_de_la_Leyvra',\n",
       "  '../data/preprocessed/ndvi/Usser_Bargelbach',\n",
       "  '../data/preprocessed/ndvi/I_Custiell',\n",
       "  '../data/preprocessed/ndvi/Ri_di_Costa',\n",
       "  '../data/preprocessed/ndvi/Matallerbach',\n",
       "  '../data/preprocessed/ndvi/Guetentalbach',\n",
       "  '../data/preprocessed/ndvi/Eibachli',\n",
       "  '../data/preprocessed/ndvi/Ri_di_Piera',\n",
       "  '../data/preprocessed/ndvi/Emme',\n",
       "  '../data/preprocessed/ndvi/La_Saufla',\n",
       "  '../data/preprocessed/ndvi/Maira_|_Mera',\n",
       "  '../data/preprocessed/ndvi/Haagbach',\n",
       "  '../data/preprocessed/ndvi/Riale_della_Fontana',\n",
       "  '../data/preprocessed/ndvi/Stossbach',\n",
       "  '../data/preprocessed/ndvi/Leiterbergbach',\n",
       "  '../data/preprocessed/ndvi/Riale_di_Motom',\n",
       "  '../data/preprocessed/ndvi/Bisse-Neuf',\n",
       "  '../data/preprocessed/ndvi/Chrauchbach',\n",
       "  '../data/preprocessed/ndvi/Kasperabach',\n",
       "  '../data/preprocessed/ndvi/Ruisseau_de_Chatillon',\n",
       "  '../data/preprocessed/ndvi/Zauggenbach',\n",
       "  '../data/preprocessed/ndvi/El_Ri_Vall_Mala',\n",
       "  '../data/preprocessed/ndvi/Tschermanner_Bach',\n",
       "  '../data/preprocessed/ndvi/Schusselbach',\n",
       "  '../data/preprocessed/ndvi/le_boiron2',\n",
       "  '../data/preprocessed/ndvi/Lammbach',\n",
       "  '../data/preprocessed/ndvi/Aletenbach',\n",
       "  '../data/preprocessed/ndvi/Ruisseau_du_Perelet',\n",
       "  '../data/preprocessed/ndvi/Bruederbach'],\n",
       " 'wt': ['../data/preprocessed/wt/Hindereggbachli',\n",
       "  '../data/preprocessed/wt/Plattenbach',\n",
       "  '../data/preprocessed/wt/Rausenbach',\n",
       "  '../data/preprocessed/wt/Riale_della_Valle',\n",
       "  '../data/preprocessed/wt/Malbunbach',\n",
       "  '../data/preprocessed/wt/Seltenbach',\n",
       "  '../data/preprocessed/wt/Ruisseau_des_Frassy',\n",
       "  '../data/preprocessed/wt/Rotenbachli',\n",
       "  '../data/preprocessed/wt/Ruisseau_de_Pra_Gouma',\n",
       "  '../data/preprocessed/wt/Torrent_de_Greffe',\n",
       "  '../data/preprocessed/wt/Guuhetbach',\n",
       "  '../data/preprocessed/wt/LaBroye_shapefile',\n",
       "  '../data/preprocessed/wt/Harmedingebachli',\n",
       "  '../data/preprocessed/wt/Hindertoss',\n",
       "  '../data/preprocessed/wt/Ragn_da_Colm',\n",
       "  '../data/preprocessed/wt/Raptgusa',\n",
       "  '../data/preprocessed/wt/Alplibach',\n",
       "  '../data/preprocessed/wt/La_Paudeze',\n",
       "  '../data/preprocessed/wt/Bisse_de_Marais',\n",
       "  '../data/preprocessed/wt/LaVenoge_shapefile',\n",
       "  '../data/preprocessed/wt/Ramserlibachli',\n",
       "  '../data/preprocessed/wt/Ri_dei_Calcestri',\n",
       "  '../data/preprocessed/wt/Susasca',\n",
       "  '../data/preprocessed/wt/Calcascia',\n",
       "  '../data/preprocessed/wt/swissTLMboiron',\n",
       "  '../data/preprocessed/wt/Ruisseau_de_Coppet',\n",
       "  '../data/preprocessed/wt/Ruisseau_des_Tenasses',\n",
       "  '../data/preprocessed/wt/Tschagibach',\n",
       "  '../data/preprocessed/wt/Spitzalpelibach',\n",
       "  '../data/preprocessed/wt/Fiume_Peccia',\n",
       "  '../data/preprocessed/wt/Wasserfallenbach',\n",
       "  '../data/preprocessed/wt/Ruisseau_de_la_Croix',\n",
       "  '../data/preprocessed/wt/Wiesenbach',\n",
       "  '../data/preprocessed/wt/Jorenbach',\n",
       "  '../data/preprocessed/wt/Ruisseau_de_la_Leyvra',\n",
       "  '../data/preprocessed/wt/Usser_Bargelbach',\n",
       "  '../data/preprocessed/wt/I_Custiell',\n",
       "  '../data/preprocessed/wt/Ri_di_Costa',\n",
       "  '../data/preprocessed/wt/Matallerbach',\n",
       "  '../data/preprocessed/wt/Guetentalbach',\n",
       "  '../data/preprocessed/wt/Eibachli',\n",
       "  '../data/preprocessed/wt/Ri_di_Piera',\n",
       "  '../data/preprocessed/wt/Emme',\n",
       "  '../data/preprocessed/wt/La_Saufla',\n",
       "  '../data/preprocessed/wt/Maira_|_Mera',\n",
       "  '../data/preprocessed/wt/Haagbach',\n",
       "  '../data/preprocessed/wt/Riale_della_Fontana',\n",
       "  '../data/preprocessed/wt/Stossbach',\n",
       "  '../data/preprocessed/wt/Leiterbergbach',\n",
       "  '../data/preprocessed/wt/Riale_di_Motom',\n",
       "  '../data/preprocessed/wt/Bisse-Neuf',\n",
       "  '../data/preprocessed/wt/Chrauchbach',\n",
       "  '../data/preprocessed/wt/Kasperabach',\n",
       "  '../data/preprocessed/wt/Ruisseau_de_Chatillon',\n",
       "  '../data/preprocessed/wt/Zauggenbach',\n",
       "  '../data/preprocessed/wt/El_Ri_Vall_Mala',\n",
       "  '../data/preprocessed/wt/Tschermanner_Bach',\n",
       "  '../data/preprocessed/wt/Schusselbach',\n",
       "  '../data/preprocessed/wt/le_boiron2',\n",
       "  '../data/preprocessed/wt/Lammbach',\n",
       "  '../data/preprocessed/wt/Aletenbach',\n",
       "  '../data/preprocessed/wt/Ruisseau_du_Perelet',\n",
       "  '../data/preprocessed/wt/Bruederbach'],\n",
       " 'masked': ['../data/preprocessed/lst/Hindereggbachli/masked',\n",
       "  '../data/preprocessed/lst/Plattenbach/masked',\n",
       "  '../data/preprocessed/lst/Rausenbach/masked',\n",
       "  '../data/preprocessed/lst/Riale_della_Valle/masked',\n",
       "  '../data/preprocessed/lst/Malbunbach/masked',\n",
       "  '../data/preprocessed/lst/Seltenbach/masked',\n",
       "  '../data/preprocessed/lst/Ruisseau_des_Frassy/masked',\n",
       "  '../data/preprocessed/lst/Rotenbachli/masked',\n",
       "  '../data/preprocessed/lst/Ruisseau_de_Pra_Gouma/masked',\n",
       "  '../data/preprocessed/lst/Torrent_de_Greffe/masked',\n",
       "  '../data/preprocessed/lst/Guuhetbach/masked',\n",
       "  '../data/preprocessed/lst/LaBroye_shapefile/masked',\n",
       "  '../data/preprocessed/lst/Harmedingebachli/masked',\n",
       "  '../data/preprocessed/lst/Hindertoss/masked',\n",
       "  '../data/preprocessed/lst/Ragn_da_Colm/masked',\n",
       "  '../data/preprocessed/lst/Raptgusa/masked',\n",
       "  '../data/preprocessed/lst/Alplibach/masked',\n",
       "  '../data/preprocessed/lst/La_Paudeze/masked',\n",
       "  '../data/preprocessed/lst/Bisse_de_Marais/masked',\n",
       "  '../data/preprocessed/lst/LaVenoge_shapefile/masked',\n",
       "  '../data/preprocessed/lst/Ramserlibachli/masked',\n",
       "  '../data/preprocessed/lst/Ri_dei_Calcestri/masked',\n",
       "  '../data/preprocessed/lst/Susasca/masked',\n",
       "  '../data/preprocessed/lst/Calcascia/masked',\n",
       "  '../data/preprocessed/lst/swissTLMboiron/masked',\n",
       "  '../data/preprocessed/lst/Ruisseau_de_Coppet/masked',\n",
       "  '../data/preprocessed/lst/Ruisseau_des_Tenasses/masked',\n",
       "  '../data/preprocessed/lst/Tschagibach/masked',\n",
       "  '../data/preprocessed/lst/Spitzalpelibach/masked',\n",
       "  '../data/preprocessed/lst/Fiume_Peccia/masked',\n",
       "  '../data/preprocessed/lst/Wasserfallenbach/masked',\n",
       "  '../data/preprocessed/lst/Ruisseau_de_la_Croix/masked',\n",
       "  '../data/preprocessed/lst/Wiesenbach/masked',\n",
       "  '../data/preprocessed/lst/Jorenbach/masked',\n",
       "  '../data/preprocessed/lst/Ruisseau_de_la_Leyvra/masked',\n",
       "  '../data/preprocessed/lst/Usser_Bargelbach/masked',\n",
       "  '../data/preprocessed/lst/I_Custiell/masked',\n",
       "  '../data/preprocessed/lst/Ri_di_Costa/masked',\n",
       "  '../data/preprocessed/lst/Matallerbach/masked',\n",
       "  '../data/preprocessed/lst/Guetentalbach/masked',\n",
       "  '../data/preprocessed/lst/Eibachli/masked',\n",
       "  '../data/preprocessed/lst/Ri_di_Piera/masked',\n",
       "  '../data/preprocessed/lst/Emme/masked',\n",
       "  '../data/preprocessed/lst/La_Saufla/masked',\n",
       "  '../data/preprocessed/lst/Maira_|_Mera/masked',\n",
       "  '../data/preprocessed/lst/Haagbach/masked',\n",
       "  '../data/preprocessed/lst/Riale_della_Fontana/masked',\n",
       "  '../data/preprocessed/lst/Stossbach/masked',\n",
       "  '../data/preprocessed/lst/Leiterbergbach/masked',\n",
       "  '../data/preprocessed/lst/Riale_di_Motom/masked',\n",
       "  '../data/preprocessed/lst/Bisse-Neuf/masked',\n",
       "  '../data/preprocessed/lst/Chrauchbach/masked',\n",
       "  '../data/preprocessed/lst/Kasperabach/masked',\n",
       "  '../data/preprocessed/lst/Ruisseau_de_Chatillon/masked',\n",
       "  '../data/preprocessed/lst/Zauggenbach/masked',\n",
       "  '../data/preprocessed/lst/El_Ri_Vall_Mala/masked',\n",
       "  '../data/preprocessed/lst/Tschermanner_Bach/masked',\n",
       "  '../data/preprocessed/lst/Schusselbach/masked',\n",
       "  '../data/preprocessed/lst/le_boiron2/masked',\n",
       "  '../data/preprocessed/lst/Lammbach/masked',\n",
       "  '../data/preprocessed/lst/Aletenbach/masked',\n",
       "  '../data/preprocessed/lst/Ruisseau_du_Perelet/masked',\n",
       "  '../data/preprocessed/lst/Bruederbach/masked'],\n",
       " 'discharge': ['../data/preprocessed/discharge/Hindereggbachli',\n",
       "  '../data/preprocessed/discharge/Plattenbach',\n",
       "  '../data/preprocessed/discharge/Rausenbach',\n",
       "  '../data/preprocessed/discharge/Riale_della_Valle',\n",
       "  '../data/preprocessed/discharge/Seltenbach',\n",
       "  '../data/preprocessed/discharge/Ruisseau_des_Frassy',\n",
       "  '../data/preprocessed/discharge/Rotenbachli',\n",
       "  '../data/preprocessed/discharge/Ruisseau_de_Pra_Gouma',\n",
       "  '../data/preprocessed/discharge/Torrent_de_Greffe',\n",
       "  '../data/preprocessed/discharge/Guuhetbach',\n",
       "  '../data/preprocessed/discharge/LaBroye_shapefile',\n",
       "  '../data/preprocessed/discharge/Harmedingebachli',\n",
       "  '../data/preprocessed/discharge/Hindertoss',\n",
       "  '../data/preprocessed/discharge/Ragn_da_Colm',\n",
       "  '../data/preprocessed/discharge/Raptgusa',\n",
       "  '../data/preprocessed/discharge/Alplibach',\n",
       "  '../data/preprocessed/discharge/La_Paudeze',\n",
       "  '../data/preprocessed/discharge/LaVenoge_shapefile',\n",
       "  '../data/preprocessed/discharge/swissTLMboiron',\n",
       "  '../data/preprocessed/discharge/Wasserfallenbach',\n",
       "  '../data/preprocessed/discharge/I_Custiell',\n",
       "  '../data/preprocessed/discharge/Eibachli',\n",
       "  '../data/preprocessed/discharge/Bisse-Neuf',\n",
       "  '../data/preprocessed/discharge/Zauggenbach',\n",
       "  '../data/preprocessed/discharge/le_boiron2',\n",
       "  '../data/preprocessed/discharge/Aletenbach'],\n",
       " 'slope': ['../data/preprocessed/slope/Hindereggbachli',\n",
       "  '../data/preprocessed/slope/Plattenbach',\n",
       "  '../data/preprocessed/slope/Rausenbach',\n",
       "  '../data/preprocessed/slope/Riale_della_Valle',\n",
       "  '../data/preprocessed/slope/Seltenbach',\n",
       "  '../data/preprocessed/slope/Ruisseau_des_Frassy',\n",
       "  '../data/preprocessed/slope/Rotenbachli',\n",
       "  '../data/preprocessed/slope/Ruisseau_de_Pra_Gouma',\n",
       "  '../data/preprocessed/slope/Torrent_de_Greffe',\n",
       "  '../data/preprocessed/slope/Guuhetbach',\n",
       "  '../data/preprocessed/slope/LaBroye_shapefile',\n",
       "  '../data/preprocessed/slope/Harmedingebachli',\n",
       "  '../data/preprocessed/slope/Hindertoss',\n",
       "  '../data/preprocessed/slope/Ragn_da_Colm',\n",
       "  '../data/preprocessed/slope/Raptgusa',\n",
       "  '../data/preprocessed/slope/Alplibach',\n",
       "  '../data/preprocessed/slope/La_Paudeze',\n",
       "  '../data/preprocessed/slope/LaVenoge_shapefile',\n",
       "  '../data/preprocessed/slope/swissTLMboiron',\n",
       "  '../data/preprocessed/slope/Wasserfallenbach',\n",
       "  '../data/preprocessed/slope/I_Custiell',\n",
       "  '../data/preprocessed/slope/Eibachli',\n",
       "  '../data/preprocessed/slope/Bisse-Neuf',\n",
       "  '../data/preprocessed/slope/Zauggenbach',\n",
       "  '../data/preprocessed/slope/le_boiron2',\n",
       "  '../data/preprocessed/slope/Aletenbach']}"
      ]
     },
     "execution_count": 208,
     "metadata": {},
     "output_type": "execute_result"
    }
   ],
   "source": [
    "source_path = '../data/preprocessed/'\n",
    "data_paths = ['lst', 'ndvi', 'wt', 'masked','discharge', 'slope']#, 'wt_interpolated']\n",
    "dir_paths = [os.path.join(source_path,p) for p in data_paths]\n",
    "all_dir_paths = {k:[] for k in data_paths}\n",
    "\n",
    "for i,dir_p in enumerate(dir_paths):\n",
    "    for subdir, dirs,files in os.walk(dir_p):\n",
    "        if subdir != dir_p and not subdir.endswith('masked') and not subdir.endswith('.ipynb_checkpoints'): #and rivers_count < max_rivers:\n",
    "            all_dir_paths[data_paths[i]].append(subdir)\n",
    "        elif subdir.endswith('masked'):\n",
    "            all_dir_paths['masked'].append(subdir)\n",
    "       \n",
    "all_dir_paths    "
   ]
  },
  {
   "cell_type": "code",
   "execution_count": 209,
   "metadata": {},
   "outputs": [
    {
     "name": "stdout",
     "output_type": "stream",
     "text": [
      "lst 26\n",
      "ndvi 26\n",
      "wt 26\n",
      "masked 26\n",
      "discharge 26\n",
      "slope 26\n"
     ]
    }
   ],
   "source": [
    "sets = [set([path.split('/')[-1] for path in paths]) for paths in all_dir_paths.values()]\n",
    "\n",
    "from collections import Counter\n",
    "rr = Counter()\n",
    "for sett in sets:\n",
    "    for r in sett:\n",
    "        rr[r]+=1\n",
    "\n",
    "common_rivers = set([key for key, count in rr.items() if count >= 5])\n",
    "# Crear un nuevo diccionario con solo los ríos comunes\n",
    "filtered_data_paths = {}\n",
    "for key, paths in all_dir_paths.items():\n",
    "    # Filtrar las rutas que pertenecen a los common_rivers\n",
    "    if key!= 'masked':\n",
    "        filtered_paths = [path for path in paths if path.split('/')[-1] in common_rivers]\n",
    "    else: \n",
    "        filtered_paths = [path for path in paths if path.split('/')[-2] in common_rivers]\n",
    "    filtered_data_paths[key] = filtered_paths\n",
    "\n",
    "for kk, vv in filtered_data_paths.items():\n",
    "    print(kk,len(vv))"
   ]
  },
  {
   "cell_type": "code",
   "execution_count": 210,
   "metadata": {},
   "outputs": [],
   "source": [
    "all_dir_paths = filtered_data_paths"
   ]
  },
  {
   "cell_type": "code",
   "execution_count": 211,
   "metadata": {},
   "outputs": [
    {
     "name": "stdout",
     "output_type": "stream",
     "text": [
      "lst : (204, 256, 256, 3)\n",
      "ndvi : (204, 256, 256)\n",
      "wt : (204, 256, 256)\n",
      "masked : (204, 256, 256, 3)\n",
      "discharge : (204, 256, 256)\n",
      "slope : (204, 256, 256)\n"
     ]
    }
   ],
   "source": [
    "total_data = {}\n",
    "total_times = {}\n",
    "complete_rivers = []\n",
    "for k,v in all_dir_paths.items():\n",
    "    if filter_river != None:\n",
    "        v = [v[i] for i in filter_river]\n",
    "    \n",
    "    if k != 'discharge' and k != 'slope':\n",
    "        if k == 'lst' or k == 'masked':\n",
    "            list_rgb = [True]*len(v)\n",
    "        else:\n",
    "            list_rgb = [False]*len(v)\n",
    "\n",
    "            labels = []\n",
    "            for ki,value in data.items():\n",
    "                labels+=[ki.split('/')[-1]]*len(value)\n",
    "        \n",
    "        data, times = load_data(v,W,list_rgb)\n",
    "        \n",
    "        filtered = [arr for arr in data.values() if arr.size > 0]\n",
    "\n",
    "        total_data[k] = np.concatenate(filtered, axis=0)\n",
    "        total_times[k] = times\n",
    "        print(k,':' ,total_data[k].shape)\n",
    "\n",
    "    elif k == 'discharge' or k == 'slope':\n",
    "        total = []\n",
    "        for p in v:\n",
    "            for file in os.listdir(p):\n",
    "                file_path = os.path.join(p, file)\n",
    "                r,m = load_raster(file_path, False)\n",
    "                var = resize_image(r, W,W)\n",
    "                img_river = labels.count(p.split(\"/\")[-1])\n",
    "                var_input = np.tile(var, (img_river, 1, 1))\n",
    "                total.append(var_input)\n",
    "        \n",
    "        total_data[k] = np.concatenate(total, axis=0)\n",
    "        print(k,':' ,total_data[k].shape)\n"
   ]
  },
  {
   "cell_type": "code",
   "execution_count": 212,
   "metadata": {},
   "outputs": [
    {
     "name": "stdout",
     "output_type": "stream",
     "text": [
      "(204, 22)\n"
     ]
    }
   ],
   "source": [
    "from sklearn.preprocessing import OneHotEncoder\n",
    "\n",
    "encoder = OneHotEncoder(sparse_output=False)\n",
    "river_encoded = encoder.fit_transform(np.array(labels).reshape(-1, 1))\n",
    "# Mostrar el array resultante\n",
    "print(river_encoded.shape)"
   ]
  },
  {
   "cell_type": "code",
   "execution_count": 213,
   "metadata": {},
   "outputs": [
    {
     "name": "stdout",
     "output_type": "stream",
     "text": [
      "inputs shape: (204, 256, 256, 3) (204, 256, 256)\n",
      "targets shape: (204, 256, 256)\n"
     ]
    }
   ],
   "source": [
    "lst = total_data['lst']\n",
    "ndvi = total_data['ndvi']\n",
    "data_targets = total_data['wt']\n",
    "#wt_stations = data[dir_paths[3]]\n",
    "print('inputs shape:', lst.shape,ndvi.shape)\n",
    "print('targets shape:', data_targets.shape)"
   ]
  },
  {
   "cell_type": "code",
   "execution_count": 214,
   "metadata": {},
   "outputs": [
    {
     "data": {
      "text/plain": [
       "'for i in range(lst.shape[0]):\\n    fig, axes = plt.subplots(1,3, figsize=(10,5))\\n    axes[0].imshow(np.clip(lst[i]*(6/255), 0, 1))\\n    axes[0].set_title(\\'lst\\')\\n\\n    axes[1].imshow(ndvi[i])\\n    axes[1].set_title(\\'ndvi\\')\\n\\n    axes[2].imshow(data_targets[i])\\n    axes[2].set_title(\\'wt\\')\\n\\n    if total_times[\\'lst\\'][0][i] != total_times[\\'ndvi\\'][0][i] or total_times[\\'lst\\'][0][i] != total_times[\\'wt\\'][0][i] or total_times[\\'ndvi\\'][0][i] != total_times[\\'wt\\'][0][i]:\\n        print(\\'Time mismatch\\')\\n\\n    plt.suptitle(f\"For time {total_times[\\'lst\\'][0][0]}\", fontsize=16)\\n    plt.tight_layout()\\n    plt.subplots_adjust(top=0.9)\\n    plt.show()\\n'"
      ]
     },
     "execution_count": 214,
     "metadata": {},
     "output_type": "execute_result"
    }
   ],
   "source": [
    "'''for i in range(lst.shape[0]):\n",
    "    fig, axes = plt.subplots(1,3, figsize=(10,5))\n",
    "    axes[0].imshow(np.clip(lst[i]*(6/255), 0, 1))\n",
    "    axes[0].set_title('lst')\n",
    "\n",
    "    axes[1].imshow(ndvi[i])\n",
    "    axes[1].set_title('ndvi')\n",
    "\n",
    "    axes[2].imshow(data_targets[i])\n",
    "    axes[2].set_title('wt')\n",
    "\n",
    "    if total_times['lst'][0][i] != total_times['ndvi'][0][i] or total_times['lst'][0][i] != total_times['wt'][0][i] or total_times['ndvi'][0][i] != total_times['wt'][0][i]:\n",
    "        print('Time mismatch')\n",
    "\n",
    "    plt.suptitle(f\"For time {total_times['lst'][0][0]}\", fontsize=16)\n",
    "    plt.tight_layout()\n",
    "    plt.subplots_adjust(top=0.9)\n",
    "    plt.show()\n",
    "'''"
   ]
  },
  {
   "cell_type": "markdown",
   "metadata": {
    "id": "aLwM6oUpAQJq"
   },
   "source": [
    "Convert inputs to gray images"
   ]
  },
  {
   "cell_type": "markdown",
   "metadata": {
    "colab": {
     "base_uri": "https://localhost:8080/"
    },
    "executionInfo": {
     "elapsed": 318,
     "status": "ok",
     "timestamp": 1728043098272,
     "user": {
      "displayName": "Ruth Parajó Ferrer",
      "userId": "07031545869212809064"
     },
     "user_tz": -120
    },
    "id": "-IPLNgDMAOeq",
    "outputId": "08a78d43-addf-423a-873d-0860946614a8"
   },
   "source": [
    "'''masked_gray_inputs = []\n",
    "gray_inputs = []\n",
    "for i in range(masked_inputs.shape[0]):\n",
    "  masked_img_rgb = masked_inputs[i]\n",
    "  masked_img_gray = np.dot(masked_img_rgb[...,:3], [0.2989, 0.5870, 0.1140]) # turn to gray image, calculate the weighted average of each channel contribution\n",
    "  masked_gray_inputs.append(masked_img_gray)\n",
    "\n",
    "  img_rgb = data_inputs[i]\n",
    "  img_gray = np.dot(img_rgb[...,:3], [0.2989, 0.5870, 0.1140]) # turn to gray image, calculate the weighted average of each channel contribution\n",
    "  gray_inputs.append(img_gray)\n",
    "\n",
    "masked_gray_inputs = np.array(masked_gray_inputs)\n",
    "print(masked_gray_inputs.shape)\n",
    "\n",
    "gray_inputs = np.array(gray_inputs)\n",
    "print(gray_inputs.shape)'''"
   ]
  },
  {
   "cell_type": "markdown",
   "metadata": {
    "id": "s75V_TGhA5FJ"
   },
   "source": [
    "Split data"
   ]
  },
  {
   "cell_type": "code",
   "execution_count": 215,
   "metadata": {},
   "outputs": [],
   "source": [
    "if inputs != None:\n",
    "    inputs_d = [total_data[inp] for inp in inputs]#[ndvi,discharge,slope] "
   ]
  },
  {
   "cell_type": "code",
   "execution_count": 216,
   "metadata": {
    "executionInfo": {
     "elapsed": 3,
     "status": "ok",
     "timestamp": 1728043098272,
     "user": {
      "displayName": "Ruth Parajó Ferrer",
      "userId": "07031545869212809064"
     },
     "user_tz": -120
    },
    "id": "pFFibLQXA4hd"
   },
   "outputs": [],
   "source": [
    "if inputs == None:\n",
    "    train_index, validation_index, test_index = split_data(lst, data_targets)\n",
    "    input_data = lst\n",
    "else:\n",
    "    # Lista de diferentes conjuntos de imágenes a combinar con LST\n",
    "    additional_images = inputs_d # Añade todas las imágenes adicionales que quieras\n",
    "\n",
    "    # Expande la dimensión de cada conjunto de imágenes para asegurar que tengan un canal extra\n",
    "    expanded_images = [np.expand_dims(img, axis=-1) for img in additional_images]  # Cada imagen tendrá shape: (n_samples, 256, 256, 1)\n",
    "\n",
    "    # Concatenar LST con todas las imágenes adicionales a lo largo del último eje (canales)\n",
    "    combined_input = np.concatenate([lst] + expanded_images, axis=-1)  # LST (RGB) + todas las imágenes adicionales\n",
    "    train_index, validation_index, test_index = split_data(combined_input, data_targets)\n",
    "    input_data = combined_input\n",
    "    \n",
    "\n",
    "validation_input = input_data[validation_index, :] / 255.0  # Normalize inputs\n",
    "validation_target = data_targets[validation_index, :]\n",
    "validation_rivers = river_encoded[validation_index, :]\n",
    "\n",
    "test_input = input_data[test_index, :] / 255.0  # Normalize inputs\n",
    "test_target = data_targets[test_index, :]\n",
    "test_rivers = river_encoded[test_index, :]\n",
    "\n",
    "train_input = input_data[train_index, :] / 255.0  # Normalize inputs\n",
    "train_target = data_targets[train_index, :]\n",
    "train_rivers = river_encoded[train_index, :]\n",
    "\n"
   ]
  },
  {
   "cell_type": "code",
   "execution_count": 217,
   "metadata": {},
   "outputs": [
    {
     "name": "stdout",
     "output_type": "stream",
     "text": [
      "(164, 256, 256, 6) (164, 256, 256) (20, 256, 256, 6) (20, 256, 256) (20, 256, 256, 6) (20, 256, 256) (164, 22) (20, 22) (20, 22)\n"
     ]
    }
   ],
   "source": [
    "print(train_input.shape, train_target.shape, validation_input.shape, validation_target.shape, test_input.shape, test_target.shape, train_rivers.shape, validation_rivers.shape, test_rivers.shape)"
   ]
  },
  {
   "cell_type": "markdown",
   "metadata": {
    "id": "5Y2TXyInRBmC"
   },
   "source": [
    "## CNN simpler"
   ]
  },
  {
   "cell_type": "markdown",
   "metadata": {},
   "source": [
    "#### Choose model"
   ]
  },
  {
   "cell_type": "code",
   "execution_count": 218,
   "metadata": {
    "executionInfo": {
     "elapsed": 2,
     "status": "ok",
     "timestamp": 1728043098272,
     "user": {
      "displayName": "Ruth Parajó Ferrer",
      "userId": "07031545869212809064"
     },
     "user_tz": -120
    },
    "id": "QdVKjYjQdjvn"
   },
   "outputs": [],
   "source": [
    "# Construir el modelo\n",
    "if len(train_input.shape) == 3:\n",
    "  input_shape = train_input.shape[1:]+(1,)\n",
    "else:\n",
    "  input_shape = train_input.shape[1:]  # Assuming data_inputs is your dataset"
   ]
  },
  {
   "cell_type": "code",
   "execution_count": 220,
   "metadata": {},
   "outputs": [
    {
     "name": "stdout",
     "output_type": "stream",
     "text": [
      "Downloading data from https://storage.googleapis.com/tensorflow/keras-applications/vgg16/vgg16_weights_tf_dim_ordering_tf_kernels_notop.h5\n",
      "\u001b[1m58889256/58889256\u001b[0m \u001b[32m━━━━━━━━━━━━━━━━━━━━\u001b[0m\u001b[37m\u001b[0m \u001b[1m2s\u001b[0m 0us/step\n"
     ]
    },
    {
     "data": {
      "text/html": [
       "<pre style=\"white-space:pre;overflow-x:auto;line-height:normal;font-family:Menlo,'DejaVu Sans Mono',consolas,'Courier New',monospace\"><span style=\"font-weight: bold\">Model: \"functional_31\"</span>\n",
       "</pre>\n"
      ],
      "text/plain": [
       "\u001b[1mModel: \"functional_31\"\u001b[0m\n"
      ]
     },
     "metadata": {},
     "output_type": "display_data"
    },
    {
     "data": {
      "text/html": [
       "<pre style=\"white-space:pre;overflow-x:auto;line-height:normal;font-family:Menlo,'DejaVu Sans Mono',consolas,'Courier New',monospace\">┏━━━━━━━━━━━━━━━━━━━━━━━━━━━━━━━━━┳━━━━━━━━━━━━━━━━━━━━━━━━┳━━━━━━━━━━━━━━━┓\n",
       "┃<span style=\"font-weight: bold\"> Layer (type)                    </span>┃<span style=\"font-weight: bold\"> Output Shape           </span>┃<span style=\"font-weight: bold\">       Param # </span>┃\n",
       "┡━━━━━━━━━━━━━━━━━━━━━━━━━━━━━━━━━╇━━━━━━━━━━━━━━━━━━━━━━━━╇━━━━━━━━━━━━━━━┩\n",
       "│ input_layer_12 (<span style=\"color: #0087ff; text-decoration-color: #0087ff\">InputLayer</span>)     │ (<span style=\"color: #00d7ff; text-decoration-color: #00d7ff\">None</span>, <span style=\"color: #00af00; text-decoration-color: #00af00\">256</span>, <span style=\"color: #00af00; text-decoration-color: #00af00\">256</span>, <span style=\"color: #00af00; text-decoration-color: #00af00\">3</span>)    │             <span style=\"color: #00af00; text-decoration-color: #00af00\">0</span> │\n",
       "├─────────────────────────────────┼────────────────────────┼───────────────┤\n",
       "│ vgg16 (<span style=\"color: #0087ff; text-decoration-color: #0087ff\">Functional</span>)              │ (<span style=\"color: #00d7ff; text-decoration-color: #00d7ff\">None</span>, <span style=\"color: #00af00; text-decoration-color: #00af00\">8</span>, <span style=\"color: #00af00; text-decoration-color: #00af00\">8</span>, <span style=\"color: #00af00; text-decoration-color: #00af00\">512</span>)      │    <span style=\"color: #00af00; text-decoration-color: #00af00\">14,714,688</span> │\n",
       "├─────────────────────────────────┼────────────────────────┼───────────────┤\n",
       "│ flatten_7 (<span style=\"color: #0087ff; text-decoration-color: #0087ff\">Flatten</span>)             │ (<span style=\"color: #00d7ff; text-decoration-color: #00d7ff\">None</span>, <span style=\"color: #00af00; text-decoration-color: #00af00\">32768</span>)          │             <span style=\"color: #00af00; text-decoration-color: #00af00\">0</span> │\n",
       "├─────────────────────────────────┼────────────────────────┼───────────────┤\n",
       "│ dense_14 (<span style=\"color: #0087ff; text-decoration-color: #0087ff\">Dense</span>)                │ (<span style=\"color: #00d7ff; text-decoration-color: #00d7ff\">None</span>, <span style=\"color: #00af00; text-decoration-color: #00af00\">256</span>)            │     <span style=\"color: #00af00; text-decoration-color: #00af00\">8,388,864</span> │\n",
       "├─────────────────────────────────┼────────────────────────┼───────────────┤\n",
       "│ dense_15 (<span style=\"color: #0087ff; text-decoration-color: #0087ff\">Dense</span>)                │ (<span style=\"color: #00d7ff; text-decoration-color: #00d7ff\">None</span>, <span style=\"color: #00af00; text-decoration-color: #00af00\">65536</span>)          │    <span style=\"color: #00af00; text-decoration-color: #00af00\">16,842,752</span> │\n",
       "├─────────────────────────────────┼────────────────────────┼───────────────┤\n",
       "│ reshape_7 (<span style=\"color: #0087ff; text-decoration-color: #0087ff\">Reshape</span>)             │ (<span style=\"color: #00d7ff; text-decoration-color: #00d7ff\">None</span>, <span style=\"color: #00af00; text-decoration-color: #00af00\">256</span>, <span style=\"color: #00af00; text-decoration-color: #00af00\">256</span>)       │             <span style=\"color: #00af00; text-decoration-color: #00af00\">0</span> │\n",
       "└─────────────────────────────────┴────────────────────────┴───────────────┘\n",
       "</pre>\n"
      ],
      "text/plain": [
       "┏━━━━━━━━━━━━━━━━━━━━━━━━━━━━━━━━━┳━━━━━━━━━━━━━━━━━━━━━━━━┳━━━━━━━━━━━━━━━┓\n",
       "┃\u001b[1m \u001b[0m\u001b[1mLayer (type)                   \u001b[0m\u001b[1m \u001b[0m┃\u001b[1m \u001b[0m\u001b[1mOutput Shape          \u001b[0m\u001b[1m \u001b[0m┃\u001b[1m \u001b[0m\u001b[1m      Param #\u001b[0m\u001b[1m \u001b[0m┃\n",
       "┡━━━━━━━━━━━━━━━━━━━━━━━━━━━━━━━━━╇━━━━━━━━━━━━━━━━━━━━━━━━╇━━━━━━━━━━━━━━━┩\n",
       "│ input_layer_12 (\u001b[38;5;33mInputLayer\u001b[0m)     │ (\u001b[38;5;45mNone\u001b[0m, \u001b[38;5;34m256\u001b[0m, \u001b[38;5;34m256\u001b[0m, \u001b[38;5;34m3\u001b[0m)    │             \u001b[38;5;34m0\u001b[0m │\n",
       "├─────────────────────────────────┼────────────────────────┼───────────────┤\n",
       "│ vgg16 (\u001b[38;5;33mFunctional\u001b[0m)              │ (\u001b[38;5;45mNone\u001b[0m, \u001b[38;5;34m8\u001b[0m, \u001b[38;5;34m8\u001b[0m, \u001b[38;5;34m512\u001b[0m)      │    \u001b[38;5;34m14,714,688\u001b[0m │\n",
       "├─────────────────────────────────┼────────────────────────┼───────────────┤\n",
       "│ flatten_7 (\u001b[38;5;33mFlatten\u001b[0m)             │ (\u001b[38;5;45mNone\u001b[0m, \u001b[38;5;34m32768\u001b[0m)          │             \u001b[38;5;34m0\u001b[0m │\n",
       "├─────────────────────────────────┼────────────────────────┼───────────────┤\n",
       "│ dense_14 (\u001b[38;5;33mDense\u001b[0m)                │ (\u001b[38;5;45mNone\u001b[0m, \u001b[38;5;34m256\u001b[0m)            │     \u001b[38;5;34m8,388,864\u001b[0m │\n",
       "├─────────────────────────────────┼────────────────────────┼───────────────┤\n",
       "│ dense_15 (\u001b[38;5;33mDense\u001b[0m)                │ (\u001b[38;5;45mNone\u001b[0m, \u001b[38;5;34m65536\u001b[0m)          │    \u001b[38;5;34m16,842,752\u001b[0m │\n",
       "├─────────────────────────────────┼────────────────────────┼───────────────┤\n",
       "│ reshape_7 (\u001b[38;5;33mReshape\u001b[0m)             │ (\u001b[38;5;45mNone\u001b[0m, \u001b[38;5;34m256\u001b[0m, \u001b[38;5;34m256\u001b[0m)       │             \u001b[38;5;34m0\u001b[0m │\n",
       "└─────────────────────────────────┴────────────────────────┴───────────────┘\n"
      ]
     },
     "metadata": {},
     "output_type": "display_data"
    },
    {
     "data": {
      "text/html": [
       "<pre style=\"white-space:pre;overflow-x:auto;line-height:normal;font-family:Menlo,'DejaVu Sans Mono',consolas,'Courier New',monospace\"><span style=\"font-weight: bold\"> Total params: </span><span style=\"color: #00af00; text-decoration-color: #00af00\">39,946,304</span> (152.38 MB)\n",
       "</pre>\n"
      ],
      "text/plain": [
       "\u001b[1m Total params: \u001b[0m\u001b[38;5;34m39,946,304\u001b[0m (152.38 MB)\n"
      ]
     },
     "metadata": {},
     "output_type": "display_data"
    },
    {
     "data": {
      "text/html": [
       "<pre style=\"white-space:pre;overflow-x:auto;line-height:normal;font-family:Menlo,'DejaVu Sans Mono',consolas,'Courier New',monospace\"><span style=\"font-weight: bold\"> Trainable params: </span><span style=\"color: #00af00; text-decoration-color: #00af00\">25,231,616</span> (96.25 MB)\n",
       "</pre>\n"
      ],
      "text/plain": [
       "\u001b[1m Trainable params: \u001b[0m\u001b[38;5;34m25,231,616\u001b[0m (96.25 MB)\n"
      ]
     },
     "metadata": {},
     "output_type": "display_data"
    },
    {
     "data": {
      "text/html": [
       "<pre style=\"white-space:pre;overflow-x:auto;line-height:normal;font-family:Menlo,'DejaVu Sans Mono',consolas,'Courier New',monospace\"><span style=\"font-weight: bold\"> Non-trainable params: </span><span style=\"color: #00af00; text-decoration-color: #00af00\">14,714,688</span> (56.13 MB)\n",
       "</pre>\n"
      ],
      "text/plain": [
       "\u001b[1m Non-trainable params: \u001b[0m\u001b[38;5;34m14,714,688\u001b[0m (56.13 MB)\n"
      ]
     },
     "metadata": {},
     "output_type": "display_data"
    }
   ],
   "source": [
    "if conditioned:\n",
    "    input_args = (input_shape, river_encoded.shape[1])\n",
    "    model_input = [train_input, train_rivers]\n",
    "    val_model_input = [validation_input, validation_rivers]\n",
    "    test_model_input = [test_input, test_rivers]\n",
    "else:\n",
    "    input_args = input_shape\n",
    "    model_input = train_input\n",
    "    val_model_input = validation_input\n",
    "    test_model_input = test_input\n",
    "\n",
    "if model_name == \"img_wise_CNN\":\n",
    "    if conditioned:\n",
    "        model = build_simplified_cnn_model_label(input_args[0], input_args[1])\n",
    "    else:\n",
    "        model = build_simplified_cnn_model(input_args)\n",
    "elif model_name == 'CNN':\n",
    "    model = build_cnn_model(input_args)\n",
    "elif model_name == 'img_2_img':\n",
    "    model = build_img_2_img_model(input_args)\n",
    "elif model_name == 'UNet':\n",
    "    model = build_unet(input_args)\n",
    "elif model_name == 'transfer_learning_VGG16':\n",
    "    train_input = train_input[:,:,:,:3]\n",
    "    validation_input = validation_input[:,:,:,:3]\n",
    "    test_input =  train_input[:,:,:,:3]\n",
    "    input_args = (W,W,3)\n",
    "    model =  build_transfer_model(input_args)\n",
    "\n",
    "model.compile(optimizer='adam', loss='mean_squared_error', metrics=['mae'])\n",
    "model.summary()\n"
   ]
  },
  {
   "cell_type": "code",
   "execution_count": 221,
   "metadata": {
    "colab": {
     "base_uri": "https://localhost:8080/",
     "height": 1000
    },
    "executionInfo": {
     "elapsed": 728,
     "status": "ok",
     "timestamp": 1728047630422,
     "user": {
      "displayName": "Ruth Parajó Ferrer",
      "userId": "07031545869212809064"
     },
     "user_tz": -120
    },
    "id": "8lInUBSuqaJL",
    "outputId": "6da1d732-2f2a-4228-d35f-de06e5ff7803",
    "scrolled": true
   },
   "outputs": [
    {
     "data": {
      "image/png": "[encoded data removed]",
      "text/plain": [
       "<IPython.core.display.Image object>"
      ]
     },
     "execution_count": 221,
     "metadata": {},
     "output_type": "execute_result"
    }
   ],
   "source": [
    "tf.keras.utils.plot_model(model)"
   ]
  },
  {
   "cell_type": "code",
   "execution_count": 222,
   "metadata": {
    "colab": {
     "base_uri": "https://localhost:8080/"
    },
    "executionInfo": {
     "elapsed": 30676,
     "status": "ok",
     "timestamp": 1728043129266,
     "user": {
      "displayName": "Ruth Parajó Ferrer",
      "userId": "07031545869212809064"
     },
     "user_tz": -120
    },
    "id": "u7bthHy6jG2B",
    "outputId": "18b85ee6-02a9-4b14-f225-b96992a43e7f"
   },
   "outputs": [
    {
     "name": "stdout",
     "output_type": "stream",
     "text": [
      "Epoch 1/10\n"
     ]
    },
    {
     "ename": "ValueError",
     "evalue": "Input 0 of layer \"functional_31\" is incompatible with the layer: expected shape=(None, 256, 256, 3), found shape=(4, 256, 256, 6)",
     "output_type": "error",
     "traceback": [
      "\u001b[0;31m---------------------------------------------------------------------------\u001b[0m",
      "\u001b[0;31mValueError\u001b[0m                                Traceback (most recent call last)",
      "Cell \u001b[0;32mIn[222], line 2\u001b[0m\n\u001b[1;32m      1\u001b[0m \u001b[38;5;66;03m#history = simplified_cnn_model.fit(train_input, train_target, batch_size=batch_size, epochs=epochs, validation_data=(validation_input, validation_target))\u001b[39;00m\n\u001b[0;32m----> 2\u001b[0m history \u001b[38;5;241m=\u001b[39m \u001b[43mmodel\u001b[49m\u001b[38;5;241;43m.\u001b[39;49m\u001b[43mfit\u001b[49m\u001b[43m(\u001b[49m\u001b[43mmodel_input\u001b[49m\u001b[43m,\u001b[49m\u001b[43m \u001b[49m\u001b[43mtrain_target\u001b[49m\u001b[43m,\u001b[49m\u001b[43m \u001b[49m\u001b[43mbatch_size\u001b[49m\u001b[38;5;241;43m=\u001b[39;49m\u001b[43mbatch_size\u001b[49m\u001b[43m,\u001b[49m\u001b[43m \u001b[49m\u001b[43mepochs\u001b[49m\u001b[38;5;241;43m=\u001b[39;49m\u001b[43mepochs\u001b[49m\u001b[43m,\u001b[49m\u001b[43m \u001b[49m\u001b[43mvalidation_data\u001b[49m\u001b[38;5;241;43m=\u001b[39;49m\u001b[43m(\u001b[49m\u001b[43mval_model_input\u001b[49m\u001b[43m,\u001b[49m\u001b[43m \u001b[49m\u001b[43mvalidation_target\u001b[49m\u001b[43m)\u001b[49m\u001b[43m)\u001b[49m\n",
      "File \u001b[0;32m~/miniconda3/lib/python3.12/site-packages/keras/src/utils/traceback_utils.py:122\u001b[0m, in \u001b[0;36mfilter_traceback.<locals>.error_handler\u001b[0;34m(*args, **kwargs)\u001b[0m\n\u001b[1;32m    119\u001b[0m     filtered_tb \u001b[38;5;241m=\u001b[39m _process_traceback_frames(e\u001b[38;5;241m.\u001b[39m__traceback__)\n\u001b[1;32m    120\u001b[0m     \u001b[38;5;66;03m# To get the full stack trace, call:\u001b[39;00m\n\u001b[1;32m    121\u001b[0m     \u001b[38;5;66;03m# `keras.config.disable_traceback_filtering()`\u001b[39;00m\n\u001b[0;32m--> 122\u001b[0m     \u001b[38;5;28;01mraise\u001b[39;00m e\u001b[38;5;241m.\u001b[39mwith_traceback(filtered_tb) \u001b[38;5;28;01mfrom\u001b[39;00m \u001b[38;5;28;01mNone\u001b[39;00m\n\u001b[1;32m    123\u001b[0m \u001b[38;5;28;01mfinally\u001b[39;00m:\n\u001b[1;32m    124\u001b[0m     \u001b[38;5;28;01mdel\u001b[39;00m filtered_tb\n",
      "File \u001b[0;32m~/miniconda3/lib/python3.12/site-packages/keras/src/layers/input_spec.py:245\u001b[0m, in \u001b[0;36massert_input_compatibility\u001b[0;34m(input_spec, inputs, layer_name)\u001b[0m\n\u001b[1;32m    243\u001b[0m \u001b[38;5;28;01mif\u001b[39;00m spec_dim \u001b[38;5;129;01mis\u001b[39;00m \u001b[38;5;129;01mnot\u001b[39;00m \u001b[38;5;28;01mNone\u001b[39;00m \u001b[38;5;129;01mand\u001b[39;00m dim \u001b[38;5;129;01mis\u001b[39;00m \u001b[38;5;129;01mnot\u001b[39;00m \u001b[38;5;28;01mNone\u001b[39;00m:\n\u001b[1;32m    244\u001b[0m     \u001b[38;5;28;01mif\u001b[39;00m spec_dim \u001b[38;5;241m!=\u001b[39m dim:\n\u001b[0;32m--> 245\u001b[0m         \u001b[38;5;28;01mraise\u001b[39;00m \u001b[38;5;167;01mValueError\u001b[39;00m(\n\u001b[1;32m    246\u001b[0m             \u001b[38;5;124mf\u001b[39m\u001b[38;5;124m'\u001b[39m\u001b[38;5;124mInput \u001b[39m\u001b[38;5;132;01m{\u001b[39;00minput_index\u001b[38;5;132;01m}\u001b[39;00m\u001b[38;5;124m of layer \u001b[39m\u001b[38;5;124m\"\u001b[39m\u001b[38;5;132;01m{\u001b[39;00mlayer_name\u001b[38;5;132;01m}\u001b[39;00m\u001b[38;5;124m\"\u001b[39m\u001b[38;5;124m is \u001b[39m\u001b[38;5;124m'\u001b[39m\n\u001b[1;32m    247\u001b[0m             \u001b[38;5;124m\"\u001b[39m\u001b[38;5;124mincompatible with the layer: \u001b[39m\u001b[38;5;124m\"\u001b[39m\n\u001b[1;32m    248\u001b[0m             \u001b[38;5;124mf\u001b[39m\u001b[38;5;124m\"\u001b[39m\u001b[38;5;124mexpected shape=\u001b[39m\u001b[38;5;132;01m{\u001b[39;00mspec\u001b[38;5;241m.\u001b[39mshape\u001b[38;5;132;01m}\u001b[39;00m\u001b[38;5;124m, \u001b[39m\u001b[38;5;124m\"\u001b[39m\n\u001b[1;32m    249\u001b[0m             \u001b[38;5;124mf\u001b[39m\u001b[38;5;124m\"\u001b[39m\u001b[38;5;124mfound shape=\u001b[39m\u001b[38;5;132;01m{\u001b[39;00mshape\u001b[38;5;132;01m}\u001b[39;00m\u001b[38;5;124m\"\u001b[39m\n\u001b[1;32m    250\u001b[0m         )\n",
      "\u001b[0;31mValueError\u001b[0m: Input 0 of layer \"functional_31\" is incompatible with the layer: expected shape=(None, 256, 256, 3), found shape=(4, 256, 256, 6)"
     ]
    }
   ],
   "source": [
    "#history = simplified_cnn_model.fit(train_input, train_target, batch_size=batch_size, epochs=epochs, validation_data=(validation_input, validation_target))\n",
    "history = model.fit(model_input, train_target, batch_size=batch_size, epochs=epochs, validation_data=(val_model_input, validation_target))"
   ]
  },
  {
   "cell_type": "code",
   "execution_count": null,
   "metadata": {
    "colab": {
     "base_uri": "https://localhost:8080/",
     "height": 487
    },
    "executionInfo": {
     "elapsed": 575,
     "status": "ok",
     "timestamp": 1728046187777,
     "user": {
      "displayName": "Ruth Parajó Ferrer",
      "userId": "07031545869212809064"
     },
     "user_tz": -120
    },
    "id": "EajYGsQBjG2G",
    "outputId": "1b005f05-2bee-4259-af17-0382a232a40c",
    "scrolled": true
   },
   "outputs": [],
   "source": [
    "plt.figure(figsize=(16,5))\n",
    "#plt.clf\n",
    "plt.plot(history.history['loss'], label='train loss')\n",
    "plt.plot(history.history['val_loss'], label='validation loss')\n",
    "plt.title('Simpler CNN MSE Loss during training --- lst+ndvi with wt target')\n",
    "plt.xlabel('Epoch')\n",
    "plt.ylabel('Loss (MSE)')\n",
    "plt.legend()\n",
    "plt.grid()\n",
    "plt.show()"
   ]
  },
  {
   "cell_type": "code",
   "execution_count": null,
   "metadata": {},
   "outputs": [],
   "source": [
    "plt.savefig('../plots/cnn.png')"
   ]
  },
  {
   "cell_type": "code",
   "execution_count": null,
   "metadata": {
    "colab": {
     "base_uri": "https://localhost:8080/",
     "height": 472
    },
    "executionInfo": {
     "elapsed": 436,
     "status": "ok",
     "timestamp": 1728043130132,
     "user": {
      "displayName": "Ruth Parajó Ferrer",
      "userId": "07031545869212809064"
     },
     "user_tz": -120
    },
    "id": "0EYej4lojG2G",
    "outputId": "ea68cef6-398f-422a-8401-e6c02609ee06"
   },
   "outputs": [],
   "source": [
    "plt.plot(history.history['mae'], label='Training MAE')\n",
    "plt.plot(history.history['val_mae'], label='Validation MAE')\n",
    "plt.title('MAE during training')\n",
    "plt.xlabel('Epoch')\n",
    "plt.ylabel('MAE')\n",
    "plt.legend()\n",
    "plt.show()"
   ]
  },
  {
   "cell_type": "markdown",
   "metadata": {
    "id": "uv2k19g5jG2H"
   },
   "source": [
    "#### Validate and test"
   ]
  },
  {
   "cell_type": "code",
   "execution_count": null,
   "metadata": {},
   "outputs": [],
   "source": [
    "validation_prediction = model.predict(val_model_input)\n",
    "test_prediction = model.predict(test_model_input)\n",
    "results = {'MAE':0,'MSE':0,'RMSE':0,'R²':0,'MAPE (%)':0,'MSE sample-wise':0}"
   ]
  },
  {
   "cell_type": "markdown",
   "metadata": {
    "id": "ow08ZqWsjG2J"
   },
   "source": [
    "Image wise metrics results"
   ]
  },
  {
   "cell_type": "code",
   "execution_count": null,
   "metadata": {
    "colab": {
     "base_uri": "https://localhost:8080/"
    },
    "executionInfo": {
     "elapsed": 4930,
     "status": "ok",
     "timestamp": 1728043146586,
     "user": {
      "displayName": "Ruth Parajó Ferrer",
      "userId": "07031545869212809064"
     },
     "user_tz": -120
    },
    "id": "Mr8a5xORjG2J",
    "outputId": "f1287163-2721-494b-9703-ef45a7636792"
   },
   "outputs": [],
   "source": [
    "mean_results = {k:[] for k in results.keys()}\n",
    "# Loop through each sample and compute the MSE for that sample\n",
    "for i in range(test_target.shape[0]):\n",
    "    # Flatten the true and predicted values for this sample\n",
    "    riv = rivers[labels[test_index[i]]].flatten()\n",
    "    \n",
    "    y_true_flatten = test_target[i].flatten()\n",
    "    y_true_mask = y_true_flatten[riv != 0]\n",
    "\n",
    "    y_pred_flatten = test_prediction[i].flatten()\n",
    "    y_pred_mask = y_pred_flatten[riv != 0]\n",
    "\n",
    "    # Calculate MSE for this sample\n",
    "    mse = mean_squared_error(y_true_mask, y_pred_mask)\n",
    "    res = evaluate_model(y_true_mask, y_pred_mask)\n",
    "\n",
    "    for k,v in res.items():\n",
    "      mean_results[k].append(v)\n",
    "\n",
    "\n",
    "for key in mean_results:\n",
    "    mean_results[key] = np.mean(mean_results[key])\n",
    "\n",
    "print(mean_results)"
   ]
  },
  {
   "cell_type": "markdown",
   "metadata": {
    "id": "RbJ77fRFjG2J"
   },
   "source": [
    "See what are the areas with more prediction error"
   ]
  },
  {
   "cell_type": "code",
   "execution_count": null,
   "metadata": {
    "colab": {
     "base_uri": "https://localhost:8080/",
     "height": 1000
    },
    "executionInfo": {
     "elapsed": 4054,
     "status": "ok",
     "timestamp": 1728043150628,
     "user": {
      "displayName": "Ruth Parajó Ferrer",
      "userId": "07031545869212809064"
     },
     "user_tz": -120
    },
    "id": "SqvaSLQhjtR6",
    "outputId": "4d3a25c8-67ba-434a-ef58-cf84d17905af",
    "scrolled": true
   },
   "outputs": [],
   "source": [
    "if len(validation_prediction.shape) == 4:\n",
    "  validation_prediction=np.squeeze(validation_prediction, axis=3)\n",
    "\n",
    "diff = validation_prediction - validation_target\n",
    "for i in range(diff.shape[0]):\n",
    "  sns.heatmap(diff[i], cmap='coolwarm')\n",
    "  plt.title('Prediction Error Heatmap')\n",
    "  plt.show()"
   ]
  },
  {
   "cell_type": "markdown",
   "metadata": {
    "id": "42nOYweqjG2K"
   },
   "source": [
    "Dispersion graph and histogram of prediction errors"
   ]
  },
  {
   "cell_type": "code",
   "execution_count": null,
   "metadata": {},
   "outputs": [],
   "source": [
    "validation_target_flat = validation_target.reshape(-1)\n",
    "validation_prediction_flat = validation_prediction.reshape(-1)"
   ]
  },
  {
   "cell_type": "code",
   "execution_count": null,
   "metadata": {
    "colab": {
     "base_uri": "https://localhost:8080/",
     "height": 927
    },
    "executionInfo": {
     "elapsed": 831,
     "status": "ok",
     "timestamp": 1728043151456,
     "user": {
      "displayName": "Ruth Parajó Ferrer",
      "userId": "07031545869212809064"
     },
     "user_tz": -120
    },
    "id": "AtO-_TdpjG2K",
    "outputId": "c077eb5e-f4e6-4156-f9f2-55468aa1b0fd"
   },
   "outputs": [],
   "source": [
    "from sklearn.metrics import mean_squared_error, mean_absolute_error, r2_score\n",
    "\n",
    "# Supongamos que y_true son tus valores reales y y_pred son tus predicciones\n",
    "y_true = validation_target_flat # Valores reales\n",
    "y_pred = validation_prediction_flat  # Predicciones del modelo\n",
    "\n",
    "# Visualización\n",
    "plt.scatter(y_true, y_pred)\n",
    "plt.xlabel('True Values')\n",
    "plt.ylabel('Predictions')\n",
    "plt.plot([min(y_true), max(y_true)], [min(y_true), max(y_true)], 'r--')\n",
    "plt.title('True Values vs Predictions')\n",
    "plt.show()\n",
    "\n",
    "# Histograma de errores\n",
    "errors = y_pred - y_true\n",
    "plt.hist(errors, bins=30)\n",
    "plt.xlabel('Error')\n",
    "plt.ylabel('Frequency')\n",
    "plt.title('Histogram of Prediction Errors')\n",
    "plt.show()\n"
   ]
  },
  {
   "cell_type": "markdown",
   "metadata": {
    "id": "055TyxlXjG2K"
   },
   "source": [
    "#### Save model results"
   ]
  },
  {
   "cell_type": "code",
   "execution_count": null,
   "metadata": {},
   "outputs": [],
   "source": [
    "laabeel = 'label' if conditioned else 'no label'\n",
    "var_inputs = '' if inputs == None else '_'.join(inputs)\n",
    "variables = 'lst, '+var_inputs+', ' + laabeel\n"
   ]
  },
  {
   "cell_type": "code",
   "execution_count": null,
   "metadata": {},
   "outputs": [],
   "source": [
    "details = {'RMSE':mean_results['RMSE'],'Variables':variables,'Input': f'{len(np.unique(labels))} rivers', 'Output': 'wt', 'Resolution': W, 'nº samples': len(data_targets), 'Batch size': batch_size, 'Epochs': epochs}\n",
    "\n",
    "file_path = f\"../results/{model_name}_results.xlsx\"\n",
    "save_excel(file_path, details, excel = 'Results')\n",
    "\n",
    "mean_results['Model'] = model_name\n",
    "file_path = f\"../results/all_results.xlsx\"\n",
    "save_excel(file_path, mean_results, excel = 'Results')"
   ]
  },
  {
   "cell_type": "code",
   "execution_count": null,
   "metadata": {},
   "outputs": [],
   "source": [
    "pd.read_excel(f'../results/{model_name}_results.xlsx')"
   ]
  }
 ],
 "metadata": {
  "colab": {
   "authorship_tag": "ABX9TyMOhs4aAZ7i01xBD4Eg2RuL",
   "provenance": [],
   "toc_visible": true
  },
  "kernelspec": {
   "display_name": "Python 3 (ipykernel)",
   "language": "python",
   "name": "python3"
  },
  "language_info": {
   "codemirror_mode": {
    "name": "ipython",
    "version": 3
   },
   "file_extension": ".py",
   "mimetype": "text/x-python",
   "name": "python",
   "nbconvert_exporter": "python",
   "pygments_lexer": "ipython3",
   "version": "3.12.4"
  }
 },
 "nbformat": 4,
 "nbformat_minor": 4
}

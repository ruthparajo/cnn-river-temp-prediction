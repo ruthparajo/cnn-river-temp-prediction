{
 "cells": [
  {
   "cell_type": "code",
   "execution_count": 1,
   "metadata": {
    "colab": {
     "base_uri": "https://localhost:8080/"
    },
    "executionInfo": {
     "elapsed": 17776,
     "status": "ok",
     "timestamp": 1728026996326,
     "user": {
      "displayName": "Ruth Parajó Ferrer",
      "userId": "07031545869212809064"
     },
     "user_tz": -120
    },
    "id": "xJJ2jzpfkpt0",
    "outputId": "435323a9-257c-4d2a-9b4e-33146751fa24"
   },
   "outputs": [
    {
     "name": "stderr",
     "output_type": "stream",
     "text": [
      "2024-11-01 14:24:16.069316: E external/local_xla/xla/stream_executor/cuda/cuda_fft.cc:485] Unable to register cuFFT factory: Attempting to register factory for plugin cuFFT when one has already been registered\n",
      "2024-11-01 14:24:16.090940: E external/local_xla/xla/stream_executor/cuda/cuda_dnn.cc:8454] Unable to register cuDNN factory: Attempting to register factory for plugin cuDNN when one has already been registered\n",
      "2024-11-01 14:24:16.097511: E external/local_xla/xla/stream_executor/cuda/cuda_blas.cc:1452] Unable to register cuBLAS factory: Attempting to register factory for plugin cuBLAS when one has already been registered\n",
      "2024-11-01 14:24:16.114211: I tensorflow/core/platform/cpu_feature_guard.cc:210] This TensorFlow binary is optimized to use available CPU instructions in performance-critical operations.\n",
      "To enable the following instructions: AVX2 FMA, in other operations, rebuild TensorFlow with the appropriate compiler flags.\n",
      "2024-11-01 14:24:17.277851: W tensorflow/compiler/tf2tensorrt/utils/py_utils.cc:38] TF-TRT Warning: Could not find TensorRT\n"
     ]
    }
   ],
   "source": [
    "from functions import *\n",
    "from models import *"
   ]
  },
  {
   "cell_type": "code",
   "execution_count": 2,
   "metadata": {
    "executionInfo": {
     "elapsed": 760,
     "status": "ok",
     "timestamp": 1728026997084,
     "user": {
      "displayName": "Ruth Parajó Ferrer",
      "userId": "07031545869212809064"
     },
     "user_tz": -120
    },
    "id": "cdgXKy8WkrF0"
   },
   "outputs": [],
   "source": [
    "import matplotlib.pyplot as plt\n",
    "import glob\n",
    "from skimage.transform import resize\n",
    "from sklearn.model_selection import train_test_split\n",
    "from sklearn.linear_model import LinearRegression\n",
    "import geopandas as gpd\n",
    "from sklearn.metrics import mean_absolute_error, mean_squared_error, r2_score\n",
    "import matplotlib\n",
    "import seaborn as sns\n",
    "from sklearn.preprocessing import OneHotEncoder\n",
    "import time\n",
    "from datetime import datetime"
   ]
  },
  {
   "cell_type": "markdown",
   "metadata": {
    "id": "ibqF7sdakyQ6"
   },
   "source": [
    "## Load data"
   ]
  },
  {
   "cell_type": "code",
   "execution_count": 17,
   "metadata": {},
   "outputs": [],
   "source": [
    "# Set variables\n",
    "source_folder = '../data/external/raster_masks'\n",
    "rivers = {}\n",
    "source_path = '../data/preprocessed/'\n",
    "data_paths = ['lst','wt','ndvi','slope', 'discharge']#,'wt','ndvi','slope', 'discharge','masked']#,'slope', 'discharge']#, 'ndvi', 'wt', 'masked','discharge', 'slope']#, 'wt_interpolated']\n",
    "dir_paths = [os.path.join(source_path,p) for p in data_paths]\n",
    "all_dir_paths = {k:[] for k in data_paths}    \n",
    "total_data = {}\n",
    "total_times = {}\n",
    "complete_rivers = []\n",
    "filter_river = None\n",
    "W=256\n",
    "time_split = True\n",
    "\n",
    "# Load rivers\n",
    "for subdir, dirs, files in os.walk(source_folder):\n",
    "    for i,file in enumerate(files):\n",
    "        r,m = load_raster(os.path.join(subdir, file), False)\n",
    "        name = file.split('.')[0].split('bw_')[-1]\n",
    "        rivers[name] = r\n",
    "\n",
    "# Load input paths\n",
    "for i,dir_p in enumerate(dir_paths):\n",
    "    for subdir, dirs,files in os.walk(dir_p):\n",
    "        if subdir != dir_p and not subdir.endswith('masked') and not subdir.endswith('.ipynb_checkpoints'): \n",
    "            all_dir_paths[data_paths[i]].append(subdir)\n",
    "        elif subdir.endswith('masked') and 'masked' in data_paths:\n",
    "            all_dir_paths['masked'].append(subdir)\n"
   ]
  },
  {
   "cell_type": "code",
   "execution_count": 25,
   "metadata": {},
   "outputs": [
    {
     "name": "stdout",
     "output_type": "stream",
     "text": [
      "lst : (147, 256, 256, 3)\n",
      "wt : (147, 256, 256)\n",
      "ndvi : (147, 256, 256)\n",
      "8\n",
      "slope : (147, 256, 256)\n",
      "8\n",
      "discharge : (147, 256, 256)\n"
     ]
    }
   ],
   "source": [
    "# Load input data\n",
    "for k,v in all_dir_paths.items():\n",
    "    if filter_river != None:\n",
    "        v = [v[i] for i in filter_river]\n",
    "    \n",
    "    if k != 'discharge' and k != 'slope':\n",
    "        if k == 'lst' or k == 'masked':\n",
    "            list_rgb = [True]*len(v)\n",
    "        else:\n",
    "            list_rgb = [False]*len(v)\n",
    "            \n",
    "        data, times = load_data(v,W,list_rgb)\n",
    "        if k!='masked':\n",
    "            labels = []\n",
    "            for ki,value in data.items():\n",
    "                labels+=[ki.split('/')[-1]]*len(value)\n",
    "        \n",
    "        data_values = [np.array(img) for sublist in list(data.values()) for img in sublist]\n",
    "        times_list = [t for sublist in times for t in sublist]\n",
    "   \n",
    "        if time_split:\n",
    "            dates = [datetime.strptime(date, '%Y-%m') for date in times_list]\n",
    "            pairs = sorted(zip(dates, data_values, labels), key=lambda x: x[0])\n",
    "            sorted_dates, data_values, labels = zip(*pairs)\n",
    "            times_list = [date.strftime('%Y-%m') for date in sorted_dates]\n",
    "            \n",
    "        total_data[k] = np.array(data_values)\n",
    "        total_times[k] = times_list\n",
    "        print(k,':' ,total_data[k].shape)\n",
    "\n",
    "    elif k == 'discharge' or k == 'slope':\n",
    "        total = []\n",
    "        for p in v:\n",
    "            for file in os.listdir(p):\n",
    "                file_path = os.path.join(p, file)\n",
    "                r,m = load_raster(file_path, False)\n",
    "                var = resize_image(r, W,W)\n",
    "                img_river = labels.count(p.split(\"/\")[-1])\n",
    "                var_input = np.tile(var, (img_river, 1, 1))\n",
    "                if var_input.size !=0:\n",
    "                    total.append(var_input)\n",
    "        data_values = [np.array(img) for sublist in list(data.values()) for img in sublist]\n",
    "        if time_split:\n",
    "            dates = [datetime.strptime(date, '%Y-%m') for date in times_list]\n",
    "            pairs = sorted(zip(dates, data_values, labels), key=lambda x: x[0])\n",
    "            sorted_dates, data_values, labels = zip(*pairs)\n",
    "            times_list = [date.strftime('%Y-%m') for date in sorted_dates]\n",
    "            \n",
    "        total_data[k] = np.array(data_values)\n",
    "        print(k,':' ,total_data[k].shape)\n",
    "\n",
    "# Hot encoding\n",
    "encoder = OneHotEncoder(sparse_output=False)\n",
    "river_encoded = encoder.fit_transform(np.array(labels).reshape(-1, 1))\n",
    "data_targets = total_data['wt']\n",
    "results = {'MAE':0,'MSE':0,'RMSE':0,'R²':0,'MAPE (%)':0,'MSE sample-wise':0}\n"
   ]
  },
  {
   "cell_type": "markdown",
   "metadata": {
    "id": "5Y2TXyInRBmC"
   },
   "source": [
    "## Do experiment"
   ]
  },
  {
   "cell_type": "code",
   "execution_count": 26,
   "metadata": {},
   "outputs": [],
   "source": [
    "W = 256\n",
    "filter_river = None#[3,11,12]\n",
    "inputs = ['lst']#,'ndvi','discharge', 'slope']#['ndvi','discharge', 'slope']\n",
    "conditioned = False\n",
    "batch_size = 16\n",
    "epochs = 10\n",
    "model_name = \"img_wise_CNN_improved\" #img_wise_CNN, UNet, transfer_learning_VGG16, CNN, img_2_img\n",
    "stratified = False\n",
    "physics_guided = False"
   ]
  },
  {
   "cell_type": "markdown",
   "metadata": {},
   "source": [
    "#### Choose model"
   ]
  },
  {
   "cell_type": "code",
   "execution_count": 27,
   "metadata": {},
   "outputs": [],
   "source": [
    "def get_results(test_target, test_prediction, rivers, labels, test_index):\n",
    "    mean_results = {k:[] for k in results.keys()}\n",
    "    # Loop through each sample and compute the MSE for that sample\n",
    "    for i in range(test_target.shape[0]):\n",
    "        # Flatten the true and predicted values for this sample\n",
    "        riv = rivers[labels[test_index[i]]].flatten()\n",
    "        y_true_flatten = test_target[i].flatten()\n",
    "        y_true_mask = y_true_flatten[riv != 0]\n",
    "        y_pred_flatten = test_prediction[i].flatten()\n",
    "        y_pred_mask = y_pred_flatten[riv != 0]\n",
    "        # Calculate metrics\n",
    "        res = evaluate_model(y_true_mask, y_pred_mask)\n",
    "        for k,v in res.items():\n",
    "            mean_results[k].append(v)\n",
    "    for key in mean_results:\n",
    "        mean_results[key] = np.mean(mean_results[key])\n",
    "    return mean_results"
   ]
  },
  {
   "cell_type": "code",
   "execution_count": 28,
   "metadata": {},
   "outputs": [],
   "source": [
    "# Choose inputs\n",
    "inputs_d = [total_data[inp] for inp in inputs]\n",
    "# List to store the processed additional images\n",
    "expanded_images = []\n",
    "# Expand dimensions for single-channel images, leave multi-channel images as they are\n",
    "for img in inputs_d:\n",
    "    if img.ndim == 3:  # Case where image is (n, 256, 256) (single-channel)\n",
    "        expanded_images.append(np.expand_dims(img, axis=-1))  # Expand to add an extra channel\n",
    "    elif img.ndim == 4:  # Case where image already has multiple channels (n, 256, 256, c)\n",
    "        expanded_images.append(img)  # Leave the image as it is\n",
    "# Concatenate all images along the last axis (channels)\n",
    "combined_input = np.concatenate(expanded_images, axis=-1)\n",
    "# The final combined input is stored in input_data\n",
    "input_data = combined_input"
   ]
  },
  {
   "cell_type": "markdown",
   "metadata": {},
   "source": [
    "### Split data"
   ]
  },
  {
   "cell_type": "code",
   "execution_count": 29,
   "metadata": {},
   "outputs": [
    {
     "name": "stdout",
     "output_type": "stream",
     "text": [
      "Train: 88 imágenes, (88, 256, 256, 3)\n",
      "Val: 29 imágenes, (29, 256, 256, 3)\n",
      "Test: 30 imágenes, (30, 256, 256, 3)\n",
      "(88, 256, 256) (29, 256, 256) (30, 256, 256)\n"
     ]
    }
   ],
   "source": [
    "if time_split:\n",
    "    train_ratio = 0.6\n",
    "    val_ratio = 0.2\n",
    "    test_ratio = 0.2\n",
    "    \n",
    "    # Calcular el tamaño de cada conjunto\n",
    "    total_images = len(input_data)\n",
    "    train_size = int(total_images * train_ratio)\n",
    "    val_size = int(total_images * val_ratio)\n",
    "    indices = np.arange(total_images)\n",
    "    \n",
    "    train_index = indices[:train_size]                       # Primeros índices para entrenamiento\n",
    "    validation_index = indices[train_size:train_size + val_size]    # Siguientes índices para validación\n",
    "    test_index = indices[train_size + val_size:]             # Últimos índices para prueba\n",
    "   \n",
    "elif stratified:\n",
    "    train_index, validation_index, test_index = split_data_stratified(input_data, data_targets, labels)\n",
    "else:\n",
    "    train_index, validation_index, test_index = split_data(input_data, data_targets)\n",
    "        \n",
    "validation_input = input_data[validation_index, :] / 255.0  # Normalize inputs\n",
    "validation_target = data_targets[validation_index, :]\n",
    "validation_rivers = river_encoded[validation_index, :]\n",
    "test_input = input_data[test_index, :] / 255.0  # Normalize inputs\n",
    "test_target = data_targets[test_index, :]\n",
    "test_rivers = river_encoded[test_index, :]\n",
    "train_input = input_data[train_index, :] / 255.0  # Normalize inputs\n",
    "train_target = data_targets[train_index, :]\n",
    "train_rivers = river_encoded[train_index, :]\n",
    "print(f\"Train: {len(train_input)} imágenes, {train_input.shape}\")\n",
    "print(f\"Val: {len(validation_input)} imágenes, {validation_input.shape}\")\n",
    "print(f\"Test: {len(test_input)} imágenes, {test_input.shape}\")\n",
    "print(train_target.shape, validation_target.shape, test_target.shape)\n",
    "\n",
    "train_dates = np.array(total_times['lst'])[train_index] \n",
    "validation_dates = np.array(total_times['lst'])[validation_index] \n",
    "test_dates = np.array(total_times['lst'])[test_index] "
   ]
  },
  {
   "cell_type": "code",
   "execution_count": 30,
   "metadata": {},
   "outputs": [
    {
     "name": "stdout",
     "output_type": "stream",
     "text": [
      "['2013-04' '2013-04' '2013-04' '2013-06' '2013-06' '2013-06' '2013-07'\n",
      " '2013-07' '2013-07' '2013-08' '2013-08' '2013-08' '2013-08' '2013-09'\n",
      " '2013-09' '2013-09' '2013-09' '2013-10' '2013-11' '2013-12' '2013-12'\n",
      " '2013-12' '2014-01' '2014-02' '2014-02' '2014-02' '2014-03' '2014-03'\n",
      " '2014-03' '2014-04' '2014-04' '2014-05' '2014-05' '2014-05' '2014-06'\n",
      " '2014-06' '2014-07' '2014-09' '2014-09' '2014-10' '2014-11' '2015-01'\n",
      " '2015-02' '2015-02' '2015-02' '2015-03' '2015-05' '2015-05' '2015-05'\n",
      " '2015-05' '2015-06' '2015-07' '2015-08' '2015-08' '2015-08' '2015-08'\n",
      " '2015-08' '2015-08' '2015-09' '2015-10' '2015-11' '2015-11' '2015-12'\n",
      " '2015-12' '2015-12' '2016-02' '2016-02' '2016-02' '2016-02' '2016-03'\n",
      " '2016-03' '2016-03' '2016-04' '2016-04' '2016-05' '2016-05' '2016-06'\n",
      " '2016-07' '2016-07' '2016-08' '2016-08' '2016-08' '2016-08' '2016-09'\n",
      " '2016-09' '2016-09' '2016-09' '2016-10']\n",
      "['2016-11' '2016-11' '2016-12' '2016-12' '2016-12' '2016-12' '2017-01'\n",
      " '2017-03' '2017-03' '2017-03' '2017-04' '2017-04' '2017-05' '2017-05'\n",
      " '2017-06' '2017-06' '2017-06' '2017-07' '2017-07' '2017-08' '2017-09'\n",
      " '2017-09' '2017-09' '2017-11' '2017-11' '2017-12' '2018-01' '2018-02'\n",
      " '2018-03']\n",
      "['2018-04' '2018-05' '2018-05' '2018-06' '2018-06' '2018-08' '2018-08'\n",
      " '2018-09' '2018-10' '2018-11' '2018-12' '2018-12' '2019-01' '2019-02'\n",
      " '2019-03' '2019-03' '2019-04' '2019-04' '2019-05' '2019-07' '2019-07'\n",
      " '2019-08' '2019-08' '2019-08' '2019-08' '2019-08' '2019-09' '2019-12'\n",
      " '2019-12' '2019-12']\n"
     ]
    }
   ],
   "source": [
    "print(train_dates)\n",
    "print(validation_dates)\n",
    "print(test_dates)"
   ]
  },
  {
   "cell_type": "markdown",
   "metadata": {},
   "source": [
    "#### Select inputs and model"
   ]
  },
  {
   "cell_type": "code",
   "execution_count": 31,
   "metadata": {},
   "outputs": [],
   "source": [
    "if len(train_input.shape) == 3:\n",
    "    input_shape = train_input.shape[1:]+(1,)\n",
    "else:\n",
    "    input_shape = train_input.shape[1:]\n",
    "\n",
    "\n",
    "# Adapt input to condition\n",
    "if conditioned:\n",
    "    input_args = (input_shape, river_encoded.shape[1])\n",
    "    model_input = (train_input, train_rivers)\n",
    "    val_model_input = [validation_input, validation_rivers]\n",
    "    test_model_input = [test_input, test_rivers]\n",
    "else:\n",
    "    input_args = input_shape\n",
    "    model_input = train_input\n",
    "    val_model_input = validation_input\n",
    "    test_model_input = test_input\n"
   ]
  },
  {
   "cell_type": "code",
   "execution_count": 32,
   "metadata": {},
   "outputs": [
    {
     "name": "stderr",
     "output_type": "stream",
     "text": [
      "/home/ruth.parajo/miniconda3/lib/python3.12/site-packages/keras/src/layers/convolutional/base_conv.py:107: UserWarning: Do not pass an `input_shape`/`input_dim` argument to a layer. When using Sequential models, prefer using an `Input(shape)` object as the first layer in the model instead.\n",
      "  super().__init__(activity_regularizer=activity_regularizer, **kwargs)\n"
     ]
    }
   ],
   "source": [
    "# Start model\n",
    "start_time = time.time()\n",
    "if model_name == \"img_wise_CNN\":\n",
    "    if conditioned:\n",
    "        model = build_simplified_cnn_model_label(input_args[0], input_args[1])\n",
    "    else:\n",
    "        model = build_simplified_cnn_model(input_args)\n",
    "elif model_name == 'CNN':\n",
    "    model = build_cnn_model(input_args)\n",
    "elif model_name == 'img_2_img':\n",
    "    model = build_img_2_img_model(input_args)\n",
    "elif model_name == 'UNet':\n",
    "    model = build_unet(input_args)\n",
    "elif model_name == 'transfer_learning_VGG16':\n",
    "    train_input = train_input[:, :, :, :3]\n",
    "    model = build_transfer_model((W, W, 3))\n",
    "elif model_name == \"img_wise_CNN_improved\":\n",
    "    model = build_simplified_cnn_model_improved(input_args)\n",
    "        "
   ]
  },
  {
   "cell_type": "markdown",
   "metadata": {},
   "source": [
    "### Train model"
   ]
  },
  {
   "cell_type": "code",
   "execution_count": 33,
   "metadata": {
    "scrolled": true
   },
   "outputs": [
    {
     "name": "stdout",
     "output_type": "stream",
     "text": [
      "Running experiment with model=img_wise_CNN_improved, batch_size=16, epochs=10\n",
      "Epoch 1/10\n",
      "\u001b[1m6/6\u001b[0m \u001b[32m━━━━━━━━━━━━━━━━━━━━\u001b[0m\u001b[37m\u001b[0m \u001b[1m10s\u001b[0m 859ms/step - loss: 13.4631 - mae: 1.0748 - val_loss: 6.7283 - val_mae: 0.5424\n",
      "Epoch 2/10\n",
      "\u001b[1m6/6\u001b[0m \u001b[32m━━━━━━━━━━━━━━━━━━━━\u001b[0m\u001b[37m\u001b[0m \u001b[1m0s\u001b[0m 23ms/step - loss: 13.9881 - mae: 1.1293 - val_loss: 6.7099 - val_mae: 0.5491\n",
      "Epoch 3/10\n",
      "\u001b[1m6/6\u001b[0m \u001b[32m━━━━━━━━━━━━━━━━━━━━\u001b[0m\u001b[37m\u001b[0m \u001b[1m0s\u001b[0m 22ms/step - loss: 12.1156 - mae: 1.0361 - val_loss: 6.6847 - val_mae: 0.5604\n",
      "Epoch 4/10\n",
      "\u001b[1m6/6\u001b[0m \u001b[32m━━━━━━━━━━━━━━━━━━━━\u001b[0m\u001b[37m\u001b[0m \u001b[1m0s\u001b[0m 21ms/step - loss: 13.1655 - mae: 1.0993 - val_loss: 6.6574 - val_mae: 0.5726\n",
      "Epoch 5/10\n",
      "\u001b[1m6/6\u001b[0m \u001b[32m━━━━━━━━━━━━━━━━━━━━\u001b[0m\u001b[37m\u001b[0m \u001b[1m0s\u001b[0m 21ms/step - loss: 10.1216 - mae: 0.9447 - val_loss: 6.6263 - val_mae: 0.5897\n",
      "Epoch 6/10\n",
      "\u001b[1m6/6\u001b[0m \u001b[32m━━━━━━━━━━━━━━━━━━━━\u001b[0m\u001b[37m\u001b[0m \u001b[1m0s\u001b[0m 23ms/step - loss: 11.6377 - mae: 1.0729 - val_loss: 6.5927 - val_mae: 0.6097\n",
      "Epoch 7/10\n",
      "\u001b[1m6/6\u001b[0m \u001b[32m━━━━━━━━━━━━━━━━━━━━\u001b[0m\u001b[37m\u001b[0m \u001b[1m0s\u001b[0m 22ms/step - loss: 9.8938 - mae: 0.9728 - val_loss: 6.5611 - val_mae: 0.6338\n",
      "Epoch 8/10\n",
      "\u001b[1m6/6\u001b[0m \u001b[32m━━━━━━━━━━━━━━━━━━━━\u001b[0m\u001b[37m\u001b[0m \u001b[1m0s\u001b[0m 21ms/step - loss: 10.9939 - mae: 1.0355 - val_loss: 6.5375 - val_mae: 0.6608\n",
      "Epoch 9/10\n",
      "\u001b[1m6/6\u001b[0m \u001b[32m━━━━━━━━━━━━━━━━━━━━\u001b[0m\u001b[37m\u001b[0m \u001b[1m0s\u001b[0m 22ms/step - loss: 13.5312 - mae: 1.1982 - val_loss: 6.5096 - val_mae: 0.6960\n",
      "Epoch 10/10\n",
      "\u001b[1m6/6\u001b[0m \u001b[32m━━━━━━━━━━━━━━━━━━━━\u001b[0m\u001b[37m\u001b[0m \u001b[1m0s\u001b[0m 21ms/step - loss: 10.4413 - mae: 1.0854 - val_loss: 6.4860 - val_mae: 0.7225\n",
      "\u001b[1m1/1\u001b[0m \u001b[32m━━━━━━━━━━━━━━━━━━━━\u001b[0m\u001b[37m\u001b[0m \u001b[1m0s\u001b[0m 317ms/step\n",
      "\n",
      "Computing result metrics...\n",
      "Experiment img_wise_CNN_improved with batch_size=16 and epochs=10 completed.\n",
      "\n"
     ]
    }
   ],
   "source": [
    "print(f\"Running experiment with model={model_name}, batch_size={batch_size}, epochs={epochs}\")\n",
    "\n",
    "# Train the model\n",
    "if not physics_guided:\n",
    "    model.compile(optimizer='adam', loss='mean_squared_error', metrics=['mae'])\n",
    "    history = model.fit(model_input, train_target, batch_size=batch_size, epochs=epochs, validation_data=(val_model_input, validation_target))\n",
    "else:\n",
    "    dataset = tf.data.Dataset.from_tensor_slices((*model_input, train_target) if isinstance(model_input, tuple) else (model_input, train_target))\n",
    "\n",
    "    dataset = dataset.batch(batch_size)\n",
    "    optimizer = tf.keras.optimizers.Adam()\n",
    "    for epoch in range(epochs):\n",
    "        print(f\"Epoch {epoch + 1}/{epochs}\")\n",
    "        for batch in dataset:\n",
    "            # Handle batch based on whether model_input is a tuple or a single dataset\n",
    "            if isinstance(model_input, tuple):\n",
    "                model_input_batch = batch[:-1]  # All except the last element (target_batch)\n",
    "                target_batch = batch[-1]        # Last element is target_batch\n",
    "            else:\n",
    "                model_input_batch, target_batch = batch  # Direct unpacking for single dataset\n",
    "\n",
    "            with tf.GradientTape() as tape:\n",
    "                y_pred = model([*model_input_batch], training=True) if isinstance(model_input_batch, tuple) else model(model_input_batch, training=True)\n",
    "                loss = conservation_energy_loss(target_batch, y_pred, model_input_batch, alpha=0.5, beta=0.5)\n",
    "            gradients = tape.gradient(loss, model.trainable_variables)\n",
    "            optimizer.apply_gradients(zip(gradients, model.trainable_variables))\n",
    "\n",
    "\n",
    "# Evaluate results\n",
    "#validation_prediction = model.predict(val_model_input)\n",
    "test_prediction = model.predict(test_model_input)\n",
    "\n",
    "print('\\nComputing result metrics...')\n",
    "mean_results = get_results(test_target, test_prediction, rivers, labels, test_index)\n",
    "\n",
    "# Get experiment data\n",
    "end_time = time.time()\n",
    "duration = round(end_time - start_time, 2)\n",
    "current_date = datetime.now().strftime(\"%Y-%m-%d\")\n",
    "current_time = datetime.now().strftime(\"%H:%M:%S\")\n",
    "\n",
    "\n",
    "# Save model results\n",
    "laabeel = 'label' if conditioned else 'no label'\n",
    "var_inputs = '' if inputs == None else ', '.join(inputs)\n",
    "variables = ', '.join([var_inputs, laabeel])\n",
    "details = {'RMSE':mean_results['RMSE'],'Variables':variables,'Input': f'{len(np.unique(labels))} rivers', 'Output': 'wt', \\\n",
    "           'Resolution': W, 'nº samples': len(data_targets), 'Batch size': batch_size, 'Epochs': epochs, 'Date':current_date, \\\n",
    "           'Time':current_time, 'Duration': duration, 'Loss':  'Physics-guided' if physics_guided else 'RMSE'}\n",
    "\n",
    "file_path = f\"../results/{model_name}_results.xlsx\"\n",
    "save_excel(file_path, details, excel = 'Results')\n",
    "\n",
    "mean_results['Model'] = model_name\n",
    "file_path = f\"../results/all_results.xlsx\"\n",
    "save_excel(file_path, mean_results, excel = 'Results')\n",
    "\n",
    "print(f\"Experiment {model_name} with batch_size={batch_size} and epochs={epochs} completed.\\n\")\n"
   ]
  },
  {
   "cell_type": "code",
   "execution_count": 2,
   "metadata": {},
   "outputs": [
    {
     "data": {
      "text/html": [
       "<div>\n",
       "<style scoped>\n",
       "    .dataframe tbody tr th:only-of-type {\n",
       "        vertical-align: middle;\n",
       "    }\n",
       "\n",
       "    .dataframe tbody tr th {\n",
       "        vertical-align: top;\n",
       "    }\n",
       "\n",
       "    .dataframe thead th {\n",
       "        text-align: right;\n",
       "    }\n",
       "</style>\n",
       "<table border=\"1\" class=\"dataframe\">\n",
       "  <thead>\n",
       "    <tr style=\"text-align: right;\">\n",
       "      <th></th>\n",
       "      <th>RMSE</th>\n",
       "      <th>Variables</th>\n",
       "      <th>Input</th>\n",
       "      <th>Output</th>\n",
       "      <th>Resolution</th>\n",
       "      <th>nº samples</th>\n",
       "      <th>Batch size</th>\n",
       "      <th>Epochs</th>\n",
       "      <th>Date</th>\n",
       "      <th>Time</th>\n",
       "      <th>Duration</th>\n",
       "      <th>Loss</th>\n",
       "    </tr>\n",
       "  </thead>\n",
       "  <tbody>\n",
       "    <tr>\n",
       "      <th>0</th>\n",
       "      <td>2.946396</td>\n",
       "      <td>lst, no label</td>\n",
       "      <td>13 rivers</td>\n",
       "      <td>wt</td>\n",
       "      <td>256</td>\n",
       "      <td>147</td>\n",
       "      <td>16</td>\n",
       "      <td>10</td>\n",
       "      <td>2024-11-01</td>\n",
       "      <td>14:25:51</td>\n",
       "      <td>88.29</td>\n",
       "      <td>Physics-guided</td>\n",
       "    </tr>\n",
       "    <tr>\n",
       "      <th>1</th>\n",
       "      <td>2.942914</td>\n",
       "      <td>lst, no label</td>\n",
       "      <td>13 rivers</td>\n",
       "      <td>wt</td>\n",
       "      <td>256</td>\n",
       "      <td>147</td>\n",
       "      <td>16</td>\n",
       "      <td>10</td>\n",
       "      <td>2024-11-01</td>\n",
       "      <td>14:41:34</td>\n",
       "      <td>82.32</td>\n",
       "      <td>RMSE</td>\n",
       "    </tr>\n",
       "    <tr>\n",
       "      <th>2</th>\n",
       "      <td>2.979774</td>\n",
       "      <td>lst, ndvi, no label</td>\n",
       "      <td>13 rivers</td>\n",
       "      <td>wt</td>\n",
       "      <td>256</td>\n",
       "      <td>147</td>\n",
       "      <td>16</td>\n",
       "      <td>10</td>\n",
       "      <td>2024-11-01</td>\n",
       "      <td>15:49:23</td>\n",
       "      <td>83.43</td>\n",
       "      <td>Physics-guided</td>\n",
       "    </tr>\n",
       "    <tr>\n",
       "      <th>3</th>\n",
       "      <td>2.954929</td>\n",
       "      <td>lst, ndvi, no label</td>\n",
       "      <td>13 rivers</td>\n",
       "      <td>wt</td>\n",
       "      <td>256</td>\n",
       "      <td>147</td>\n",
       "      <td>16</td>\n",
       "      <td>10</td>\n",
       "      <td>2024-11-01</td>\n",
       "      <td>15:50:48</td>\n",
       "      <td>84.18</td>\n",
       "      <td>RMSE</td>\n",
       "    </tr>\n",
       "    <tr>\n",
       "      <th>4</th>\n",
       "      <td>3.140461</td>\n",
       "      <td>lst, ndvi, no label</td>\n",
       "      <td>13 rivers</td>\n",
       "      <td>wt</td>\n",
       "      <td>256</td>\n",
       "      <td>147</td>\n",
       "      <td>16</td>\n",
       "      <td>50</td>\n",
       "      <td>2024-11-01</td>\n",
       "      <td>15:52:44</td>\n",
       "      <td>116.17</td>\n",
       "      <td>Physics-guided</td>\n",
       "    </tr>\n",
       "    <tr>\n",
       "      <th>5</th>\n",
       "      <td>4.037401</td>\n",
       "      <td>lst, ndvi, no label</td>\n",
       "      <td>13 rivers</td>\n",
       "      <td>wt</td>\n",
       "      <td>256</td>\n",
       "      <td>147</td>\n",
       "      <td>16</td>\n",
       "      <td>50</td>\n",
       "      <td>2024-11-01</td>\n",
       "      <td>15:54:14</td>\n",
       "      <td>89.69</td>\n",
       "      <td>RMSE</td>\n",
       "    </tr>\n",
       "    <tr>\n",
       "      <th>6</th>\n",
       "      <td>2.980762</td>\n",
       "      <td>lst, ndvi, no label</td>\n",
       "      <td>13 rivers</td>\n",
       "      <td>wt</td>\n",
       "      <td>256</td>\n",
       "      <td>147</td>\n",
       "      <td>32</td>\n",
       "      <td>10</td>\n",
       "      <td>2024-11-01</td>\n",
       "      <td>15:55:32</td>\n",
       "      <td>77.04</td>\n",
       "      <td>Physics-guided</td>\n",
       "    </tr>\n",
       "    <tr>\n",
       "      <th>7</th>\n",
       "      <td>2.966236</td>\n",
       "      <td>lst, ndvi, no label</td>\n",
       "      <td>13 rivers</td>\n",
       "      <td>wt</td>\n",
       "      <td>256</td>\n",
       "      <td>147</td>\n",
       "      <td>32</td>\n",
       "      <td>10</td>\n",
       "      <td>2024-11-01</td>\n",
       "      <td>15:56:56</td>\n",
       "      <td>83.55</td>\n",
       "      <td>RMSE</td>\n",
       "    </tr>\n",
       "    <tr>\n",
       "      <th>8</th>\n",
       "      <td>3.032131</td>\n",
       "      <td>lst, ndvi, no label</td>\n",
       "      <td>13 rivers</td>\n",
       "      <td>wt</td>\n",
       "      <td>256</td>\n",
       "      <td>147</td>\n",
       "      <td>32</td>\n",
       "      <td>50</td>\n",
       "      <td>2024-11-01</td>\n",
       "      <td>15:58:38</td>\n",
       "      <td>102.06</td>\n",
       "      <td>Physics-guided</td>\n",
       "    </tr>\n",
       "    <tr>\n",
       "      <th>9</th>\n",
       "      <td>3.262798</td>\n",
       "      <td>lst, ndvi, no label</td>\n",
       "      <td>13 rivers</td>\n",
       "      <td>wt</td>\n",
       "      <td>256</td>\n",
       "      <td>147</td>\n",
       "      <td>32</td>\n",
       "      <td>50</td>\n",
       "      <td>2024-11-01</td>\n",
       "      <td>16:00:07</td>\n",
       "      <td>88.61</td>\n",
       "      <td>RMSE</td>\n",
       "    </tr>\n",
       "    <tr>\n",
       "      <th>10</th>\n",
       "      <td>2.965587</td>\n",
       "      <td>lst, slope, discharge, no label</td>\n",
       "      <td>13 rivers</td>\n",
       "      <td>wt</td>\n",
       "      <td>256</td>\n",
       "      <td>147</td>\n",
       "      <td>16</td>\n",
       "      <td>10</td>\n",
       "      <td>2024-11-01</td>\n",
       "      <td>16:01:29</td>\n",
       "      <td>81.02</td>\n",
       "      <td>Physics-guided</td>\n",
       "    </tr>\n",
       "    <tr>\n",
       "      <th>11</th>\n",
       "      <td>2.961190</td>\n",
       "      <td>lst, slope, discharge, no label</td>\n",
       "      <td>13 rivers</td>\n",
       "      <td>wt</td>\n",
       "      <td>256</td>\n",
       "      <td>147</td>\n",
       "      <td>16</td>\n",
       "      <td>10</td>\n",
       "      <td>2024-11-01</td>\n",
       "      <td>16:02:55</td>\n",
       "      <td>84.58</td>\n",
       "      <td>RMSE</td>\n",
       "    </tr>\n",
       "    <tr>\n",
       "      <th>12</th>\n",
       "      <td>3.504219</td>\n",
       "      <td>lst, slope, discharge, no label</td>\n",
       "      <td>13 rivers</td>\n",
       "      <td>wt</td>\n",
       "      <td>256</td>\n",
       "      <td>147</td>\n",
       "      <td>16</td>\n",
       "      <td>50</td>\n",
       "      <td>2024-11-01</td>\n",
       "      <td>16:04:58</td>\n",
       "      <td>122.08</td>\n",
       "      <td>Physics-guided</td>\n",
       "    </tr>\n",
       "    <tr>\n",
       "      <th>13</th>\n",
       "      <td>3.608202</td>\n",
       "      <td>lst, slope, discharge, no label</td>\n",
       "      <td>13 rivers</td>\n",
       "      <td>wt</td>\n",
       "      <td>256</td>\n",
       "      <td>147</td>\n",
       "      <td>16</td>\n",
       "      <td>50</td>\n",
       "      <td>2024-11-01</td>\n",
       "      <td>16:06:36</td>\n",
       "      <td>96.53</td>\n",
       "      <td>RMSE</td>\n",
       "    </tr>\n",
       "    <tr>\n",
       "      <th>14</th>\n",
       "      <td>2.989015</td>\n",
       "      <td>lst, slope, discharge, no label</td>\n",
       "      <td>13 rivers</td>\n",
       "      <td>wt</td>\n",
       "      <td>256</td>\n",
       "      <td>147</td>\n",
       "      <td>32</td>\n",
       "      <td>10</td>\n",
       "      <td>2024-11-01</td>\n",
       "      <td>16:07:59</td>\n",
       "      <td>82.10</td>\n",
       "      <td>Physics-guided</td>\n",
       "    </tr>\n",
       "    <tr>\n",
       "      <th>15</th>\n",
       "      <td>2.982307</td>\n",
       "      <td>lst, slope, discharge, no label</td>\n",
       "      <td>13 rivers</td>\n",
       "      <td>wt</td>\n",
       "      <td>256</td>\n",
       "      <td>147</td>\n",
       "      <td>32</td>\n",
       "      <td>10</td>\n",
       "      <td>2024-11-01</td>\n",
       "      <td>16:09:25</td>\n",
       "      <td>84.54</td>\n",
       "      <td>RMSE</td>\n",
       "    </tr>\n",
       "    <tr>\n",
       "      <th>16</th>\n",
       "      <td>2.994583</td>\n",
       "      <td>lst, slope, discharge, no label</td>\n",
       "      <td>13 rivers</td>\n",
       "      <td>wt</td>\n",
       "      <td>256</td>\n",
       "      <td>147</td>\n",
       "      <td>32</td>\n",
       "      <td>50</td>\n",
       "      <td>2024-11-01</td>\n",
       "      <td>16:11:15</td>\n",
       "      <td>109.25</td>\n",
       "      <td>Physics-guided</td>\n",
       "    </tr>\n",
       "    <tr>\n",
       "      <th>17</th>\n",
       "      <td>3.285104</td>\n",
       "      <td>lst, slope, discharge, no label</td>\n",
       "      <td>13 rivers</td>\n",
       "      <td>wt</td>\n",
       "      <td>256</td>\n",
       "      <td>147</td>\n",
       "      <td>32</td>\n",
       "      <td>50</td>\n",
       "      <td>2024-11-01</td>\n",
       "      <td>16:12:51</td>\n",
       "      <td>95.05</td>\n",
       "      <td>RMSE</td>\n",
       "    </tr>\n",
       "    <tr>\n",
       "      <th>18</th>\n",
       "      <td>2.987484</td>\n",
       "      <td>lst, slope, discharge, ndvi, no label</td>\n",
       "      <td>13 rivers</td>\n",
       "      <td>wt</td>\n",
       "      <td>256</td>\n",
       "      <td>147</td>\n",
       "      <td>16</td>\n",
       "      <td>10</td>\n",
       "      <td>2024-11-01</td>\n",
       "      <td>16:14:13</td>\n",
       "      <td>81.13</td>\n",
       "      <td>Physics-guided</td>\n",
       "    </tr>\n",
       "    <tr>\n",
       "      <th>19</th>\n",
       "      <td>2.952873</td>\n",
       "      <td>lst, slope, discharge, ndvi, no label</td>\n",
       "      <td>13 rivers</td>\n",
       "      <td>wt</td>\n",
       "      <td>256</td>\n",
       "      <td>147</td>\n",
       "      <td>16</td>\n",
       "      <td>10</td>\n",
       "      <td>2024-11-01</td>\n",
       "      <td>16:15:39</td>\n",
       "      <td>84.58</td>\n",
       "      <td>RMSE</td>\n",
       "    </tr>\n",
       "    <tr>\n",
       "      <th>20</th>\n",
       "      <td>5.101031</td>\n",
       "      <td>lst, slope, discharge, ndvi, no label</td>\n",
       "      <td>13 rivers</td>\n",
       "      <td>wt</td>\n",
       "      <td>256</td>\n",
       "      <td>147</td>\n",
       "      <td>16</td>\n",
       "      <td>50</td>\n",
       "      <td>2024-11-01</td>\n",
       "      <td>16:17:45</td>\n",
       "      <td>124.23</td>\n",
       "      <td>Physics-guided</td>\n",
       "    </tr>\n",
       "    <tr>\n",
       "      <th>21</th>\n",
       "      <td>3.668398</td>\n",
       "      <td>lst, slope, discharge, ndvi, no label</td>\n",
       "      <td>13 rivers</td>\n",
       "      <td>wt</td>\n",
       "      <td>256</td>\n",
       "      <td>147</td>\n",
       "      <td>16</td>\n",
       "      <td>50</td>\n",
       "      <td>2024-11-01</td>\n",
       "      <td>16:19:18</td>\n",
       "      <td>92.66</td>\n",
       "      <td>RMSE</td>\n",
       "    </tr>\n",
       "    <tr>\n",
       "      <th>22</th>\n",
       "      <td>2.986877</td>\n",
       "      <td>lst, slope, discharge, ndvi, no label</td>\n",
       "      <td>13 rivers</td>\n",
       "      <td>wt</td>\n",
       "      <td>256</td>\n",
       "      <td>147</td>\n",
       "      <td>32</td>\n",
       "      <td>10</td>\n",
       "      <td>2024-11-01</td>\n",
       "      <td>16:20:40</td>\n",
       "      <td>80.79</td>\n",
       "      <td>Physics-guided</td>\n",
       "    </tr>\n",
       "    <tr>\n",
       "      <th>23</th>\n",
       "      <td>2.976312</td>\n",
       "      <td>lst, slope, discharge, ndvi, no label</td>\n",
       "      <td>13 rivers</td>\n",
       "      <td>wt</td>\n",
       "      <td>256</td>\n",
       "      <td>147</td>\n",
       "      <td>32</td>\n",
       "      <td>10</td>\n",
       "      <td>2024-11-01</td>\n",
       "      <td>16:22:07</td>\n",
       "      <td>85.59</td>\n",
       "      <td>RMSE</td>\n",
       "    </tr>\n",
       "  </tbody>\n",
       "</table>\n",
       "</div>"
      ],
      "text/plain": [
       "        RMSE                              Variables      Input Output  \\\n",
       "0   2.946396                          lst, no label  13 rivers     wt   \n",
       "1   2.942914                          lst, no label  13 rivers     wt   \n",
       "2   2.979774                    lst, ndvi, no label  13 rivers     wt   \n",
       "3   2.954929                    lst, ndvi, no label  13 rivers     wt   \n",
       "4   3.140461                    lst, ndvi, no label  13 rivers     wt   \n",
       "5   4.037401                    lst, ndvi, no label  13 rivers     wt   \n",
       "6   2.980762                    lst, ndvi, no label  13 rivers     wt   \n",
       "7   2.966236                    lst, ndvi, no label  13 rivers     wt   \n",
       "8   3.032131                    lst, ndvi, no label  13 rivers     wt   \n",
       "9   3.262798                    lst, ndvi, no label  13 rivers     wt   \n",
       "10  2.965587        lst, slope, discharge, no label  13 rivers     wt   \n",
       "11  2.961190        lst, slope, discharge, no label  13 rivers     wt   \n",
       "12  3.504219        lst, slope, discharge, no label  13 rivers     wt   \n",
       "13  3.608202        lst, slope, discharge, no label  13 rivers     wt   \n",
       "14  2.989015        lst, slope, discharge, no label  13 rivers     wt   \n",
       "15  2.982307        lst, slope, discharge, no label  13 rivers     wt   \n",
       "16  2.994583        lst, slope, discharge, no label  13 rivers     wt   \n",
       "17  3.285104        lst, slope, discharge, no label  13 rivers     wt   \n",
       "18  2.987484  lst, slope, discharge, ndvi, no label  13 rivers     wt   \n",
       "19  2.952873  lst, slope, discharge, ndvi, no label  13 rivers     wt   \n",
       "20  5.101031  lst, slope, discharge, ndvi, no label  13 rivers     wt   \n",
       "21  3.668398  lst, slope, discharge, ndvi, no label  13 rivers     wt   \n",
       "22  2.986877  lst, slope, discharge, ndvi, no label  13 rivers     wt   \n",
       "23  2.976312  lst, slope, discharge, ndvi, no label  13 rivers     wt   \n",
       "\n",
       "    Resolution  nº samples  Batch size  Epochs        Date      Time  \\\n",
       "0          256         147          16      10  2024-11-01  14:25:51   \n",
       "1          256         147          16      10  2024-11-01  14:41:34   \n",
       "2          256         147          16      10  2024-11-01  15:49:23   \n",
       "3          256         147          16      10  2024-11-01  15:50:48   \n",
       "4          256         147          16      50  2024-11-01  15:52:44   \n",
       "5          256         147          16      50  2024-11-01  15:54:14   \n",
       "6          256         147          32      10  2024-11-01  15:55:32   \n",
       "7          256         147          32      10  2024-11-01  15:56:56   \n",
       "8          256         147          32      50  2024-11-01  15:58:38   \n",
       "9          256         147          32      50  2024-11-01  16:00:07   \n",
       "10         256         147          16      10  2024-11-01  16:01:29   \n",
       "11         256         147          16      10  2024-11-01  16:02:55   \n",
       "12         256         147          16      50  2024-11-01  16:04:58   \n",
       "13         256         147          16      50  2024-11-01  16:06:36   \n",
       "14         256         147          32      10  2024-11-01  16:07:59   \n",
       "15         256         147          32      10  2024-11-01  16:09:25   \n",
       "16         256         147          32      50  2024-11-01  16:11:15   \n",
       "17         256         147          32      50  2024-11-01  16:12:51   \n",
       "18         256         147          16      10  2024-11-01  16:14:13   \n",
       "19         256         147          16      10  2024-11-01  16:15:39   \n",
       "20         256         147          16      50  2024-11-01  16:17:45   \n",
       "21         256         147          16      50  2024-11-01  16:19:18   \n",
       "22         256         147          32      10  2024-11-01  16:20:40   \n",
       "23         256         147          32      10  2024-11-01  16:22:07   \n",
       "\n",
       "    Duration            Loss  \n",
       "0      88.29  Physics-guided  \n",
       "1      82.32            RMSE  \n",
       "2      83.43  Physics-guided  \n",
       "3      84.18            RMSE  \n",
       "4     116.17  Physics-guided  \n",
       "5      89.69            RMSE  \n",
       "6      77.04  Physics-guided  \n",
       "7      83.55            RMSE  \n",
       "8     102.06  Physics-guided  \n",
       "9      88.61            RMSE  \n",
       "10     81.02  Physics-guided  \n",
       "11     84.58            RMSE  \n",
       "12    122.08  Physics-guided  \n",
       "13     96.53            RMSE  \n",
       "14     82.10  Physics-guided  \n",
       "15     84.54            RMSE  \n",
       "16    109.25  Physics-guided  \n",
       "17     95.05            RMSE  \n",
       "18     81.13  Physics-guided  \n",
       "19     84.58            RMSE  \n",
       "20    124.23  Physics-guided  \n",
       "21     92.66            RMSE  \n",
       "22     80.79  Physics-guided  \n",
       "23     85.59            RMSE  "
      ]
     },
     "execution_count": 2,
     "metadata": {},
     "output_type": "execute_result"
    }
   ],
   "source": [
    "import pandas as pd\n",
    "model_name = 'img_wise_CNN_improved'\n",
    "pd.read_excel(f'../results/{model_name}_results.xlsx')"
   ]
  },
  {
   "cell_type": "code",
   "execution_count": 35,
   "metadata": {},
   "outputs": [
    {
     "name": "stdout",
     "output_type": "stream",
     "text": [
      "[2.857109546661377, 'lst, ndvi, no label', '13 rivers', 'wt', 256, 147, 16, 10, '2024-11-01', '14:41:31', 80.09, 'Physics-guided']\n"
     ]
    }
   ],
   "source": [
    "ds = pd.read_excel(f'../results/img_wise_CNN_results.xlsx')\n",
    "for i,r in ds.iterrows():\n",
    "    if r['Epochs']==10 and r['Batch size']==16:\n",
    "        print(list(r))\n"
   ]
  },
  {
   "cell_type": "markdown",
   "metadata": {},
   "source": [
    "## Visualize results"
   ]
  },
  {
   "cell_type": "code",
   "execution_count": 36,
   "metadata": {
    "colab": {
     "base_uri": "https://localhost:8080/",
     "height": 1000
    },
    "executionInfo": {
     "elapsed": 728,
     "status": "ok",
     "timestamp": 1728047630422,
     "user": {
      "displayName": "Ruth Parajó Ferrer",
      "userId": "07031545869212809064"
     },
     "user_tz": -120
    },
    "id": "8lInUBSuqaJL",
    "outputId": "6da1d732-2f2a-4228-d35f-de06e5ff7803",
    "scrolled": true
   },
   "outputs": [
    {
     "data": {
      "image/png": "[encoded data removed]",
      "text/plain": [
       "<IPython.core.display.Image object>"
      ]
     },
     "execution_count": 36,
     "metadata": {},
     "output_type": "execute_result"
    }
   ],
   "source": [
    "tf.keras.utils.plot_model(model)"
   ]
  },
  {
   "cell_type": "code",
   "execution_count": 37,
   "metadata": {
    "colab": {
     "base_uri": "https://localhost:8080/",
     "height": 487
    },
    "executionInfo": {
     "elapsed": 575,
     "status": "ok",
     "timestamp": 1728046187777,
     "user": {
      "displayName": "Ruth Parajó Ferrer",
      "userId": "07031545869212809064"
     },
     "user_tz": -120
    },
    "id": "EajYGsQBjG2G",
    "outputId": "1b005f05-2bee-4259-af17-0382a232a40c",
    "scrolled": true
   },
   "outputs": [
    {
     "data": {
      "image/png": "[encoded data removed]",
      "text/plain": [
       "<Figure size 1600x500 with 1 Axes>"
      ]
     },
     "metadata": {},
     "output_type": "display_data"
    }
   ],
   "source": [
    "plt.figure(figsize=(16,5))\n",
    "#plt.clf\n",
    "plt.plot(history.history['loss'], label='train loss')\n",
    "plt.plot(history.history['val_loss'], label='validation loss')\n",
    "plt.title('Simpler CNN MSE Loss during training --- lst+ndvi with wt target')\n",
    "plt.xlabel('Epoch')\n",
    "plt.ylabel('Loss (MSE)')\n",
    "plt.legend()\n",
    "plt.grid()\n",
    "plt.show()"
   ]
  },
  {
   "cell_type": "code",
   "execution_count": 38,
   "metadata": {},
   "outputs": [
    {
     "data": {
      "text/plain": [
       "<Figure size 640x480 with 0 Axes>"
      ]
     },
     "metadata": {},
     "output_type": "display_data"
    }
   ],
   "source": [
    "plt.savefig('../plots/cnn.png',dpi=100)"
   ]
  },
  {
   "cell_type": "code",
   "execution_count": 39,
   "metadata": {
    "colab": {
     "base_uri": "https://localhost:8080/",
     "height": 472
    },
    "executionInfo": {
     "elapsed": 436,
     "status": "ok",
     "timestamp": 1728043130132,
     "user": {
      "displayName": "Ruth Parajó Ferrer",
      "userId": "07031545869212809064"
     },
     "user_tz": -120
    },
    "id": "0EYej4lojG2G",
    "outputId": "ea68cef6-398f-422a-8401-e6c02609ee06"
   },
   "outputs": [
    {
     "data": {
      "image/png": "[encoded data removed]",
      "text/plain": [
       "<Figure size 640x480 with 1 Axes>"
      ]
     },
     "metadata": {},
     "output_type": "display_data"
    }
   ],
   "source": [
    "plt.plot(history.history['mae'], label='Training MAE')\n",
    "plt.plot(history.history['val_mae'], label='Validation MAE')\n",
    "plt.title('MAE during training')\n",
    "plt.xlabel('Epoch')\n",
    "plt.ylabel('MAE')\n",
    "plt.legend()\n",
    "plt.show()"
   ]
  },
  {
   "cell_type": "markdown",
   "metadata": {
    "id": "uv2k19g5jG2H"
   },
   "source": [
    "#### Validate and test"
   ]
  },
  {
   "cell_type": "markdown",
   "metadata": {
    "id": "ow08ZqWsjG2J"
   },
   "source": [
    "Image wise metrics results"
   ]
  },
  {
   "cell_type": "markdown",
   "metadata": {
    "id": "RbJ77fRFjG2J"
   },
   "source": [
    "See what are the areas with more prediction error"
   ]
  },
  {
   "cell_type": "code",
   "execution_count": 40,
   "metadata": {
    "colab": {
     "base_uri": "https://localhost:8080/",
     "height": 1000
    },
    "executionInfo": {
     "elapsed": 4054,
     "status": "ok",
     "timestamp": 1728043150628,
     "user": {
      "displayName": "Ruth Parajó Ferrer",
      "userId": "07031545869212809064"
     },
     "user_tz": -120
    },
    "id": "SqvaSLQhjtR6",
    "outputId": "4d3a25c8-67ba-434a-ef58-cf84d17905af",
    "scrolled": true
   },
   "outputs": [
    {
     "ename": "NameError",
     "evalue": "name 'validation_prediction' is not defined",
     "output_type": "error",
     "traceback": [
      "\u001b[0;31m---------------------------------------------------------------------------\u001b[0m",
      "\u001b[0;31mNameError\u001b[0m                                 Traceback (most recent call last)",
      "Cell \u001b[0;32mIn[40], line 1\u001b[0m\n\u001b[0;32m----> 1\u001b[0m \u001b[38;5;28;01mif\u001b[39;00m \u001b[38;5;28mlen\u001b[39m(\u001b[43mvalidation_prediction\u001b[49m\u001b[38;5;241m.\u001b[39mshape) \u001b[38;5;241m==\u001b[39m \u001b[38;5;241m4\u001b[39m:\n\u001b[1;32m      2\u001b[0m   validation_prediction\u001b[38;5;241m=\u001b[39mnp\u001b[38;5;241m.\u001b[39msqueeze(validation_prediction, axis\u001b[38;5;241m=\u001b[39m\u001b[38;5;241m3\u001b[39m)\n\u001b[1;32m      4\u001b[0m diff \u001b[38;5;241m=\u001b[39m validation_prediction \u001b[38;5;241m-\u001b[39m validation_target\n",
      "\u001b[0;31mNameError\u001b[0m: name 'validation_prediction' is not defined"
     ]
    }
   ],
   "source": [
    "if len(validation_prediction.shape) == 4:\n",
    "  validation_prediction=np.squeeze(validation_prediction, axis=3)\n",
    "\n",
    "diff = validation_prediction - validation_target\n",
    "for i in range(diff.shape[0]):\n",
    "  sns.heatmap(diff[i], cmap='coolwarm')\n",
    "  plt.title('Prediction Error Heatmap')\n",
    "  plt.show()"
   ]
  },
  {
   "cell_type": "markdown",
   "metadata": {
    "id": "42nOYweqjG2K"
   },
   "source": [
    "Dispersion graph and histogram of prediction errors"
   ]
  },
  {
   "cell_type": "code",
   "execution_count": null,
   "metadata": {},
   "outputs": [],
   "source": [
    "validation_target_flat = validation_target.reshape(-1)\n",
    "validation_prediction_flat = validation_prediction.reshape(-1)"
   ]
  },
  {
   "cell_type": "code",
   "execution_count": null,
   "metadata": {
    "colab": {
     "base_uri": "https://localhost:8080/",
     "height": 927
    },
    "executionInfo": {
     "elapsed": 831,
     "status": "ok",
     "timestamp": 1728043151456,
     "user": {
      "displayName": "Ruth Parajó Ferrer",
      "userId": "07031545869212809064"
     },
     "user_tz": -120
    },
    "id": "AtO-_TdpjG2K",
    "outputId": "c077eb5e-f4e6-4156-f9f2-55468aa1b0fd"
   },
   "outputs": [],
   "source": [
    "from sklearn.metrics import mean_squared_error, mean_absolute_error, r2_score\n",
    "\n",
    "# Supongamos que y_true son tus valores reales y y_pred son tus predicciones\n",
    "y_true = validation_target_flat # Valores reales\n",
    "y_pred = validation_prediction_flat  # Predicciones del modelo\n",
    "\n",
    "# Visualización\n",
    "plt.scatter(y_true, y_pred)\n",
    "plt.xlabel('True Values')\n",
    "plt.ylabel('Predictions')\n",
    "plt.plot([min(y_true), max(y_true)], [min(y_true), max(y_true)], 'r--')\n",
    "plt.title('True Values vs Predictions')\n",
    "plt.show()\n",
    "\n",
    "# Histograma de errores\n",
    "errors = y_pred - y_true\n",
    "plt.hist(errors, bins=30)\n",
    "plt.xlabel('Error')\n",
    "plt.ylabel('Frequency')\n",
    "plt.title('Histogram of Prediction Errors')\n",
    "plt.show()\n"
   ]
  }
 ],
 "metadata": {
  "colab": {
   "authorship_tag": "ABX9TyMOhs4aAZ7i01xBD4Eg2RuL",
   "provenance": [],
   "toc_visible": true
  },
  "kernelspec": {
   "display_name": "Python 3 (ipykernel)",
   "language": "python",
   "name": "python3"
  },
  "language_info": {
   "codemirror_mode": {
    "name": "ipython",
    "version": 3
   },
   "file_extension": ".py",
   "mimetype": "text/x-python",
   "name": "python",
   "nbconvert_exporter": "python",
   "pygments_lexer": "ipython3",
   "version": "3.12.4"
  }
 },
 "nbformat": 4,
 "nbformat_minor": 4
}

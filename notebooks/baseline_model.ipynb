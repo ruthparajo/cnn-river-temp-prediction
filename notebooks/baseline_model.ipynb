{
 "cells": [
  {
   "cell_type": "code",
   "execution_count": 1,
   "metadata": {
    "colab": {
     "base_uri": "https://localhost:8080/"
    },
    "executionInfo": {
     "elapsed": 17776,
     "status": "ok",
     "timestamp": 1728026996326,
     "user": {
      "displayName": "Ruth Parajó Ferrer",
      "userId": "07031545869212809064"
     },
     "user_tz": -120
    },
    "id": "xJJ2jzpfkpt0",
    "outputId": "435323a9-257c-4d2a-9b4e-33146751fa24"
   },
   "outputs": [],
   "source": [
    "from functions import *"
   ]
  },
  {
   "cell_type": "code",
   "execution_count": 2,
   "metadata": {
    "executionInfo": {
     "elapsed": 760,
     "status": "ok",
     "timestamp": 1728026997084,
     "user": {
      "displayName": "Ruth Parajó Ferrer",
      "userId": "07031545869212809064"
     },
     "user_tz": -120
    },
    "id": "cdgXKy8WkrF0"
   },
   "outputs": [],
   "source": [
    "import matplotlib.pyplot as plt\n",
    "import glob\n",
    "from skimage.transform import resize\n",
    "from sklearn.model_selection import train_test_split\n",
    "from sklearn.linear_model import LinearRegression\n",
    "import geopandas as gpd\n",
    "from sklearn.metrics import mean_absolute_error, mean_squared_error, r2_score\n",
    "import matplotlib\n",
    "import seaborn as sns"
   ]
  },
  {
   "cell_type": "markdown",
   "metadata": {
    "id": "ibqF7sdakyQ6"
   },
   "source": [
    "## Load data"
   ]
  },
  {
   "cell_type": "markdown",
   "metadata": {
    "id": "C6fyNHFgVykS"
   },
   "source": [
    "### Choose inputs"
   ]
  },
  {
   "cell_type": "code",
   "execution_count": 20,
   "metadata": {
    "executionInfo": {
     "elapsed": 3,
     "status": "ok",
     "timestamp": 1728042725765,
     "user": {
      "displayName": "Ruth Parajó Ferrer",
      "userId": "07031545869212809064"
     },
     "user_tz": -120
    },
    "id": "alA7Tlcq7QLC"
   },
   "outputs": [],
   "source": [
    "W = 256\n",
    "source_path = '../data/preprocessed/'\n",
    "data_paths = ['lst', 'ndvi', 'masked', 'wt_interpolated']\n",
    "dir_paths = [os.path.join(source_path,p) for p in data_paths]\n",
    "list_rgb = [True,False,True,False]"
   ]
  },
  {
   "cell_type": "code",
   "execution_count": 4,
   "metadata": {
    "executionInfo": {
     "elapsed": 3471,
     "status": "ok",
     "timestamp": 1728042729234,
     "user": {
      "displayName": "Ruth Parajó Ferrer",
      "userId": "07031545869212809064"
     },
     "user_tz": -120
    },
    "id": "lTOWx6h-k2J3"
   },
   "outputs": [],
   "source": [
    "data, time_slots = load_data(dir_paths,W,list_rgb)"
   ]
  },
  {
   "cell_type": "code",
   "execution_count": 5,
   "metadata": {
    "executionInfo": {
     "elapsed": 297,
     "status": "ok",
     "timestamp": 1728043097674,
     "user": {
      "displayName": "Ruth Parajó Ferrer",
      "userId": "07031545869212809064"
     },
     "user_tz": -120
    },
    "id": "gUkJEbKTV2G1"
   },
   "outputs": [],
   "source": [
    "inputs = 'ndvi' #'lst+ndvi' for ndvi inputs"
   ]
  },
  {
   "cell_type": "code",
   "execution_count": 6,
   "metadata": {
    "colab": {
     "base_uri": "https://localhost:8080/"
    },
    "executionInfo": {
     "elapsed": 4,
     "status": "ok",
     "timestamp": 1728043097956,
     "user": {
      "displayName": "Ruth Parajó Ferrer",
      "userId": "07031545869212809064"
     },
     "user_tz": -120
    },
    "id": "_lejH1F_k4a6",
    "outputId": "cd7010d5-7a33-4007-94a0-ad4fc6231b90"
   },
   "outputs": [
    {
     "name": "stdout",
     "output_type": "stream",
     "text": [
      "inputs shape: (34, 256, 256, 3) (34, 256, 256, 3) (34, 256, 256)\n",
      "targets shape: (34, 256, 256)\n"
     ]
    }
   ],
   "source": [
    "data_inputs = data[dir_paths[0]]\n",
    "ndvi = data[dir_paths[1]]\n",
    "masked_inputs = data[dir_paths[2]]\n",
    "data_targets = data[dir_paths[3]]\n",
    "print('inputs shape:', data_inputs.shape,masked_inputs.shape,ndvi.shape)\n",
    "print('targets shape:', data_targets.shape)"
   ]
  },
  {
   "cell_type": "code",
   "execution_count": 7,
   "metadata": {
    "executionInfo": {
     "elapsed": 2,
     "status": "ok",
     "timestamp": 1728043097956,
     "user": {
      "displayName": "Ruth Parajó Ferrer",
      "userId": "07031545869212809064"
     },
     "user_tz": -120
    },
    "id": "rMhYm84yTVsy"
   },
   "outputs": [],
   "source": [
    "if len(data_inputs) > 35:\n",
    "  num_selected = 34\n",
    "\n",
    "  # Select 35 random indices from the 108 images\n",
    "  selected_indices = np.random.choice(data_inputs.shape[0], size=num_selected, replace=False)\n",
    "\n",
    "  # Extract the selected images using the random indices\n",
    "  selected_inputs = data_inputs[selected_indices]\n",
    "  selected_targets = data_targets[selected_indices]\n"
   ]
  },
  {
   "cell_type": "markdown",
   "metadata": {
    "id": "aLwM6oUpAQJq"
   },
   "source": [
    "Convert inputs to gray images"
   ]
  },
  {
   "cell_type": "code",
   "execution_count": 8,
   "metadata": {
    "colab": {
     "base_uri": "https://localhost:8080/"
    },
    "executionInfo": {
     "elapsed": 318,
     "status": "ok",
     "timestamp": 1728043098272,
     "user": {
      "displayName": "Ruth Parajó Ferrer",
      "userId": "07031545869212809064"
     },
     "user_tz": -120
    },
    "id": "-IPLNgDMAOeq",
    "outputId": "08a78d43-addf-423a-873d-0860946614a8"
   },
   "outputs": [
    {
     "name": "stdout",
     "output_type": "stream",
     "text": [
      "(34, 256, 256)\n",
      "(34, 256, 256)\n"
     ]
    }
   ],
   "source": [
    "masked_gray_inputs = []\n",
    "gray_inputs = []\n",
    "for i in range(masked_inputs.shape[0]):\n",
    "  masked_img_rgb = masked_inputs[i]\n",
    "  masked_img_gray = np.dot(masked_img_rgb[...,:3], [0.2989, 0.5870, 0.1140]) # turn to gray image, calculate the weighted average of each channel contribution\n",
    "  masked_gray_inputs.append(masked_img_gray)\n",
    "\n",
    "  img_rgb = data_inputs[i]\n",
    "  img_gray = np.dot(img_rgb[...,:3], [0.2989, 0.5870, 0.1140]) # turn to gray image, calculate the weighted average of each channel contribution\n",
    "  gray_inputs.append(img_gray)\n",
    "\n",
    "masked_gray_inputs = np.array(masked_gray_inputs)\n",
    "print(masked_gray_inputs.shape)\n",
    "\n",
    "gray_inputs = np.array(gray_inputs)\n",
    "print(gray_inputs.shape)"
   ]
  },
  {
   "cell_type": "markdown",
   "metadata": {
    "id": "s75V_TGhA5FJ"
   },
   "source": [
    "Split data"
   ]
  },
  {
   "cell_type": "code",
   "execution_count": 9,
   "metadata": {
    "executionInfo": {
     "elapsed": 3,
     "status": "ok",
     "timestamp": 1728043098272,
     "user": {
      "displayName": "Ruth Parajó Ferrer",
      "userId": "07031545869212809064"
     },
     "user_tz": -120
    },
    "id": "pFFibLQXA4hd"
   },
   "outputs": [],
   "source": [
    "if inputs == 'lst':\n",
    "  train_input, train_target, validation_input, validation_target, test_input, test_target = split_data(data_inputs, data_targets)\n",
    "else:\n",
    "  ndvi_expanded = np.expand_dims(ndvi, axis=-1)  # Shape: (n_samples, 256, 256, 1)\n",
    "\n",
    "  # Combine LST (RGB) y NDVI in a 4 channel input data\n",
    "  combined_input = np.concatenate([data_inputs, ndvi_expanded], axis=-1)  # Shape: (n_samples, 256, 256, 4)\n",
    "  train_input, train_target, validation_input, validation_target, test_input, test_target = split_data(combined_input, data_targets)"
   ]
  },
  {
   "cell_type": "markdown",
   "metadata": {
    "id": "5Y2TXyInRBmC"
   },
   "source": [
    "## CNN simpler"
   ]
  },
  {
   "cell_type": "code",
   "execution_count": 10,
   "metadata": {},
   "outputs": [],
   "source": [
    "os.environ[\"CUDA_VISIBLE_DEVICES\"] = \"-1\""
   ]
  },
  {
   "cell_type": "code",
   "execution_count": null,
   "metadata": {},
   "outputs": [],
   "source": []
  },
  {
   "cell_type": "code",
   "execution_count": 11,
   "metadata": {
    "executionInfo": {
     "elapsed": 2,
     "status": "ok",
     "timestamp": 1728043098272,
     "user": {
      "displayName": "Ruth Parajó Ferrer",
      "userId": "07031545869212809064"
     },
     "user_tz": -120
    },
    "id": "QdVKjYjQdjvn"
   },
   "outputs": [
    {
     "name": "stderr",
     "output_type": "stream",
     "text": [
      "2024-10-08 09:32:26.106365: E external/local_xla/xla/stream_executor/cuda/cuda_fft.cc:485] Unable to register cuFFT factory: Attempting to register factory for plugin cuFFT when one has already been registered\n",
      "2024-10-08 09:32:26.126216: E external/local_xla/xla/stream_executor/cuda/cuda_dnn.cc:8454] Unable to register cuDNN factory: Attempting to register factory for plugin cuDNN when one has already been registered\n",
      "2024-10-08 09:32:26.132248: E external/local_xla/xla/stream_executor/cuda/cuda_blas.cc:1452] Unable to register cuBLAS factory: Attempting to register factory for plugin cuBLAS when one has already been registered\n",
      "2024-10-08 09:32:26.147260: I tensorflow/core/platform/cpu_feature_guard.cc:210] This TensorFlow binary is optimized to use available CPU instructions in performance-critical operations.\n",
      "To enable the following instructions: AVX2 FMA, in other operations, rebuild TensorFlow with the appropriate compiler flags.\n",
      "2024-10-08 09:32:27.144835: W tensorflow/compiler/tf2tensorrt/utils/py_utils.cc:38] TF-TRT Warning: Could not find TensorRT\n"
     ]
    }
   ],
   "source": [
    "import tensorflow as tf\n",
    "from tensorflow.keras import layers, models\n",
    "\n",
    "def build_simplified_cnn_model(input_shape):\n",
    "    model = models.Sequential()\n",
    "\n",
    "    # Capa 1: Convolucional + Activación ReLU + Max Pooling\n",
    "    model.add(layers.Conv2D(16, (3, 3), activation='relu', input_shape=input_shape))\n",
    "    model.add(layers.MaxPooling2D((2, 2)))\n",
    "\n",
    "    # Capa 2: Convolucional + Activación ReLU + Max Pooling\n",
    "    model.add(layers.Conv2D(32, (3, 3), activation='relu'))\n",
    "    model.add(layers.MaxPooling2D((2, 2)))\n",
    "\n",
    "    # Capa de aplanamiento\n",
    "    model.add(layers.Flatten())\n",
    "\n",
    "    # Capa densa\n",
    "    model.add(layers.Dense(64, activation='relu'))\n",
    "\n",
    "    # Capa de salida con activación lineal (para predicciones de temperatura)\n",
    "    model.add(layers.Dense(256 * 256, activation='linear'))\n",
    "\n",
    "    # Reshape de la salida a la forma (256, 256)\n",
    "    model.add(layers.Reshape((256, 256)))\n",
    "\n",
    "    return model\n",
    "\n",
    "# Construir el modelo\n",
    "if len(train_input.shape) == 3:\n",
    "  input_shape = train_input.shape[1:]+(1,)\n",
    "else:\n",
    "  input_shape = train_input.shape[1:]  # Assuming data_inputs is your dataset\n"
   ]
  },
  {
   "cell_type": "code",
   "execution_count": 12,
   "metadata": {
    "colab": {
     "base_uri": "https://localhost:8080/",
     "height": 439
    },
    "executionInfo": {
     "elapsed": 323,
     "status": "ok",
     "timestamp": 1728043098593,
     "user": {
      "displayName": "Ruth Parajó Ferrer",
      "userId": "07031545869212809064"
     },
     "user_tz": -120
    },
    "id": "1XcKnM-xRGpN",
    "outputId": "26de470f-beae-4578-d25c-6fb7479b5dca"
   },
   "outputs": [
    {
     "name": "stderr",
     "output_type": "stream",
     "text": [
      "/home/ruth.parajo/miniconda3/lib/python3.12/site-packages/keras/src/layers/convolutional/base_conv.py:107: UserWarning: Do not pass an `input_shape`/`input_dim` argument to a layer. When using Sequential models, prefer using an `Input(shape)` object as the first layer in the model instead.\n",
      "  super().__init__(activity_regularizer=activity_regularizer, **kwargs)\n",
      "2024-10-08 09:32:27.765382: E external/local_xla/xla/stream_executor/cuda/cuda_driver.cc:266] failed call to cuInit: CUDA_ERROR_NO_DEVICE: no CUDA-capable device is detected\n",
      "2024-10-08 09:32:27.765436: I external/local_xla/xla/stream_executor/cuda/cuda_diagnostics.cc:135] retrieving CUDA diagnostic information for host: oceanus\n",
      "2024-10-08 09:32:27.765449: I external/local_xla/xla/stream_executor/cuda/cuda_diagnostics.cc:142] hostname: oceanus\n",
      "2024-10-08 09:32:27.765577: I external/local_xla/xla/stream_executor/cuda/cuda_diagnostics.cc:166] libcuda reported version is: 545.23.8\n",
      "2024-10-08 09:32:27.765615: I external/local_xla/xla/stream_executor/cuda/cuda_diagnostics.cc:170] kernel reported version is: 545.23.8\n",
      "2024-10-08 09:32:27.765625: I external/local_xla/xla/stream_executor/cuda/cuda_diagnostics.cc:249] kernel version seems to match DSO: 545.23.8\n"
     ]
    },
    {
     "data": {
      "text/html": [
       "<pre style=\"white-space:pre;overflow-x:auto;line-height:normal;font-family:Menlo,'DejaVu Sans Mono',consolas,'Courier New',monospace\"><span style=\"font-weight: bold\">Model: \"sequential\"</span>\n",
       "</pre>\n"
      ],
      "text/plain": [
       "\u001b[1mModel: \"sequential\"\u001b[0m\n"
      ]
     },
     "metadata": {},
     "output_type": "display_data"
    },
    {
     "data": {
      "text/html": [
       "<pre style=\"white-space:pre;overflow-x:auto;line-height:normal;font-family:Menlo,'DejaVu Sans Mono',consolas,'Courier New',monospace\">┏━━━━━━━━━━━━━━━━━━━━━━━━━━━━━━━━━┳━━━━━━━━━━━━━━━━━━━━━━━━┳━━━━━━━━━━━━━━━┓\n",
       "┃<span style=\"font-weight: bold\"> Layer (type)                    </span>┃<span style=\"font-weight: bold\"> Output Shape           </span>┃<span style=\"font-weight: bold\">       Param # </span>┃\n",
       "┡━━━━━━━━━━━━━━━━━━━━━━━━━━━━━━━━━╇━━━━━━━━━━━━━━━━━━━━━━━━╇━━━━━━━━━━━━━━━┩\n",
       "│ conv2d (<span style=\"color: #0087ff; text-decoration-color: #0087ff\">Conv2D</span>)                 │ (<span style=\"color: #00d7ff; text-decoration-color: #00d7ff\">None</span>, <span style=\"color: #00af00; text-decoration-color: #00af00\">254</span>, <span style=\"color: #00af00; text-decoration-color: #00af00\">254</span>, <span style=\"color: #00af00; text-decoration-color: #00af00\">16</span>)   │           <span style=\"color: #00af00; text-decoration-color: #00af00\">592</span> │\n",
       "├─────────────────────────────────┼────────────────────────┼───────────────┤\n",
       "│ max_pooling2d (<span style=\"color: #0087ff; text-decoration-color: #0087ff\">MaxPooling2D</span>)    │ (<span style=\"color: #00d7ff; text-decoration-color: #00d7ff\">None</span>, <span style=\"color: #00af00; text-decoration-color: #00af00\">127</span>, <span style=\"color: #00af00; text-decoration-color: #00af00\">127</span>, <span style=\"color: #00af00; text-decoration-color: #00af00\">16</span>)   │             <span style=\"color: #00af00; text-decoration-color: #00af00\">0</span> │\n",
       "├─────────────────────────────────┼────────────────────────┼───────────────┤\n",
       "│ conv2d_1 (<span style=\"color: #0087ff; text-decoration-color: #0087ff\">Conv2D</span>)               │ (<span style=\"color: #00d7ff; text-decoration-color: #00d7ff\">None</span>, <span style=\"color: #00af00; text-decoration-color: #00af00\">125</span>, <span style=\"color: #00af00; text-decoration-color: #00af00\">125</span>, <span style=\"color: #00af00; text-decoration-color: #00af00\">32</span>)   │         <span style=\"color: #00af00; text-decoration-color: #00af00\">4,640</span> │\n",
       "├─────────────────────────────────┼────────────────────────┼───────────────┤\n",
       "│ max_pooling2d_1 (<span style=\"color: #0087ff; text-decoration-color: #0087ff\">MaxPooling2D</span>)  │ (<span style=\"color: #00d7ff; text-decoration-color: #00d7ff\">None</span>, <span style=\"color: #00af00; text-decoration-color: #00af00\">62</span>, <span style=\"color: #00af00; text-decoration-color: #00af00\">62</span>, <span style=\"color: #00af00; text-decoration-color: #00af00\">32</span>)     │             <span style=\"color: #00af00; text-decoration-color: #00af00\">0</span> │\n",
       "├─────────────────────────────────┼────────────────────────┼───────────────┤\n",
       "│ flatten (<span style=\"color: #0087ff; text-decoration-color: #0087ff\">Flatten</span>)               │ (<span style=\"color: #00d7ff; text-decoration-color: #00d7ff\">None</span>, <span style=\"color: #00af00; text-decoration-color: #00af00\">123008</span>)         │             <span style=\"color: #00af00; text-decoration-color: #00af00\">0</span> │\n",
       "├─────────────────────────────────┼────────────────────────┼───────────────┤\n",
       "│ dense (<span style=\"color: #0087ff; text-decoration-color: #0087ff\">Dense</span>)                   │ (<span style=\"color: #00d7ff; text-decoration-color: #00d7ff\">None</span>, <span style=\"color: #00af00; text-decoration-color: #00af00\">64</span>)             │     <span style=\"color: #00af00; text-decoration-color: #00af00\">7,872,576</span> │\n",
       "├─────────────────────────────────┼────────────────────────┼───────────────┤\n",
       "│ dense_1 (<span style=\"color: #0087ff; text-decoration-color: #0087ff\">Dense</span>)                 │ (<span style=\"color: #00d7ff; text-decoration-color: #00d7ff\">None</span>, <span style=\"color: #00af00; text-decoration-color: #00af00\">65536</span>)          │     <span style=\"color: #00af00; text-decoration-color: #00af00\">4,259,840</span> │\n",
       "├─────────────────────────────────┼────────────────────────┼───────────────┤\n",
       "│ reshape (<span style=\"color: #0087ff; text-decoration-color: #0087ff\">Reshape</span>)               │ (<span style=\"color: #00d7ff; text-decoration-color: #00d7ff\">None</span>, <span style=\"color: #00af00; text-decoration-color: #00af00\">256</span>, <span style=\"color: #00af00; text-decoration-color: #00af00\">256</span>)       │             <span style=\"color: #00af00; text-decoration-color: #00af00\">0</span> │\n",
       "└─────────────────────────────────┴────────────────────────┴───────────────┘\n",
       "</pre>\n"
      ],
      "text/plain": [
       "┏━━━━━━━━━━━━━━━━━━━━━━━━━━━━━━━━━┳━━━━━━━━━━━━━━━━━━━━━━━━┳━━━━━━━━━━━━━━━┓\n",
       "┃\u001b[1m \u001b[0m\u001b[1mLayer (type)                   \u001b[0m\u001b[1m \u001b[0m┃\u001b[1m \u001b[0m\u001b[1mOutput Shape          \u001b[0m\u001b[1m \u001b[0m┃\u001b[1m \u001b[0m\u001b[1m      Param #\u001b[0m\u001b[1m \u001b[0m┃\n",
       "┡━━━━━━━━━━━━━━━━━━━━━━━━━━━━━━━━━╇━━━━━━━━━━━━━━━━━━━━━━━━╇━━━━━━━━━━━━━━━┩\n",
       "│ conv2d (\u001b[38;5;33mConv2D\u001b[0m)                 │ (\u001b[38;5;45mNone\u001b[0m, \u001b[38;5;34m254\u001b[0m, \u001b[38;5;34m254\u001b[0m, \u001b[38;5;34m16\u001b[0m)   │           \u001b[38;5;34m592\u001b[0m │\n",
       "├─────────────────────────────────┼────────────────────────┼───────────────┤\n",
       "│ max_pooling2d (\u001b[38;5;33mMaxPooling2D\u001b[0m)    │ (\u001b[38;5;45mNone\u001b[0m, \u001b[38;5;34m127\u001b[0m, \u001b[38;5;34m127\u001b[0m, \u001b[38;5;34m16\u001b[0m)   │             \u001b[38;5;34m0\u001b[0m │\n",
       "├─────────────────────────────────┼────────────────────────┼───────────────┤\n",
       "│ conv2d_1 (\u001b[38;5;33mConv2D\u001b[0m)               │ (\u001b[38;5;45mNone\u001b[0m, \u001b[38;5;34m125\u001b[0m, \u001b[38;5;34m125\u001b[0m, \u001b[38;5;34m32\u001b[0m)   │         \u001b[38;5;34m4,640\u001b[0m │\n",
       "├─────────────────────────────────┼────────────────────────┼───────────────┤\n",
       "│ max_pooling2d_1 (\u001b[38;5;33mMaxPooling2D\u001b[0m)  │ (\u001b[38;5;45mNone\u001b[0m, \u001b[38;5;34m62\u001b[0m, \u001b[38;5;34m62\u001b[0m, \u001b[38;5;34m32\u001b[0m)     │             \u001b[38;5;34m0\u001b[0m │\n",
       "├─────────────────────────────────┼────────────────────────┼───────────────┤\n",
       "│ flatten (\u001b[38;5;33mFlatten\u001b[0m)               │ (\u001b[38;5;45mNone\u001b[0m, \u001b[38;5;34m123008\u001b[0m)         │             \u001b[38;5;34m0\u001b[0m │\n",
       "├─────────────────────────────────┼────────────────────────┼───────────────┤\n",
       "│ dense (\u001b[38;5;33mDense\u001b[0m)                   │ (\u001b[38;5;45mNone\u001b[0m, \u001b[38;5;34m64\u001b[0m)             │     \u001b[38;5;34m7,872,576\u001b[0m │\n",
       "├─────────────────────────────────┼────────────────────────┼───────────────┤\n",
       "│ dense_1 (\u001b[38;5;33mDense\u001b[0m)                 │ (\u001b[38;5;45mNone\u001b[0m, \u001b[38;5;34m65536\u001b[0m)          │     \u001b[38;5;34m4,259,840\u001b[0m │\n",
       "├─────────────────────────────────┼────────────────────────┼───────────────┤\n",
       "│ reshape (\u001b[38;5;33mReshape\u001b[0m)               │ (\u001b[38;5;45mNone\u001b[0m, \u001b[38;5;34m256\u001b[0m, \u001b[38;5;34m256\u001b[0m)       │             \u001b[38;5;34m0\u001b[0m │\n",
       "└─────────────────────────────────┴────────────────────────┴───────────────┘\n"
      ]
     },
     "metadata": {},
     "output_type": "display_data"
    },
    {
     "data": {
      "text/html": [
       "<pre style=\"white-space:pre;overflow-x:auto;line-height:normal;font-family:Menlo,'DejaVu Sans Mono',consolas,'Courier New',monospace\"><span style=\"font-weight: bold\"> Total params: </span><span style=\"color: #00af00; text-decoration-color: #00af00\">12,137,648</span> (46.30 MB)\n",
       "</pre>\n"
      ],
      "text/plain": [
       "\u001b[1m Total params: \u001b[0m\u001b[38;5;34m12,137,648\u001b[0m (46.30 MB)\n"
      ]
     },
     "metadata": {},
     "output_type": "display_data"
    },
    {
     "data": {
      "text/html": [
       "<pre style=\"white-space:pre;overflow-x:auto;line-height:normal;font-family:Menlo,'DejaVu Sans Mono',consolas,'Courier New',monospace\"><span style=\"font-weight: bold\"> Trainable params: </span><span style=\"color: #00af00; text-decoration-color: #00af00\">12,137,648</span> (46.30 MB)\n",
       "</pre>\n"
      ],
      "text/plain": [
       "\u001b[1m Trainable params: \u001b[0m\u001b[38;5;34m12,137,648\u001b[0m (46.30 MB)\n"
      ]
     },
     "metadata": {},
     "output_type": "display_data"
    },
    {
     "data": {
      "text/html": [
       "<pre style=\"white-space:pre;overflow-x:auto;line-height:normal;font-family:Menlo,'DejaVu Sans Mono',consolas,'Courier New',monospace\"><span style=\"font-weight: bold\"> Non-trainable params: </span><span style=\"color: #00af00; text-decoration-color: #00af00\">0</span> (0.00 B)\n",
       "</pre>\n"
      ],
      "text/plain": [
       "\u001b[1m Non-trainable params: \u001b[0m\u001b[38;5;34m0\u001b[0m (0.00 B)\n"
      ]
     },
     "metadata": {},
     "output_type": "display_data"
    }
   ],
   "source": [
    "simplified_cnn_model = build_simplified_cnn_model(input_shape)\n",
    "simplified_cnn_model.compile(optimizer='adam', loss='mean_squared_error', metrics=['mae'])\n",
    "\n",
    "# Resumen del modelo\n",
    "simplified_cnn_model.summary()"
   ]
  },
  {
   "cell_type": "code",
   "execution_count": 13,
   "metadata": {
    "colab": {
     "base_uri": "https://localhost:8080/",
     "height": 1000
    },
    "executionInfo": {
     "elapsed": 728,
     "status": "ok",
     "timestamp": 1728047630422,
     "user": {
      "displayName": "Ruth Parajó Ferrer",
      "userId": "07031545869212809064"
     },
     "user_tz": -120
    },
    "id": "8lInUBSuqaJL",
    "outputId": "6da1d732-2f2a-4228-d35f-de06e5ff7803",
    "scrolled": true
   },
   "outputs": [
    {
     "data": {
      "image/png": "[encoded data removed]",
      "text/plain": [
       "<IPython.core.display.Image object>"
      ]
     },
     "execution_count": 13,
     "metadata": {},
     "output_type": "execute_result"
    }
   ],
   "source": [
    "tf.keras.utils.plot_model(simplified_cnn_model)"
   ]
  },
  {
   "cell_type": "code",
   "execution_count": 18,
   "metadata": {},
   "outputs": [
    {
     "data": {
      "text/plain": [
       "array([[[[ 4.77383568e-01,  0.00000000e+00,  0.00000000e+00,\n",
       "           2.89975779e-03],\n",
       "         [ 4.71933081e-01,  0.00000000e+00,  0.00000000e+00,\n",
       "           2.96375237e-03],\n",
       "         [ 4.61231028e-01,  0.00000000e+00,  0.00000000e+00,\n",
       "           2.35230338e-03],\n",
       "         ...,\n",
       "         [ 4.48046852e-01,  0.00000000e+00,  0.00000000e+00,\n",
       "           2.53011199e-03],\n",
       "         [ 4.52826260e-01,  0.00000000e+00,  0.00000000e+00,\n",
       "           2.35797962e-03],\n",
       "         [ 4.64590963e-01,  0.00000000e+00,  0.00000000e+00,\n",
       "           2.63264670e-03]],\n",
       "\n",
       "        [[ 4.70856313e-01,  0.00000000e+00,  0.00000000e+00,\n",
       "           3.29844624e-03],\n",
       "         [ 4.59091614e-01,  0.00000000e+00,  0.00000000e+00,\n",
       "           3.03027934e-03],\n",
       "         [ 4.53017885e-01,  0.00000000e+00,  0.00000000e+00,\n",
       "           2.27449104e-03],\n",
       "         ...,\n",
       "         [ 4.45136103e-01,  0.00000000e+00,  0.00000000e+00,\n",
       "           2.43509494e-03],\n",
       "         [ 4.47326910e-01,  0.00000000e+00,  0.00000000e+00,\n",
       "           2.48403012e-03],\n",
       "         [ 4.56983743e-01,  0.00000000e+00,  0.00000000e+00,\n",
       "           2.49117449e-03]],\n",
       "\n",
       "        [[ 4.65379919e-01,  0.00000000e+00,  0.00000000e+00,\n",
       "           3.35501456e-03],\n",
       "         [ 4.51041695e-01,  0.00000000e+00,  0.00000000e+00,\n",
       "           2.97713817e-03],\n",
       "         [ 4.43137287e-01,  0.00000000e+00,  0.00000000e+00,\n",
       "           2.42927986e-03],\n",
       "         ...,\n",
       "         [ 4.45292282e-01,  0.00000000e+00,  0.00000000e+00,\n",
       "           2.37657743e-03],\n",
       "         [ 4.45779604e-01,  0.00000000e+00,  0.00000000e+00,\n",
       "           2.46048535e-03],\n",
       "         [ 4.50531006e-01,  0.00000000e+00,  0.00000000e+00,\n",
       "           2.42509328e-03]],\n",
       "\n",
       "        ...,\n",
       "\n",
       "        [[ 6.27450984e-01,  0.00000000e+00,  0.00000000e+00,\n",
       "           1.00243910e-03],\n",
       "         [ 6.28730228e-01,  0.00000000e+00,  0.00000000e+00,\n",
       "           9.95832214e-04],\n",
       "         [ 6.35626212e-01,  0.00000000e+00,  0.00000000e+00,\n",
       "           1.11324238e-03],\n",
       "         ...,\n",
       "         [ 2.98039223e-01,  0.00000000e+00,  0.00000000e+00,\n",
       "          -1.43351999e-03],\n",
       "         [ 3.00674025e-01,  0.00000000e+00,  0.00000000e+00,\n",
       "          -1.45501868e-03],\n",
       "         [ 2.98488617e-01,  0.00000000e+00,  0.00000000e+00,\n",
       "          -1.41439157e-03]],\n",
       "\n",
       "        [[ 6.29693605e-01,  0.00000000e+00,  0.00000000e+00,\n",
       "           8.70435670e-04],\n",
       "         [ 6.36824655e-01,  0.00000000e+00,  0.00000000e+00,\n",
       "           9.69311244e-04],\n",
       "         [ 6.42547249e-01,  0.00000000e+00,  0.00000000e+00,\n",
       "           1.27566504e-03],\n",
       "         ...,\n",
       "         [ 3.00666477e-01,  0.00000000e+00,  0.00000000e+00,\n",
       "          -1.41600137e-03],\n",
       "         [ 3.01960781e-01,  0.00000000e+00,  0.00000000e+00,\n",
       "          -1.42656576e-03],\n",
       "         [ 2.98468143e-01,  0.00000000e+00,  0.00000000e+00,\n",
       "          -1.41216668e-03]],\n",
       "\n",
       "        [[ 6.32144100e-01,  0.00000000e+00,  0.00000000e+00,\n",
       "           9.87499835e-04],\n",
       "         [ 6.41259148e-01,  0.00000000e+00,  0.00000000e+00,\n",
       "           1.02210021e-03],\n",
       "         [ 6.48771977e-01,  0.00000000e+00,  0.00000000e+00,\n",
       "           1.31231920e-03],\n",
       "         ...,\n",
       "         [ 3.01960782e-01,  0.00000000e+00,  0.00000000e+00,\n",
       "          -1.39213088e-03],\n",
       "         [ 3.01960784e-01,  0.00000000e+00,  0.00000000e+00,\n",
       "          -1.40649034e-03],\n",
       "         [ 3.01258141e-01,  0.00000000e+00,  0.00000000e+00,\n",
       "          -1.41008181e-03]]],\n",
       "\n",
       "\n",
       "       [[[ 6.27450980e-02,  0.00000000e+00,  0.00000000e+00,\n",
       "           1.21402378e-03],\n",
       "         [ 6.27450980e-02,  0.00000000e+00,  0.00000000e+00,\n",
       "           1.88859666e-03],\n",
       "         [ 6.27450980e-02,  0.00000000e+00,  0.00000000e+00,\n",
       "           2.33971886e-03],\n",
       "         ...,\n",
       "         [ 5.49019642e-02,  0.00000000e+00,  0.00000000e+00,\n",
       "           2.36112768e-03],\n",
       "         [ 5.49019642e-02,  0.00000000e+00,  0.00000000e+00,\n",
       "           2.26938561e-03],\n",
       "         [ 5.83946082e-02,  0.00000000e+00,  0.00000000e+00,\n",
       "           2.19591739e-03]],\n",
       "\n",
       "        [[ 6.27450980e-02,  0.00000000e+00,  0.00000000e+00,\n",
       "           2.17756500e-03],\n",
       "         [ 6.27450980e-02,  0.00000000e+00,  0.00000000e+00,\n",
       "           1.18804282e-03],\n",
       "         [ 6.27450980e-02,  0.00000000e+00,  0.00000000e+00,\n",
       "           2.32595462e-03],\n",
       "         ...,\n",
       "         [ 5.72686908e-02,  0.00000000e+00,  0.00000000e+00,\n",
       "           2.38563874e-03],\n",
       "         [ 5.72686852e-02,  0.00000000e+00,  0.00000000e+00,\n",
       "           2.34659560e-03],\n",
       "         [ 5.86534683e-02,  0.00000000e+00,  0.00000000e+00,\n",
       "           2.08701877e-03]],\n",
       "\n",
       "        [[ 6.27450980e-02,  0.00000000e+00,  0.00000000e+00,\n",
       "           1.46923977e-03],\n",
       "         [ 6.27450980e-02,  0.00000000e+00,  0.00000000e+00,\n",
       "           1.22428314e-03],\n",
       "         [ 6.27450980e-02,  0.00000000e+00,  0.00000000e+00,\n",
       "           2.64184007e-03],\n",
       "         ...,\n",
       "         [ 6.09681282e-02,  0.00000000e+00,  0.00000000e+00,\n",
       "           2.20577086e-03],\n",
       "         [ 5.88235294e-02,  0.00000000e+00,  0.00000000e+00,\n",
       "           2.29838292e-03],\n",
       "         [ 5.88030498e-02,  0.00000000e+00,  0.00000000e+00,\n",
       "           2.27178686e-03]],\n",
       "\n",
       "        ...,\n",
       "\n",
       "        [[ 1.21548182e-01,  0.00000000e+00,  0.00000000e+00,\n",
       "           1.51015275e-03],\n",
       "         [ 1.22847875e-01,  0.00000000e+00,  0.00000000e+00,\n",
       "           1.20349410e-03],\n",
       "         [ 1.25479803e-01,  0.00000000e+00,  0.00000000e+00,\n",
       "           1.10669101e-03],\n",
       "         ...,\n",
       "         [ 2.31372549e-01,  0.00000000e+00,  0.00000000e+00,\n",
       "          -1.42379356e-03],\n",
       "         [ 2.28737745e-01,  0.00000000e+00,  0.00000000e+00,\n",
       "          -1.46435394e-03],\n",
       "         [ 2.27450980e-01,  0.00000000e+00,  0.00000000e+00,\n",
       "          -1.45799740e-03]],\n",
       "\n",
       "        [[ 1.32521446e-01,  0.00000000e+00,  0.00000000e+00,\n",
       "           1.97343335e-03],\n",
       "         [ 1.32521449e-01,  0.00000000e+00,  0.00000000e+00,\n",
       "           1.63136686e-03],\n",
       "         [ 1.33815753e-01,  0.00000000e+00,  0.00000000e+00,\n",
       "           1.68101846e-03],\n",
       "         ...,\n",
       "         [ 2.31372549e-01,  0.00000000e+00,  0.00000000e+00,\n",
       "          -1.42288302e-03],\n",
       "         [ 2.29782406e-01,  0.00000000e+00,  0.00000000e+00,\n",
       "          -1.44132095e-03],\n",
       "         [ 2.27621047e-01,  0.00000000e+00,  0.00000000e+00,\n",
       "          -1.42899015e-03]],\n",
       "\n",
       "        [[ 1.43520167e-01,  0.00000000e+00,  0.00000000e+00,\n",
       "           2.11172174e-03],\n",
       "         [ 1.43520167e-01,  0.00000000e+00,  0.00000000e+00,\n",
       "           1.82456281e-03],\n",
       "         [ 1.43520168e-01,  0.00000000e+00,  0.00000000e+00,\n",
       "           1.65011789e-03],\n",
       "         ...,\n",
       "         [ 2.31372549e-01,  0.00000000e+00,  0.00000000e+00,\n",
       "          -1.41623815e-03],\n",
       "         [ 2.31372547e-01,  0.00000000e+00,  0.00000000e+00,\n",
       "          -1.41580526e-03],\n",
       "         [ 2.30669905e-01,  0.00000000e+00,  0.00000000e+00,\n",
       "          -1.39566251e-03]]],\n",
       "\n",
       "\n",
       "       [[[ 0.00000000e+00,  0.00000000e+00,  0.00000000e+00,\n",
       "           3.96629525e-04],\n",
       "         [ 0.00000000e+00,  0.00000000e+00,  0.00000000e+00,\n",
       "           5.71637761e-04],\n",
       "         [ 0.00000000e+00,  0.00000000e+00,  0.00000000e+00,\n",
       "           5.93078312e-04],\n",
       "         ...,\n",
       "         [ 0.00000000e+00,  0.00000000e+00,  0.00000000e+00,\n",
       "           6.80869584e-04],\n",
       "         [ 0.00000000e+00,  0.00000000e+00,  0.00000000e+00,\n",
       "           7.59201073e-04],\n",
       "         [ 0.00000000e+00,  0.00000000e+00,  0.00000000e+00,\n",
       "           8.97551050e-04]],\n",
       "\n",
       "        [[ 0.00000000e+00,  0.00000000e+00,  0.00000000e+00,\n",
       "           5.45028729e-04],\n",
       "         [ 0.00000000e+00,  0.00000000e+00,  0.00000000e+00,\n",
       "           6.92294333e-04],\n",
       "         [ 0.00000000e+00,  0.00000000e+00,  0.00000000e+00,\n",
       "           7.04353288e-04],\n",
       "         ...,\n",
       "         [ 0.00000000e+00,  0.00000000e+00,  0.00000000e+00,\n",
       "           6.11682791e-04],\n",
       "         [ 0.00000000e+00,  0.00000000e+00,  0.00000000e+00,\n",
       "           6.14778435e-04],\n",
       "         [ 0.00000000e+00,  0.00000000e+00,  0.00000000e+00,\n",
       "           6.22411627e-04]],\n",
       "\n",
       "        [[ 1.08294642e-11,  0.00000000e+00,  0.00000000e+00,\n",
       "           5.17171212e-04],\n",
       "         [ 7.54524816e-06,  0.00000000e+00,  0.00000000e+00,\n",
       "           6.78171773e-04],\n",
       "         [ 2.29948393e-05,  0.00000000e+00,  0.00000000e+00,\n",
       "           7.80695735e-04],\n",
       "         ...,\n",
       "         [ 0.00000000e+00,  0.00000000e+00,  0.00000000e+00,\n",
       "           6.03323123e-04],\n",
       "         [ 0.00000000e+00,  0.00000000e+00,  0.00000000e+00,\n",
       "           5.34028984e-04],\n",
       "         [ 0.00000000e+00,  0.00000000e+00,  0.00000000e+00,\n",
       "           5.29526262e-04]],\n",
       "\n",
       "        ...,\n",
       "\n",
       "        [[ 4.51914471e-04,  0.00000000e+00,  0.00000000e+00,\n",
       "           5.81002703e-04],\n",
       "         [ 5.22376616e-03,  0.00000000e+00,  0.00000000e+00,\n",
       "           5.99052275e-04],\n",
       "         [ 9.98772840e-03,  0.00000000e+00,  0.00000000e+00,\n",
       "           5.60533358e-04],\n",
       "         ...,\n",
       "         [ 0.00000000e+00,  0.00000000e+00,  0.00000000e+00,\n",
       "           1.89527694e-04],\n",
       "         [ 0.00000000e+00,  0.00000000e+00,  0.00000000e+00,\n",
       "           1.90955897e-04],\n",
       "         [ 0.00000000e+00,  0.00000000e+00,  0.00000000e+00,\n",
       "           1.81547523e-04]],\n",
       "\n",
       "        [[ 1.11543481e-09,  0.00000000e+00,  0.00000000e+00,\n",
       "           5.80838907e-04],\n",
       "         [ 1.28677490e-03,  0.00000000e+00,  0.00000000e+00,\n",
       "           6.16172131e-04],\n",
       "         [ 6.06618300e-03,  0.00000000e+00,  0.00000000e+00,\n",
       "           6.04037035e-04],\n",
       "         ...,\n",
       "         [ 0.00000000e+00,  0.00000000e+00,  0.00000000e+00,\n",
       "           2.04839835e-04],\n",
       "         [ 0.00000000e+00,  0.00000000e+00,  0.00000000e+00,\n",
       "           1.96681303e-04],\n",
       "         [ 0.00000000e+00,  0.00000000e+00,  0.00000000e+00,\n",
       "           1.99745479e-04]],\n",
       "\n",
       "        [[ 0.00000000e+00,  0.00000000e+00,  0.00000000e+00,\n",
       "           5.44180414e-04],\n",
       "         [ 1.28676471e-03,  0.00000000e+00,  0.00000000e+00,\n",
       "           5.94029532e-04],\n",
       "         [ 4.35301631e-03,  0.00000000e+00,  0.00000000e+00,\n",
       "           5.87114925e-04],\n",
       "         ...,\n",
       "         [ 0.00000000e+00,  0.00000000e+00,  0.00000000e+00,\n",
       "           1.98114795e-04],\n",
       "         [ 0.00000000e+00,  0.00000000e+00,  0.00000000e+00,\n",
       "           1.99586109e-04],\n",
       "         [ 0.00000000e+00,  0.00000000e+00,  0.00000000e+00,\n",
       "           1.92361471e-04]]],\n",
       "\n",
       "\n",
       "       ...,\n",
       "\n",
       "\n",
       "       [[[ 4.17439695e-01,  0.00000000e+00,  0.00000000e+00,\n",
       "           2.77723074e-03],\n",
       "         [ 4.51783306e-01,  0.00000000e+00,  0.00000000e+00,\n",
       "           2.74172273e-03],\n",
       "         [ 4.59237394e-01,  0.00000000e+00,  0.00000000e+00,\n",
       "           2.53512275e-03],\n",
       "         ...,\n",
       "         [ 3.62992726e-01,  0.00000000e+00,  0.00000000e+00,\n",
       "           2.16123216e-03],\n",
       "         [ 3.65235948e-01,  0.00000000e+00,  0.00000000e+00,\n",
       "           2.07026776e-03],\n",
       "         [ 3.71777469e-01,  0.00000000e+00,  0.00000000e+00,\n",
       "           1.96026704e-03]],\n",
       "\n",
       "        [[ 4.77937962e-01,  0.00000000e+00,  0.00000000e+00,\n",
       "           3.03504677e-03],\n",
       "         [ 4.95981795e-01,  0.00000000e+00,  0.00000000e+00,\n",
       "           3.12419499e-03],\n",
       "         [ 5.08425073e-01,  0.00000000e+00,  0.00000000e+00,\n",
       "           3.11782313e-03],\n",
       "         ...,\n",
       "         [ 3.67072609e-01,  0.00000000e+00,  0.00000000e+00,\n",
       "           2.23886289e-03],\n",
       "         [ 3.68117270e-01,  0.00000000e+00,  0.00000000e+00,\n",
       "           2.17142315e-03],\n",
       "         [ 3.74227962e-01,  0.00000000e+00,  0.00000000e+00,\n",
       "           2.03331569e-03]],\n",
       "\n",
       "        [[ 4.92343167e-01,  0.00000000e+00,  0.00000000e+00,\n",
       "           2.86854809e-03],\n",
       "         [ 5.16260695e-01,  0.00000000e+00,  0.00000000e+00,\n",
       "           3.11078628e-03],\n",
       "         [ 5.35868515e-01,  0.00000000e+00,  0.00000000e+00,\n",
       "           3.12487354e-03],\n",
       "         ...,\n",
       "         [ 3.70782469e-01,  0.00000000e+00,  0.00000000e+00,\n",
       "           2.22413704e-03],\n",
       "         [ 3.71269789e-01,  0.00000000e+00,  0.00000000e+00,\n",
       "           2.18767465e-03],\n",
       "         [ 3.76041665e-01,  0.00000000e+00,  0.00000000e+00,\n",
       "           2.17590893e-03]],\n",
       "\n",
       "        ...,\n",
       "\n",
       "        [[ 1.00000000e+00,  1.00000000e+00,  1.00000000e+00,\n",
       "           1.80247391e-03],\n",
       "         [ 1.00000000e+00,  1.00000000e+00,  1.00000000e+00,\n",
       "           1.59644765e-03],\n",
       "         [ 1.00000000e+00,  1.00000000e+00,  1.00000000e+00,\n",
       "           1.28176960e-03],\n",
       "         ...,\n",
       "         [ 1.00000000e+00,  1.00000000e+00,  1.00000000e+00,\n",
       "          -1.26781580e-03],\n",
       "         [ 1.00000000e+00,  1.00000000e+00,  1.00000000e+00,\n",
       "          -1.26263827e-03],\n",
       "         [ 1.00000000e+00,  1.00000000e+00,  1.00000000e+00,\n",
       "          -1.17774594e-03]],\n",
       "\n",
       "        [[ 1.00000000e+00,  1.00000000e+00,  1.00000000e+00,\n",
       "           2.43565545e-03],\n",
       "         [ 1.00000000e+00,  1.00000000e+00,  1.00000000e+00,\n",
       "           1.99286587e-03],\n",
       "         [ 1.00000000e+00,  1.00000000e+00,  1.00000000e+00,\n",
       "           1.97751943e-03],\n",
       "         ...,\n",
       "         [ 1.00000000e+00,  1.00000000e+00,  1.00000000e+00,\n",
       "          -1.27951912e-03],\n",
       "         [ 1.00000000e+00,  1.00000000e+00,  1.00000000e+00,\n",
       "          -1.30139578e-03],\n",
       "         [ 1.00000000e+00,  1.00000000e+00,  1.00000000e+00,\n",
       "          -1.28173045e-03]],\n",
       "\n",
       "        [[ 1.00000000e+00,  1.00000000e+00,  1.00000000e+00,\n",
       "           2.38817322e-03],\n",
       "         [ 1.00000000e+00,  1.00000000e+00,  1.00000000e+00,\n",
       "           1.84124872e-03],\n",
       "         [ 1.00000000e+00,  1.00000000e+00,  1.00000000e+00,\n",
       "           1.78141500e-03],\n",
       "         ...,\n",
       "         [ 1.00000000e+00,  1.00000000e+00,  1.00000000e+00,\n",
       "          -1.23964922e-03],\n",
       "         [ 1.00000000e+00,  1.00000000e+00,  1.00000000e+00,\n",
       "          -1.26668390e-03],\n",
       "         [ 1.00000000e+00,  1.00000000e+00,  1.00000000e+00,\n",
       "          -1.27598550e-03]]],\n",
       "\n",
       "\n",
       "       [[[ 6.25020991e-01,  0.00000000e+00,  0.00000000e+00,\n",
       "           2.66308364e-03],\n",
       "         [ 6.22772708e-01,  0.00000000e+00,  0.00000000e+00,\n",
       "           1.89275484e-03],\n",
       "         [ 6.21321000e-01,  0.00000000e+00,  0.00000000e+00,\n",
       "           1.65741257e-03],\n",
       "         ...,\n",
       "         [ 5.84178442e-01,  0.00000000e+00,  0.00000000e+00,\n",
       "           3.18760334e-03],\n",
       "         [ 5.85891598e-01,  0.00000000e+00,  0.00000000e+00,\n",
       "           3.23569003e-03],\n",
       "         [ 5.96369536e-01,  0.00000000e+00,  0.00000000e+00,\n",
       "           3.25931615e-03]],\n",
       "\n",
       "        [[ 6.32792617e-01,  0.00000000e+00,  0.00000000e+00,\n",
       "           1.54672908e-03],\n",
       "         [ 6.22510712e-01,  0.00000000e+00,  0.00000000e+00,\n",
       "           1.36845988e-03],\n",
       "         [ 6.17241123e-01,  0.00000000e+00,  0.00000000e+00,\n",
       "           1.51327510e-03],\n",
       "         ...,\n",
       "         [ 5.99478931e-01,  0.00000000e+00,  0.00000000e+00,\n",
       "           3.07792823e-03],\n",
       "         [ 5.96890319e-01,  0.00000000e+00,  0.00000000e+00,\n",
       "           3.12661704e-03],\n",
       "         [ 6.05260387e-01,  0.00000000e+00,  0.00000000e+00,\n",
       "           3.17002021e-03]],\n",
       "\n",
       "        [[ 6.33601428e-01,  0.00000000e+00,  0.00000000e+00,\n",
       "           1.44517001e-03],\n",
       "         [ 6.17057325e-01,  0.00000000e+00,  0.00000000e+00,\n",
       "           1.36424245e-03],\n",
       "         [ 6.16076915e-01,  0.00000000e+00,  0.00000000e+00,\n",
       "           1.46966378e-03],\n",
       "         ...,\n",
       "         [ 6.16488345e-01,  0.00000000e+00,  0.00000000e+00,\n",
       "           2.95484767e-03],\n",
       "         [ 6.07904184e-01,  0.00000000e+00,  0.00000000e+00,\n",
       "           3.14827526e-03],\n",
       "         [ 6.11361276e-01,  0.00000000e+00,  0.00000000e+00,\n",
       "           3.21531880e-03]],\n",
       "\n",
       "        ...,\n",
       "\n",
       "        [[ 7.06763174e-01,  3.61749218e-02,  0.00000000e+00,\n",
       "           1.35282301e-03],\n",
       "         [ 7.15035238e-01,  4.44469917e-02,  0.00000000e+00,\n",
       "           1.27752657e-03],\n",
       "         [ 7.19802086e-01,  5.13584586e-02,  0.00000000e+00,\n",
       "           1.26387150e-03],\n",
       "         ...,\n",
       "         [ 4.21384813e-01,  0.00000000e+00,  0.00000000e+00,\n",
       "          -4.79531084e-04],\n",
       "         [ 4.23529412e-01,  0.00000000e+00,  0.00000000e+00,\n",
       "          -4.83843684e-04],\n",
       "         [ 4.23529412e-01,  0.00000000e+00,  0.00000000e+00,\n",
       "          -4.86302230e-04]],\n",
       "\n",
       "        [[ 7.02648571e-01,  2.81387769e-02,  0.00000000e+00,\n",
       "           1.90568765e-03],\n",
       "         [ 7.10822614e-01,  3.75995813e-02,  0.00000000e+00,\n",
       "           1.72524651e-03],\n",
       "         [ 7.19087128e-01,  4.97931950e-02,  0.00000000e+00,\n",
       "           1.72060097e-03],\n",
       "         ...,\n",
       "         [ 4.23529406e-01,  0.00000000e+00,  0.00000000e+00,\n",
       "          -4.75949283e-04],\n",
       "         [ 4.23529412e-01,  0.00000000e+00,  0.00000000e+00,\n",
       "          -4.77796588e-04],\n",
       "         [ 4.23529412e-01,  0.00000000e+00,  0.00000000e+00,\n",
       "          -4.90999456e-04]],\n",
       "\n",
       "        [[ 6.99599703e-01,  2.50898986e-02,  0.00000000e+00,\n",
       "           2.02685010e-03],\n",
       "         [ 7.08455886e-01,  3.52328465e-02,  0.00000000e+00,\n",
       "           1.45348638e-03],\n",
       "         [ 7.18014707e-01,  4.74264740e-02,  0.00000000e+00,\n",
       "           1.49617592e-03],\n",
       "         ...,\n",
       "         [ 4.23529412e-01,  0.00000000e+00,  0.00000000e+00,\n",
       "          -4.78116087e-04],\n",
       "         [ 4.23529412e-01,  0.00000000e+00,  0.00000000e+00,\n",
       "          -4.83330704e-04],\n",
       "         [ 4.23529412e-01,  0.00000000e+00,  0.00000000e+00,\n",
       "          -5.04436271e-04]]],\n",
       "\n",
       "\n",
       "       [[[ 6.60309177e-01,  1.75046529e-03,  0.00000000e+00,\n",
       "           2.07050852e-03],\n",
       "         [ 6.82055910e-01,  4.96025397e-03,  0.00000000e+00,\n",
       "           2.42684308e-03],\n",
       "         [ 6.93719471e-01,  1.50890082e-02,  0.00000000e+00,\n",
       "           2.48803391e-03],\n",
       "         ...,\n",
       "         [ 5.96867371e-01,  0.00000000e+00,  0.00000000e+00,\n",
       "           3.04357094e-03],\n",
       "         [ 5.96867368e-01,  0.00000000e+00,  0.00000000e+00,\n",
       "           3.10512805e-03],\n",
       "         [ 6.09432666e-01,  0.00000000e+00,  0.00000000e+00,\n",
       "           3.14678678e-03]],\n",
       "\n",
       "        [[ 6.98965948e-01,  2.29013621e-02,  0.00000000e+00,\n",
       "           2.35766336e-03],\n",
       "         [ 7.07748217e-01,  3.37469249e-02,  0.00000000e+00,\n",
       "           2.74972144e-03],\n",
       "         [ 7.15716902e-01,  4.67908487e-02,  0.00000000e+00,\n",
       "           2.80513506e-03],\n",
       "         ...,\n",
       "         [ 6.04955343e-01,  0.00000000e+00,  0.00000000e+00,\n",
       "           2.96869769e-03],\n",
       "         [ 6.02366738e-01,  0.00000000e+00,  0.00000000e+00,\n",
       "           3.00696013e-03],\n",
       "         [ 6.07244171e-01,  0.00000000e+00,  0.00000000e+00,\n",
       "           3.03419618e-03]],\n",
       "\n",
       "        [[ 7.18568806e-01,  5.14782156e-02,  0.00000000e+00,\n",
       "           2.36076444e-03],\n",
       "         [ 7.26799905e-01,  5.88160814e-02,  0.00000000e+00,\n",
       "           2.76829869e-03],\n",
       "         [ 7.33723925e-01,  7.09788097e-02,  0.00000000e+00,\n",
       "           2.83207893e-03],\n",
       "         ...,\n",
       "         [ 6.16110297e-01,  0.00000000e+00,  0.00000000e+00,\n",
       "           2.70998081e-03],\n",
       "         [ 6.11818207e-01,  0.00000000e+00,  0.00000000e+00,\n",
       "           3.00986954e-03],\n",
       "         [ 6.11810677e-01,  0.00000000e+00,  0.00000000e+00,\n",
       "           3.06796747e-03]],\n",
       "\n",
       "        ...,\n",
       "\n",
       "        [[ 8.08274559e-01,  1.69508274e-01,  0.00000000e+00,\n",
       "           1.66210871e-03],\n",
       "         [ 8.14353685e-01,  1.80346326e-01,  0.00000000e+00,\n",
       "           1.27796145e-03],\n",
       "         [ 8.21752451e-01,  1.92511918e-01,  0.00000000e+00,\n",
       "           1.26130113e-03],\n",
       "         ...,\n",
       "         [ 4.54878966e-01,  0.00000000e+00,  0.00000000e+00,\n",
       "          -1.06305293e-03],\n",
       "         [ 4.52259623e-01,  0.00000000e+00,  0.00000000e+00,\n",
       "          -1.06231547e-03],\n",
       "         [ 4.50980409e-01,  0.00000000e+00,  0.00000000e+00,\n",
       "          -1.02858836e-03]],\n",
       "\n",
       "        [[ 8.03224577e-01,  1.64437811e-01,  0.00000000e+00,\n",
       "           2.05837371e-03],\n",
       "         [ 8.12783391e-01,  1.77999453e-01,  0.00000000e+00,\n",
       "           1.91015449e-03],\n",
       "         [ 8.21047909e-01,  1.87752639e-01,  0.00000000e+00,\n",
       "           1.93712548e-03],\n",
       "         ...,\n",
       "         [ 4.54901961e-01,  0.00000000e+00,  0.00000000e+00,\n",
       "          -1.04905180e-03],\n",
       "         [ 4.54901954e-01,  0.00000000e+00,  0.00000000e+00,\n",
       "          -1.04657891e-03],\n",
       "         [ 4.54901951e-01,  0.00000000e+00,  0.00000000e+00,\n",
       "          -1.05252056e-03]],\n",
       "\n",
       "        [[ 8.00857847e-01,  1.61728450e-01,  0.00000000e+00,\n",
       "           2.23207918e-03],\n",
       "         [ 8.10416670e-01,  1.73276680e-01,  0.00000000e+00,\n",
       "           1.81928452e-03],\n",
       "         [ 8.18262332e-01,  1.83325699e-01,  0.00000000e+00,\n",
       "           1.52155582e-03],\n",
       "         ...,\n",
       "         [ 4.54901961e-01,  0.00000000e+00,  0.00000000e+00,\n",
       "          -1.05885571e-03],\n",
       "         [ 4.54901961e-01,  0.00000000e+00,  0.00000000e+00,\n",
       "          -1.04532943e-03],\n",
       "         [ 4.54901961e-01,  0.00000000e+00,  0.00000000e+00,\n",
       "          -1.05669534e-03]]]])"
      ]
     },
     "execution_count": 18,
     "metadata": {},
     "output_type": "execute_result"
    }
   ],
   "source": [
    "train_input"
   ]
  },
  {
   "cell_type": "code",
   "execution_count": 14,
   "metadata": {
    "colab": {
     "base_uri": "https://localhost:8080/"
    },
    "executionInfo": {
     "elapsed": 30676,
     "status": "ok",
     "timestamp": 1728043129266,
     "user": {
      "displayName": "Ruth Parajó Ferrer",
      "userId": "07031545869212809064"
     },
     "user_tz": -120
    },
    "id": "u7bthHy6jG2B",
    "outputId": "18b85ee6-02a9-4b14-f225-b96992a43e7f"
   },
   "outputs": [
    {
     "name": "stdout",
     "output_type": "stream",
     "text": [
      "Epoch 1/10\n",
      "\u001b[1m7/7\u001b[0m \u001b[32m━━━━━━━━━━━━━━━━━━━━\u001b[0m\u001b[37m\u001b[0m \u001b[1m2s\u001b[0m 122ms/step - loss: nan - mae: nan - val_loss: nan - val_mae: nan\n",
      "Epoch 2/10\n",
      "\u001b[1m7/7\u001b[0m \u001b[32m━━━━━━━━━━━━━━━━━━━━\u001b[0m\u001b[37m\u001b[0m \u001b[1m1s\u001b[0m 105ms/step - loss: nan - mae: nan - val_loss: nan - val_mae: nan\n",
      "Epoch 3/10\n",
      "\u001b[1m7/7\u001b[0m \u001b[32m━━━━━━━━━━━━━━━━━━━━\u001b[0m\u001b[37m\u001b[0m \u001b[1m1s\u001b[0m 92ms/step - loss: nan - mae: nan - val_loss: nan - val_mae: nan\n",
      "Epoch 4/10\n",
      "\u001b[1m7/7\u001b[0m \u001b[32m━━━━━━━━━━━━━━━━━━━━\u001b[0m\u001b[37m\u001b[0m \u001b[1m1s\u001b[0m 96ms/step - loss: nan - mae: nan - val_loss: nan - val_mae: nan\n",
      "Epoch 5/10\n",
      "\u001b[1m7/7\u001b[0m \u001b[32m━━━━━━━━━━━━━━━━━━━━\u001b[0m\u001b[37m\u001b[0m \u001b[1m1s\u001b[0m 90ms/step - loss: nan - mae: nan - val_loss: nan - val_mae: nan\n",
      "Epoch 6/10\n",
      "\u001b[1m7/7\u001b[0m \u001b[32m━━━━━━━━━━━━━━━━━━━━\u001b[0m\u001b[37m\u001b[0m \u001b[1m1s\u001b[0m 92ms/step - loss: nan - mae: nan - val_loss: nan - val_mae: nan\n",
      "Epoch 7/10\n",
      "\u001b[1m7/7\u001b[0m \u001b[32m━━━━━━━━━━━━━━━━━━━━\u001b[0m\u001b[37m\u001b[0m \u001b[1m1s\u001b[0m 85ms/step - loss: nan - mae: nan - val_loss: nan - val_mae: nan\n",
      "Epoch 8/10\n",
      "\u001b[1m7/7\u001b[0m \u001b[32m━━━━━━━━━━━━━━━━━━━━\u001b[0m\u001b[37m\u001b[0m \u001b[1m1s\u001b[0m 82ms/step - loss: nan - mae: nan - val_loss: nan - val_mae: nan\n",
      "Epoch 9/10\n",
      "\u001b[1m7/7\u001b[0m \u001b[32m━━━━━━━━━━━━━━━━━━━━\u001b[0m\u001b[37m\u001b[0m \u001b[1m1s\u001b[0m 102ms/step - loss: nan - mae: nan - val_loss: nan - val_mae: nan\n",
      "Epoch 10/10\n",
      "\u001b[1m7/7\u001b[0m \u001b[32m━━━━━━━━━━━━━━━━━━━━\u001b[0m\u001b[37m\u001b[0m \u001b[1m1s\u001b[0m 97ms/step - loss: nan - mae: nan - val_loss: nan - val_mae: nan\n"
     ]
    }
   ],
   "source": [
    "history = simplified_cnn_model.fit(train_input, train_target, batch_size=4, epochs=10, validation_data=(validation_input, validation_target))"
   ]
  },
  {
   "cell_type": "code",
   "execution_count": 15,
   "metadata": {
    "colab": {
     "base_uri": "https://localhost:8080/",
     "height": 487
    },
    "executionInfo": {
     "elapsed": 575,
     "status": "ok",
     "timestamp": 1728046187777,
     "user": {
      "displayName": "Ruth Parajó Ferrer",
      "userId": "07031545869212809064"
     },
     "user_tz": -120
    },
    "id": "EajYGsQBjG2G",
    "outputId": "1b005f05-2bee-4259-af17-0382a232a40c"
   },
   "outputs": [
    {
     "data": {
      "image/png": "[encoded data removed]",
      "text/plain": [
       "<Figure size 1600x500 with 1 Axes>"
      ]
     },
     "metadata": {},
     "output_type": "display_data"
    }
   ],
   "source": [
    "plt.figure(figsize=(16,5))\n",
    "#plt.clf\n",
    "plt.plot(history.history['loss'], label='train loss')\n",
    "plt.plot(history.history['val_loss'], label='validation loss')\n",
    "plt.title('Simpler CNN MSE Loss during training --- lst+ndvi with wt stations target')\n",
    "plt.xlabel('Epoch')\n",
    "plt.ylabel('Loss (MSE)')\n",
    "plt.legend()\n",
    "plt.grid()\n",
    "plt.show()"
   ]
  },
  {
   "cell_type": "code",
   "execution_count": 17,
   "metadata": {},
   "outputs": [
    {
     "data": {
      "text/plain": [
       "<Figure size 640x480 with 0 Axes>"
      ]
     },
     "metadata": {},
     "output_type": "display_data"
    }
   ],
   "source": [
    "plt.savefig('../plots/cnn.png')"
   ]
  },
  {
   "cell_type": "code",
   "execution_count": null,
   "metadata": {
    "colab": {
     "base_uri": "https://localhost:8080/",
     "height": 472
    },
    "executionInfo": {
     "elapsed": 436,
     "status": "ok",
     "timestamp": 1728043130132,
     "user": {
      "displayName": "Ruth Parajó Ferrer",
      "userId": "07031545869212809064"
     },
     "user_tz": -120
    },
    "id": "0EYej4lojG2G",
    "outputId": "ea68cef6-398f-422a-8401-e6c02609ee06"
   },
   "outputs": [],
   "source": [
    "plt.plot(history.history['mae'], label='Training MAE')\n",
    "plt.plot(history.history['val_mae'], label='Validation MAE')\n",
    "plt.title('MAE during training')\n",
    "plt.xlabel('Epoch')\n",
    "plt.ylabel('MAE')\n",
    "plt.legend()\n",
    "plt.show()"
   ]
  },
  {
   "cell_type": "markdown",
   "metadata": {
    "id": "uv2k19g5jG2H"
   },
   "source": [
    "#### Validate and test"
   ]
  },
  {
   "cell_type": "code",
   "execution_count": null,
   "metadata": {
    "colab": {
     "base_uri": "https://localhost:8080/"
    },
    "executionInfo": {
     "elapsed": 14,
     "status": "ok",
     "timestamp": 1728043130132,
     "user": {
      "displayName": "Ruth Parajó Ferrer",
      "userId": "07031545869212809064"
     },
     "user_tz": -120
    },
    "id": "k5ZpNwa3jG2H",
    "outputId": "208dce19-d025-45ec-e75a-32b6b68b4426"
   },
   "outputs": [],
   "source": [
    "# Evaluar el modelo en el conjunto de validación\n",
    "loss, mae = simplified_cnn_model.evaluate(validation_input, validation_target)\n",
    "\n",
    "print(f'Pérdida (MSE) en validación: {loss}')\n",
    "print(f'MAE en validación: {mae}')"
   ]
  },
  {
   "cell_type": "code",
   "execution_count": null,
   "metadata": {
    "colab": {
     "base_uri": "https://localhost:8080/"
    },
    "executionInfo": {
     "elapsed": 285,
     "status": "ok",
     "timestamp": 1728043130408,
     "user": {
      "displayName": "Ruth Parajó Ferrer",
      "userId": "07031545869212809064"
     },
     "user_tz": -120
    },
    "id": "miE4GCrhjG2H",
    "outputId": "11eebefb-cdba-43f8-e2c3-59d3ef2a997e"
   },
   "outputs": [],
   "source": [
    "validation_prediction = simplified_cnn_model.predict(validation_input)\n",
    "test_prediction = simplified_cnn_model.predict(test_input)"
   ]
  },
  {
   "cell_type": "code",
   "execution_count": null,
   "metadata": {
    "executionInfo": {
     "elapsed": 6,
     "status": "ok",
     "timestamp": 1728043130408,
     "user": {
      "displayName": "Ruth Parajó Ferrer",
      "userId": "07031545869212809064"
     },
     "user_tz": -120
    },
    "id": "FOX2K6pJjG2H"
   },
   "outputs": [],
   "source": [
    "validation_target_flat = validation_target.reshape(-1)\n",
    "validation_prediction_flat = validation_prediction.reshape(-1)\n",
    "\n",
    "test_target_flat = test_target.reshape(-1)\n",
    "test_prediction_flat = test_prediction.reshape(-1)"
   ]
  },
  {
   "cell_type": "code",
   "execution_count": null,
   "metadata": {
    "executionInfo": {
     "elapsed": 6,
     "status": "ok",
     "timestamp": 1728043130409,
     "user": {
      "displayName": "Ruth Parajó Ferrer",
      "userId": "07031545869212809064"
     },
     "user_tz": -120
    },
    "id": "wU7qPMTkjG2I"
   },
   "outputs": [],
   "source": [
    "val_target_mask = validation_target_flat[validation_target_flat!= 0]\n",
    "val_pred_mask = validation_prediction_flat[validation_target_flat!= 0]\n",
    "test_target_mask = test_target_flat[test_target_flat!= 0]\n",
    "test_pred_mask = test_prediction_flat[test_target_flat!= 0]"
   ]
  },
  {
   "cell_type": "markdown",
   "metadata": {
    "id": "-YAROqgSjG2I"
   },
   "source": [
    "Overall results"
   ]
  },
  {
   "cell_type": "code",
   "execution_count": null,
   "metadata": {
    "colab": {
     "base_uri": "https://localhost:8080/"
    },
    "executionInfo": {
     "elapsed": 6472,
     "status": "ok",
     "timestamp": 1728043136876,
     "user": {
      "displayName": "Ruth Parajó Ferrer",
      "userId": "07031545869212809064"
     },
     "user_tz": -120
    },
    "id": "lVcLmTMFjG2I",
    "outputId": "5c5e0965-0944-453b-e753-dfcb40c4d033"
   },
   "outputs": [],
   "source": [
    "results = evaluate_model(val_target_mask, val_pred_mask)\n",
    "print('Validation results')\n",
    "for k,v in results.items():\n",
    "  print(k,':',v)"
   ]
  },
  {
   "cell_type": "code",
   "execution_count": null,
   "metadata": {
    "colab": {
     "base_uri": "https://localhost:8080/"
    },
    "executionInfo": {
     "elapsed": 4789,
     "status": "ok",
     "timestamp": 1728043141662,
     "user": {
      "displayName": "Ruth Parajó Ferrer",
      "userId": "07031545869212809064"
     },
     "user_tz": -120
    },
    "id": "0VmaP5xbjG2I",
    "outputId": "4aec7467-90cd-4147-fd0e-758ac58e03c5"
   },
   "outputs": [],
   "source": [
    "results = evaluate_model(test_target_mask, test_pred_mask)\n",
    "print('Test results')\n",
    "for k,v in results.items():\n",
    "  print(k,':',v)"
   ]
  },
  {
   "cell_type": "markdown",
   "metadata": {
    "id": "ow08ZqWsjG2J"
   },
   "source": [
    "Image wise metrics results"
   ]
  },
  {
   "cell_type": "code",
   "execution_count": null,
   "metadata": {
    "colab": {
     "base_uri": "https://localhost:8080/"
    },
    "executionInfo": {
     "elapsed": 4930,
     "status": "ok",
     "timestamp": 1728043146586,
     "user": {
      "displayName": "Ruth Parajó Ferrer",
      "userId": "07031545869212809064"
     },
     "user_tz": -120
    },
    "id": "Mr8a5xORjG2J",
    "outputId": "f1287163-2721-494b-9703-ef45a7636792"
   },
   "outputs": [],
   "source": [
    "c = 0\n",
    "mean_results = {k:[] for k in results.keys()}\n",
    "# Loop through each sample and compute the MSE for that sample\n",
    "for i in range(test_target.shape[0]):\n",
    "    samples_per_image = test_target.shape[1]*test_target.shape[2]\n",
    "    # Flatten the true and predicted values for this sample\n",
    "    y_true_flatten = test_target_flat[c:c+samples_per_image]\n",
    "    y_true_mask = y_true_flatten[y_true_flatten!= 0]\n",
    "\n",
    "    y_pred_flatten = test_prediction_flat[c:c+samples_per_image]\n",
    "    y_pred_mask = y_pred_flatten[y_true_flatten!= 0]\n",
    "\n",
    "    #print(y_true_flatten.shape,y_pred_flatten.shape)\n",
    "    # Calculate MSE for this sample\n",
    "    mse = mean_squared_error(y_true_mask, y_pred_mask)\n",
    "    res = evaluate_model(y_true_mask, y_pred_mask)\n",
    "\n",
    "    for k,v in res.items():\n",
    "      mean_results[k].append(v)\n",
    "\n",
    "\n",
    "    c += samples_per_image\n",
    "\n",
    "for key in mean_results:\n",
    "    mean_results[key] = np.mean(mean_results[key])\n",
    "\n",
    "print(mean_results)"
   ]
  },
  {
   "cell_type": "markdown",
   "metadata": {
    "id": "RbJ77fRFjG2J"
   },
   "source": [
    "See what are the areas with more prediction error"
   ]
  },
  {
   "cell_type": "code",
   "execution_count": null,
   "metadata": {
    "executionInfo": {
     "elapsed": 17,
     "status": "ok",
     "timestamp": 1728043146586,
     "user": {
      "displayName": "Ruth Parajó Ferrer",
      "userId": "07031545869212809064"
     },
     "user_tz": -120
    },
    "id": "epIAOcpDjG2J"
   },
   "outputs": [],
   "source": [
    "diff = validation_prediction - validation_target"
   ]
  },
  {
   "cell_type": "code",
   "execution_count": null,
   "metadata": {
    "colab": {
     "base_uri": "https://localhost:8080/",
     "height": 1000
    },
    "executionInfo": {
     "elapsed": 4054,
     "status": "ok",
     "timestamp": 1728043150628,
     "user": {
      "displayName": "Ruth Parajó Ferrer",
      "userId": "07031545869212809064"
     },
     "user_tz": -120
    },
    "id": "SqvaSLQhjtR6",
    "outputId": "4d3a25c8-67ba-434a-ef58-cf84d17905af"
   },
   "outputs": [],
   "source": [
    "for i in range(diff.shape[0]):\n",
    "  sns.heatmap(diff[i], cmap='coolwarm')\n",
    "  plt.title('Prediction Error Heatmap')\n",
    "  plt.show()"
   ]
  },
  {
   "cell_type": "markdown",
   "metadata": {
    "id": "42nOYweqjG2K"
   },
   "source": [
    "Dispersion graph and histogram of prediction errors"
   ]
  },
  {
   "cell_type": "code",
   "execution_count": null,
   "metadata": {
    "colab": {
     "base_uri": "https://localhost:8080/",
     "height": 927
    },
    "executionInfo": {
     "elapsed": 831,
     "status": "ok",
     "timestamp": 1728043151456,
     "user": {
      "displayName": "Ruth Parajó Ferrer",
      "userId": "07031545869212809064"
     },
     "user_tz": -120
    },
    "id": "AtO-_TdpjG2K",
    "outputId": "c077eb5e-f4e6-4156-f9f2-55468aa1b0fd"
   },
   "outputs": [],
   "source": [
    "from sklearn.metrics import mean_squared_error, mean_absolute_error, r2_score\n",
    "\n",
    "# Supongamos que y_true son tus valores reales y y_pred son tus predicciones\n",
    "y_true = validation_target_flat # Valores reales\n",
    "y_pred = validation_prediction_flat  # Predicciones del modelo\n",
    "\n",
    "# Visualización\n",
    "plt.scatter(y_true, y_pred)\n",
    "plt.xlabel('True Values')\n",
    "plt.ylabel('Predictions')\n",
    "plt.plot([min(y_true), max(y_true)], [min(y_true), max(y_true)], 'r--')\n",
    "plt.title('True Values vs Predictions')\n",
    "plt.show()\n",
    "\n",
    "# Histograma de errores\n",
    "errors = y_pred - y_true\n",
    "plt.hist(errors, bins=30)\n",
    "plt.xlabel('Error')\n",
    "plt.ylabel('Frequency')\n",
    "plt.title('Histogram of Prediction Errors')\n",
    "plt.show()\n"
   ]
  },
  {
   "cell_type": "markdown",
   "metadata": {
    "id": "055TyxlXjG2K"
   },
   "source": [
    "#### Save model results"
   ]
  },
  {
   "cell_type": "code",
   "execution_count": null,
   "metadata": {
    "executionInfo": {
     "elapsed": 1461,
     "status": "ok",
     "timestamp": 1728043152915,
     "user": {
      "displayName": "Ruth Parajó Ferrer",
      "userId": "07031545869212809064"
     },
     "user_tz": -120
    },
    "id": "bV-8wjljjG2K"
   },
   "outputs": [],
   "source": [
    "model_name = \"CNN_Simpler_model\"\n",
    "details = {'Input': '34 lst+ndvi scaled', 'Output': 'Water stations', 'Resolution': 256, 'Batch size': 4, 'Epochs': 10}\n",
    "\n",
    "file_path = \"../results/model_results_img_wise.xlsx\"\n",
    "save_excel(file_path, model_name, final_mean_results, excel = 'Results')\n",
    "\n",
    "file_path = \"../results/model_details.xlsx\"\n",
    "save_excel(file_path, model_name, details, excel = 'Details')"
   ]
  }
 ],
 "metadata": {
  "colab": {
   "authorship_tag": "ABX9TyMOhs4aAZ7i01xBD4Eg2RuL",
   "provenance": [],
   "toc_visible": true
  },
  "kernelspec": {
   "display_name": "Python 3 (ipykernel)",
   "language": "python",
   "name": "python3"
  },
  "language_info": {
   "codemirror_mode": {
    "name": "ipython",
    "version": 3
   },
   "file_extension": ".py",
   "mimetype": "text/x-python",
   "name": "python",
   "nbconvert_exporter": "python",
   "pygments_lexer": "ipython3",
   "version": "3.12.4"
  }
 },
 "nbformat": 4,
 "nbformat_minor": 4
}

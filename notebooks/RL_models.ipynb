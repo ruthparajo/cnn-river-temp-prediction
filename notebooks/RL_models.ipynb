{
 "cells": [
  {
   "cell_type": "code",
   "execution_count": 76,
   "metadata": {},
   "outputs": [],
   "source": [
    "from functions import *"
   ]
  },
  {
   "cell_type": "code",
   "execution_count": 77,
   "metadata": {},
   "outputs": [],
   "source": [
    "import matplotlib.pyplot as plt\n",
    "import glob\n",
    "from skimage.transform import resize\n",
    "from sklearn.model_selection import train_test_split\n",
    "from sklearn.linear_model import LinearRegression\n",
    "import geopandas as gpd\n",
    "from sklearn.metrics import mean_absolute_error, mean_squared_error, r2_score\n",
    "import matplotlib\n",
    "import seaborn as sns\n",
    "from sklearn.model_selection import KFold\n",
    "from sklearn.preprocessing import StandardScaler"
   ]
  },
  {
   "cell_type": "markdown",
   "metadata": {
    "id": "ubSmmp66XgOw"
   },
   "source": [
    "## Load data"
   ]
  },
  {
   "cell_type": "code",
   "execution_count": 26,
   "metadata": {
    "executionInfo": {
     "elapsed": 284,
     "status": "ok",
     "timestamp": 1728292465764,
     "user": {
      "displayName": "Ruth Parajó Ferrer",
      "userId": "07031545869212809064"
     },
     "user_tz": -120
    },
    "id": "E40EIflanDPb"
   },
   "outputs": [],
   "source": [
    "lst = '../data/preprocessed/lst'\n",
    "wt = '../data/preprocessed/wt'\n",
    "wt_interpolated = '../data/preprocessed/wt_interpolated'\n",
    "masked = '../data/preprocessed/lst/masked'\n",
    "ndvi = '../data/preprocessed/ndvi'"
   ]
  },
  {
   "cell_type": "code",
   "execution_count": 29,
   "metadata": {
    "colab": {
     "base_uri": "https://localhost:8080/",
     "height": 299
    },
    "executionInfo": {
     "elapsed": 293,
     "status": "error",
     "timestamp": 1728301785313,
     "user": {
      "displayName": "Ruth Parajó Ferrer",
      "userId": "07031545869212809064"
     },
     "user_tz": -120
    },
    "id": "Fwc1trCzyeBE",
    "outputId": "a3569c39-52c9-4de0-ef55-b04faf454288"
   },
   "outputs": [],
   "source": [
    "lst_df = pd.read_csv(f'{lst}/leboiron_lst.csv',index_col=0)\n",
    "targets_df = pd.read_csv(f'{wt}/leboiron_wt.csv',index_col=0)\n",
    "#targets_df = pd.read_csv(f'{wt_interpolated}/leboiron_wt_interpolated.csv',index_col=0)"
   ]
  },
  {
   "cell_type": "code",
   "execution_count": 30,
   "metadata": {
    "executionInfo": {
     "elapsed": 300,
     "status": "ok",
     "timestamp": 1728303749020,
     "user": {
      "displayName": "Ruth Parajó Ferrer",
      "userId": "07031545869212809064"
     },
     "user_tz": -120
    },
    "id": "BJ6C33pmPxG-"
   },
   "outputs": [],
   "source": [
    "use_ndvi = True\n",
    "if use_ndvi:\n",
    "  ndvi_df = pd.read_csv(f'{ndvi}/leboiron_ndvi.csv',index_col=0)\n",
    "  df_combined = pd.concat([lst_df, ndvi_df], axis=1)\n",
    "  train_input, train_target, validation_input, validation_target, test_input, test_target = split_data_df(df_combined, targets_df)\n",
    "  X = df_combined\n",
    "\n",
    "else:\n",
    "  train_input, train_target, validation_input, validation_target, test_input, test_target = split_data_df(lst_df, targets_df)\n",
    "  X = lst_df\n",
    "\n",
    "y = targets_df"
   ]
  },
  {
   "cell_type": "markdown",
   "metadata": {
    "id": "w2Aio70ZzzpM"
   },
   "source": [
    "## Linear Regression model"
   ]
  },
  {
   "cell_type": "code",
   "execution_count": 31,
   "metadata": {
    "colab": {
     "base_uri": "https://localhost:8080/",
     "height": 80
    },
    "executionInfo": {
     "elapsed": 2883,
     "status": "ok",
     "timestamp": 1728292480416,
     "user": {
      "displayName": "Ruth Parajó Ferrer",
      "userId": "07031545869212809064"
     },
     "user_tz": -120
    },
    "id": "fHYs4WJ8zzG3",
    "outputId": "dd6bf170-3c65-45d6-80c1-cc5c3a7be143"
   },
   "outputs": [
    {
     "data": {
      "text/html": [
       "<style>#sk-container-id-1 {\n",
       "  /* Definition of color scheme common for light and dark mode */\n",
       "  --sklearn-color-text: black;\n",
       "  --sklearn-color-line: gray;\n",
       "  /* Definition of color scheme for unfitted estimators */\n",
       "  --sklearn-color-unfitted-level-0: #fff5e6;\n",
       "  --sklearn-color-unfitted-level-1: #f6e4d2;\n",
       "  --sklearn-color-unfitted-level-2: #ffe0b3;\n",
       "  --sklearn-color-unfitted-level-3: chocolate;\n",
       "  /* Definition of color scheme for fitted estimators */\n",
       "  --sklearn-color-fitted-level-0: #f0f8ff;\n",
       "  --sklearn-color-fitted-level-1: #d4ebff;\n",
       "  --sklearn-color-fitted-level-2: #b3dbfd;\n",
       "  --sklearn-color-fitted-level-3: cornflowerblue;\n",
       "\n",
       "  /* Specific color for light theme */\n",
       "  --sklearn-color-text-on-default-background: var(--sg-text-color, var(--theme-code-foreground, var(--jp-content-font-color1, black)));\n",
       "  --sklearn-color-background: var(--sg-background-color, var(--theme-background, var(--jp-layout-color0, white)));\n",
       "  --sklearn-color-border-box: var(--sg-text-color, var(--theme-code-foreground, var(--jp-content-font-color1, black)));\n",
       "  --sklearn-color-icon: #696969;\n",
       "\n",
       "  @media (prefers-color-scheme: dark) {\n",
       "    /* Redefinition of color scheme for dark theme */\n",
       "    --sklearn-color-text-on-default-background: var(--sg-text-color, var(--theme-code-foreground, var(--jp-content-font-color1, white)));\n",
       "    --sklearn-color-background: var(--sg-background-color, var(--theme-background, var(--jp-layout-color0, #111)));\n",
       "    --sklearn-color-border-box: var(--sg-text-color, var(--theme-code-foreground, var(--jp-content-font-color1, white)));\n",
       "    --sklearn-color-icon: #878787;\n",
       "  }\n",
       "}\n",
       "\n",
       "#sk-container-id-1 {\n",
       "  color: var(--sklearn-color-text);\n",
       "}\n",
       "\n",
       "#sk-container-id-1 pre {\n",
       "  padding: 0;\n",
       "}\n",
       "\n",
       "#sk-container-id-1 input.sk-hidden--visually {\n",
       "  border: 0;\n",
       "  clip: rect(1px 1px 1px 1px);\n",
       "  clip: rect(1px, 1px, 1px, 1px);\n",
       "  height: 1px;\n",
       "  margin: -1px;\n",
       "  overflow: hidden;\n",
       "  padding: 0;\n",
       "  position: absolute;\n",
       "  width: 1px;\n",
       "}\n",
       "\n",
       "#sk-container-id-1 div.sk-dashed-wrapped {\n",
       "  border: 1px dashed var(--sklearn-color-line);\n",
       "  margin: 0 0.4em 0.5em 0.4em;\n",
       "  box-sizing: border-box;\n",
       "  padding-bottom: 0.4em;\n",
       "  background-color: var(--sklearn-color-background);\n",
       "}\n",
       "\n",
       "#sk-container-id-1 div.sk-container {\n",
       "  /* jupyter's `normalize.less` sets `[hidden] { display: none; }`\n",
       "     but bootstrap.min.css set `[hidden] { display: none !important; }`\n",
       "     so we also need the `!important` here to be able to override the\n",
       "     default hidden behavior on the sphinx rendered scikit-learn.org.\n",
       "     See: https://github.com/scikit-learn/scikit-learn/issues/21755 */\n",
       "  display: inline-block !important;\n",
       "  position: relative;\n",
       "}\n",
       "\n",
       "#sk-container-id-1 div.sk-text-repr-fallback {\n",
       "  display: none;\n",
       "}\n",
       "\n",
       "div.sk-parallel-item,\n",
       "div.sk-serial,\n",
       "div.sk-item {\n",
       "  /* draw centered vertical line to link estimators */\n",
       "  background-image: linear-gradient(var(--sklearn-color-text-on-default-background), var(--sklearn-color-text-on-default-background));\n",
       "  background-size: 2px 100%;\n",
       "  background-repeat: no-repeat;\n",
       "  background-position: center center;\n",
       "}\n",
       "\n",
       "/* Parallel-specific style estimator block */\n",
       "\n",
       "#sk-container-id-1 div.sk-parallel-item::after {\n",
       "  content: \"\";\n",
       "  width: 100%;\n",
       "  border-bottom: 2px solid var(--sklearn-color-text-on-default-background);\n",
       "  flex-grow: 1;\n",
       "}\n",
       "\n",
       "#sk-container-id-1 div.sk-parallel {\n",
       "  display: flex;\n",
       "  align-items: stretch;\n",
       "  justify-content: center;\n",
       "  background-color: var(--sklearn-color-background);\n",
       "  position: relative;\n",
       "}\n",
       "\n",
       "#sk-container-id-1 div.sk-parallel-item {\n",
       "  display: flex;\n",
       "  flex-direction: column;\n",
       "}\n",
       "\n",
       "#sk-container-id-1 div.sk-parallel-item:first-child::after {\n",
       "  align-self: flex-end;\n",
       "  width: 50%;\n",
       "}\n",
       "\n",
       "#sk-container-id-1 div.sk-parallel-item:last-child::after {\n",
       "  align-self: flex-start;\n",
       "  width: 50%;\n",
       "}\n",
       "\n",
       "#sk-container-id-1 div.sk-parallel-item:only-child::after {\n",
       "  width: 0;\n",
       "}\n",
       "\n",
       "/* Serial-specific style estimator block */\n",
       "\n",
       "#sk-container-id-1 div.sk-serial {\n",
       "  display: flex;\n",
       "  flex-direction: column;\n",
       "  align-items: center;\n",
       "  background-color: var(--sklearn-color-background);\n",
       "  padding-right: 1em;\n",
       "  padding-left: 1em;\n",
       "}\n",
       "\n",
       "\n",
       "/* Toggleable style: style used for estimator/Pipeline/ColumnTransformer box that is\n",
       "clickable and can be expanded/collapsed.\n",
       "- Pipeline and ColumnTransformer use this feature and define the default style\n",
       "- Estimators will overwrite some part of the style using the `sk-estimator` class\n",
       "*/\n",
       "\n",
       "/* Pipeline and ColumnTransformer style (default) */\n",
       "\n",
       "#sk-container-id-1 div.sk-toggleable {\n",
       "  /* Default theme specific background. It is overwritten whether we have a\n",
       "  specific estimator or a Pipeline/ColumnTransformer */\n",
       "  background-color: var(--sklearn-color-background);\n",
       "}\n",
       "\n",
       "/* Toggleable label */\n",
       "#sk-container-id-1 label.sk-toggleable__label {\n",
       "  cursor: pointer;\n",
       "  display: block;\n",
       "  width: 100%;\n",
       "  margin-bottom: 0;\n",
       "  padding: 0.5em;\n",
       "  box-sizing: border-box;\n",
       "  text-align: center;\n",
       "}\n",
       "\n",
       "#sk-container-id-1 label.sk-toggleable__label-arrow:before {\n",
       "  /* Arrow on the left of the label */\n",
       "  content: \"▸\";\n",
       "  float: left;\n",
       "  margin-right: 0.25em;\n",
       "  color: var(--sklearn-color-icon);\n",
       "}\n",
       "\n",
       "#sk-container-id-1 label.sk-toggleable__label-arrow:hover:before {\n",
       "  color: var(--sklearn-color-text);\n",
       "}\n",
       "\n",
       "/* Toggleable content - dropdown */\n",
       "\n",
       "#sk-container-id-1 div.sk-toggleable__content {\n",
       "  max-height: 0;\n",
       "  max-width: 0;\n",
       "  overflow: hidden;\n",
       "  text-align: left;\n",
       "  /* unfitted */\n",
       "  background-color: var(--sklearn-color-unfitted-level-0);\n",
       "}\n",
       "\n",
       "#sk-container-id-1 div.sk-toggleable__content.fitted {\n",
       "  /* fitted */\n",
       "  background-color: var(--sklearn-color-fitted-level-0);\n",
       "}\n",
       "\n",
       "#sk-container-id-1 div.sk-toggleable__content pre {\n",
       "  margin: 0.2em;\n",
       "  border-radius: 0.25em;\n",
       "  color: var(--sklearn-color-text);\n",
       "  /* unfitted */\n",
       "  background-color: var(--sklearn-color-unfitted-level-0);\n",
       "}\n",
       "\n",
       "#sk-container-id-1 div.sk-toggleable__content.fitted pre {\n",
       "  /* unfitted */\n",
       "  background-color: var(--sklearn-color-fitted-level-0);\n",
       "}\n",
       "\n",
       "#sk-container-id-1 input.sk-toggleable__control:checked~div.sk-toggleable__content {\n",
       "  /* Expand drop-down */\n",
       "  max-height: 200px;\n",
       "  max-width: 100%;\n",
       "  overflow: auto;\n",
       "}\n",
       "\n",
       "#sk-container-id-1 input.sk-toggleable__control:checked~label.sk-toggleable__label-arrow:before {\n",
       "  content: \"▾\";\n",
       "}\n",
       "\n",
       "/* Pipeline/ColumnTransformer-specific style */\n",
       "\n",
       "#sk-container-id-1 div.sk-label input.sk-toggleable__control:checked~label.sk-toggleable__label {\n",
       "  color: var(--sklearn-color-text);\n",
       "  background-color: var(--sklearn-color-unfitted-level-2);\n",
       "}\n",
       "\n",
       "#sk-container-id-1 div.sk-label.fitted input.sk-toggleable__control:checked~label.sk-toggleable__label {\n",
       "  background-color: var(--sklearn-color-fitted-level-2);\n",
       "}\n",
       "\n",
       "/* Estimator-specific style */\n",
       "\n",
       "/* Colorize estimator box */\n",
       "#sk-container-id-1 div.sk-estimator input.sk-toggleable__control:checked~label.sk-toggleable__label {\n",
       "  /* unfitted */\n",
       "  background-color: var(--sklearn-color-unfitted-level-2);\n",
       "}\n",
       "\n",
       "#sk-container-id-1 div.sk-estimator.fitted input.sk-toggleable__control:checked~label.sk-toggleable__label {\n",
       "  /* fitted */\n",
       "  background-color: var(--sklearn-color-fitted-level-2);\n",
       "}\n",
       "\n",
       "#sk-container-id-1 div.sk-label label.sk-toggleable__label,\n",
       "#sk-container-id-1 div.sk-label label {\n",
       "  /* The background is the default theme color */\n",
       "  color: var(--sklearn-color-text-on-default-background);\n",
       "}\n",
       "\n",
       "/* On hover, darken the color of the background */\n",
       "#sk-container-id-1 div.sk-label:hover label.sk-toggleable__label {\n",
       "  color: var(--sklearn-color-text);\n",
       "  background-color: var(--sklearn-color-unfitted-level-2);\n",
       "}\n",
       "\n",
       "/* Label box, darken color on hover, fitted */\n",
       "#sk-container-id-1 div.sk-label.fitted:hover label.sk-toggleable__label.fitted {\n",
       "  color: var(--sklearn-color-text);\n",
       "  background-color: var(--sklearn-color-fitted-level-2);\n",
       "}\n",
       "\n",
       "/* Estimator label */\n",
       "\n",
       "#sk-container-id-1 div.sk-label label {\n",
       "  font-family: monospace;\n",
       "  font-weight: bold;\n",
       "  display: inline-block;\n",
       "  line-height: 1.2em;\n",
       "}\n",
       "\n",
       "#sk-container-id-1 div.sk-label-container {\n",
       "  text-align: center;\n",
       "}\n",
       "\n",
       "/* Estimator-specific */\n",
       "#sk-container-id-1 div.sk-estimator {\n",
       "  font-family: monospace;\n",
       "  border: 1px dotted var(--sklearn-color-border-box);\n",
       "  border-radius: 0.25em;\n",
       "  box-sizing: border-box;\n",
       "  margin-bottom: 0.5em;\n",
       "  /* unfitted */\n",
       "  background-color: var(--sklearn-color-unfitted-level-0);\n",
       "}\n",
       "\n",
       "#sk-container-id-1 div.sk-estimator.fitted {\n",
       "  /* fitted */\n",
       "  background-color: var(--sklearn-color-fitted-level-0);\n",
       "}\n",
       "\n",
       "/* on hover */\n",
       "#sk-container-id-1 div.sk-estimator:hover {\n",
       "  /* unfitted */\n",
       "  background-color: var(--sklearn-color-unfitted-level-2);\n",
       "}\n",
       "\n",
       "#sk-container-id-1 div.sk-estimator.fitted:hover {\n",
       "  /* fitted */\n",
       "  background-color: var(--sklearn-color-fitted-level-2);\n",
       "}\n",
       "\n",
       "/* Specification for estimator info (e.g. \"i\" and \"?\") */\n",
       "\n",
       "/* Common style for \"i\" and \"?\" */\n",
       "\n",
       ".sk-estimator-doc-link,\n",
       "a:link.sk-estimator-doc-link,\n",
       "a:visited.sk-estimator-doc-link {\n",
       "  float: right;\n",
       "  font-size: smaller;\n",
       "  line-height: 1em;\n",
       "  font-family: monospace;\n",
       "  background-color: var(--sklearn-color-background);\n",
       "  border-radius: 1em;\n",
       "  height: 1em;\n",
       "  width: 1em;\n",
       "  text-decoration: none !important;\n",
       "  margin-left: 1ex;\n",
       "  /* unfitted */\n",
       "  border: var(--sklearn-color-unfitted-level-1) 1pt solid;\n",
       "  color: var(--sklearn-color-unfitted-level-1);\n",
       "}\n",
       "\n",
       ".sk-estimator-doc-link.fitted,\n",
       "a:link.sk-estimator-doc-link.fitted,\n",
       "a:visited.sk-estimator-doc-link.fitted {\n",
       "  /* fitted */\n",
       "  border: var(--sklearn-color-fitted-level-1) 1pt solid;\n",
       "  color: var(--sklearn-color-fitted-level-1);\n",
       "}\n",
       "\n",
       "/* On hover */\n",
       "div.sk-estimator:hover .sk-estimator-doc-link:hover,\n",
       ".sk-estimator-doc-link:hover,\n",
       "div.sk-label-container:hover .sk-estimator-doc-link:hover,\n",
       ".sk-estimator-doc-link:hover {\n",
       "  /* unfitted */\n",
       "  background-color: var(--sklearn-color-unfitted-level-3);\n",
       "  color: var(--sklearn-color-background);\n",
       "  text-decoration: none;\n",
       "}\n",
       "\n",
       "div.sk-estimator.fitted:hover .sk-estimator-doc-link.fitted:hover,\n",
       ".sk-estimator-doc-link.fitted:hover,\n",
       "div.sk-label-container:hover .sk-estimator-doc-link.fitted:hover,\n",
       ".sk-estimator-doc-link.fitted:hover {\n",
       "  /* fitted */\n",
       "  background-color: var(--sklearn-color-fitted-level-3);\n",
       "  color: var(--sklearn-color-background);\n",
       "  text-decoration: none;\n",
       "}\n",
       "\n",
       "/* Span, style for the box shown on hovering the info icon */\n",
       ".sk-estimator-doc-link span {\n",
       "  display: none;\n",
       "  z-index: 9999;\n",
       "  position: relative;\n",
       "  font-weight: normal;\n",
       "  right: .2ex;\n",
       "  padding: .5ex;\n",
       "  margin: .5ex;\n",
       "  width: min-content;\n",
       "  min-width: 20ex;\n",
       "  max-width: 50ex;\n",
       "  color: var(--sklearn-color-text);\n",
       "  box-shadow: 2pt 2pt 4pt #999;\n",
       "  /* unfitted */\n",
       "  background: var(--sklearn-color-unfitted-level-0);\n",
       "  border: .5pt solid var(--sklearn-color-unfitted-level-3);\n",
       "}\n",
       "\n",
       ".sk-estimator-doc-link.fitted span {\n",
       "  /* fitted */\n",
       "  background: var(--sklearn-color-fitted-level-0);\n",
       "  border: var(--sklearn-color-fitted-level-3);\n",
       "}\n",
       "\n",
       ".sk-estimator-doc-link:hover span {\n",
       "  display: block;\n",
       "}\n",
       "\n",
       "/* \"?\"-specific style due to the `<a>` HTML tag */\n",
       "\n",
       "#sk-container-id-1 a.estimator_doc_link {\n",
       "  float: right;\n",
       "  font-size: 1rem;\n",
       "  line-height: 1em;\n",
       "  font-family: monospace;\n",
       "  background-color: var(--sklearn-color-background);\n",
       "  border-radius: 1rem;\n",
       "  height: 1rem;\n",
       "  width: 1rem;\n",
       "  text-decoration: none;\n",
       "  /* unfitted */\n",
       "  color: var(--sklearn-color-unfitted-level-1);\n",
       "  border: var(--sklearn-color-unfitted-level-1) 1pt solid;\n",
       "}\n",
       "\n",
       "#sk-container-id-1 a.estimator_doc_link.fitted {\n",
       "  /* fitted */\n",
       "  border: var(--sklearn-color-fitted-level-1) 1pt solid;\n",
       "  color: var(--sklearn-color-fitted-level-1);\n",
       "}\n",
       "\n",
       "/* On hover */\n",
       "#sk-container-id-1 a.estimator_doc_link:hover {\n",
       "  /* unfitted */\n",
       "  background-color: var(--sklearn-color-unfitted-level-3);\n",
       "  color: var(--sklearn-color-background);\n",
       "  text-decoration: none;\n",
       "}\n",
       "\n",
       "#sk-container-id-1 a.estimator_doc_link.fitted:hover {\n",
       "  /* fitted */\n",
       "  background-color: var(--sklearn-color-fitted-level-3);\n",
       "}\n",
       "</style><div id=\"sk-container-id-1\" class=\"sk-top-container\"><div class=\"sk-text-repr-fallback\"><pre>LinearRegression()</pre><b>In a Jupyter environment, please rerun this cell to show the HTML representation or trust the notebook. <br />On GitHub, the HTML representation is unable to render, please try loading this page with nbviewer.org.</b></div><div class=\"sk-container\" hidden><div class=\"sk-item\"><div class=\"sk-estimator fitted sk-toggleable\"><input class=\"sk-toggleable__control sk-hidden--visually\" id=\"sk-estimator-id-1\" type=\"checkbox\" checked><label for=\"sk-estimator-id-1\" class=\"sk-toggleable__label fitted sk-toggleable__label-arrow fitted\">&nbsp;&nbsp;LinearRegression<a class=\"sk-estimator-doc-link fitted\" rel=\"noreferrer\" target=\"_blank\" href=\"https://scikit-learn.org/1.5/modules/generated/sklearn.linear_model.LinearRegression.html\">?<span>Documentation for LinearRegression</span></a><span class=\"sk-estimator-doc-link fitted\">i<span>Fitted</span></span></label><div class=\"sk-toggleable__content fitted\"><pre>LinearRegression()</pre></div> </div></div></div></div>"
      ],
      "text/plain": [
       "LinearRegression()"
      ]
     },
     "execution_count": 31,
     "metadata": {},
     "output_type": "execute_result"
    }
   ],
   "source": [
    "# Initialize the model\n",
    "model = LinearRegression()\n",
    "\n",
    "# Train the model using the training data\n",
    "model.fit(train_input, train_target)"
   ]
  },
  {
   "cell_type": "markdown",
   "metadata": {
    "id": "f6GZ8ESA0CR9"
   },
   "source": [
    "### Validate and test"
   ]
  },
  {
   "cell_type": "code",
   "execution_count": 32,
   "metadata": {
    "executionInfo": {
     "elapsed": 272,
     "status": "ok",
     "timestamp": 1728292482925,
     "user": {
      "displayName": "Ruth Parajó Ferrer",
      "userId": "07031545869212809064"
     },
     "user_tz": -120
    },
    "id": "oTbewe4Y0DgQ"
   },
   "outputs": [],
   "source": [
    "validation_prediction = model.predict(validation_input)"
   ]
  },
  {
   "cell_type": "code",
   "execution_count": 33,
   "metadata": {
    "colab": {
     "base_uri": "https://localhost:8080/"
    },
    "executionInfo": {
     "elapsed": 3,
     "status": "ok",
     "timestamp": 1728292483374,
     "user": {
      "displayName": "Ruth Parajó Ferrer",
      "userId": "07031545869212809064"
     },
     "user_tz": -120
    },
    "id": "f1xgoERm0Pdp",
    "outputId": "88a79b9b-4f07-43a7-a778-99b88c9babe4"
   },
   "outputs": [
    {
     "name": "stdout",
     "output_type": "stream",
     "text": [
      "MAE : 1.9649642118824169\n",
      "MSE : 11.725541000996524\n",
      "RMSE : 3.1965031882024233\n",
      "R² : -26.507661909122927\n",
      "MAPE (%) : 41.39929836572837\n",
      "MSE sample-wise : 10.217632632188257\n"
     ]
    }
   ],
   "source": [
    "results = evaluate_model(validation_target, validation_prediction)\n",
    "for k,v in results.items():\n",
    "  print(k,':',v)"
   ]
  },
  {
   "cell_type": "code",
   "execution_count": 34,
   "metadata": {
    "executionInfo": {
     "elapsed": 285,
     "status": "ok",
     "timestamp": 1728292486134,
     "user": {
      "displayName": "Ruth Parajó Ferrer",
      "userId": "07031545869212809064"
     },
     "user_tz": -120
    },
    "id": "CLwG4tWi0Rsb"
   },
   "outputs": [],
   "source": [
    "test_prediction = model.predict(test_input)"
   ]
  },
  {
   "cell_type": "code",
   "execution_count": 35,
   "metadata": {
    "colab": {
     "base_uri": "https://localhost:8080/"
    },
    "executionInfo": {
     "elapsed": 4,
     "status": "ok",
     "timestamp": 1728292487068,
     "user": {
      "displayName": "Ruth Parajó Ferrer",
      "userId": "07031545869212809064"
     },
     "user_tz": -120
    },
    "id": "SHw9Lgyt0Rsd",
    "outputId": "5eaf5d2b-1211-485a-85e1-fc1d9312eae3"
   },
   "outputs": [
    {
     "name": "stdout",
     "output_type": "stream",
     "text": [
      "MAE : 36.552524163004925\n",
      "MSE : 0.9262366198125097\n",
      "RMSE : 93.25547433650509\n",
      "R² : -4138.199884861886\n",
      "MAPE (%) : 1260.3321181535175\n",
      "MSE sample-wise : 8696.583493726559\n"
     ]
    }
   ],
   "source": [
    "results = evaluate_model(test_target, test_prediction)\n",
    "for k,v in results.items():\n",
    "  print(k,':',v)"
   ]
  },
  {
   "cell_type": "markdown",
   "metadata": {
    "id": "koCXnqBj4SFc"
   },
   "source": [
    "Image-wise error"
   ]
  },
  {
   "cell_type": "code",
   "execution_count": 37,
   "metadata": {
    "colab": {
     "base_uri": "https://localhost:8080/"
    },
    "executionInfo": {
     "elapsed": 5238,
     "status": "ok",
     "timestamp": 1728292493551,
     "user": {
      "displayName": "Ruth Parajó Ferrer",
      "userId": "07031545869212809064"
     },
     "user_tz": -120
    },
    "id": "IXiKXHC34RUg",
    "outputId": "fc49f7fa-312b-4f22-e461-7673d5e1e9ac"
   },
   "outputs": [
    {
     "name": "stdout",
     "output_type": "stream",
     "text": [
      "{'MAE': np.float64(36.552524163004925), 'MSE': np.float64(26636.296948254734), 'RMSE': np.float64(54.22580976001678), 'R²': np.float64(-890.7988755055293), 'MAPE (%)': np.float64(1260.3321181535177), 'MSE sample-wise': np.float64(8696.583493726559)}\n"
     ]
    }
   ],
   "source": [
    "c = 0\n",
    "mean_results = {k:[] for k in results.keys()}\n",
    "# Loop through each sample and compute the MSE for that sample\n",
    "for i in range(test_target.shape[0]):\n",
    "    res = evaluate_model(test_target[i], test_prediction[i])\n",
    "\n",
    "    for k,v in res.items():\n",
    "      mean_results[k].append(v)\n",
    "\n",
    "for key in mean_results:\n",
    "    mean_results[key] = np.mean(mean_results[key])\n",
    "\n",
    "print(mean_results)"
   ]
  },
  {
   "cell_type": "markdown",
   "metadata": {
    "id": "ljThE_rRTwz_"
   },
   "source": [
    "### K-fold cross-validation"
   ]
  },
  {
   "cell_type": "code",
   "execution_count": 234,
   "metadata": {
    "executionInfo": {
     "elapsed": 310,
     "status": "ok",
     "timestamp": 1728303327787,
     "user": {
      "displayName": "Ruth Parajó Ferrer",
      "userId": "07031545869212809064"
     },
     "user_tz": -120
    },
    "id": "ppKbIOKC4gxE"
   },
   "outputs": [],
   "source": [
    "scaler = StandardScaler()\n",
    "X_scaled = scaler.fit_transform(X)"
   ]
  },
  {
   "cell_type": "code",
   "execution_count": 235,
   "metadata": {
    "executionInfo": {
     "elapsed": 284,
     "status": "ok",
     "timestamp": 1728303329082,
     "user": {
      "displayName": "Ruth Parajó Ferrer",
      "userId": "07031545869212809064"
     },
     "user_tz": -120
    },
    "id": "AtetF1TZ4gxG"
   },
   "outputs": [],
   "source": [
    "df_scaled = pd.DataFrame(X_scaled, columns=X.columns)"
   ]
  },
  {
   "cell_type": "code",
   "execution_count": 237,
   "metadata": {
    "executionInfo": {
     "elapsed": 279,
     "status": "ok",
     "timestamp": 1728303341506,
     "user": {
      "displayName": "Ruth Parajó Ferrer",
      "userId": "07031545869212809064"
     },
     "user_tz": -120
    },
    "id": "h_BIya2PUAPY"
   },
   "outputs": [],
   "source": [
    "kf = KFold(n_splits=5, shuffle=True, random_state=42)\n",
    "\n",
    "model = LinearRegression()"
   ]
  },
  {
   "cell_type": "code",
   "execution_count": null,
   "metadata": {
    "colab": {
     "base_uri": "https://localhost:8080/"
    },
    "executionInfo": {
     "elapsed": 157458,
     "status": "ok",
     "timestamp": 1728303500609,
     "user": {
      "displayName": "Ruth Parajó Ferrer",
      "userId": "07031545869212809064"
     },
     "user_tz": -120
    },
    "id": "8C3XAptNT4Sd",
    "outputId": "ba934379-a16b-400a-f292-02aa24e8a1ed"
   },
   "outputs": [],
   "source": [
    "mean_results_kfold = {k:[] for k in results.keys()}  # Initialize empty lists for each metric\n",
    "\n",
    "# Iterate over the folds\n",
    "for train_index, test_index in kf.split(df_scaled):\n",
    "    X_train, X_test = df_scaled.iloc[train_index], df_scaled.iloc[test_index]\n",
    "    y_train, y_test = y.iloc[train_index], y.iloc[test_index]\n",
    "\n",
    "    # Train the model\n",
    "    model.fit(X_train, y_train)\n",
    "\n",
    "    # Predict on the test set\n",
    "    y_pred = model.predict(X_test)\n",
    "\n",
    "    # Initialize mean_results for this fold (to store per-image metrics)\n",
    "    mean_results = {k:[] for k in results.keys()}\n",
    "\n",
    "    # Iterate over each image in the test set\n",
    "    for i in range(y_test.shape[0]):  # For each image (row) in the test set\n",
    "        # Calculate the metrics for the image\n",
    "        results = evaluate_model(y_test.iloc[i], y_pred[i])\n",
    "\n",
    "        # Store the results for this image\n",
    "        for k, v in results.items():\n",
    "            mean_results[k].append(v)\n",
    "\n",
    "    # Compute the average metric for this fold and store in mean_results_kfold\n",
    "    for key in mean_results:\n",
    "        fold_mean = np.mean(mean_results[key])\n",
    "        mean_results_kfold[key].append(fold_mean)  # Append fold mean to global results\n"
   ]
  },
  {
   "cell_type": "code",
   "execution_count": 239,
   "metadata": {
    "colab": {
     "base_uri": "https://localhost:8080/"
    },
    "executionInfo": {
     "elapsed": 275,
     "status": "ok",
     "timestamp": 1728303562659,
     "user": {
      "displayName": "Ruth Parajó Ferrer",
      "userId": "07031545869212809064"
     },
     "user_tz": -120
    },
    "id": "LfSSg3mmYT_D",
    "outputId": "1d38c13f-72a3-46ff-aa76-5ed980b10388"
   },
   "outputs": [
    {
     "name": "stdout",
     "output_type": "stream",
     "text": [
      "Mitja de MAE amb  [0.8612343182104351, 0.7398277904991541, 0.9051862189083529, 0.895350218677993, 1.8012057555778933]\n",
      "Mitja de MSE amb  [8.398667425901058, 4.568961193558539, 6.646677108418028, 7.580710163148032, 26.48985264696239]\n",
      "Mitja de RMSE amb  [1.3085373208367461, 1.1102420370148605, 1.3726944183114747, 1.340271140161635, 2.6904679049631053]\n",
      "Mitja de R² amb  [-0.6719216788108401, 0.886939443652775, 0.8588310660372435, 0.812971846690092, -0.5566526233571706]\n",
      "Mitja de MAPE (%) amb  [76.27709869209333, 21.440777614430434, 25.226074670516628, 27.35165484606005, 79.85624985387128]\n",
      "Mitja de MSE sample-wise amb  [2.4003138959702404, 1.45158427078861, 2.312551932808536, 2.335678798308707, 8.10536525947038]\n"
     ]
    }
   ],
   "source": [
    "for key in mean_results_kfold:\n",
    "    print('Mitja de', key,'amb ', mean_results_kfold[key])\n",
    "\n",
    "final_mean_results = {k: np.mean(v) for k, v in mean_results_kfold.items()}\n"
   ]
  },
  {
   "cell_type": "code",
   "execution_count": 240,
   "metadata": {
    "colab": {
     "base_uri": "https://localhost:8080/"
    },
    "executionInfo": {
     "elapsed": 277,
     "status": "ok",
     "timestamp": 1728303565516,
     "user": {
      "displayName": "Ruth Parajó Ferrer",
      "userId": "07031545869212809064"
     },
     "user_tz": -120
    },
    "id": "uJGeZTsGYD9B",
    "outputId": "5d347627-3e53-4d05-a75d-b43892eaea12"
   },
   "outputs": [
    {
     "data": {
      "text/plain": [
       "{'MAE': 1.0405608603747658,\n",
       " 'MSE': 10.73697370759761,\n",
       " 'RMSE': 1.5644425642575643,\n",
       " 'R²': 0.26603361084241994,\n",
       " 'MAPE (%)': 46.03037113539434,\n",
       " 'MSE sample-wise': 3.321098831469295}"
      ]
     },
     "execution_count": 240,
     "metadata": {},
     "output_type": "execute_result"
    }
   ],
   "source": [
    "final_mean_results"
   ]
  },
  {
   "cell_type": "markdown",
   "metadata": {
    "id": "VrFL3c4L8fPn"
   },
   "source": [
    "### Save model results"
   ]
  },
  {
   "cell_type": "code",
   "execution_count": 57,
   "metadata": {
    "executionInfo": {
     "elapsed": 3331,
     "status": "ok",
     "timestamp": 1728303624896,
     "user": {
      "displayName": "Ruth Parajó Ferrer",
      "userId": "07031545869212809064"
     },
     "user_tz": -120
    },
    "id": "3t2vbRVI9w8t"
   },
   "outputs": [],
   "source": [
    "model_name = \"LR_7\"\n",
    "details = {'Input': 'RGB filtered lst+ndvi scaled', 'Output': 'Water stations', 'Resolution': 256, 'Batch size':'', 'Epochs':''}\n",
    "\n",
    "file_path = \"../results/model_results_img_wise.xlsx\"\n",
    "save_excel(file_path, model_name, final_mean_results, excel = 'Results')\n",
    "\n",
    "file_path = \"../results/model_details.xlsx\"\n",
    "save_excel(file_path, model_name, details, excel = 'Details')"
   ]
  },
  {
   "cell_type": "code",
   "execution_count": 112,
   "metadata": {},
   "outputs": [
    {
     "data": {
      "text/html": [
       "<div>\n",
       "<style scoped>\n",
       "    .dataframe tbody tr th:only-of-type {\n",
       "        vertical-align: middle;\n",
       "    }\n",
       "\n",
       "    .dataframe tbody tr th {\n",
       "        vertical-align: top;\n",
       "    }\n",
       "\n",
       "    .dataframe thead th {\n",
       "        text-align: right;\n",
       "    }\n",
       "</style>\n",
       "<table border=\"1\" class=\"dataframe\">\n",
       "  <thead>\n",
       "    <tr style=\"text-align: right;\">\n",
       "      <th></th>\n",
       "      <th>Model Name</th>\n",
       "      <th>MAE</th>\n",
       "      <th>MSE</th>\n",
       "      <th>RMSE</th>\n",
       "      <th>R²</th>\n",
       "      <th>MAPE (%)</th>\n",
       "      <th>MSE sample-wise</th>\n",
       "    </tr>\n",
       "  </thead>\n",
       "  <tbody>\n",
       "    <tr>\n",
       "      <th>0</th>\n",
       "      <td>LR_1</td>\n",
       "      <td>1.859391</td>\n",
       "      <td>28.733955</td>\n",
       "      <td>2.802144</td>\n",
       "      <td>0.617330</td>\n",
       "      <td>43.532711</td>\n",
       "      <td>8.834520</td>\n",
       "    </tr>\n",
       "    <tr>\n",
       "      <th>1</th>\n",
       "      <td>LR_2</td>\n",
       "      <td>1.136107</td>\n",
       "      <td>10.208490</td>\n",
       "      <td>1.708394</td>\n",
       "      <td>0.518126</td>\n",
       "      <td>46.942153</td>\n",
       "      <td>3.052657</td>\n",
       "    </tr>\n",
       "    <tr>\n",
       "      <th>2</th>\n",
       "      <td>LR_3</td>\n",
       "      <td>3.693705</td>\n",
       "      <td>537.045698</td>\n",
       "      <td>5.519793</td>\n",
       "      <td>-23.941264</td>\n",
       "      <td>147.748381</td>\n",
       "      <td>177.914441</td>\n",
       "    </tr>\n",
       "    <tr>\n",
       "      <th>3</th>\n",
       "      <td>Physics-based LR</td>\n",
       "      <td>2.598333</td>\n",
       "      <td>104.117442</td>\n",
       "      <td>3.922001</td>\n",
       "      <td>-7.539237</td>\n",
       "      <td>126.056267</td>\n",
       "      <td>31.426612</td>\n",
       "    </tr>\n",
       "    <tr>\n",
       "      <th>4</th>\n",
       "      <td>LR_4</td>\n",
       "      <td>4.335644</td>\n",
       "      <td>902.522433</td>\n",
       "      <td>6.463918</td>\n",
       "      <td>-33.118811</td>\n",
       "      <td>177.342522</td>\n",
       "      <td>289.225750</td>\n",
       "    </tr>\n",
       "    <tr>\n",
       "      <th>5</th>\n",
       "      <td>LR_5</td>\n",
       "      <td>1.040561</td>\n",
       "      <td>10.736974</td>\n",
       "      <td>1.564443</td>\n",
       "      <td>0.266034</td>\n",
       "      <td>46.030371</td>\n",
       "      <td>3.321099</td>\n",
       "    </tr>\n",
       "    <tr>\n",
       "      <th>6</th>\n",
       "      <td>Physics-based LR_2</td>\n",
       "      <td>48.705002</td>\n",
       "      <td>264911.944944</td>\n",
       "      <td>72.290527</td>\n",
       "      <td>-10707.338357</td>\n",
       "      <td>2222.274927</td>\n",
       "      <td>90773.254598</td>\n",
       "    </tr>\n",
       "    <tr>\n",
       "      <th>7</th>\n",
       "      <td>LR_6</td>\n",
       "      <td>36.552524</td>\n",
       "      <td>26636.296948</td>\n",
       "      <td>54.225810</td>\n",
       "      <td>-890.798876</td>\n",
       "      <td>1260.332118</td>\n",
       "      <td>8696.583494</td>\n",
       "    </tr>\n",
       "    <tr>\n",
       "      <th>8</th>\n",
       "      <td>LR_7</td>\n",
       "      <td>1.040561</td>\n",
       "      <td>10.736974</td>\n",
       "      <td>1.564443</td>\n",
       "      <td>0.266034</td>\n",
       "      <td>46.030371</td>\n",
       "      <td>3.321099</td>\n",
       "    </tr>\n",
       "  </tbody>\n",
       "</table>\n",
       "</div>"
      ],
      "text/plain": [
       "           Model Name        MAE            MSE       RMSE            R²  \\\n",
       "0                LR_1   1.859391      28.733955   2.802144      0.617330   \n",
       "1                LR_2   1.136107      10.208490   1.708394      0.518126   \n",
       "2                LR_3   3.693705     537.045698   5.519793    -23.941264   \n",
       "3    Physics-based LR   2.598333     104.117442   3.922001     -7.539237   \n",
       "4                LR_4   4.335644     902.522433   6.463918    -33.118811   \n",
       "5                LR_5   1.040561      10.736974   1.564443      0.266034   \n",
       "6  Physics-based LR_2  48.705002  264911.944944  72.290527 -10707.338357   \n",
       "7                LR_6  36.552524   26636.296948  54.225810   -890.798876   \n",
       "8                LR_7   1.040561      10.736974   1.564443      0.266034   \n",
       "\n",
       "      MAPE (%)  MSE sample-wise  \n",
       "0    43.532711         8.834520  \n",
       "1    46.942153         3.052657  \n",
       "2   147.748381       177.914441  \n",
       "3   126.056267        31.426612  \n",
       "4   177.342522       289.225750  \n",
       "5    46.030371         3.321099  \n",
       "6  2222.274927     90773.254598  \n",
       "7  1260.332118      8696.583494  \n",
       "8    46.030371         3.321099  "
      ]
     },
     "execution_count": 112,
     "metadata": {},
     "output_type": "execute_result"
    }
   ],
   "source": [
    "df = pd.read_excel(\"../results/model_results_img_wise.xlsx\")\n",
    "df"
   ]
  },
  {
   "cell_type": "code",
   "execution_count": 111,
   "metadata": {},
   "outputs": [
    {
     "data": {
      "text/html": [
       "<div>\n",
       "<style scoped>\n",
       "    .dataframe tbody tr th:only-of-type {\n",
       "        vertical-align: middle;\n",
       "    }\n",
       "\n",
       "    .dataframe tbody tr th {\n",
       "        vertical-align: top;\n",
       "    }\n",
       "\n",
       "    .dataframe thead th {\n",
       "        text-align: right;\n",
       "    }\n",
       "</style>\n",
       "<table border=\"1\" class=\"dataframe\">\n",
       "  <thead>\n",
       "    <tr style=\"text-align: right;\">\n",
       "      <th></th>\n",
       "      <th>Model Name</th>\n",
       "      <th>Input</th>\n",
       "      <th>Output</th>\n",
       "      <th>Resolution</th>\n",
       "      <th>Batch size</th>\n",
       "      <th>Epochs</th>\n",
       "    </tr>\n",
       "  </thead>\n",
       "  <tbody>\n",
       "    <tr>\n",
       "      <th>0</th>\n",
       "      <td>LR_1</td>\n",
       "      <td>RGB filtered lst</td>\n",
       "      <td>Water stations</td>\n",
       "      <td>256</td>\n",
       "      <td>NaN</td>\n",
       "      <td>NaN</td>\n",
       "    </tr>\n",
       "    <tr>\n",
       "      <th>1</th>\n",
       "      <td>LR_2</td>\n",
       "      <td>RGB filtered lst+ndvi</td>\n",
       "      <td>Water stations</td>\n",
       "      <td>256</td>\n",
       "      <td>NaN</td>\n",
       "      <td>NaN</td>\n",
       "    </tr>\n",
       "    <tr>\n",
       "      <th>2</th>\n",
       "      <td>LR_3</td>\n",
       "      <td>RGB filtered lst+ndvi</td>\n",
       "      <td>Water stations</td>\n",
       "      <td>256</td>\n",
       "      <td>NaN</td>\n",
       "      <td>NaN</td>\n",
       "    </tr>\n",
       "    <tr>\n",
       "      <th>3</th>\n",
       "      <td>Physics-based LR</td>\n",
       "      <td>RGB filtered lst scaled</td>\n",
       "      <td>Water stations</td>\n",
       "      <td>256</td>\n",
       "      <td>NaN</td>\n",
       "      <td>NaN</td>\n",
       "    </tr>\n",
       "    <tr>\n",
       "      <th>4</th>\n",
       "      <td>LR_4</td>\n",
       "      <td>RGB filtered lst scaled</td>\n",
       "      <td>Water stations</td>\n",
       "      <td>256</td>\n",
       "      <td>NaN</td>\n",
       "      <td>NaN</td>\n",
       "    </tr>\n",
       "    <tr>\n",
       "      <th>5</th>\n",
       "      <td>LR_5</td>\n",
       "      <td>RGB filtered lst+ndvi scaled</td>\n",
       "      <td>Water stations</td>\n",
       "      <td>256</td>\n",
       "      <td>NaN</td>\n",
       "      <td>NaN</td>\n",
       "    </tr>\n",
       "    <tr>\n",
       "      <th>6</th>\n",
       "      <td>Physics-based LR_2</td>\n",
       "      <td>RGB filtered lst</td>\n",
       "      <td>Water stations</td>\n",
       "      <td>256</td>\n",
       "      <td>NaN</td>\n",
       "      <td>NaN</td>\n",
       "    </tr>\n",
       "    <tr>\n",
       "      <th>7</th>\n",
       "      <td>LR_6</td>\n",
       "      <td>RGB filtered lst+ndvi</td>\n",
       "      <td>Water stations</td>\n",
       "      <td>256</td>\n",
       "      <td>NaN</td>\n",
       "      <td>NaN</td>\n",
       "    </tr>\n",
       "    <tr>\n",
       "      <th>8</th>\n",
       "      <td>LR_7</td>\n",
       "      <td>RGB filtered lst+ndvi scaled</td>\n",
       "      <td>Water stations</td>\n",
       "      <td>256</td>\n",
       "      <td>NaN</td>\n",
       "      <td>NaN</td>\n",
       "    </tr>\n",
       "  </tbody>\n",
       "</table>\n",
       "</div>"
      ],
      "text/plain": [
       "           Model Name                         Input          Output  \\\n",
       "0                LR_1              RGB filtered lst  Water stations   \n",
       "1                LR_2         RGB filtered lst+ndvi  Water stations   \n",
       "2                LR_3         RGB filtered lst+ndvi  Water stations   \n",
       "3    Physics-based LR       RGB filtered lst scaled  Water stations   \n",
       "4                LR_4       RGB filtered lst scaled  Water stations   \n",
       "5                LR_5  RGB filtered lst+ndvi scaled  Water stations   \n",
       "6  Physics-based LR_2              RGB filtered lst  Water stations   \n",
       "7                LR_6         RGB filtered lst+ndvi  Water stations   \n",
       "8                LR_7  RGB filtered lst+ndvi scaled  Water stations   \n",
       "\n",
       "   Resolution  Batch size  Epochs  \n",
       "0         256         NaN     NaN  \n",
       "1         256         NaN     NaN  \n",
       "2         256         NaN     NaN  \n",
       "3         256         NaN     NaN  \n",
       "4         256         NaN     NaN  \n",
       "5         256         NaN     NaN  \n",
       "6         256         NaN     NaN  \n",
       "7         256         NaN     NaN  \n",
       "8         256         NaN     NaN  "
      ]
     },
     "execution_count": 111,
     "metadata": {},
     "output_type": "execute_result"
    }
   ],
   "source": [
    "df_d = pd.read_excel(\"../results/model_details.xlsx\")\n",
    "df_d"
   ]
  },
  {
   "cell_type": "markdown",
   "metadata": {
    "id": "tjXo7KtkXRHF"
   },
   "source": [
    "## Physics regression"
   ]
  },
  {
   "cell_type": "code",
   "execution_count": null,
   "metadata": {},
   "outputs": [],
   "source": [
    "use_ndvi = False\n",
    "if use_ndvi:\n",
    "  ndvi_df = pd.read_csv(f'{ndvi}/leboiron_ndvi.csv',index_col=0)\n",
    "  df_combined = pd.concat([lst_df, ndvi_df], axis=1)\n",
    "  train_input, train_target, validation_input, validation_target, test_input, test_target = split_data_df(df_combined, targets_df)\n",
    "  X = df_combined\n",
    "\n",
    "else:\n",
    "  train_input, train_target, validation_input, validation_target, test_input, test_target = split_data_df(lst_df, targets_df)\n",
    "  X = lst_df\n",
    "\n",
    "y = targets_df"
   ]
  },
  {
   "cell_type": "code",
   "execution_count": 243,
   "metadata": {
    "executionInfo": {
     "elapsed": 328,
     "status": "ok",
     "timestamp": 1728303758187,
     "user": {
      "displayName": "Ruth Parajó Ferrer",
      "userId": "07031545869212809064"
     },
     "user_tz": -120
    },
    "id": "UoYIRF-IsbaI"
   },
   "outputs": [],
   "source": [
    "T_a_squared_df = lst_df ** 2\n",
    "T_a_squared_df.columns = [col + '^2' for col in lst_df.columns]"
   ]
  },
  {
   "cell_type": "code",
   "execution_count": 244,
   "metadata": {
    "executionInfo": {
     "elapsed": 309,
     "status": "ok",
     "timestamp": 1728303760672,
     "user": {
      "displayName": "Ruth Parajó Ferrer",
      "userId": "07031545869212809064"
     },
     "user_tz": -120
    },
    "id": "EDahk_yjscXf"
   },
   "outputs": [],
   "source": [
    "X = pd.concat([lst_df, T_a_squared_df],axis=1)"
   ]
  },
  {
   "cell_type": "markdown",
   "metadata": {
    "id": "k9xB0NQl_Fry"
   },
   "source": [
    "Scale data"
   ]
  },
  {
   "cell_type": "code",
   "execution_count": 210,
   "metadata": {
    "executionInfo": {
     "elapsed": 322,
     "status": "ok",
     "timestamp": 1728302446859,
     "user": {
      "displayName": "Ruth Parajó Ferrer",
      "userId": "07031545869212809064"
     },
     "user_tz": -120
    },
    "id": "89ZfV_JOwMM4"
   },
   "outputs": [],
   "source": [
    "scaler = StandardScaler()\n",
    "X_scaled = scaler.fit_transform(X)"
   ]
  },
  {
   "cell_type": "code",
   "execution_count": 213,
   "metadata": {
    "executionInfo": {
     "elapsed": 287,
     "status": "ok",
     "timestamp": 1728302532949,
     "user": {
      "displayName": "Ruth Parajó Ferrer",
      "userId": "07031545869212809064"
     },
     "user_tz": -120
    },
    "id": "q2cV8vKa2rgZ"
   },
   "outputs": [],
   "source": [
    "df_scaled = pd.DataFrame(X_scaled, columns=df_combined.columns)"
   ]
  },
  {
   "cell_type": "markdown",
   "metadata": {
    "id": "uVVvKxxZ_JIj"
   },
   "source": [
    "### Split data and train test model"
   ]
  },
  {
   "cell_type": "code",
   "execution_count": 214,
   "metadata": {
    "executionInfo": {
     "elapsed": 293,
     "status": "ok",
     "timestamp": 1728302536815,
     "user": {
      "displayName": "Ruth Parajó Ferrer",
      "userId": "07031545869212809064"
     },
     "user_tz": -120
    },
    "id": "_g8cqeornxNU"
   },
   "outputs": [],
   "source": [
    "train_input, train_target, validation_input, validation_target, test_input, test_target = split_data_df(df_scaled, targets_df)"
   ]
  },
  {
   "cell_type": "code",
   "execution_count": 215,
   "metadata": {
    "colab": {
     "base_uri": "https://localhost:8080/",
     "height": 80
    },
    "executionInfo": {
     "elapsed": 2438,
     "status": "ok",
     "timestamp": 1728302541752,
     "user": {
      "displayName": "Ruth Parajó Ferrer",
      "userId": "07031545869212809064"
     },
     "user_tz": -120
    },
    "id": "8IkqSjPqnlkR",
    "outputId": "0d2e1ca4-07a2-4ab0-8511-c05b495f8b93"
   },
   "outputs": [
    {
     "data": {
      "text/html": [
       "<style>#sk-container-id-11 {\n",
       "  /* Definition of color scheme common for light and dark mode */\n",
       "  --sklearn-color-text: black;\n",
       "  --sklearn-color-line: gray;\n",
       "  /* Definition of color scheme for unfitted estimators */\n",
       "  --sklearn-color-unfitted-level-0: #fff5e6;\n",
       "  --sklearn-color-unfitted-level-1: #f6e4d2;\n",
       "  --sklearn-color-unfitted-level-2: #ffe0b3;\n",
       "  --sklearn-color-unfitted-level-3: chocolate;\n",
       "  /* Definition of color scheme for fitted estimators */\n",
       "  --sklearn-color-fitted-level-0: #f0f8ff;\n",
       "  --sklearn-color-fitted-level-1: #d4ebff;\n",
       "  --sklearn-color-fitted-level-2: #b3dbfd;\n",
       "  --sklearn-color-fitted-level-3: cornflowerblue;\n",
       "\n",
       "  /* Specific color for light theme */\n",
       "  --sklearn-color-text-on-default-background: var(--sg-text-color, var(--theme-code-foreground, var(--jp-content-font-color1, black)));\n",
       "  --sklearn-color-background: var(--sg-background-color, var(--theme-background, var(--jp-layout-color0, white)));\n",
       "  --sklearn-color-border-box: var(--sg-text-color, var(--theme-code-foreground, var(--jp-content-font-color1, black)));\n",
       "  --sklearn-color-icon: #696969;\n",
       "\n",
       "  @media (prefers-color-scheme: dark) {\n",
       "    /* Redefinition of color scheme for dark theme */\n",
       "    --sklearn-color-text-on-default-background: var(--sg-text-color, var(--theme-code-foreground, var(--jp-content-font-color1, white)));\n",
       "    --sklearn-color-background: var(--sg-background-color, var(--theme-background, var(--jp-layout-color0, #111)));\n",
       "    --sklearn-color-border-box: var(--sg-text-color, var(--theme-code-foreground, var(--jp-content-font-color1, white)));\n",
       "    --sklearn-color-icon: #878787;\n",
       "  }\n",
       "}\n",
       "\n",
       "#sk-container-id-11 {\n",
       "  color: var(--sklearn-color-text);\n",
       "}\n",
       "\n",
       "#sk-container-id-11 pre {\n",
       "  padding: 0;\n",
       "}\n",
       "\n",
       "#sk-container-id-11 input.sk-hidden--visually {\n",
       "  border: 0;\n",
       "  clip: rect(1px 1px 1px 1px);\n",
       "  clip: rect(1px, 1px, 1px, 1px);\n",
       "  height: 1px;\n",
       "  margin: -1px;\n",
       "  overflow: hidden;\n",
       "  padding: 0;\n",
       "  position: absolute;\n",
       "  width: 1px;\n",
       "}\n",
       "\n",
       "#sk-container-id-11 div.sk-dashed-wrapped {\n",
       "  border: 1px dashed var(--sklearn-color-line);\n",
       "  margin: 0 0.4em 0.5em 0.4em;\n",
       "  box-sizing: border-box;\n",
       "  padding-bottom: 0.4em;\n",
       "  background-color: var(--sklearn-color-background);\n",
       "}\n",
       "\n",
       "#sk-container-id-11 div.sk-container {\n",
       "  /* jupyter's `normalize.less` sets `[hidden] { display: none; }`\n",
       "     but bootstrap.min.css set `[hidden] { display: none !important; }`\n",
       "     so we also need the `!important` here to be able to override the\n",
       "     default hidden behavior on the sphinx rendered scikit-learn.org.\n",
       "     See: https://github.com/scikit-learn/scikit-learn/issues/21755 */\n",
       "  display: inline-block !important;\n",
       "  position: relative;\n",
       "}\n",
       "\n",
       "#sk-container-id-11 div.sk-text-repr-fallback {\n",
       "  display: none;\n",
       "}\n",
       "\n",
       "div.sk-parallel-item,\n",
       "div.sk-serial,\n",
       "div.sk-item {\n",
       "  /* draw centered vertical line to link estimators */\n",
       "  background-image: linear-gradient(var(--sklearn-color-text-on-default-background), var(--sklearn-color-text-on-default-background));\n",
       "  background-size: 2px 100%;\n",
       "  background-repeat: no-repeat;\n",
       "  background-position: center center;\n",
       "}\n",
       "\n",
       "/* Parallel-specific style estimator block */\n",
       "\n",
       "#sk-container-id-11 div.sk-parallel-item::after {\n",
       "  content: \"\";\n",
       "  width: 100%;\n",
       "  border-bottom: 2px solid var(--sklearn-color-text-on-default-background);\n",
       "  flex-grow: 1;\n",
       "}\n",
       "\n",
       "#sk-container-id-11 div.sk-parallel {\n",
       "  display: flex;\n",
       "  align-items: stretch;\n",
       "  justify-content: center;\n",
       "  background-color: var(--sklearn-color-background);\n",
       "  position: relative;\n",
       "}\n",
       "\n",
       "#sk-container-id-11 div.sk-parallel-item {\n",
       "  display: flex;\n",
       "  flex-direction: column;\n",
       "}\n",
       "\n",
       "#sk-container-id-11 div.sk-parallel-item:first-child::after {\n",
       "  align-self: flex-end;\n",
       "  width: 50%;\n",
       "}\n",
       "\n",
       "#sk-container-id-11 div.sk-parallel-item:last-child::after {\n",
       "  align-self: flex-start;\n",
       "  width: 50%;\n",
       "}\n",
       "\n",
       "#sk-container-id-11 div.sk-parallel-item:only-child::after {\n",
       "  width: 0;\n",
       "}\n",
       "\n",
       "/* Serial-specific style estimator block */\n",
       "\n",
       "#sk-container-id-11 div.sk-serial {\n",
       "  display: flex;\n",
       "  flex-direction: column;\n",
       "  align-items: center;\n",
       "  background-color: var(--sklearn-color-background);\n",
       "  padding-right: 1em;\n",
       "  padding-left: 1em;\n",
       "}\n",
       "\n",
       "\n",
       "/* Toggleable style: style used for estimator/Pipeline/ColumnTransformer box that is\n",
       "clickable and can be expanded/collapsed.\n",
       "- Pipeline and ColumnTransformer use this feature and define the default style\n",
       "- Estimators will overwrite some part of the style using the `sk-estimator` class\n",
       "*/\n",
       "\n",
       "/* Pipeline and ColumnTransformer style (default) */\n",
       "\n",
       "#sk-container-id-11 div.sk-toggleable {\n",
       "  /* Default theme specific background. It is overwritten whether we have a\n",
       "  specific estimator or a Pipeline/ColumnTransformer */\n",
       "  background-color: var(--sklearn-color-background);\n",
       "}\n",
       "\n",
       "/* Toggleable label */\n",
       "#sk-container-id-11 label.sk-toggleable__label {\n",
       "  cursor: pointer;\n",
       "  display: block;\n",
       "  width: 100%;\n",
       "  margin-bottom: 0;\n",
       "  padding: 0.5em;\n",
       "  box-sizing: border-box;\n",
       "  text-align: center;\n",
       "}\n",
       "\n",
       "#sk-container-id-11 label.sk-toggleable__label-arrow:before {\n",
       "  /* Arrow on the left of the label */\n",
       "  content: \"▸\";\n",
       "  float: left;\n",
       "  margin-right: 0.25em;\n",
       "  color: var(--sklearn-color-icon);\n",
       "}\n",
       "\n",
       "#sk-container-id-11 label.sk-toggleable__label-arrow:hover:before {\n",
       "  color: var(--sklearn-color-text);\n",
       "}\n",
       "\n",
       "/* Toggleable content - dropdown */\n",
       "\n",
       "#sk-container-id-11 div.sk-toggleable__content {\n",
       "  max-height: 0;\n",
       "  max-width: 0;\n",
       "  overflow: hidden;\n",
       "  text-align: left;\n",
       "  /* unfitted */\n",
       "  background-color: var(--sklearn-color-unfitted-level-0);\n",
       "}\n",
       "\n",
       "#sk-container-id-11 div.sk-toggleable__content.fitted {\n",
       "  /* fitted */\n",
       "  background-color: var(--sklearn-color-fitted-level-0);\n",
       "}\n",
       "\n",
       "#sk-container-id-11 div.sk-toggleable__content pre {\n",
       "  margin: 0.2em;\n",
       "  border-radius: 0.25em;\n",
       "  color: var(--sklearn-color-text);\n",
       "  /* unfitted */\n",
       "  background-color: var(--sklearn-color-unfitted-level-0);\n",
       "}\n",
       "\n",
       "#sk-container-id-11 div.sk-toggleable__content.fitted pre {\n",
       "  /* unfitted */\n",
       "  background-color: var(--sklearn-color-fitted-level-0);\n",
       "}\n",
       "\n",
       "#sk-container-id-11 input.sk-toggleable__control:checked~div.sk-toggleable__content {\n",
       "  /* Expand drop-down */\n",
       "  max-height: 200px;\n",
       "  max-width: 100%;\n",
       "  overflow: auto;\n",
       "}\n",
       "\n",
       "#sk-container-id-11 input.sk-toggleable__control:checked~label.sk-toggleable__label-arrow:before {\n",
       "  content: \"▾\";\n",
       "}\n",
       "\n",
       "/* Pipeline/ColumnTransformer-specific style */\n",
       "\n",
       "#sk-container-id-11 div.sk-label input.sk-toggleable__control:checked~label.sk-toggleable__label {\n",
       "  color: var(--sklearn-color-text);\n",
       "  background-color: var(--sklearn-color-unfitted-level-2);\n",
       "}\n",
       "\n",
       "#sk-container-id-11 div.sk-label.fitted input.sk-toggleable__control:checked~label.sk-toggleable__label {\n",
       "  background-color: var(--sklearn-color-fitted-level-2);\n",
       "}\n",
       "\n",
       "/* Estimator-specific style */\n",
       "\n",
       "/* Colorize estimator box */\n",
       "#sk-container-id-11 div.sk-estimator input.sk-toggleable__control:checked~label.sk-toggleable__label {\n",
       "  /* unfitted */\n",
       "  background-color: var(--sklearn-color-unfitted-level-2);\n",
       "}\n",
       "\n",
       "#sk-container-id-11 div.sk-estimator.fitted input.sk-toggleable__control:checked~label.sk-toggleable__label {\n",
       "  /* fitted */\n",
       "  background-color: var(--sklearn-color-fitted-level-2);\n",
       "}\n",
       "\n",
       "#sk-container-id-11 div.sk-label label.sk-toggleable__label,\n",
       "#sk-container-id-11 div.sk-label label {\n",
       "  /* The background is the default theme color */\n",
       "  color: var(--sklearn-color-text-on-default-background);\n",
       "}\n",
       "\n",
       "/* On hover, darken the color of the background */\n",
       "#sk-container-id-11 div.sk-label:hover label.sk-toggleable__label {\n",
       "  color: var(--sklearn-color-text);\n",
       "  background-color: var(--sklearn-color-unfitted-level-2);\n",
       "}\n",
       "\n",
       "/* Label box, darken color on hover, fitted */\n",
       "#sk-container-id-11 div.sk-label.fitted:hover label.sk-toggleable__label.fitted {\n",
       "  color: var(--sklearn-color-text);\n",
       "  background-color: var(--sklearn-color-fitted-level-2);\n",
       "}\n",
       "\n",
       "/* Estimator label */\n",
       "\n",
       "#sk-container-id-11 div.sk-label label {\n",
       "  font-family: monospace;\n",
       "  font-weight: bold;\n",
       "  display: inline-block;\n",
       "  line-height: 1.2em;\n",
       "}\n",
       "\n",
       "#sk-container-id-11 div.sk-label-container {\n",
       "  text-align: center;\n",
       "}\n",
       "\n",
       "/* Estimator-specific */\n",
       "#sk-container-id-11 div.sk-estimator {\n",
       "  font-family: monospace;\n",
       "  border: 1px dotted var(--sklearn-color-border-box);\n",
       "  border-radius: 0.25em;\n",
       "  box-sizing: border-box;\n",
       "  margin-bottom: 0.5em;\n",
       "  /* unfitted */\n",
       "  background-color: var(--sklearn-color-unfitted-level-0);\n",
       "}\n",
       "\n",
       "#sk-container-id-11 div.sk-estimator.fitted {\n",
       "  /* fitted */\n",
       "  background-color: var(--sklearn-color-fitted-level-0);\n",
       "}\n",
       "\n",
       "/* on hover */\n",
       "#sk-container-id-11 div.sk-estimator:hover {\n",
       "  /* unfitted */\n",
       "  background-color: var(--sklearn-color-unfitted-level-2);\n",
       "}\n",
       "\n",
       "#sk-container-id-11 div.sk-estimator.fitted:hover {\n",
       "  /* fitted */\n",
       "  background-color: var(--sklearn-color-fitted-level-2);\n",
       "}\n",
       "\n",
       "/* Specification for estimator info (e.g. \"i\" and \"?\") */\n",
       "\n",
       "/* Common style for \"i\" and \"?\" */\n",
       "\n",
       ".sk-estimator-doc-link,\n",
       "a:link.sk-estimator-doc-link,\n",
       "a:visited.sk-estimator-doc-link {\n",
       "  float: right;\n",
       "  font-size: smaller;\n",
       "  line-height: 1em;\n",
       "  font-family: monospace;\n",
       "  background-color: var(--sklearn-color-background);\n",
       "  border-radius: 1em;\n",
       "  height: 1em;\n",
       "  width: 1em;\n",
       "  text-decoration: none !important;\n",
       "  margin-left: 1ex;\n",
       "  /* unfitted */\n",
       "  border: var(--sklearn-color-unfitted-level-1) 1pt solid;\n",
       "  color: var(--sklearn-color-unfitted-level-1);\n",
       "}\n",
       "\n",
       ".sk-estimator-doc-link.fitted,\n",
       "a:link.sk-estimator-doc-link.fitted,\n",
       "a:visited.sk-estimator-doc-link.fitted {\n",
       "  /* fitted */\n",
       "  border: var(--sklearn-color-fitted-level-1) 1pt solid;\n",
       "  color: var(--sklearn-color-fitted-level-1);\n",
       "}\n",
       "\n",
       "/* On hover */\n",
       "div.sk-estimator:hover .sk-estimator-doc-link:hover,\n",
       ".sk-estimator-doc-link:hover,\n",
       "div.sk-label-container:hover .sk-estimator-doc-link:hover,\n",
       ".sk-estimator-doc-link:hover {\n",
       "  /* unfitted */\n",
       "  background-color: var(--sklearn-color-unfitted-level-3);\n",
       "  color: var(--sklearn-color-background);\n",
       "  text-decoration: none;\n",
       "}\n",
       "\n",
       "div.sk-estimator.fitted:hover .sk-estimator-doc-link.fitted:hover,\n",
       ".sk-estimator-doc-link.fitted:hover,\n",
       "div.sk-label-container:hover .sk-estimator-doc-link.fitted:hover,\n",
       ".sk-estimator-doc-link.fitted:hover {\n",
       "  /* fitted */\n",
       "  background-color: var(--sklearn-color-fitted-level-3);\n",
       "  color: var(--sklearn-color-background);\n",
       "  text-decoration: none;\n",
       "}\n",
       "\n",
       "/* Span, style for the box shown on hovering the info icon */\n",
       ".sk-estimator-doc-link span {\n",
       "  display: none;\n",
       "  z-index: 9999;\n",
       "  position: relative;\n",
       "  font-weight: normal;\n",
       "  right: .2ex;\n",
       "  padding: .5ex;\n",
       "  margin: .5ex;\n",
       "  width: min-content;\n",
       "  min-width: 20ex;\n",
       "  max-width: 50ex;\n",
       "  color: var(--sklearn-color-text);\n",
       "  box-shadow: 2pt 2pt 4pt #999;\n",
       "  /* unfitted */\n",
       "  background: var(--sklearn-color-unfitted-level-0);\n",
       "  border: .5pt solid var(--sklearn-color-unfitted-level-3);\n",
       "}\n",
       "\n",
       ".sk-estimator-doc-link.fitted span {\n",
       "  /* fitted */\n",
       "  background: var(--sklearn-color-fitted-level-0);\n",
       "  border: var(--sklearn-color-fitted-level-3);\n",
       "}\n",
       "\n",
       ".sk-estimator-doc-link:hover span {\n",
       "  display: block;\n",
       "}\n",
       "\n",
       "/* \"?\"-specific style due to the `<a>` HTML tag */\n",
       "\n",
       "#sk-container-id-11 a.estimator_doc_link {\n",
       "  float: right;\n",
       "  font-size: 1rem;\n",
       "  line-height: 1em;\n",
       "  font-family: monospace;\n",
       "  background-color: var(--sklearn-color-background);\n",
       "  border-radius: 1rem;\n",
       "  height: 1rem;\n",
       "  width: 1rem;\n",
       "  text-decoration: none;\n",
       "  /* unfitted */\n",
       "  color: var(--sklearn-color-unfitted-level-1);\n",
       "  border: var(--sklearn-color-unfitted-level-1) 1pt solid;\n",
       "}\n",
       "\n",
       "#sk-container-id-11 a.estimator_doc_link.fitted {\n",
       "  /* fitted */\n",
       "  border: var(--sklearn-color-fitted-level-1) 1pt solid;\n",
       "  color: var(--sklearn-color-fitted-level-1);\n",
       "}\n",
       "\n",
       "/* On hover */\n",
       "#sk-container-id-11 a.estimator_doc_link:hover {\n",
       "  /* unfitted */\n",
       "  background-color: var(--sklearn-color-unfitted-level-3);\n",
       "  color: var(--sklearn-color-background);\n",
       "  text-decoration: none;\n",
       "}\n",
       "\n",
       "#sk-container-id-11 a.estimator_doc_link.fitted:hover {\n",
       "  /* fitted */\n",
       "  background-color: var(--sklearn-color-fitted-level-3);\n",
       "}\n",
       "</style><div id=\"sk-container-id-11\" class=\"sk-top-container\"><div class=\"sk-text-repr-fallback\"><pre>LinearRegression()</pre><b>In a Jupyter environment, please rerun this cell to show the HTML representation or trust the notebook. <br />On GitHub, the HTML representation is unable to render, please try loading this page with nbviewer.org.</b></div><div class=\"sk-container\" hidden><div class=\"sk-item\"><div class=\"sk-estimator fitted sk-toggleable\"><input class=\"sk-toggleable__control sk-hidden--visually\" id=\"sk-estimator-id-11\" type=\"checkbox\" checked><label for=\"sk-estimator-id-11\" class=\"sk-toggleable__label fitted sk-toggleable__label-arrow fitted\">&nbsp;&nbsp;LinearRegression<a class=\"sk-estimator-doc-link fitted\" rel=\"noreferrer\" target=\"_blank\" href=\"https://scikit-learn.org/1.5/modules/generated/sklearn.linear_model.LinearRegression.html\">?<span>Documentation for LinearRegression</span></a><span class=\"sk-estimator-doc-link fitted\">i<span>Fitted</span></span></label><div class=\"sk-toggleable__content fitted\"><pre>LinearRegression()</pre></div> </div></div></div></div>"
      ],
      "text/plain": [
       "LinearRegression()"
      ]
     },
     "execution_count": 215,
     "metadata": {},
     "output_type": "execute_result"
    }
   ],
   "source": [
    "# Initialize the model\n",
    "model = LinearRegression()\n",
    "\n",
    "# Train the model using the training data\n",
    "model.fit(train_input, train_target)"
   ]
  },
  {
   "cell_type": "code",
   "execution_count": 216,
   "metadata": {
    "executionInfo": {
     "elapsed": 5,
     "status": "ok",
     "timestamp": 1728302547982,
     "user": {
      "displayName": "Ruth Parajó Ferrer",
      "userId": "07031545869212809064"
     },
     "user_tz": -120
    },
    "id": "iegTUJ2-nq2Z"
   },
   "outputs": [],
   "source": [
    "validation_prediction = model.predict(validation_input)"
   ]
  },
  {
   "cell_type": "code",
   "execution_count": 217,
   "metadata": {
    "colab": {
     "base_uri": "https://localhost:8080/"
    },
    "executionInfo": {
     "elapsed": 297,
     "status": "ok",
     "timestamp": 1728302548275,
     "user": {
      "displayName": "Ruth Parajó Ferrer",
      "userId": "07031545869212809064"
     },
     "user_tz": -120
    },
    "id": "AdJIVasCnq2a",
    "outputId": "68a1ab03-476b-4d2a-db2a-7cb98ec2f85b"
   },
   "outputs": [
    {
     "name": "stdout",
     "output_type": "stream",
     "text": [
      "MAE : 1.675405803812477\n",
      "MSE : 8.508514486988604\n",
      "RMSE : 2.564793738676436\n",
      "R² : -0.3608143324054614\n",
      "MAPE (%) : 46.51545151564784\n",
      "MSE sample-wise : 6.5781669219538506\n"
     ]
    }
   ],
   "source": [
    "results = evaluate_model(validation_target, validation_prediction)\n",
    "for k,v in results.items():\n",
    "  print(k,':',v)"
   ]
  },
  {
   "cell_type": "markdown",
   "metadata": {
    "id": "jcmgtNce_Tg-"
   },
   "source": [
    "### K-fold cross-validation"
   ]
  },
  {
   "cell_type": "code",
   "execution_count": 245,
   "metadata": {
    "executionInfo": {
     "elapsed": 306,
     "status": "ok",
     "timestamp": 1728303768834,
     "user": {
      "displayName": "Ruth Parajó Ferrer",
      "userId": "07031545869212809064"
     },
     "user_tz": -120
    },
    "id": "37di13QNnG8Y"
   },
   "outputs": [],
   "source": [
    "kf = KFold(n_splits=5, shuffle=True, random_state=42)\n",
    "\n",
    "model = LinearRegression()"
   ]
  },
  {
   "cell_type": "code",
   "execution_count": null,
   "metadata": {
    "colab": {
     "base_uri": "https://localhost:8080/"
    },
    "id": "TWBaFnDsYiB9",
    "outputId": "5f0c4c82-9800-4ca3-acee-58522aa59d06"
   },
   "outputs": [],
   "source": [
    "mean_results_kfold = {k:[] for k in results.keys()}  # Initialize empty lists for each metric\n",
    "\n",
    "# Iterate over the folds\n",
    "for train_index, test_index in kf.split(df_scaled):\n",
    "    X_train, X_test = df_scaled.iloc[train_index], df_scaled.iloc[test_index]\n",
    "    y_train, y_test = y.iloc[train_index], y.iloc[test_index]\n",
    "\n",
    "    # Train the model\n",
    "    model.fit(X_train, y_train)\n",
    "\n",
    "    # Predict on the test set\n",
    "    y_pred = model.predict(X_test)\n",
    "\n",
    "    # Initialize mean_results for this fold (to store per-image metrics)\n",
    "    mean_results = {k:[] for k in results.keys()}\n",
    "\n",
    "    # Iterate over each image in the test set\n",
    "    for i in range(y_test.shape[0]):  # For each image (row) in the test set\n",
    "        # Calculate the metrics for the image\n",
    "        results = evaluate_model(y_test.iloc[i], y_pred[i])\n",
    "\n",
    "        # Store the results for this image\n",
    "        for k, v in results.items():\n",
    "            mean_results[k].append(v)\n",
    "\n",
    "    # Compute the average metric for this fold and store in mean_results_kfold\n",
    "    for key in mean_results:\n",
    "        fold_mean = np.mean(mean_results[key])\n",
    "        mean_results_kfold[key].append(fold_mean)  # Append fold mean to global results\n"
   ]
  },
  {
   "cell_type": "code",
   "execution_count": 248,
   "metadata": {
    "colab": {
     "base_uri": "https://localhost:8080/"
    },
    "executionInfo": {
     "elapsed": 309,
     "status": "ok",
     "timestamp": 1728304596001,
     "user": {
      "displayName": "Ruth Parajó Ferrer",
      "userId": "07031545869212809064"
     },
     "user_tz": -120
    },
    "id": "MQTMhGiJ39iD",
    "outputId": "9ccf2d11-cd84-4777-c12a-2876d844324e"
   },
   "outputs": [
    {
     "name": "stdout",
     "output_type": "stream",
     "text": [
      "Mitja de MAE amb  [13.607991196356908, 6.43292693695243, 171.69906894834412, 5.157575596243587, 46.62744908395774]\n",
      "Mitja de MSE amb  [5349.534443668887, 591.1517189668024, 1248617.9104077455, 771.3704381805035, 69229.75771047996]\n",
      "Mitja de RMSE amb  [20.18882268127341, 9.566487077821154, 254.64846169320418, 7.864618159817377, 69.184247523581]\n",
      "Mitja de R² amb  [-2214.794923109918, -7.042911376304664, -43936.684807034544, -32.24217145677094, -7345.9269697434875]\n",
      "Mitja de MAPE (%) amb  [2106.620990891825, 153.74982728533436, 5856.622648600487, 200.76180297047858, 2793.619366476714]\n",
      "Mitja de MSE sample-wise amb  [1885.5444965988015, 201.77008036060016, 428572.32633132255, 211.22749598401174, 22995.404587170855]\n"
     ]
    },
    {
     "data": {
      "text/plain": [
       "{'MAE': 48.705002352370954,\n",
       " 'MSE': 264911.9449438083,\n",
       " 'RMSE': 72.29052742713944,\n",
       " 'R²': -10707.338356544204,\n",
       " 'MAPE (%)': 2222.2749272449682,\n",
       " 'MSE sample-wise': 90773.25459828737}"
      ]
     },
     "execution_count": 248,
     "metadata": {},
     "output_type": "execute_result"
    }
   ],
   "source": [
    "for key in mean_results_kfold:\n",
    "    print('Mitja de', key,'amb ', mean_results_kfold[key])\n",
    "\n",
    "final_mean_results = {k: np.mean(v) for k, v in mean_results_kfold.items()}\n",
    "final_mean_result"
   ]
  },
  {
   "cell_type": "markdown",
   "metadata": {
    "id": "m4hwNO1k4Mer"
   },
   "source": [
    "### Save model results"
   ]
  },
  {
   "cell_type": "code",
   "execution_count": 249,
   "metadata": {
    "executionInfo": {
     "elapsed": 6522,
     "status": "ok",
     "timestamp": 1728304633085,
     "user": {
      "displayName": "Ruth Parajó Ferrer",
      "userId": "07031545869212809064"
     },
     "user_tz": -120
    },
    "id": "qGu6M3ud4Lyh"
   },
   "outputs": [],
   "source": [
    "model_name = \"Physics-based LR_3\"\n",
    "details = {'Input': 'RGB filtered lst scaled', 'Output': 'Water stations', 'Resolution': 256, 'Batch size':'', 'Epochs':''}\n",
    "\n",
    "file_path = \"/content/gdrive/MyDrive/TFG/results/model_results_img_wise.xlsx\"\n",
    "save_excel(file_path, model_name, final_mean_results, excel = 'Results')\n",
    "\n",
    "file_path = \"/content/gdrive/MyDrive/TFG/results/model_details.xlsx\"\n",
    "save_excel(file_path, model_name, details, excel = 'Details')\n"
   ]
  },
  {
   "cell_type": "code",
   "execution_count": null,
   "metadata": {},
   "outputs": [],
   "source": [
    "df = pd.read_excel(\"../results/model_results_img_wise.xlsx\")\n",
    "df"
   ]
  }
 ],
 "metadata": {
  "colab": {
   "authorship_tag": "ABX9TyPP/gfj+W9Uvgj9OYTno/6Z",
   "collapsed_sections": [
    "w2Aio70ZzzpM"
   ],
   "provenance": [],
   "toc_visible": true
  },
  "kernelspec": {
   "display_name": "Python 3 (ipykernel)",
   "language": "python",
   "name": "python3"
  },
  "language_info": {
   "codemirror_mode": {
    "name": "ipython",
    "version": 3
   },
   "file_extension": ".py",
   "mimetype": "text/x-python",
   "name": "python",
   "nbconvert_exporter": "python",
   "pygments_lexer": "ipython3",
   "version": "3.12.4"
  }
 },
 "nbformat": 4,
 "nbformat_minor": 4
}

{
 "cells": [
  {
   "cell_type": "code",
   "execution_count": null,
   "metadata": {},
   "outputs": [],
   "source": [
    "import pandas as pd\n",
    "import os\n",
    "import geopandas as gpd\n",
    "import numpy as np\n",
    "import fiona\n",
    "from shapely.geometry import shape\n",
    "import matplotlib.pyplot as plt\n",
    "from shapely.ops import unary_union\n",
    "from shapely.geometry import box\n"
   ]
  },
  {
   "cell_type": "markdown",
   "metadata": {},
   "source": [
    "### Load data"
   ]
  },
  {
   "cell_type": "code",
   "execution_count": null,
   "metadata": {},
   "outputs": [],
   "source": [
    "dir_path = '../data/external/water_stations_data/water_temp'\n",
    "#dir_path = '../../tfg/data/15994_4699_2024-10-31_11-54-16'\n",
    "stations_meta = pd.read_excel('../data/external/Stationsliste_HydrowebSAM_EN_july2023.xlsx',skiprows=range(0,4))\n",
    "stations_meta.rename(columns={'Station number': 'Stationsnummer'}, inplace=True)\n",
    "stations_meta.drop_duplicates(subset = ['Stationsnummer'], inplace=True)"
   ]
  },
  {
   "cell_type": "markdown",
   "metadata": {},
   "source": [
    "### Obtain georeference about stations that have data"
   ]
  },
  {
   "cell_type": "code",
   "execution_count": null,
   "metadata": {
    "scrolled": true
   },
   "outputs": [],
   "source": [
    "stations_ds={}\n",
    "new_df = pd.DataFrame()\n",
    "for file in os.listdir(dir_path):\n",
    "    if file.endswith('.csv'):\n",
    "        df = pd.read_csv(os.path.join(dir_path, file), delimiter=';', encoding='latin1', skiprows=range(0,8))\n",
    "        st_number = df.Stationsnummer.unique()\n",
    "        st_number_str = st_number[0]\n",
    "        \n",
    "        if len(st_number) > 1:\n",
    "            i = 1\n",
    "            while st_number_str == 'Stationsnummer' or np.isnan(float(st_number_str)):\n",
    "                st_number_str = st_number[i]\n",
    "                i+=1\n",
    "            print('More than one station number')\n",
    "        print(st_number_str)\n",
    "        if st_number_str in stations_meta['Stationsnummer'].values:\n",
    "            print('Station number found')\n",
    "            new_df = pd.concat([new_df,stations_meta[stations_meta['Stationsnummer']==st_number_str]])\n",
    "            \n",
    "        d = \"2013-03-01\"\n",
    "        #df[\"Zeitstempel\"] = pd.to_datetime(df[\"Zeitstempel\"])\n",
    "        df = df[df.Zeitstempel >= d]\n",
    "        stations_ds[st_number_str] = df\n",
    "            "
   ]
  },
  {
   "cell_type": "markdown",
   "metadata": {},
   "source": [
    "### Obtain grid cells sorrounding every station"
   ]
  },
  {
   "cell_type": "code",
   "execution_count": null,
   "metadata": {},
   "outputs": [],
   "source": [
    "crs_original = \"EPSG:2056\"  # o usa \"EPSG:21781\" si las coordenadas están en LV03\n",
    "\n",
    "# Convertir el DataFrame de pandas a un GeoDataFrame de geopandas\n",
    "gdf = gpd.GeoDataFrame(\n",
    "    new_df,\n",
    "    geometry=gpd.points_from_xy(new_df[\"X-Coordinate\"], new_df[\"Y-Coordinate\"]),\n",
    "    crs=crs_original\n",
    ")\n",
    "\n",
    "# Proyectar al CRS deseado, por ejemplo WGS84 (EPSG:4326)\n",
    "gdf = gdf.to_crs(\"EPSG:4326\")\n"
   ]
  },
  {
   "cell_type": "code",
   "execution_count": null,
   "metadata": {},
   "outputs": [],
   "source": [
    "gdf.plot()"
   ]
  },
  {
   "cell_type": "code",
   "execution_count": null,
   "metadata": {},
   "outputs": [],
   "source": [
    "import contextily as ctx\n",
    "fig, ax = plt.subplots(figsize=(10, 10))\n",
    "gdf.plot(ax=ax, color=\"blue\", markersize=5, alpha=0.7, label=\"Puntos\")\n",
    "\n",
    "# Añadir un mapa base\n",
    "ctx.add_basemap(ax, crs=\"EPSG:4326\", source=ctx.providers.OpenStreetMap.Mapnik)\n",
    "# Configurar título y etiquetas\n",
    "ax.set_title(\"Visualización de Coordenadas Geográficas\", fontsize=15)\n",
    "ax.set_xlabel(\"Longitud\", fontsize=12)\n",
    "ax.set_ylabel(\"Latitud\", fontsize=12)\n",
    "plt.legend()\n",
    "plt.show()"
   ]
  },
  {
   "cell_type": "markdown",
   "metadata": {},
   "source": [
    "#### Create a shp for each cell"
   ]
  },
  {
   "cell_type": "code",
   "execution_count": null,
   "metadata": {},
   "outputs": [],
   "source": [
    "water_ds = pd.DataFrame(index = stations_ds[2161].Zeitstempel,columns = range(1,len(gdf)+1))"
   ]
  },
  {
   "cell_type": "code",
   "execution_count": null,
   "metadata": {
    "scrolled": true
   },
   "outputs": [],
   "source": [
    "# Change the CRS to a projected coordinate system (e.g., UTM appropriate for your region)\n",
    "gdf = gdf.to_crs(\"EPSG:32633\")  # Make sure to use the correct CRS for your region\n",
    "\n",
    "# Define the buffer size in meters (10x10 km = 5000 m in each direction from the center point)\n",
    "buffer_size = 5000\n",
    "\n",
    "# Create a folder to store the shapefiles if it doesn't exist\n",
    "output_folder = \"../data/external/shp/cells_10x10km\"\n",
    "os.makedirs(output_folder, exist_ok=True)\n",
    "\n",
    "cell_data = pd.DataFrame(columns=[\"Cell\", \"Latitude\", \"Longitude\"])\n",
    "\n",
    "c=1\n",
    "# Iterate over each point and create a 10x10 km cell, saving it as an individual shapefile\n",
    "for idx, point in gdf.iterrows():\n",
    "    # Create the square cell\n",
    "    x, y = point.geometry.x, point.geometry.y\n",
    "    square = box(x - buffer_size, y - buffer_size, x + buffer_size, y + buffer_size)\n",
    "    \n",
    "    # Create a new GeoDataFrame for the cell\n",
    "    cell_gdf = gpd.GeoDataFrame(index=[0], crs=gdf.crs, geometry=[square])\n",
    "    \n",
    "    # Define the filename for each cell, using the index or any relevant attribute\n",
    "    cell_filename = f\"{output_folder}/cell_{c}.shp\"\n",
    "    cell_gdf = cell_gdf.to_crs(\"EPSG:2056\")\n",
    "    \n",
    "    # Save the individual cell as a shapefile\n",
    "    cell_gdf.to_file(cell_filename, driver=\"ESRI Shapefile\")\n",
    "    try:\n",
    "        station_number = point.Stationsnummer\n",
    "        station_data = stations_ds[station_number]\n",
    "        water_ds[c] = list(station_data.Wert.values)\n",
    "\n",
    "        latitude = point['X-Coordinate']  # Taking the first value if multiple exist\n",
    "        longitude = point['Y-Coordinate']  # Taking the first value if multiple exist\n",
    "\n",
    "        # Append data to cell_data DataFrame\n",
    "        cell_data = pd.concat([cell_data,pd.DataFrame({\"Cell\": [c], \"Latitude\": [latitude], \"Longitude\": [longitude]})], ignore_index=True)\n",
    "    \n",
    "    except Exception as e:\n",
    "        print(e)\n",
    "        print(station_number,c, len(list(station_data.Wert.values)))\n",
    "    \n",
    "    \n",
    "    c+=1\n",
    "    \n",
    "\n",
    "print(\"Individual shapefiles created in the 'cells_10x10km' folder.\")\n"
   ]
  },
  {
   "cell_type": "code",
   "execution_count": null,
   "metadata": {},
   "outputs": [],
   "source": [
    "pd.read_csv(f'{dirr}/cell_coordinates.csv')#, index_col=0)"
   ]
  },
  {
   "cell_type": "code",
   "execution_count": null,
   "metadata": {},
   "outputs": [],
   "source": [
    "dirr='../data/raw/wt'\n",
    "os.makedirs(dirr,exist_ok=True)\n",
    "water_ds.to_csv(f'{dirr}/water_temp.csv',index=True)\n",
    "cell_data.to_csv(f'{dirr}/cell_coordinates.csv',index=False)\n",
    "pd.read_csv(f'{dirr}/water_temp.csv', index_col=0)"
   ]
  },
  {
   "cell_type": "code",
   "execution_count": null,
   "metadata": {},
   "outputs": [],
   "source": [
    "a=gpd.read_file(os.path.join(output_folder,'cell_1.shp'))\n",
    "a.plot()\n",
    "a.crs"
   ]
  },
  {
   "cell_type": "markdown",
   "metadata": {},
   "source": [
    "#### Plot all cells"
   ]
  },
  {
   "cell_type": "code",
   "execution_count": null,
   "metadata": {},
   "outputs": [],
   "source": [
    "gdf = gdf.to_crs(\"EPSG:32633\")\n",
    "buffer_size = 5000  # 10x10 km significa 5 km de radio en cada dirección desde el centro\n",
    "\n",
    "# Función para crear una celda cuadrada alrededor de cada punto\n",
    "def create_square(point, size):\n",
    "    x, y = point.x, point.y\n",
    "    return box(x - size, y - size, x + size, y + size)\n",
    "\n",
    "# Aplicamos la función a cada punto en el GeoDataFrame\n",
    "gdf['geometry'] = gdf.geometry.apply(lambda point: create_square(point, buffer_size))\n",
    "gdf = gdf.to_crs(\"EPSG:2056\")\n",
    "gdf.plot(color='none')"
   ]
  },
  {
   "cell_type": "markdown",
   "metadata": {},
   "source": [
    "### Comparison to old cells"
   ]
  },
  {
   "cell_type": "code",
   "execution_count": null,
   "metadata": {},
   "outputs": [],
   "source": [
    "crs_original = \"EPSG:2056\"  # o usa \"EPSG:21781\" si las coordenadas están en LV03\n",
    "\n",
    "# Convertir el DataFrame de pandas a un GeoDataFrame de geopandas\n",
    "gdf = gpd.GeoDataFrame(\n",
    "    new_df,\n",
    "    geometry=gpd.points_from_xy(new_df[\"X-Coordinate\"], new_df[\"Y-Coordinate\"]),\n",
    "    crs=crs_original\n",
    ")\n",
    "\n",
    "# Proyectar al CRS deseado, por ejemplo WGS84 (EPSG:4326)\n",
    "gdf = gdf.to_crs(\"EPSG:4326\")"
   ]
  },
  {
   "cell_type": "code",
   "execution_count": null,
   "metadata": {},
   "outputs": [],
   "source": [
    "gdf2 = gpd.read_file('../data/external/shp/Switzerland_shapefile')\n",
    "gdf2 = gdf2.to_crs(\"EPSG:4326\")\n",
    "fig, ax = plt.subplots(1, 1, figsize=(10, 10))\n",
    "gdf2.plot(ax=ax, facecolor=\"none\", edgecolor=\"green\", linewidth=1, label='Preprocessed Cells')\n",
    "gdf.plot(ax=ax)\n"
   ]
  }
 ],
 "metadata": {
  "kernelspec": {
   "display_name": "Python 3 (ipykernel)",
   "language": "python",
   "name": "python3"
  },
  "language_info": {
   "codemirror_mode": {
    "name": "ipython",
    "version": 3
   },
   "file_extension": ".py",
   "mimetype": "text/x-python",
   "name": "python",
   "nbconvert_exporter": "python",
   "pygments_lexer": "ipython3",
   "version": "3.12.4"
  }
 },
 "nbformat": 4,
 "nbformat_minor": 4
}

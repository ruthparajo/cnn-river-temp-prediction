{
 "cells": [
  {
   "cell_type": "code",
   "execution_count": null,
   "metadata": {},
   "outputs": [
    {
     "name": "stderr",
     "output_type": "stream",
     "text": [
      "/Users/ruthparajo/Library/Python/3.9/lib/python/site-packages/urllib3/__init__.py:34: NotOpenSSLWarning: urllib3 v2.0 only supports OpenSSL 1.1.1+, currently the 'ssl' module is compiled with 'LibreSSL 2.8.3'. See: https://github.com/urllib3/urllib3/issues/3020\n",
      "  warnings.warn(\n"
     ]
    }
   ],
   "source": [
    "import ee\n",
    "ee.Authenticate()  # Esto abre una ventana del navegador para autenticar\n",
    "ee.Initialize()\n",
    "import geemap.core as geemap"
   ]
  },
  {
   "cell_type": "code",
   "execution_count": null,
   "metadata": {},
   "outputs": [],
   "source": [
    "# Inicializa la API de Earth Engine (debes autenticarte si es la primera vez)\n",
    "ee.Initialize()\n",
    "\n",
    "# Definir un rectángulo con las coordenadas (xmin, ymin, xmax, ymax)\n",
    "roi = ee.Geometry.Rectangle([-114.30, 38.90, -114.20, 38.95])\n",
    "\n",
    "# Crea la colección de imágenes de Landsat 8, filtrando por fechas y el área de interés (roi)\n",
    "dataset = ee.ImageCollection('LANDSAT/LC08/C02/T1_L2') \\\n",
    "  .filterDate('2021-05-01', '2021-06-01') \\\n",
    "  .filterBounds(roi)\n",
    "\n",
    "# Aplica los factores de escala necesarios\n",
    "def apply_scale_factors(image):\n",
    "    optical_bands = image.select('SR_B.').multiply(0.0000275).add(-0.2)\n",
    "    thermal_bands = image.select('ST_B.*').multiply(0.00341802).add(149.0)\n",
    "    return image.addBands(optical_bands, None, True).addBands(thermal_bands, None, True)\n",
    "\n",
    "dataset = dataset.map(apply_scale_factors)\n",
    "\n",
    "# Calcular el NDVI para cada imagen de la colección\n",
    "def calculate_ndvi(image):\n",
    "    ndvi = image.normalizedDifference(['SR_B5', 'SR_B4']).rename('NDVI')\n",
    "    return image.addBands(ndvi)\n",
    "\n",
    "# Aplicar la función de NDVI a la colección\n",
    "ndvi_collection = dataset.map(calculate_ndvi)\n",
    "\n",
    "# Definir la visualización para el NDVI\n",
    "ndvi_visualization = {\n",
    "    'bands': ['NDVI'],\n",
    "    'min': 0.0,\n",
    "    'max': 1.0,\n",
    "    'palette': ['blue', 'white', 'green'],\n",
    "}\n",
    "\n",
    "# Crear el mapa y centrarlo en el área de interés\n",
    "m = geemap.Map()\n",
    "m.centerObject(roi, 10)\n",
    "\n",
    "# Añadir la colección NDVI al mapa\n",
    "m.addLayer(ndvi_collection.mean().clip(roi), ndvi_visualization, 'NDVI')\n",
    "\n",
    "# Mostrar el mapa\n",
    "m\n"
   ]
  },
  {
   "cell_type": "code",
   "execution_count": null,
   "metadata": {},
   "outputs": [],
   "source": []
  }
 ],
 "metadata": {
  "kernelspec": {
   "display_name": "Python 3",
   "language": "python",
   "name": "python3"
  },
  "language_info": {
   "codemirror_mode": {
    "name": "ipython",
    "version": 3
   },
   "file_extension": ".py",
   "mimetype": "text/x-python",
   "name": "python",
   "nbconvert_exporter": "python",
   "pygments_lexer": "ipython3",
   "version": "3.9.6"
  },
  "orig_nbformat": 4
 },
 "nbformat": 4,
 "nbformat_minor": 2
}

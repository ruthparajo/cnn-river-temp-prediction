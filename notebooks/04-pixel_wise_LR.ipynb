{
 "cells": [
  {
   "cell_type": "code",
   "execution_count": 1,
   "metadata": {},
   "outputs": [],
   "source": [
    "from functions import *"
   ]
  },
  {
   "cell_type": "code",
   "execution_count": 29,
   "metadata": {},
   "outputs": [],
   "source": [
    "import matplotlib.pyplot as plt\n",
    "import glob\n",
    "from skimage.transform import resize\n",
    "from sklearn.model_selection import train_test_split\n",
    "from sklearn.linear_model import LinearRegression\n",
    "import geopandas as gpd\n",
    "from sklearn.metrics import mean_absolute_error, mean_squared_error, r2_score\n",
    "import matplotlib\n",
    "import seaborn as sns\n",
    "from sklearn.model_selection import KFold\n",
    "from sklearn.preprocessing import StandardScaler\n",
    "import glob\n",
    "import time\n",
    "from datetime import datetime"
   ]
  },
  {
   "cell_type": "markdown",
   "metadata": {},
   "source": [
    "## Load data"
   ]
  },
  {
   "cell_type": "markdown",
   "metadata": {},
   "source": [
    "### Choose inputs"
   ]
  },
  {
   "cell_type": "code",
   "execution_count": 70,
   "metadata": {},
   "outputs": [],
   "source": [
    "source_dir = '../data/preprocessed'\n",
    "data = ['lst','wt','ndvi']\n",
    "all_ds = {k: [] for k in data}\n",
    "for d in data:\n",
    "    source_path = os.path.join(source_dir,d)\n",
    "    for subdir, dirs, files in os.walk(source_path):\n",
    "        for file in files:\n",
    "            if file.endswith('.csv'):\n",
    "                all_ds[d].append(pd.read_csv(f'{subdir}/{file}',index_col=0))\n",
    "                "
   ]
  },
  {
   "cell_type": "markdown",
   "metadata": {},
   "source": [
    "To choose specific rivers or not"
   ]
  },
  {
   "cell_type": "code",
   "execution_count": 71,
   "metadata": {},
   "outputs": [],
   "source": [
    "filter_river = 0\n",
    "if filter_river != None:\n",
    "    #lst_array = all_ds['lst'][filter_river].values.flatten()\n",
    "    #ndvi_array = all_ds['ndvi'][filter_river].values.flatten()\n",
    "    #wt_array = all_ds['wt'][filter_river].values.flatten()\n",
    "    df = all_ds['lst'][filter_river].copy()\n",
    "    df = df.sort_index(ascending=True)\n",
    "    indices.extend([idx for idx in df.index for _ in range(df.shape[1])])\n",
    "    lst_array=df.values.flatten()\n",
    "            \n",
    "    df = all_ds['wt'][filter_river].copy()\n",
    "    df = df.sort_index(ascending=True)\n",
    "    indices_wt.extend([idx for idx in df.index for _ in range(df.shape[1])])\n",
    "    wt_array = df.values.flatten()\n",
    "\n",
    "    if 'ndvi' in data:\n",
    "        df = all_ds['ndvi'][filter_river].copy()\n",
    "        df = df.sort_index(ascending=True)\n",
    "        indices_ndvi.extend([idx for idx in df.index for _ in range(df.shape[1])])\n",
    "        ndvi_array = df.values.flatten()\n",
    "\n",
    "else:\n",
    "    lst_datasets = []\n",
    "    ndvi_datasets = []\n",
    "    wt_datasets = []\n",
    "    indices = []\n",
    "    indices_ndvi = []\n",
    "    indices_wt = []\n",
    "    \n",
    "    for i in range(len(all_ds['lst'])):\n",
    "        df = all_ds['lst'][i].copy()\n",
    "        df = df.sort_index(ascending=True)\n",
    "        indices.extend([idx for idx in df.index for _ in range(df.shape[1])])\n",
    "        lst_datasets.append(df.values.flatten())\n",
    "                \n",
    "        df = all_ds['wt'][i].copy()\n",
    "        df = df.sort_index(ascending=True)\n",
    "        indices_wt.extend([idx for idx in df.index for _ in range(df.shape[1])])\n",
    "        wt_datasets.append(df.values.flatten())\n",
    "\n",
    "        if 'ndvi' in data:\n",
    "            df = all_ds['ndvi'][i].copy()\n",
    "            df = df.sort_index(ascending=True)\n",
    "            indices_ndvi.extend([idx for idx in df.index for _ in range(df.shape[1])])\n",
    "            ndvi_datasets.append(df.values.flatten())\n",
    "\n",
    "        \n",
    "    lst_array = np.concatenate(lst_datasets)\n",
    "    wt_array = np.concatenate(wt_datasets)\n",
    "\n",
    "    if 'ndvi' in data:\n",
    "        ndvi_array = np.concatenate(ndvi_datasets)\n",
    "          \n",
    "        \n",
    "    #lst_array = np.concatenate([dataset.values.flatten() for dataset in all_ds['lst']])\n",
    "    #ndvi_array = np.concatenate([dataset.values.flatten() for dataset in all_ds['ndvi']])\n",
    "    #wt_array = np.concatenate([dataset.values.flatten() for dataset in all_ds['wt']])\n",
    "    "
   ]
  },
  {
   "cell_type": "code",
   "execution_count": 72,
   "metadata": {},
   "outputs": [
    {
     "name": "stdout",
     "output_type": "stream",
     "text": [
      "False\n",
      "(82128,) (82128,) (82128,)\n"
     ]
    }
   ],
   "source": [
    "print(indices_ndvi==indices_wt)\n",
    "print(lst_array.shape, ndvi_array.shape, wt_array.shape)"
   ]
  },
  {
   "cell_type": "code",
   "execution_count": 73,
   "metadata": {},
   "outputs": [],
   "source": [
    "use_ndvi = True\n",
    "if 'ndvi' in data:\n",
    "  array_combined = np.stack((lst_array, ndvi_array), axis=-1)\n",
    "  X = array_combined\n",
    "\n",
    "else:\n",
    "  X = lst_array\n",
    "  X = X.reshape(-1, 1)\n",
    "\n",
    "y = wt_array"
   ]
  },
  {
   "cell_type": "code",
   "execution_count": 74,
   "metadata": {},
   "outputs": [
    {
     "data": {
      "text/plain": [
       "(82128, 2)"
      ]
     },
     "execution_count": 74,
     "metadata": {},
     "output_type": "execute_result"
    }
   ],
   "source": [
    "X.shape"
   ]
  },
  {
   "cell_type": "markdown",
   "metadata": {},
   "source": [
    "## Linear Regression model"
   ]
  },
  {
   "cell_type": "code",
   "execution_count": 75,
   "metadata": {},
   "outputs": [],
   "source": [
    "scaler = StandardScaler()\n",
    "X_scaled = scaler.fit_transform(X)"
   ]
  },
  {
   "cell_type": "markdown",
   "metadata": {},
   "source": [
    "### K-fold cross validation"
   ]
  },
  {
   "cell_type": "code",
   "execution_count": 76,
   "metadata": {},
   "outputs": [],
   "source": [
    "kf = KFold(n_splits=5, shuffle=True, random_state=42)\n",
    "\n",
    "model = LinearRegression()"
   ]
  },
  {
   "cell_type": "code",
   "execution_count": 77,
   "metadata": {},
   "outputs": [
    {
     "name": "stdout",
     "output_type": "stream",
     "text": [
      "Doing 0\n",
      "Entrenat\n",
      "Calculant mètriques...\n",
      "Doing 1\n",
      "Entrenat\n",
      "Calculant mètriques...\n",
      "Doing 2\n",
      "Entrenat\n",
      "Calculant mètriques...\n",
      "Doing 3\n",
      "Entrenat\n",
      "Calculant mètriques...\n",
      "Doing 4\n",
      "Entrenat\n",
      "Calculant mètriques...\n"
     ]
    }
   ],
   "source": [
    "# Iterate over the folds\n",
    "start_time = time.time()\n",
    "c=0\n",
    "all_results=[]\n",
    "for train_index, test_index in kf.split(X_scaled):\n",
    "    print('Doing',c)\n",
    "    X_train, X_test = X_scaled[train_index], X_scaled[test_index]\n",
    "    y_train, y_test = y[train_index], y[test_index]\n",
    "\n",
    "    # Train the model\n",
    "    model.fit(X_train, y_train)\n",
    "    print('Entrenat')\n",
    "\n",
    "    # Predict on the test set\n",
    "    y_pred = model.predict(X_test)\n",
    "\n",
    "    print('Calculant mètriques...')\n",
    "    total_results = evaluate_model(y_test, y_pred)\n",
    "    all_results.append(total_results)\n",
    "    \n",
    "    c+=1\n",
    "\n",
    "end_time = time.time()"
   ]
  },
  {
   "cell_type": "code",
   "execution_count": 78,
   "metadata": {},
   "outputs": [
    {
     "name": "stdout",
     "output_type": "stream",
     "text": [
      "MAE : 2.674864344705859\n",
      "MSE : 22.836099041321056\n",
      "RMSE : 4.264923527095275\n",
      "R² : -1.9385735233190537e-05\n",
      "MAPE (%) : 1303991103479.5251\n",
      "MSE sample-wise : 18.18974399527686\n"
     ]
    }
   ],
   "source": [
    "mean={}\n",
    "for i,res in enumerate(all_results):\n",
    "    for k,v in res.items():\n",
    "        if i==0:\n",
    "            mean[k] = [v]\n",
    "        else:\n",
    "            mean[k].append(v)\n",
    "\n",
    "final_mean={}\n",
    "for k,v in mean.items():\n",
    "    final_mean[k] = np.mean(v)\n",
    "    print(k,':',np.mean(v))"
   ]
  },
  {
   "cell_type": "markdown",
   "metadata": {},
   "source": [
    "### Save model results"
   ]
  },
  {
   "cell_type": "code",
   "execution_count": null,
   "metadata": {},
   "outputs": [],
   "source": []
  },
  {
   "cell_type": "code",
   "execution_count": 79,
   "metadata": {},
   "outputs": [],
   "source": [
    "# Get experiment data\n",
    "duration = round(end_time - start_time, 2)\n",
    "current_date = datetime.now().strftime(\"%Y-%m-%d\")\n",
    "current_time = datetime.now().strftime(\"%H:%M:%S\")\n",
    "\n",
    "model_name = 'pixel_wise_LR'\n",
    "# Save model results\n",
    "\n",
    "details = {'RMSE':final_mean['RMSE'],'Variables':', '.join(data),'Input': f'{len(X)} pixels', 'Output': 'wt', \\\n",
    "           'Split': 'Time-wise','Date':current_date, \\\n",
    "           'Time':current_time, 'Duration': duration}\n",
    "\n",
    "file_path = f\"../results/{model_name}_results.xlsx\"\n",
    "save_excel(file_path, details, excel = 'Results')\n",
    "\n",
    "final_mean['Model'] = model_name\n",
    "file_path = f\"../results/all_results.xlsx\"\n",
    "save_excel(file_path, final_mean, excel = 'Results')"
   ]
  },
  {
   "cell_type": "code",
   "execution_count": 80,
   "metadata": {},
   "outputs": [
    {
     "data": {
      "text/html": [
       "<div>\n",
       "<style scoped>\n",
       "    .dataframe tbody tr th:only-of-type {\n",
       "        vertical-align: middle;\n",
       "    }\n",
       "\n",
       "    .dataframe tbody tr th {\n",
       "        vertical-align: top;\n",
       "    }\n",
       "\n",
       "    .dataframe thead th {\n",
       "        text-align: right;\n",
       "    }\n",
       "</style>\n",
       "<table border=\"1\" class=\"dataframe\">\n",
       "  <thead>\n",
       "    <tr style=\"text-align: right;\">\n",
       "      <th></th>\n",
       "      <th>RMSE</th>\n",
       "      <th>Variables</th>\n",
       "      <th>Input</th>\n",
       "      <th>Output</th>\n",
       "      <th>Split</th>\n",
       "      <th>Date</th>\n",
       "      <th>Time</th>\n",
       "      <th>Duration</th>\n",
       "    </tr>\n",
       "  </thead>\n",
       "  <tbody>\n",
       "    <tr>\n",
       "      <th>0</th>\n",
       "      <td>3.382903</td>\n",
       "      <td>lst, wt, ndvi</td>\n",
       "      <td>1128975 pixels</td>\n",
       "      <td>wt</td>\n",
       "      <td>Time-wise</td>\n",
       "      <td>2024-11-01</td>\n",
       "      <td>16:04:59</td>\n",
       "      <td>335.14</td>\n",
       "    </tr>\n",
       "    <tr>\n",
       "      <th>1</th>\n",
       "      <td>3.382903</td>\n",
       "      <td>lst, wt, ndvi</td>\n",
       "      <td>1128975 pixels</td>\n",
       "      <td>wt</td>\n",
       "      <td>Time-wise</td>\n",
       "      <td>2024-11-01</td>\n",
       "      <td>16:05:17</td>\n",
       "      <td>335.14</td>\n",
       "    </tr>\n",
       "    <tr>\n",
       "      <th>2</th>\n",
       "      <td>3.384305</td>\n",
       "      <td>lst, wt</td>\n",
       "      <td>1128975 pixels</td>\n",
       "      <td>wt</td>\n",
       "      <td>Time-wise</td>\n",
       "      <td>2024-11-01</td>\n",
       "      <td>16:12:33</td>\n",
       "      <td>335.47</td>\n",
       "    </tr>\n",
       "    <tr>\n",
       "      <th>3</th>\n",
       "      <td>4.264925</td>\n",
       "      <td>lst, wt</td>\n",
       "      <td>82128 pixels</td>\n",
       "      <td>wt</td>\n",
       "      <td>Time-wise</td>\n",
       "      <td>2024-11-01</td>\n",
       "      <td>16:23:11</td>\n",
       "      <td>24.68</td>\n",
       "    </tr>\n",
       "    <tr>\n",
       "      <th>4</th>\n",
       "      <td>4.264924</td>\n",
       "      <td>lst, wt, ndvi</td>\n",
       "      <td>82128 pixels</td>\n",
       "      <td>wt</td>\n",
       "      <td>Time-wise</td>\n",
       "      <td>2024-11-01</td>\n",
       "      <td>16:26:32</td>\n",
       "      <td>24.59</td>\n",
       "    </tr>\n",
       "  </tbody>\n",
       "</table>\n",
       "</div>"
      ],
      "text/plain": [
       "       RMSE      Variables           Input Output      Split        Date  \\\n",
       "0  3.382903  lst, wt, ndvi  1128975 pixels     wt  Time-wise  2024-11-01   \n",
       "1  3.382903  lst, wt, ndvi  1128975 pixels     wt  Time-wise  2024-11-01   \n",
       "2  3.384305        lst, wt  1128975 pixels     wt  Time-wise  2024-11-01   \n",
       "3  4.264925        lst, wt    82128 pixels     wt  Time-wise  2024-11-01   \n",
       "4  4.264924  lst, wt, ndvi    82128 pixels     wt  Time-wise  2024-11-01   \n",
       "\n",
       "       Time  Duration  \n",
       "0  16:04:59    335.14  \n",
       "1  16:05:17    335.14  \n",
       "2  16:12:33    335.47  \n",
       "3  16:23:11     24.68  \n",
       "4  16:26:32     24.59  "
      ]
     },
     "execution_count": 80,
     "metadata": {},
     "output_type": "execute_result"
    }
   ],
   "source": [
    "pd.read_excel(f\"../results/{model_name}_results.xlsx\")"
   ]
  }
 ],
 "metadata": {
  "kernelspec": {
   "display_name": "Python 3 (ipykernel)",
   "language": "python",
   "name": "python3"
  },
  "language_info": {
   "codemirror_mode": {
    "name": "ipython",
    "version": 3
   },
   "file_extension": ".py",
   "mimetype": "text/x-python",
   "name": "python",
   "nbconvert_exporter": "python",
   "pygments_lexer": "ipython3",
   "version": "3.12.4"
  }
 },
 "nbformat": 4,
 "nbformat_minor": 4
}

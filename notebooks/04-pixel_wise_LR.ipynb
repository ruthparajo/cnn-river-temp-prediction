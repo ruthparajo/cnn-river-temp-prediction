{
 "cells": [
  {
   "cell_type": "code",
   "execution_count": 1,
   "metadata": {},
   "outputs": [],
   "source": [
    "from functions import *"
   ]
  },
  {
   "cell_type": "code",
   "execution_count": 2,
   "metadata": {},
   "outputs": [],
   "source": [
    "import matplotlib.pyplot as plt\n",
    "import glob\n",
    "from skimage.transform import resize\n",
    "from sklearn.model_selection import train_test_split\n",
    "from sklearn.linear_model import LinearRegression\n",
    "import geopandas as gpd\n",
    "from sklearn.metrics import mean_absolute_error, mean_squared_error, r2_score\n",
    "import matplotlib\n",
    "import seaborn as sns\n",
    "from sklearn.model_selection import KFold\n",
    "from sklearn.preprocessing import StandardScaler\n",
    "import glob"
   ]
  },
  {
   "cell_type": "markdown",
   "metadata": {},
   "source": [
    "## Load data"
   ]
  },
  {
   "cell_type": "markdown",
   "metadata": {},
   "source": [
    "### Choose inputs"
   ]
  },
  {
   "cell_type": "code",
   "execution_count": 3,
   "metadata": {},
   "outputs": [],
   "source": [
    "source_dir = '../data/preprocessed'\n",
    "data = ['lst','wt','ndvi']\n",
    "all_ds = {k: [] for k in data}\n",
    "for d in data:\n",
    "    source_path = os.path.join(source_dir,d)\n",
    "    for subdir, dirs, files in os.walk(source_path):\n",
    "        for file in files:\n",
    "            if file.endswith('.csv'):\n",
    "                all_ds[d].append(pd.read_csv(f'{subdir}/{file}',index_col=0))\n",
    "                "
   ]
  },
  {
   "cell_type": "markdown",
   "metadata": {},
   "source": [
    "To choose specific rivers or not"
   ]
  },
  {
   "cell_type": "code",
   "execution_count": 7,
   "metadata": {},
   "outputs": [],
   "source": [
    "filter_river = None\n",
    "if filter_river != None:\n",
    "    lst_array = all_ds['lst'][filter_river].values.flatten()\n",
    "    ndvi_array = all_ds['ndvi'][filter_river].values.flatten()\n",
    "    wt_array = all_ds['wt'][filter_river].values.flatten()\n",
    "else:\n",
    "    lst_array = np.concatenate([dataset.values.flatten() for dataset in all_ds['lst']])\n",
    "    ndvi_array = np.concatenate([dataset.values.flatten() for dataset in all_ds['ndvi']])\n",
    "    wt_array = np.concatenate([dataset.values.flatten() for dataset in all_ds['wt']])"
   ]
  },
  {
   "cell_type": "code",
   "execution_count": 8,
   "metadata": {},
   "outputs": [],
   "source": [
    "use_ndvi = True\n",
    "if use_ndvi:\n",
    "  array_combined = np.stack((lst_array, ndvi_array), axis=-1)\n",
    "  X = array_combined\n",
    "\n",
    "else:\n",
    "  X = lst_array\n",
    "  X = X.reshape(-1, 1)\n",
    "\n",
    "y = wt_array"
   ]
  },
  {
   "cell_type": "code",
   "execution_count": 9,
   "metadata": {},
   "outputs": [
    {
     "data": {
      "text/plain": [
       "(83192, 2)"
      ]
     },
     "execution_count": 9,
     "metadata": {},
     "output_type": "execute_result"
    }
   ],
   "source": [
    "X.shape"
   ]
  },
  {
   "cell_type": "markdown",
   "metadata": {},
   "source": [
    "## Linear Regression model"
   ]
  },
  {
   "cell_type": "code",
   "execution_count": 10,
   "metadata": {},
   "outputs": [],
   "source": [
    "scaler = StandardScaler()\n",
    "X_scaled = scaler.fit_transform(X)"
   ]
  },
  {
   "cell_type": "markdown",
   "metadata": {},
   "source": [
    "### K-fold cross validation"
   ]
  },
  {
   "cell_type": "code",
   "execution_count": 11,
   "metadata": {},
   "outputs": [],
   "source": [
    "kf = KFold(n_splits=5, shuffle=True, random_state=42)\n",
    "\n",
    "model = LinearRegression()"
   ]
  },
  {
   "cell_type": "code",
   "execution_count": 12,
   "metadata": {},
   "outputs": [],
   "source": [
    "# Iterate over the folds\n",
    "for train_index, test_index in kf.split(X_scaled):\n",
    "    X_train, X_test = X_scaled[train_index], X_scaled[test_index]\n",
    "    y_train, y_test = y[train_index], y[test_index]\n",
    "\n",
    "    # Train the model\n",
    "    model.fit(X_train, y_train)\n",
    "\n",
    "    # Predict on the test set\n",
    "    y_pred = model.predict(X_test)\n",
    "\n",
    "    total_results = evaluate_model(y_test, y_pred)\n"
   ]
  },
  {
   "cell_type": "code",
   "execution_count": 13,
   "metadata": {},
   "outputs": [
    {
     "data": {
      "text/plain": [
       "{'MAE': 1.4167301887166859,\n",
       " 'MSE': 0.5715516392785962,\n",
       " 'RMSE': 2.9336231001061974,\n",
       " 'R²': 0.0008945378491006517,\n",
       " 'MAPE (%)': 727629127252.3126,\n",
       " 'MSE sample-wise': 8.606144493476696}"
      ]
     },
     "execution_count": 13,
     "metadata": {},
     "output_type": "execute_result"
    }
   ],
   "source": [
    "total_results"
   ]
  },
  {
   "cell_type": "markdown",
   "metadata": {},
   "source": [
    "### Save model results"
   ]
  },
  {
   "cell_type": "code",
   "execution_count": 14,
   "metadata": {},
   "outputs": [],
   "source": [
    "model_name = \"pixel_wise_LR\"\n",
    "details = {'RMSE':total_results['RMSE'],'Variables':'lst, ndvi','Input': 'scaled 10 rivers', 'Output': 'wt', 'Resolution': 256, 'nº samples': len(y)}\n",
    "\n",
    "file_path = f\"../results/{model_name}_results.xlsx\"\n",
    "save_excel(file_path, details, excel = 'Results')\n",
    "\n",
    "total_results['Model'] = model_name\n",
    "file_path = f\"../results/all_results.xlsx\"\n",
    "save_excel(file_path, total_results, excel = 'Results')"
   ]
  }
 ],
 "metadata": {
  "kernelspec": {
   "display_name": "Python 3",
   "language": "python",
   "name": "python3"
  },
  "language_info": {
   "codemirror_mode": {
    "name": "ipython",
    "version": 3
   },
   "file_extension": ".py",
   "mimetype": "text/x-python",
   "name": "python",
   "nbconvert_exporter": "python",
   "pygments_lexer": "ipython3",
   "version": "3.9.6"
  },
  "orig_nbformat": 4
 },
 "nbformat": 4,
 "nbformat_minor": 2
}

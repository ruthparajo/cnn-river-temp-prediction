{
 "cells": [
  {
   "cell_type": "code",
   "execution_count": 1,
   "metadata": {
    "colab": {
     "base_uri": "https://localhost:8080/"
    },
    "executionInfo": {
     "elapsed": 16955,
     "status": "ok",
     "timestamp": 1727963151889,
     "user": {
      "displayName": "Ruth Parajó Ferrer",
      "userId": "07031545869212809064"
     },
     "user_tz": -120
    },
    "id": "knivKlf6mv1P",
    "outputId": "fd1d01a1-7170-430c-f009-17b041ef18aa"
   },
   "outputs": [],
   "source": [
    "from functions import *"
   ]
  },
  {
   "cell_type": "code",
   "execution_count": 2,
   "metadata": {
    "colab": {
     "base_uri": "https://localhost:8080/",
     "height": 1000
    },
    "executionInfo": {
     "elapsed": 6746,
     "status": "ok",
     "timestamp": 1727963158628,
     "user": {
      "displayName": "Ruth Parajó Ferrer",
      "userId": "07031545869212809064"
     },
     "user_tz": -120
    },
    "id": "tc9wETqQYVRV",
    "outputId": "a56342b4-d718-4420-a519-d941f007ebbc"
   },
   "outputs": [],
   "source": [
    "import geopandas as gpd\n",
    "import matplotlib.pyplot as plt\n",
    "from rasterio.windows import Window\n",
    "import fiona\n",
    "from shapely.geometry import shape\n",
    "from scipy.interpolate import griddata\n",
    "import matplotlib.pyplot as plt\n",
    "from shapely.ops import unary_union"
   ]
  },
  {
   "cell_type": "markdown",
   "metadata": {
    "jp-MarkdownHeadingCollapsed": true
   },
   "source": [
    "### Functions"
   ]
  },
  {
   "cell_type": "code",
   "execution_count": 4,
   "metadata": {},
   "outputs": [],
   "source": [
    "import numpy as np\n",
    "import rasterio\n",
    "from rasterio.transform import from_origin\n",
    "import matplotlib.pyplot as plt\n",
    "from matplotlib.colors import LogNorm\n",
    "\n",
    "\n",
    "def get_closest_grid_cell(x, y, x_range, y_range):\n",
    "    x_idx = np.argmin(np.abs(x_range - x))\n",
    "    y_idx = np.argmin(np.abs(y_range - y))\n",
    "    return x_idx, y_idx\n",
    "\n",
    "def generate_raster(df, shp, river, folder_path):\n",
    "    print('holaaa')\n",
    "\n",
    "    # Extract the coordinate columns (Coord X, Coord Y)\n",
    "    x_coords = df['Coord X'].values\n",
    "    y_coords = df['Coord Y'].values\n",
    "    \n",
    "    # Define bounds and resolution for the grid\n",
    "    bounds = shp.total_bounds\n",
    "    resolution = 30\n",
    "    x_min, y_min, x_max, y_max = bounds\n",
    "    x_range = np.arange(x_min, x_max, resolution)\n",
    "    y_range = np.arange(y_min, y_max, resolution)\n",
    "    \n",
    "    # Precompute the grid cell indices for all coordinates\n",
    "    grid_indices = [get_closest_grid_cell(x, y, x_range, y_range) for x, y in zip(x_coords, y_coords)]\n",
    "    \n",
    "    # Define the transformation for the raster grid\n",
    "    transform = from_origin(x_min, y_max, resolution, resolution)\n",
    "    \n",
    "    # Loop through each temperature column (each date)\n",
    "    for col in df.columns[2:]:  # Assuming temperature columns start from the 4th column onward\n",
    "        print(col)\n",
    "        var = df[col].values  # Extract the variable data for the current date\n",
    "    \n",
    "        # Initialize an array to store temperature values for the current day\n",
    "        raster_array = np.zeros((len(y_range), len(x_range)))\n",
    "    \n",
    "        # Assign temperature values to the grid cells based on precomputed indices\n",
    "        for i, (x_idx, y_idx) in enumerate(grid_indices):\n",
    "            temp = var[i]\n",
    "            raster_array[y_idx, x_idx] = temp\n",
    "    \n",
    "        save_raster(np.flipud(raster_array),f'{folder_path}/discharge_{river}.tif', shp)\n",
    "    \n",
    "        vmin = np.min(raster_array)\n",
    "        vmax = np.max(raster_array)\n",
    "        if vmin == vmax:\n",
    "            vmin -= 0.01  # Slight adjustment to avoid identical vmin and vmax\n",
    "        print('helou',vmin, vmax)\n",
    "        try:\n",
    "            plt.imshow(raster_array, cmap='inferno', origin='lower', extent=[x_min, x_max, y_min, y_max],norm=LogNorm())\n",
    "            plt.colorbar(label='1')\n",
    "            plt.title(f'{col} Heatmap for {river}')\n",
    "            plt.show()\n",
    "\n",
    "        except ValueError as e:\n",
    "            try:\n",
    "                plt.imshow(raster_array, cmap='inferno', origin='lower', extent=[x_min, x_max, y_min, y_max],norm=LogNorm(vmin = vmin, vmax = vmax))\n",
    "                plt.colorbar(label='2')\n",
    "                plt.title(f'{col} Heatmap for {river}')\n",
    "                plt.show()\n",
    "            except:\n",
    "                plt.imshow(raster_array, cmap='inferno', origin='lower', extent=[x_min, x_max, y_min, y_max])\n",
    "                plt.colorbar(label='3')\n",
    "                plt.title(f'{col} Heatmap for {river}')\n",
    "                plt.show()\n"
   ]
  },
  {
   "cell_type": "markdown",
   "metadata": {},
   "source": [
    "### Load data"
   ]
  },
  {
   "cell_type": "code",
   "execution_count": 3,
   "metadata": {},
   "outputs": [],
   "source": [
    "file_path = '../data/external/slope_discharge/Typisierung_LV95/typisierung.gpkg'\n",
    "gdf = gpd.read_file(file_path)\n",
    "PATH_DATA = '../data/external/'"
   ]
  },
  {
   "cell_type": "markdown",
   "metadata": {},
   "source": [
    "#### Load rivers"
   ]
  },
  {
   "cell_type": "code",
   "execution_count": 5,
   "metadata": {
    "scrolled": true
   },
   "outputs": [
    {
     "name": "stdout",
     "output_type": "stream",
     "text": [
      "Processing file: rivers_grid_cell_320.shp\n",
      "Processing file: rivers_grid_cell_567.shp\n",
      "Processing file: rivers_grid_cell_490.shp\n",
      "Processing file: rivers_grid_cell_328.shp\n",
      "Processing file: rivers_grid_cell_597.shp\n",
      "Processing file: rivers_grid_cell_304.shp\n",
      "Processing file: rivers_grid_cell_109.shp\n",
      "Processing file: rivers_grid_cell_199.shp\n",
      "Processing file: rivers_grid_cell_356.shp\n",
      "Processing file: rivers_grid_cell_418.shp\n",
      "Processing file: rivers_grid_cell_303.shp\n",
      "Processing file: rivers_grid_cell_478.shp\n",
      "Processing file: rivers_grid_cell_444.shp\n",
      "Processing file: rivers_grid_cell_416.shp\n",
      "Processing file: rivers_grid_cell_442.shp\n",
      "Processing file: rivers_grid_cell_246.shp\n",
      "Processing file: rivers_grid_cell_465.shp\n",
      "Processing file: rivers_grid_cell_269.shp\n",
      "Processing file: rivers_grid_cell_510.shp\n",
      "Processing file: rivers_grid_cell_208.shp\n",
      "Processing file: rivers_grid_cell_379.shp\n",
      "Processing file: rivers_grid_cell_568.shp\n",
      "Processing file: rivers_grid_cell_503.shp\n",
      "Processing file: rivers_grid_cell_534.shp\n",
      "Processing file: rivers_grid_cell_273.shp\n",
      "Processing file: rivers_grid_cell_756.shp\n",
      "Processing file: rivers_grid_cell_493.shp\n",
      "Processing file: rivers_grid_cell_657.shp\n",
      "Processing file: rivers_grid_cell_248.shp\n",
      "Processing file: rivers_grid_cell_354.shp\n",
      "Processing file: rivers_grid_cell_341.shp\n",
      "Processing file: rivers_grid_cell_573.shp\n",
      "Processing file: rivers_grid_cell_355.shp\n",
      "Processing file: rivers_grid_cell_619.shp\n",
      "Processing file: rivers_grid_cell_342.shp\n",
      "Processing file: rivers_grid_cell_589.shp\n",
      "Processing file: rivers_grid_cell_733.shp\n",
      "Processing file: rivers_grid_cell_306.shp\n",
      "Processing file: rivers_grid_cell_641.shp\n",
      "Processing file: rivers_grid_cell_514.shp\n",
      "Processing file: rivers_grid_cell_611.shp\n",
      "Processing file: rivers_grid_cell_322.shp\n",
      "Processing file: rivers_grid_cell_348.shp\n",
      "Processing file: rivers_grid_cell_500.shp\n",
      "Processing file: rivers_grid_cell_156.shp\n",
      "Processing file: rivers_grid_cell_298.shp\n",
      "Processing file: rivers_grid_cell_249.shp\n",
      "Processing file: rivers_grid_cell_401.shp\n",
      "Processing file: rivers_grid_cell_343.shp\n",
      "Processing file: rivers_grid_cell_448.shp\n",
      "Processing file: rivers_grid_cell_523.shp\n",
      "Processing file: rivers_grid_cell_404.shp\n",
      "Processing file: rivers_grid_cell_227.shp\n",
      "Processing file: rivers_grid_cell_258.shp\n",
      "Processing file: rivers_grid_cell_375.shp\n",
      "Processing file: rivers_grid_cell_244.shp\n",
      "Processing file: rivers_grid_cell_429.shp\n",
      "Processing file: rivers_grid_cell_247.shp\n",
      "Processing file: rivers_grid_cell_488.shp\n",
      "Processing file: rivers_grid_cell_538.shp\n",
      "Processing file: rivers_grid_cell_398.shp\n",
      "Processing file: rivers_grid_cell_272.shp\n",
      "Processing file: rivers_grid_cell_540.shp\n",
      "Processing file: rivers_grid_cell_57.shp\n",
      "Processing file: rivers_grid_cell_570.shp\n",
      "Processing file: rivers_grid_cell_730.shp\n",
      "Processing file: rivers_grid_cell_371.shp\n",
      "Processing file: rivers_grid_cell_592.shp\n",
      "Processing file: rivers_grid_cell_618.shp\n",
      "Processing file: rivers_grid_cell_234.shp\n",
      "Processing file: rivers_grid_cell_752.shp\n",
      "Processing file: rivers_grid_cell_588.shp\n",
      "Processing file: rivers_grid_cell_307.shp\n",
      "Processing file: rivers_grid_cell_494.shp\n",
      "Processing file: rivers_grid_cell_535.shp\n",
      "Processing file: rivers_grid_cell_532.shp\n",
      "Processing file: rivers_grid_cell_545.shp\n",
      "Processing file: rivers_grid_cell_559.shp\n",
      "Processing file: rivers_grid_cell_365.shp\n",
      "Processing file: rivers_grid_cell_537.shp\n",
      "Processing file: rivers_grid_cell_685.shp\n",
      "Processing file: rivers_grid_cell_637.shp\n",
      "Processing file: rivers_grid_cell_566.shp\n",
      "Processing file: rivers_grid_cell_374.shp\n",
      "Processing file: rivers_grid_cell_223.shp\n",
      "Processing file: rivers_grid_cell_157.shp\n",
      "Processing file: rivers_grid_cell_663.shp\n",
      "Processing file: rivers_grid_cell_467.shp\n",
      "Processing file: rivers_grid_cell_466.shp\n",
      "Processing file: rivers_grid_cell_682.shp\n",
      "Processing file: rivers_grid_cell_443.shp\n",
      "Processing file: rivers_grid_cell_403.shp\n",
      "Processing file: rivers_grid_cell_729.shp\n",
      "Processing file: rivers_grid_cell_639.shp\n",
      "Processing file: rivers_grid_cell_226.shp\n",
      "Processing file: rivers_grid_cell_474.shp\n",
      "Processing file: rivers_grid_cell_176.shp\n",
      "Processing file: rivers_grid_cell_686.shp\n",
      "Processing file: rivers_grid_cell_331.shp\n",
      "Processing file: rivers_grid_cell_610.shp\n",
      "Processing file: rivers_grid_cell_565.shp\n",
      "Processing file: rivers_grid_cell_501.shp\n",
      "Processing file: rivers_grid_cell_174.shp\n",
      "Processing file: rivers_grid_cell_487.shp\n",
      "Processing file: rivers_grid_cell_133.shp\n",
      "Processing file: rivers_grid_cell_595.shp\n",
      "Processing file: rivers_grid_cell_560.shp\n",
      "Processing file: rivers_grid_cell_498.shp\n",
      "Processing file: rivers_grid_cell_549.shp\n",
      "Processing file: rivers_grid_cell_324.shp\n",
      "Processing file: rivers_grid_cell_275.shp\n",
      "Processing file: rivers_grid_cell_489.shp\n",
      "Processing file: rivers_grid_cell_451.shp\n",
      "Processing file: rivers_grid_cell_58.shp\n",
      "Processing file: rivers_grid_cell_683.shp\n",
      "Processing file: rivers_grid_cell_301.shp\n",
      "Processing file: rivers_grid_cell_154.shp\n",
      "Processing file: rivers_grid_cell_349.shp\n",
      "Processing file: rivers_grid_cell_731.shp\n",
      "Processing file: rivers_grid_cell_209.shp\n",
      "Processing file: rivers_grid_cell_278.shp\n",
      "Processing file: rivers_grid_cell_515.shp\n",
      "Processing file: rivers_grid_cell_351.shp\n",
      "Processing file: rivers_grid_cell_492.shp\n",
      "Processing file: rivers_grid_cell_472.shp\n",
      "Processing file: rivers_grid_cell_564.shp\n",
      "Processing file: rivers_grid_cell_367.shp\n",
      "Processing file: rivers_grid_cell_202.shp\n",
      "Processing file: rivers_grid_cell_526.shp\n",
      "Processing file: rivers_grid_cell_425.shp\n",
      "Processing file: rivers_grid_cell_225.shp\n",
      "Processing file: rivers_grid_cell_329.shp\n",
      "Processing file: rivers_grid_cell_557.shp\n",
      "Processing file: rivers_grid_cell_612.shp\n",
      "Processing file: rivers_grid_cell_317.shp\n",
      "Processing file: rivers_grid_cell_780.shp\n",
      "Processing file: rivers_grid_cell_571.shp\n",
      "Processing file: rivers_grid_cell_180.shp\n",
      "Processing file: rivers_grid_cell_709.shp\n",
      "Processing file: rivers_grid_cell_473.shp\n",
      "Processing file: rivers_grid_cell_178.shp\n",
      "Processing file: rivers_grid_cell_710.shp\n",
      "Processing file: rivers_grid_cell_475.shp\n",
      "Processing file: rivers_grid_cell_517.shp\n",
      "Processing file: rivers_grid_cell_107.shp\n",
      "Processing file: rivers_grid_cell_495.shp\n",
      "Processing file: rivers_grid_cell_299.shp\n",
      "Processing file: rivers_grid_cell_519.shp\n",
      "Processing file: rivers_grid_cell_82.shp\n",
      "Processing file: rivers_grid_cell_476.shp\n",
      "Processing file: rivers_grid_cell_497.shp\n",
      "Processing file: rivers_grid_cell_323.shp\n",
      "Processing file: rivers_grid_cell_614.shp\n",
      "Processing file: rivers_grid_cell_477.shp\n",
      "Processing file: rivers_grid_cell_345.shp\n",
      "Processing file: rivers_grid_cell_708.shp\n",
      "Processing file: rivers_grid_cell_426.shp\n",
      "Processing file: rivers_grid_cell_582.shp\n",
      "Processing file: rivers_grid_cell_757.shp\n",
      "Processing file: rivers_grid_cell_243.shp\n",
      "Processing file: rivers_grid_cell_327.shp\n",
      "Processing file: rivers_grid_cell_257.shp\n",
      "Processing file: rivers_grid_cell_267.shp\n",
      "Processing file: rivers_grid_cell_617.shp\n",
      "Processing file: rivers_grid_cell_274.shp\n",
      "Processing file: rivers_grid_cell_277.shp\n",
      "Processing file: rivers_grid_cell_255.shp\n",
      "Processing file: rivers_grid_cell_268.shp\n",
      "Processing file: rivers_grid_cell_224.shp\n",
      "Processing file: rivers_grid_cell_446.shp\n",
      "Processing file: rivers_grid_cell_524.shp\n",
      "Processing file: rivers_grid_cell_636.shp\n",
      "Processing file: rivers_grid_cell_175.shp\n",
      "Processing file: rivers_grid_cell_591.shp\n",
      "Processing file: rivers_grid_cell_423.shp\n",
      "Processing file: rivers_grid_cell_302.shp\n",
      "Processing file: rivers_grid_cell_347.shp\n",
      "Processing file: rivers_grid_cell_368.shp\n",
      "Processing file: rivers_grid_cell_561.shp\n",
      "Processing file: rivers_grid_cell_516.shp\n",
      "Processing file: rivers_grid_cell_687.shp\n",
      "Processing file: rivers_grid_cell_281.shp\n",
      "Processing file: rivers_grid_cell_587.shp\n",
      "Processing file: rivers_grid_cell_185.shp\n",
      "Processing file: rivers_grid_cell_421.shp\n",
      "Processing file: rivers_grid_cell_400.shp\n",
      "Processing file: rivers_grid_cell_583.shp\n",
      "Processing file: rivers_grid_cell_590.shp\n",
      "Processing file: rivers_grid_cell_543.shp\n",
      "Processing file: rivers_grid_cell_203.shp\n",
      "Processing file: rivers_grid_cell_422.shp\n",
      "Processing file: rivers_grid_cell_512.shp\n",
      "Processing file: rivers_grid_cell_179.shp\n",
      "Processing file: rivers_grid_cell_245.shp\n",
      "Processing file: rivers_grid_cell_316.shp\n",
      "Processing file: rivers_grid_cell_548.shp\n",
      "Processing file: rivers_grid_cell_399.shp\n",
      "Processing file: rivers_grid_cell_293.shp\n",
      "Processing file: rivers_grid_cell_350.shp\n",
      "Processing file: rivers_grid_cell_522.shp\n",
      "Processing file: rivers_grid_cell_755.shp\n",
      "Processing file: rivers_grid_cell_542.shp\n",
      "Processing file: rivers_grid_cell_656.shp\n",
      "Processing file: rivers_grid_cell_196.shp\n",
      "Processing file: rivers_grid_cell_732.shp\n",
      "Processing file: rivers_grid_cell_640.shp\n",
      "Processing file: rivers_grid_cell_681.shp\n",
      "Processing file: rivers_grid_cell_445.shp\n",
      "Processing file: rivers_grid_cell_297.shp\n",
      "Processing file: rivers_grid_cell_352.shp\n",
      "Processing file: rivers_grid_cell_283.shp\n",
      "Processing file: rivers_grid_cell_491.shp\n",
      "Processing file: rivers_grid_cell_201.shp\n",
      "Processing file: rivers_grid_cell_229.shp\n",
      "Processing file: rivers_grid_cell_353.shp\n",
      "Processing file: rivers_grid_cell_546.shp\n",
      "Processing file: rivers_grid_cell_366.shp\n",
      "Processing file: rivers_grid_cell_372.shp\n",
      "Processing file: rivers_grid_cell_449.shp\n",
      "Processing file: rivers_grid_cell_427.shp\n",
      "Processing file: rivers_grid_cell_346.shp\n",
      "Processing file: rivers_grid_cell_496.shp\n",
      "Processing file: rivers_grid_cell_469.shp\n",
      "Processing file: rivers_grid_cell_326.shp\n",
      "Processing file: rivers_grid_cell_397.shp\n",
      "Processing file: rivers_grid_cell_513.shp\n",
      "Processing file: rivers_grid_cell_447.shp\n",
      "Processing file: rivers_grid_cell_572.shp\n",
      "Processing file: rivers_grid_cell_659.shp\n",
      "Processing file: rivers_grid_cell_593.shp\n",
      "Processing file: rivers_grid_cell_173.shp\n",
      "Processing file: rivers_grid_cell_231.shp\n",
      "Processing file: rivers_grid_cell_130.shp\n",
      "Processing file: rivers_grid_cell_539.shp\n",
      "Processing file: rivers_grid_cell_684.shp\n",
      "Processing file: rivers_grid_cell_705.shp\n",
      "Processing file: rivers_grid_cell_804.shp\n",
      "Processing file: rivers_grid_cell_596.shp\n",
      "Processing file: rivers_grid_cell_635.shp\n",
      "Processing file: rivers_grid_cell_252.shp\n",
      "Processing file: rivers_grid_cell_584.shp\n",
      "Processing file: rivers_grid_cell_325.shp\n",
      "Processing file: rivers_grid_cell_177.shp\n",
      "Processing file: rivers_grid_cell_332.shp\n",
      "Processing file: rivers_grid_cell_300.shp\n",
      "Processing file: rivers_grid_cell_380.shp\n",
      "Processing file: rivers_grid_cell_305.shp\n",
      "Processing file: rivers_grid_cell_396.shp\n",
      "Processing file: rivers_grid_cell_279.shp\n",
      "Processing file: rivers_grid_cell_544.shp\n",
      "Processing file: rivers_grid_cell_321.shp\n",
      "Processing file: rivers_grid_cell_253.shp\n",
      "Processing file: rivers_grid_cell_521.shp\n",
      "Processing file: rivers_grid_cell_308.shp\n",
      "Processing file: rivers_grid_cell_420.shp\n",
      "Processing file: rivers_grid_cell_158.shp\n",
      "Processing file: rivers_grid_cell_511.shp\n",
      "Processing file: rivers_grid_cell_132.shp\n",
      "Processing file: rivers_grid_cell_256.shp\n",
      "Processing file: rivers_grid_cell_620.shp\n",
      "Processing file: rivers_grid_cell_276.shp\n",
      "Processing file: rivers_grid_cell_803.shp\n",
      "Processing file: rivers_grid_cell_621.shp\n",
      "Processing file: rivers_grid_cell_518.shp\n",
      "Processing file: rivers_grid_cell_594.shp\n",
      "Processing file: rivers_grid_cell_344.shp\n",
      "Processing file: rivers_grid_cell_569.shp\n",
      "Processing file: rivers_grid_cell_502.shp\n",
      "Processing file: rivers_grid_cell_706.shp\n",
      "Processing file: rivers_grid_cell_219.shp\n",
      "Processing file: rivers_grid_cell_616.shp\n",
      "Processing file: rivers_grid_cell_222.shp\n",
      "Processing file: rivers_grid_cell_271.shp\n",
      "Processing file: rivers_grid_cell_204.shp\n",
      "Processing file: rivers_grid_cell_377.shp\n",
      "Processing file: rivers_grid_cell_661.shp\n",
      "Processing file: rivers_grid_cell_556.shp\n",
      "Processing file: rivers_grid_cell_207.shp\n",
      "Processing file: rivers_grid_cell_615.shp\n",
      "Processing file: rivers_grid_cell_454.shp\n",
      "Processing file: rivers_grid_cell_499.shp\n",
      "Processing file: rivers_grid_cell_547.shp\n",
      "Processing file: rivers_grid_cell_294.shp\n",
      "Processing file: rivers_grid_cell_417.shp\n",
      "Processing file: rivers_grid_cell_155.shp\n",
      "Processing file: rivers_grid_cell_250.shp\n",
      "Processing file: rivers_grid_cell_634.shp\n",
      "Processing file: rivers_grid_cell_282.shp\n",
      "Processing file: rivers_grid_cell_468.shp\n",
      "Processing file: rivers_grid_cell_210.shp\n",
      "Processing file: rivers_grid_cell_806.shp\n",
      "Processing file: rivers_grid_cell_779.shp\n",
      "Processing file: rivers_grid_cell_110.shp\n",
      "Processing file: rivers_grid_cell_453.shp\n",
      "Processing file: rivers_grid_cell_254.shp\n",
      "Processing file: rivers_grid_cell_295.shp\n",
      "Processing file: rivers_grid_cell_197.shp\n",
      "Processing file: rivers_grid_cell_296.shp\n",
      "Processing file: rivers_grid_cell_609.shp\n",
      "Processing file: rivers_grid_cell_205.shp\n",
      "Processing file: rivers_grid_cell_644.shp\n",
      "Processing file: rivers_grid_cell_230.shp\n",
      "Processing file: rivers_grid_cell_525.shp\n",
      "Processing file: rivers_grid_cell_395.shp\n",
      "Processing file: rivers_grid_cell_206.shp\n",
      "Processing file: rivers_grid_cell_562.shp\n",
      "Processing file: rivers_grid_cell_259.shp\n",
      "Processing file: rivers_grid_cell_613.shp\n",
      "Processing file: rivers_grid_cell_198.shp\n",
      "Processing file: rivers_grid_cell_642.shp\n",
      "Processing file: rivers_grid_cell_280.shp\n",
      "Processing file: rivers_grid_cell_251.shp\n",
      "Processing file: rivers_grid_cell_558.shp\n",
      "Processing file: rivers_grid_cell_586.shp\n",
      "Processing file: rivers_grid_cell_318.shp\n",
      "Processing file: rivers_grid_cell_664.shp\n",
      "Processing file: rivers_grid_cell_707.shp\n",
      "Processing file: rivers_grid_cell_319.shp\n",
      "Processing file: rivers_grid_cell_805.shp\n",
      "Processing file: rivers_grid_cell_270.shp\n",
      "Processing file: rivers_grid_cell_533.shp\n",
      "Processing file: rivers_grid_cell_181.shp\n",
      "Processing file: rivers_grid_cell_585.shp\n",
      "Processing file: rivers_grid_cell_450.shp\n",
      "Processing file: rivers_grid_cell_520.shp\n",
      "Processing file: rivers_grid_cell_424.shp\n",
      "Processing file: rivers_grid_cell_369.shp\n",
      "Processing file: rivers_grid_cell_330.shp\n",
      "Processing file: rivers_grid_cell_391.shp\n",
      "Processing file: rivers_grid_cell_660.shp\n",
      "Processing file: rivers_grid_cell_131.shp\n",
      "Processing file: rivers_grid_cell_200.shp\n",
      "Processing file: rivers_grid_cell_658.shp\n",
      "Processing file: rivers_grid_cell_228.shp\n",
      "Processing file: rivers_grid_cell_419.shp\n",
      "Processing file: rivers_grid_cell_452.shp\n",
      "Processing file: rivers_grid_cell_30.shp\n",
      "Processing file: rivers_grid_cell_392.shp\n",
      "Processing file: rivers_grid_cell_536.shp\n",
      "Processing file: rivers_grid_cell_221.shp\n",
      "Processing file: rivers_grid_cell_680.shp\n",
      "Processing file: rivers_grid_cell_541.shp\n",
      "Processing file: rivers_grid_cell_638.shp\n",
      "Processing file: rivers_grid_cell_370.shp\n",
      "Processing file: rivers_grid_cell_373.shp\n",
      "Processing file: rivers_grid_cell_390.shp\n",
      "Processing file: rivers_grid_cell_781.shp\n",
      "Processing file: rivers_grid_cell_106.shp\n",
      "Processing file: rivers_grid_cell_662.shp\n",
      "Processing file: rivers_grid_cell_376.shp\n",
      "Processing file: rivers_grid_cell_643.shp\n",
      "Processing file: rivers_grid_cell_220.shp\n",
      "Processing file: rivers_grid_cell_428.shp\n",
      "Processing file: rivers_grid_cell_486.shp\n",
      "Processing file: rivers_grid_cell_563.shp\n",
      "Processing file: rivers_grid_cell_108.shp\n",
      "Processing file: rivers_grid_cell_555.shp\n",
      "Processing file: rivers_grid_cell_667.shp\n"
     ]
    }
   ],
   "source": [
    "rivers = {}\n",
    "\n",
    "output_directory = '../data/external/shp/cleaned_cells'\n",
    "for i,riv in enumerate(os.listdir(output_directory)):\n",
    "    try:\n",
    "        if riv.endswith('.shp'):\n",
    "            print(f\"Processing file: {riv}\")\n",
    "            river = gpd.read_file(os.path.join(output_directory, riv))\n",
    "            river = river.to_crs(\"EPSG:2056\")\n",
    "            rivers[f'cell_{i}'] = river\n",
    "\n",
    "    except Exception as e:\n",
    "        print(f\"Error processing file: {riv}\",e)\n",
    "        pass\n",
    "        "
   ]
  },
  {
   "cell_type": "markdown",
   "metadata": {},
   "source": [
    "## Slope and discharge interpolation"
   ]
  },
  {
   "cell_type": "code",
   "execution_count": null,
   "metadata": {},
   "outputs": [],
   "source": [
    "#gdf = gdf.to_crs(\"EPSG:4326\")"
   ]
  },
  {
   "cell_type": "code",
   "execution_count": null,
   "metadata": {},
   "outputs": [],
   "source": [
    "gdf.plot()"
   ]
  },
  {
   "cell_type": "code",
   "execution_count": null,
   "metadata": {
    "scrolled": true
   },
   "outputs": [],
   "source": [
    "with rasterio.open('../../../../../data/simon.walther/swissAltitude/swissAltitude.vrt') as src:\n",
    "    for k,river in rivers.items():\n",
    "        print('fent',k)\n",
    "        x_coords, y_coords, z_coords = project_linestrings_to_points(river)\n",
    "        \n",
    "        if z_coords == []:\n",
    "            dir_altitudes = '../data/external/altitudes'\n",
    "            \n",
    "            for i in range(len(x_coords)):\n",
    "                lon, lat = x_coords[i], y_coords[i]\n",
    "                row, col = src.index(lon, lat)\n",
    "                window = Window(col_off=col, row_off=row, width=1, height=1)\n",
    "                pixel_value = src.read(1, window=window)\n",
    "                z_coords.append(pixel_value[0][0])\n",
    "        \n",
    "        # Crear una cuadrícula (grid) de puntos donde interpolar los valores\n",
    "        grid_x, grid_y = np.mgrid[min(x_coords):max(x_coords):256j, min(y_coords):max(y_coords):256j]\n",
    "    \n",
    "        # Interpolación de los valores de altitud en la cuadrícula\n",
    "        grid_z = griddata((x_coords, y_coords), z_coords, (grid_x, grid_y), method='cubic')\n",
    "    \n",
    "    \n",
    "        projection_coordenates = pd.DataFrame(data={'Coord X': x_coords,'Coord Y': y_coords})#,'Altitude': z_coords})\n",
    "        print(projection_coordenates.shape)\n",
    "        print('done coordenates')\n",
    "        \n",
    "        gdf_filtered = gdf[gdf.intersects(river.unary_union)]\n",
    "        if not gdf_filtered.empty:\n",
    "            disch = []\n",
    "            slopes = []\n",
    "            x_coords_gdf = []\n",
    "            y_coords_gdf = []\n",
    "            z_coords_gdf = []\n",
    "            for i,row in gdf_filtered.iterrows():\n",
    "                geom = row.geometry\n",
    "                for linestring in geom.geoms:\n",
    "                    for coord in linestring.coords:\n",
    "                        x_coords_gdf.append(coord[0])\n",
    "                        y_coords_gdf.append(coord[1])\n",
    "                        if len(coord) == 3:\n",
    "                            z_coords_gdf.append(coord[2])\n",
    "                        disch.append(row.Discharge)\n",
    "                        slopes.append(row.Slope)\n",
    "        \n",
    "            \n",
    "            print(len(x_coords_gdf), len(y_coords_gdf),len(disch), len(slopes))           \n",
    "        \n",
    "            print('done gdf coordenates')\n",
    "            projection_coordenates_filtered = pd.DataFrame(data={'Discharge': disch,'Slope':slopes,'Coord X': x_coords_gdf,'Coord Y': y_coords_gdf})#,'Altitude': z_coords_gdf})\n",
    "            print(projection_coordenates_filtered.shape)\n",
    "            \n",
    "            # Interpolate the data\n",
    "            LR = 5.5\n",
    "            discharge_interpolated_df = pd.DataFrame(columns=projection_coordenates.index)\n",
    "            slope_interpolated_df = pd.DataFrame(columns=projection_coordenates.index)\n",
    "            \n",
    "        \n",
    "            temp = projection_coordenates_filtered.copy()\n",
    "            #temp.dropna(inplace=True)\n",
    "        \n",
    "            if len(temp) == 0:\n",
    "                a = np.empty(projection_coordenates.shape[0])\n",
    "                a[:] = np.nan\n",
    "                discharge_interpolated = a\n",
    "            else:\n",
    "                x = temp['Coord X']\n",
    "                y = temp['Coord Y']\n",
    "                z = temp['Discharge']\n",
    "                z_slope = temp['Slope']\n",
    "                \n",
    "        \n",
    "                xi = projection_coordenates['Coord X']\n",
    "                yi = projection_coordenates['Coord Y']\n",
    "                \n",
    "                #print('Soc discharge abans',z)\n",
    "                discharge_interpolated = simple_idw(x, y, z, xi, yi, beta=2)\n",
    "                #print('Soc discharge',discharge_interpolated)\n",
    "                #temp_interpolated -= LR * projection_coordenates['Altitude']  / 1000\n",
    "                discharge_interpolated_df.loc[0]=discharge_interpolated\n",
    "        \n",
    "                slope_interpolated = simple_idw(x, y, z_slope, xi, yi, beta=2)\n",
    "                slope_interpolated_df.loc[0]=slope_interpolated\n",
    "        \n",
    "            #discharge_interpolated_df.to_csv(os.path.join(PATH_DATA,f'discharge/discharge_interpolated_{k}.csv'), header=True)\n",
    "            #slope_interpolated_df.to_csv(os.path.join(PATH_DATA,f'slope/slope_interpolated_{k}.csv'), header=True)\n",
    "            \n",
    "            df_disch = np.transpose(discharge_interpolated_df)\n",
    "            df_disch.columns = {'Discharge'}\n",
    "            df = pd.concat([projection_coordenates,df_disch],axis =1,ignore_index = False)\n",
    "        \n",
    "            folder_path = f'../data/preprocessed/discharge/{k}'\n",
    "            os.makedirs(folder_path, exist_ok=True)\n",
    "            clear_directory(folder_path)\n",
    "            generate_raster(df, river, k, folder_path)\n",
    "            \n",
    "            df_slope = np.transpose(slope_interpolated_df)\n",
    "            df_slope.columns = {'Slope'}\n",
    "            df = pd.concat([projection_coordenates,df_slope],axis =1,ignore_index = False)\n",
    "            \n",
    "            folder_path = f'../data/preprocessed/slope/{k}'\n",
    "            os.makedirs(folder_path, exist_ok=True)\n",
    "            clear_directory(folder_path)\n",
    "            generate_raster(df, river, k, folder_path)\n",
    "            \n",
    "            \n",
    "            print('done',k)"
   ]
  },
  {
   "cell_type": "code",
   "execution_count": null,
   "metadata": {},
   "outputs": [],
   "source": [
    "import numpy as np\n",
    "from rasterio.features import shapes"
   ]
  },
  {
   "cell_type": "code",
   "execution_count": null,
   "metadata": {
    "scrolled": true
   },
   "outputs": [],
   "source": [
    "import os\n",
    "import fiona\n",
    "import geopandas as gpd\n",
    "from shapely.geometry import shape\n",
    "import matplotlib.pyplot as plt\n",
    "from shapely.ops import unary_union\n",
    "\n",
    "rivers = {}\n",
    "\n",
    "output_directory = '../data/external/shp/clipped_rivers_grid_cells_ogr'\n",
    "a=0\n",
    "for i,riv in enumerate(os.listdir(output_directory)):\n",
    "    # Check if the file is a shapefile\n",
    "    try:\n",
    "        if riv.endswith('.shp'):\n",
    "            a+=1\n",
    "            print(f\"Processing file: {riv}\")\n",
    "            river = gpd.read_file(os.path.join(output_directory, riv))\n",
    "            combined_river = unary_union(river.geometry)\n",
    "            \n",
    "            total_length = combined_river.length  # Longitud total en metros\n",
    "\n",
    "            # Calcular el área del bounding box de la geometría combinada\n",
    "            bounding_box = river.total_bounds  # [minx, miny, maxx, maxy]\n",
    "            width = bounding_box[2] - bounding_box[0]\n",
    "            height = bounding_box[3] - bounding_box[1]\n",
    "            area = width * height  # Área en metros \n",
    "\n",
    "            bounding_box_diagonal = ((bounding_box[2] - bounding_box[0])**2 + (bounding_box[3] - bounding_box[1])**2)**0.5\n",
    "\n",
    "            length_percentage = (total_length / bounding_box_diagonal) * 100  # Comparación en función de la diagonal\n",
    "            \n",
    "            # Definir umbrales\n",
    "            min_area_threshold = 225_000  # Área mínima en m² (0.225 km²)\n",
    "            min_length_threshold = 300  # Longitud mínima en metros\n",
    "\n",
    "            # Plot the GeoDataFrame\n",
    "            #river = river.to_crs(\"EPSG:4326\")\n",
    "            print('Tinc area i longitud', area, total_length)\n",
    "            #rivers[f'cell_{i}'] = river\n",
    "            if area > min_area_threshold and total_length > min_length_threshold and length_percentage > 50:\n",
    "                river.plot()\n",
    "                plt.title(f\"River data from: {riv}\")\n",
    "                plt.show()\n",
    "                river = river.to_crs(\"EPSG:2056\")\n",
    "                rivers[f'cell_{i}'] = river\n",
    "\n",
    "    except Exception as e:\n",
    "        print(f\"Error processing file: {riv}\",e)\n",
    "        pass\n",
    "        "
   ]
  },
  {
   "cell_type": "markdown",
   "metadata": {},
   "source": [
    "## Air interpolation"
   ]
  },
  {
   "cell_type": "code",
   "execution_count": null,
   "metadata": {
    "executionInfo": {
     "elapsed": 3,
     "status": "ok",
     "timestamp": 1727963865870,
     "user": {
      "displayName": "Ruth Parajó Ferrer",
      "userId": "07031545869212809064"
     },
     "user_tz": -120
    },
    "id": "9GSadU1eKClO"
   },
   "outputs": [],
   "source": [
    "start_date = '2013-03-01'\n",
    "end_date = '2019-12-31'"
   ]
  },
  {
   "cell_type": "code",
   "execution_count": null,
   "metadata": {},
   "outputs": [],
   "source": [
    "raw_data_path = '../data/preprocessed/wt_interpolated'\n",
    "\n",
    "os.makedirs(raw_data_path, exist_ok=True)\n",
    "clear_directory(raw_data_path)\n",
    "\n",
    "for r in rivers.keys():\n",
    "  dest_dir = os.path.join(raw_data_path, r)\n",
    "  os.makedirs(dest_dir, exist_ok=True)\n",
    "  clear_directory(dest_dir)"
   ]
  },
  {
   "cell_type": "code",
   "execution_count": null,
   "metadata": {},
   "outputs": [],
   "source": [
    "import numpy as np\n",
    "import rasterio\n",
    "from rasterio.transform import from_origin\n",
    "import matplotlib.pyplot as plt\n",
    "from matplotlib.colors import LogNorm\n",
    "\n",
    "\n",
    "def get_closest_grid_cell(x, y, x_range, y_range):\n",
    "    x_idx = np.argmin(np.abs(x_range - x))\n",
    "    y_idx = np.argmin(np.abs(y_range - y))\n",
    "    return x_idx, y_idx\n",
    "\n",
    "def generate_raster(df, shp, river, folder_path,var,date=None):\n",
    "\n",
    "    # Extract the coordinate columns (Coord X, Coord Y)\n",
    "    x_coords = df['Coord X'].values\n",
    "    y_coords = df['Coord Y'].values\n",
    "    \n",
    "    # Define bounds and resolution for the grid\n",
    "    bounds = shp.total_bounds\n",
    "    resolution = 30\n",
    "    x_min, y_min, x_max, y_max = bounds\n",
    "    x_range = np.arange(x_min, x_max, resolution)\n",
    "    y_range = np.arange(y_min, y_max, resolution)\n",
    "    \n",
    "    # Precompute the grid cell indices for all coordinates\n",
    "    grid_indices = [get_closest_grid_cell(x, y, x_range, y_range) for x, y in zip(x_coords, y_coords)]\n",
    "    \n",
    "    # Define the transformation for the raster grid\n",
    "    transform = from_origin(x_min, y_max, resolution, resolution)\n",
    "    \n",
    "    # Loop through each temperature column (each date)\n",
    "    #for col in df.columns[2:]:  # Assuming temperature columns start from the 4th column onward\n",
    "\n",
    "    #var = df[col].values  # Extract the variable data for the current date\n",
    "    \n",
    "    var_values = df[var].values\n",
    "\n",
    "    # Initialize an array to store temperature values for the current day\n",
    "\n",
    "    raster_array = np.ones((len(y_range), len(x_range)))\n",
    "\n",
    "    # Assign temperature values to the grid cells based on precomputed indices\n",
    "    for i, (x_idx, y_idx) in enumerate(grid_indices):\n",
    "        temp = var_values[i]\n",
    "        raster_array[y_idx, x_idx] = temp\n",
    "        #print('li poso', temp)\n",
    "    filename = f'{folder_path}/{date}.tif' if date != None else f'{folder_path}/{river}.tif'\n",
    "    save_raster(np.flipud(raster_array),filename, shp)\n",
    "    print('Saved at', filename)\n",
    "\n",
    "    vmin = np.min(raster_array)\n",
    "    vmax = np.max(raster_array)\n",
    "    if vmin == vmax:\n",
    "        vmin -= 0.01  # Slight adjustment to avoid identical vmin and vmax\n",
    "    try:\n",
    "        plt.imshow(raster_array, cmap='inferno', origin='lower')#, extent=[x_min, x_max, y_min, y_max],norm=LogNorm())\n",
    "        plt.colorbar(label='1')\n",
    "        plt.title(f'{var} Heatmap for {river}')\n",
    "        plt.show()\n",
    "\n",
    "    except ValueError as e:\n",
    "        try:\n",
    "            plt.imshow(raster_array, cmap='inferno', origin='lower', extent=[x_min, x_max, y_min, y_max],norm=LogNorm(vmin = vmin, vmax = vmax))\n",
    "            plt.colorbar(label='2')\n",
    "            plt.title(f'{var} Heatmap for {river}')\n",
    "            plt.show()\n",
    "        except:\n",
    "            plt.imshow(raster_array, cmap='inferno', origin='lower', extent=[x_min, x_max, y_min, y_max])\n",
    "            plt.colorbar(label='3')\n",
    "            plt.title(f'{var} Heatmap for {river}')\n",
    "            plt.show()\n"
   ]
  },
  {
   "cell_type": "code",
   "execution_count": 8,
   "metadata": {},
   "outputs": [
    {
     "ename": "NameError",
     "evalue": "name 'projection_coordenates' is not defined",
     "output_type": "error",
     "traceback": [
      "\u001b[0;31m---------------------------------------------------------------------------\u001b[0m",
      "\u001b[0;31mNameError\u001b[0m                                 Traceback (most recent call last)",
      "Cell \u001b[0;32mIn[8], line 54\u001b[0m\n\u001b[1;32m     50\u001b[0m src_path \u001b[38;5;241m=\u001b[39m \u001b[38;5;124m'\u001b[39m\u001b[38;5;124m../../../../../data/simon.walther/swissAltitude/swissAltitude.vrt\u001b[39m\u001b[38;5;124m'\u001b[39m\n\u001b[1;32m     52\u001b[0m \u001b[38;5;28;01mwith\u001b[39;00m ProcessPoolExecutor() \u001b[38;5;28;01mas\u001b[39;00m executor:\n\u001b[1;32m     53\u001b[0m     futures \u001b[38;5;241m=\u001b[39m [\n\u001b[0;32m---> 54\u001b[0m         executor\u001b[38;5;241m.\u001b[39msubmit(process_river, k, river, src_path, gdf, \u001b[43mprojection_coordenates\u001b[49m)\n\u001b[1;32m     55\u001b[0m         \u001b[38;5;28;01mfor\u001b[39;00m k, river \u001b[38;5;129;01min\u001b[39;00m rivers\u001b[38;5;241m.\u001b[39mitems()\n\u001b[1;32m     56\u001b[0m     ]\n\u001b[1;32m     57\u001b[0m     \u001b[38;5;66;03m# Opcional: Recoger y revisar resultados\u001b[39;00m\n\u001b[1;32m     58\u001b[0m     \u001b[38;5;28;01mfor\u001b[39;00m future \u001b[38;5;129;01min\u001b[39;00m futures:\n",
      "\u001b[0;31mNameError\u001b[0m: name 'projection_coordenates' is not defined"
     ]
    }
   ],
   "source": [
    "from concurrent.futures import ProcessPoolExecutor\n",
    "\n",
    "# Función para procesar un río y generar rasters\n",
    "def process_river(k, river, src, gdf, projection_coordenates):\n",
    "    print(f'Generando datos para el río: {k}')\n",
    "    x_coords, y_coords, z_coords = project_linestrings_to_points(river)\n",
    "\n",
    "    # Cargar altitud si z_coords está vacío\n",
    "    if not z_coords:\n",
    "        for lon, lat in zip(x_coords, y_coords):\n",
    "            row, col = src.index(lon, lat)\n",
    "            window = Window(col_off=col, row_off=row, width=1, height=1)\n",
    "            pixel_value = src.read(1, window=window)\n",
    "            z_coords.append(pixel_value[0][0])\n",
    "\n",
    "    # Filtrar geometrías que intersectan el río\n",
    "    gdf_filtered = gdf[gdf.intersects(river.unary_union)]\n",
    "    disch, slopes, x_coords_gdf, y_coords_gdf = [], [], [], []\n",
    "\n",
    "    for _, row in gdf_filtered.iterrows():\n",
    "        for linestring in row.geometry.geoms:\n",
    "            for coord in linestring.coords:\n",
    "                x_coords_gdf.append(coord[0])\n",
    "                y_coords_gdf.append(coord[1])\n",
    "                disch.append(row.Discharge)\n",
    "                slopes.append(row.Slope)\n",
    "\n",
    "    # Interpolación de `Discharge`\n",
    "    discharge_interpolated = simple_idw(x_coords_gdf, y_coords_gdf, disch, projection_coordenates['Coord X'], projection_coordenates['Coord Y'], beta=2)\n",
    "    df_disch = pd.DataFrame({'Coord X': projection_coordenates['Coord X'], 'Coord Y': projection_coordenates['Coord Y'], 'Discharge': discharge_interpolated})\n",
    "    \n",
    "    # Generar raster de `Discharge`\n",
    "    discharge_folder_path = f'../data/preprocessed/discharge'\n",
    "    os.makedirs(discharge_folder_path, exist_ok=True)\n",
    "    clear_directory(discharge_folder_path)\n",
    "    generate_raster(df_disch, river, k, discharge_folder_path)\n",
    "\n",
    "    # Interpolación de `Slope`\n",
    "    slope_interpolated = simple_idw(x_coords_gdf, y_coords_gdf, slopes, projection_coordenates['Coord X'], projection_coordenates['Coord Y'], beta=2)\n",
    "    df_slope = pd.DataFrame({'Coord X': projection_coordenates['Coord X'], 'Coord Y': projection_coordenates['Coord Y'], 'Slope': slope_interpolated})\n",
    "    \n",
    "    # Generar raster de `Slope`\n",
    "    slope_folder_path = f'../data/preprocessed/slope'\n",
    "    os.makedirs(slope_folder_path, exist_ok=True)\n",
    "    clear_directory(slope_folder_path)\n",
    "    generate_raster(df_slope, river, k, slope_folder_path)\n",
    "    \n",
    "    print(f'Generación completada para el río {k}')\n",
    "\n",
    "src_path = '../../../../../data/simon.walther/swissAltitude/swissAltitude.vrt'\n",
    "\n",
    "with ProcessPoolExecutor() as executor:\n",
    "    futures = [\n",
    "        executor.submit(process_river, k, river, src_path, gdf, projection_coordenates)\n",
    "        for k, river in rivers.items()\n",
    "    ]\n",
    "    # Opcional: Recoger y revisar resultados\n",
    "    for future in futures:\n",
    "        future.result() "
   ]
  },
  {
   "cell_type": "code",
   "execution_count": null,
   "metadata": {
    "colab": {
     "base_uri": "https://localhost:8080/",
     "height": 912
    },
    "executionInfo": {
     "elapsed": 2524,
     "status": "ok",
     "timestamp": 1727963161147,
     "user": {
      "displayName": "Ruth Parajó Ferrer",
      "userId": "07031545869212809064"
     },
     "user_tz": -120
    },
    "id": "tLm6kZx5YXNR",
    "outputId": "fe08049b-a32c-4f64-88fd-b43946b514cf",
    "scrolled": true
   },
   "outputs": [],
   "source": [
    "DATA_PATH = '../data/external/airtemp_files'\n",
    "for k,river in rivers.items():\n",
    "    folder_path = f'../data/preprocessed/air_interpolated/{k}'\n",
    "    os.makedirs(folder_path, exist_ok=True)\n",
    "    clear_directory(folder_path)\n",
    "    print('fent',k)\n",
    "    x_coords, y_coords, z_coords = project_linestrings_to_points(river)\n",
    "    #print(x_coords,y_coords)\n",
    "    \n",
    "    if z_coords == []:\n",
    "        dir_altitudes = '../data/external/altitudes'\n",
    "        with rasterio.open('../../../../../data/simon.walther/swissAltitude/swissAltitude.vrt') as src:\n",
    "            for i in range(len(x_coords)):\n",
    "                lon, lat = x_coords[i], y_coords[i]\n",
    "                row, col = src.index(lon, lat)\n",
    "                window = Window(col_off=col, row_off=row, width=1, height=1)\n",
    "                pixel_value = src.read(1, window=window)\n",
    "                z_coords.append(pixel_value[0][0])\n",
    "                \n",
    "    grid_x, grid_y = np.mgrid[min(x_coords):max(x_coords):256j, min(y_coords):max(y_coords):256j]\n",
    "\n",
    "    # Interpolación de los valores de altitud en la cuadrícula\n",
    "    grid_z = griddata((x_coords, y_coords), z_coords, (grid_x, grid_y), method='cubic')\n",
    "    altitude_path = f'../data/preprocessed/altitude/{k}.tif'\n",
    "    save_raster(grid_z, altitude_path, river)\n",
    "    print('Saved', altitude_path)\n",
    "        \n",
    "    projection_coordenates = pd.DataFrame(data={'Coord X': x_coords,'Coord Y': y_coords,'Altitude': z_coords})\n",
    "    \n",
    "    air_stations_total_data = pd.read_csv(os.path.join(DATA_PATH, '30MinFreq_air_boiron_and_swissmeteo_data.csv'),index_col=0)\n",
    "    air_stations_total_metadata = pd.read_csv(os.path.join(DATA_PATH, 'air_boiron_and_swissmeteo_metadata.csv'),index_col=0)\n",
    "    \n",
    "    # Filter the data to the selected time period\n",
    "    air_stations_filt = air_stations_total_data.loc[start_date:end_date]\n",
    "    air_stations_filt.index = pd.to_datetime(air_stations_filt.index)\n",
    "    air_stations_monthly_mean = air_stations_filt.resample('M').mean()\n",
    "\n",
    "    # Interpolate the data\n",
    "    LR = 5.5\n",
    "    air_interpolated = pd.DataFrame(columns=projection_coordenates.index)\n",
    "\n",
    "    for ri,r in air_stations_monthly_mean.iterrows():\n",
    "        temp = pd.concat([pd.DataFrame(r.values, index=r.index, columns=['temp',]), air_stations_total_metadata], axis=1)\n",
    "        temp.dropna(inplace=True)\n",
    "\n",
    "        temp['temp'] += LR * temp['Altitude'] / 1000\n",
    "\n",
    "        if len(temp) == 0:\n",
    "            a = np.empty(projection_coordenates.shape[0])\n",
    "            a[:] = np.nan\n",
    "            air_interpolated.loc[ri] = a\n",
    "        else:\n",
    "            x = temp['Coord X']\n",
    "            y = temp['Coord Y']\n",
    "            z = temp['temp']\n",
    "\n",
    "            xi = projection_coordenates['Coord X']\n",
    "            yi = projection_coordenates['Coord Y']\n",
    "\n",
    "            temp_interpolated = simple_idw(x, y, z, xi, yi, beta=2)\n",
    "            temp_interpolated -= LR * projection_coordenates['Altitude']  / 1000\n",
    "\n",
    "            air_interpolated.loc[ri] = temp_interpolated\n",
    "            \n",
    "            df_air = pd.DataFrame(np.transpose(temp_interpolated))\n",
    "            var = 'water_temp'\n",
    "            df_air.columns = {var}\n",
    "            #print('aaaaa')\n",
    "            #print(df_air)\n",
    "            #print(df_air.columns)\n",
    "            df = pd.concat([projection_coordenates,df_air],axis =1,ignore_index = False)\n",
    "            #print(df)\n",
    "            \n",
    "            generate_raster(df, river, k, folder_path, var, ri.strftime(\"%Y-%m\"))\n",
    "        \n",
    "    #air_interpolated.to_csv(os.path.join(raw_data_path,'air_interpolated_leboiron.csv'), header=True)"
   ]
  },
  {
   "cell_type": "code",
   "execution_count": null,
   "metadata": {},
   "outputs": [],
   "source": [
    "air_interpolated.to_csv(os.path.join(raw_data_path,'air_interpolated_leboiron.csv'), header=True)"
   ]
  },
  {
   "cell_type": "markdown",
   "metadata": {
    "id": "aRu62HzgZKol"
   },
   "source": [
    "#### Show and save results"
   ]
  },
  {
   "cell_type": "code",
   "execution_count": null,
   "metadata": {},
   "outputs": [],
   "source": [
    "# Function to map coordinates to the grid (pre-compute grid indices)\n",
    "def get_closest_grid_cell(x, y, x_range, y_range):\n",
    "    x_idx = np.argmin(np.abs(x_range - x))\n",
    "    y_idx = np.argmin(np.abs(y_range - y))\n",
    "    return x_idx, y_idx"
   ]
  },
  {
   "cell_type": "code",
   "execution_count": null,
   "metadata": {
    "executionInfo": {
     "elapsed": 269,
     "status": "ok",
     "timestamp": 1727963878494,
     "user": {
      "displayName": "Ruth Parajó Ferrer",
      "userId": "07031545869212809064"
     },
     "user_tz": -120
    },
    "id": "-j_0b7WOaGig"
   },
   "outputs": [],
   "source": [
    "folder_path = '../data/raw/airtemp_interpolated'\n",
    "\n",
    "# List all files in the folder and delete them\n",
    "for file_name in os.listdir(folder_path):\n",
    "    file_path = os.path.join(folder_path, file_name)\n",
    "    try:\n",
    "        if os.path.isfile(file_path):\n",
    "            os.remove(file_path)\n",
    "    except Exception as e:\n",
    "        print(f\"Error: {e}\")\n"
   ]
  },
  {
   "cell_type": "code",
   "execution_count": null,
   "metadata": {
    "colab": {
     "base_uri": "https://localhost:8080/",
     "height": 1000,
     "output_embedded_package_id": "1adYOTX8mihVdfCtVhSs26sqGvhHVBfrV"
    },
    "executionInfo": {
     "elapsed": 61416,
     "status": "ok",
     "timestamp": 1727964108736,
     "user": {
      "displayName": "Ruth Parajó Ferrer",
      "userId": "07031545869212809064"
     },
     "user_tz": -120
    },
    "id": "M5AWxEtbcFq4",
    "outputId": "429886ce-8016-436a-e090-4bead6737c60",
    "scrolled": true
   },
   "outputs": [],
   "source": [
    "for k,river in rivers.items():\n",
    "    \n",
    "    df = projection_coordenates.join(np.transpose(air_interpolated))\n",
    "\n",
    "    # Extract the coordinate columns (Coord X, Coord Y)\n",
    "    x_coords = df['Coord X'].values\n",
    "    y_coords = df['Coord Y'].values\n",
    "\n",
    "    # Define bounds and resolution for the grid\n",
    "    bounds = river.total_bounds\n",
    "    resolution = 30\n",
    "    x_min, y_min, x_max, y_max = bounds\n",
    "    x_range = np.arange(x_min, x_max, resolution)\n",
    "    y_range = np.arange(y_min, y_max, resolution)\n",
    "\n",
    "    # Precompute the grid cell indices for all coordinates\n",
    "    grid_indices = [get_closest_grid_cell(x, y, x_range, y_range) for x, y in zip(x_coords, y_coords)]\n",
    "\n",
    "    # Define the transformation for the raster grid\n",
    "    transform = from_origin(x_min, y_max, resolution, resolution)\n",
    "\n",
    "    # Loop through each temperature column (each date)\n",
    "    for col in df.columns[3:]:  # Assuming temperature columns start from the 4th column onward\n",
    "        temperature = df[col].values  # Extract the temperature data for the current date\n",
    "\n",
    "        # Initialize an array to store temperature values for the current day\n",
    "        raster_array = np.zeros((len(y_range), len(x_range)))\n",
    "\n",
    "        # Assign temperature values to the grid cells based on precomputed indices\n",
    "        for i, (x_idx, y_idx) in enumerate(grid_indices):\n",
    "            temp = temperature[i]\n",
    "            raster_array[y_idx, x_idx] = temp\n",
    "\n",
    "        save_raster(np.flipud(raster_array),f'{folder_path}/airtemp_{col.strftime(\"%Y-%m\")}.tif',river)\n",
    "\n",
    "\n",
    "        # Optional: Visualize the temperature grid for each day\n",
    "        plt.imshow(raster_array, cmap='hot', origin='lower', extent=[x_min, x_max, y_min, y_max])\n",
    "        plt.colorbar(label='Temperature')\n",
    "        plt.title(f'Temperature Heatmap for {col}')\n",
    "        plt.show()\n"
   ]
  },
  {
   "cell_type": "markdown",
   "metadata": {
    "id": "-fpNkBGOdtWU",
    "jp-MarkdownHeadingCollapsed": true
   },
   "source": [
    "## Water interpolation"
   ]
  },
  {
   "cell_type": "markdown",
   "metadata": {
    "id": "Y_s3PUgFf1ss"
   },
   "source": [
    "#### Load data and filter"
   ]
  },
  {
   "cell_type": "code",
   "execution_count": null,
   "metadata": {
    "colab": {
     "base_uri": "https://localhost:8080/",
     "height": 419
    },
    "executionInfo": {
     "elapsed": 2852,
     "status": "ok",
     "timestamp": 1727964111580,
     "user": {
      "displayName": "Ruth Parajó Ferrer",
      "userId": "07031545869212809064"
     },
     "user_tz": -120
    },
    "id": "LPfNU04xg1WA",
    "outputId": "30a82acc-5d3c-449f-f7ed-4c746ca7bb62"
   },
   "outputs": [],
   "source": [
    "water_stations = pd.read_csv('../data/external/watertemp files/water_boiron_2011_2023.csv')\n",
    "water_stations"
   ]
  },
  {
   "cell_type": "code",
   "execution_count": null,
   "metadata": {
    "executionInfo": {
     "elapsed": 9,
     "status": "ok",
     "timestamp": 1727964111580,
     "user": {
      "displayName": "Ruth Parajó Ferrer",
      "userId": "07031545869212809064"
     },
     "user_tz": -120
    },
    "id": "47UvCRrui5yA"
   },
   "outputs": [],
   "source": [
    "start_date = pd.to_datetime('01-03-2013', dayfirst=True)  # Define start date in the correct format\n",
    "end_date = pd.to_datetime('25-07-2023', dayfirst=True)    # You can set end date as needed"
   ]
  },
  {
   "cell_type": "code",
   "execution_count": null,
   "metadata": {
    "colab": {
     "base_uri": "https://localhost:8080/"
    },
    "executionInfo": {
     "elapsed": 1694,
     "status": "ok",
     "timestamp": 1727964113268,
     "user": {
      "displayName": "Ruth Parajó Ferrer",
      "userId": "07031545869212809064"
     },
     "user_tz": -120
    },
    "id": "-JZzlcCCdwrp",
    "outputId": "2a8a9810-a3f2-4ba7-c207-1ec484a20651"
   },
   "outputs": [],
   "source": [
    "# Asegúrate de que la columna de fechas esté en formato datetime\n",
    "water_stations['Date et heure'] = pd.to_datetime(water_stations['Date et heure'],format='%d.%m.%Y %H:%M:%S', dayfirst=True)\n",
    "\n",
    "# Establecer la columna 'Date et heure' como índice\n",
    "water_stations.set_index('Date et heure', inplace=True)\n",
    "\n",
    "# Filtrar por el rango de fechas deseado\n",
    "water_stations_filt = water_stations.loc[start_date:end_date]\n",
    "\n",
    "# Calcular la media mensual\n",
    "water_stations_monthly_mean = water_stations_filt.resample('M').mean()\n"
   ]
  },
  {
   "cell_type": "markdown",
   "metadata": {
    "id": "b86jSgREl0M6"
   },
   "source": [
    "Load water stations metadata"
   ]
  },
  {
   "cell_type": "code",
   "execution_count": null,
   "metadata": {
    "colab": {
     "base_uri": "https://localhost:8080/",
     "height": 638
    },
    "executionInfo": {
     "elapsed": 1049,
     "status": "ok",
     "timestamp": 1727964114313,
     "user": {
      "displayName": "Ruth Parajó Ferrer",
      "userId": "07031545869212809064"
     },
     "user_tz": -120
    },
    "id": "AKNteBkEjgui",
    "outputId": "dd75b148-0db8-4bb7-a292-97ede6c73379"
   },
   "outputs": [],
   "source": [
    "water_stations_total_metadata = pd.read_csv('../data/external/watertemp files/water_stations_with_Qratio.csv')\n",
    "water_stations_total_metadata"
   ]
  },
  {
   "cell_type": "markdown",
   "metadata": {
    "id": "Q2wfrBHLmYUm"
   },
   "source": [
    "#### Interpolation process"
   ]
  },
  {
   "cell_type": "code",
   "execution_count": null,
   "metadata": {
    "colab": {
     "base_uri": "https://localhost:8080/",
     "height": 669
    },
    "collapsed": true,
    "executionInfo": {
     "elapsed": 7,
     "status": "ok",
     "timestamp": 1727964114313,
     "user": {
      "displayName": "Ruth Parajó Ferrer",
      "userId": "07031545869212809064"
     },
     "user_tz": -120
    },
    "id": "lpKfxmOQAWsD",
    "jupyter": {
     "outputs_hidden": true
    },
    "outputId": "d3ae481f-c5ed-4646-d072-84a360fe1632"
   },
   "outputs": [],
   "source": [
    "water_stations_total_metadata.index = water_stations_total_metadata['CODE_MdlR']\n",
    "water_stations_total_metadata"
   ]
  },
  {
   "cell_type": "code",
   "execution_count": null,
   "metadata": {
    "colab": {
     "base_uri": "https://localhost:8080/"
    },
    "collapsed": true,
    "executionInfo": {
     "elapsed": 4384,
     "status": "ok",
     "timestamp": 1727964118692,
     "user": {
      "displayName": "Ruth Parajó Ferrer",
      "userId": "07031545869212809064"
     },
     "user_tz": -120
    },
    "id": "w_-CU0b8mZyf",
    "jupyter": {
     "outputs_hidden": true
    },
    "outputId": "cc746e3b-6cca-40c5-e820-f7f6deeba31b"
   },
   "outputs": [],
   "source": [
    "import numpy as np\n",
    "LR = 5.5\n",
    "water_interpolated = pd.DataFrame(columns=projection_coordenates.index)\n",
    "\n",
    "for ri,r in water_stations_monthly_mean.iterrows():\n",
    "    temp = pd.concat([pd.DataFrame(r.values, index=r.index, columns=['temp',]),water_stations_total_metadata], axis=1)\n",
    "    temp.dropna(inplace=True)\n",
    "\n",
    "    temp['temp'] += LR * temp['Altitude'] / 1000\n",
    "    if len(temp) == 0:\n",
    "        a = np.empty(projection_coordenates.shape[0])\n",
    "        a[:] = np.nan\n",
    "        water_interpolated.loc[ri] = a\n",
    "    else:\n",
    "        x = temp['Coord X']\n",
    "        y = temp['Coord Y']\n",
    "        z = temp['temp']\n",
    "\n",
    "        xi = projection_coordenates['Coord X']\n",
    "        yi = projection_coordenates['Coord Y']\n",
    "\n",
    "        temp_interpolated = simple_idw(x, y, z, xi, yi, beta=2)\n",
    "        temp_interpolated -= LR * projection_coordenates['Altitude']  / 1000\n",
    "\n",
    "        water_interpolated.loc[ri] = temp_interpolated\n",
    "        print(temp_interpolated)"
   ]
  },
  {
   "cell_type": "code",
   "execution_count": null,
   "metadata": {
    "executionInfo": {
     "elapsed": 3363,
     "status": "ok",
     "timestamp": 1727964122048,
     "user": {
      "displayName": "Ruth Parajó Ferrer",
      "userId": "07031545869212809064"
     },
     "user_tz": -120
    },
    "id": "aEwTddB4mgxO"
   },
   "outputs": [],
   "source": [
    "water_interpolated.to_csv('../data/external/water_interpolated_leboiron.csv')"
   ]
  },
  {
   "cell_type": "code",
   "execution_count": null,
   "metadata": {
    "executionInfo": {
     "elapsed": 17,
     "status": "ok",
     "timestamp": 1727964122050,
     "user": {
      "displayName": "Ruth Parajó Ferrer",
      "userId": "07031545869212809064"
     },
     "user_tz": -120
    },
    "id": "wWIhHaNnmo26"
   },
   "outputs": [],
   "source": [
    "df = projection_coordenates.join(np.transpose(water_interpolated))"
   ]
  },
  {
   "cell_type": "markdown",
   "metadata": {
    "id": "t4F5W0RXnbSd"
   },
   "source": [
    "#### Show and save results"
   ]
  },
  {
   "cell_type": "code",
   "execution_count": null,
   "metadata": {
    "executionInfo": {
     "elapsed": 313,
     "status": "ok",
     "timestamp": 1727964122350,
     "user": {
      "displayName": "Ruth Parajó Ferrer",
      "userId": "07031545869212809064"
     },
     "user_tz": -120
    },
    "id": "z7TaHkjWnZ8S"
   },
   "outputs": [],
   "source": [
    "folder_path = '../data/raw/wt_interpolated'\n",
    "\n",
    "# List all files in the folder and delete them\n",
    "for file_name in os.listdir(folder_path):\n",
    "    file_path = os.path.join(folder_path, file_name)\n",
    "    try:\n",
    "        if os.path.isfile(file_path):\n",
    "            os.remove(file_path)\n",
    "    except Exception as e:\n",
    "        print(f\"Error: {e}\")\n"
   ]
  },
  {
   "cell_type": "code",
   "execution_count": null,
   "metadata": {
    "colab": {
     "base_uri": "https://localhost:8080/",
     "height": 1000,
     "output_embedded_package_id": "1GTzyZdftz9wmmOIb7zA8OaSwnE585q9r"
    },
    "executionInfo": {
     "elapsed": 64477,
     "status": "ok",
     "timestamp": 1727964186821,
     "user": {
      "displayName": "Ruth Parajó Ferrer",
      "userId": "07031545869212809064"
     },
     "user_tz": -120
    },
    "id": "nYUbRgJxnjd-",
    "outputId": "00e0c1b1-9c4b-4b17-c8ad-a7258049956d"
   },
   "outputs": [],
   "source": [
    "import numpy as np\n",
    "import rasterio\n",
    "from rasterio.transform import from_origin\n",
    "import matplotlib.pyplot as plt\n",
    "\n",
    "# Extract the coordinate columns (Coord X, Coord Y)\n",
    "x_coords = df['Coord X'].values\n",
    "y_coords = df['Coord Y'].values\n",
    "\n",
    "# Define bounds and resolution for the grid\n",
    "bounds = leboiron.total_bounds\n",
    "resolution = 30\n",
    "x_min, y_min, x_max, y_max = bounds\n",
    "x_range = np.arange(x_min, x_max, resolution)\n",
    "y_range = np.arange(y_min, y_max, resolution)\n",
    "\n",
    "# Function to map coordinates to the grid (pre-compute grid indices)\n",
    "def get_closest_grid_cell(x, y, x_range, y_range):\n",
    "    x_idx = np.argmin(np.abs(x_range - x))\n",
    "    y_idx = np.argmin(np.abs(y_range - y))\n",
    "    return x_idx, y_idx\n",
    "\n",
    "# Precompute the grid cell indices for all coordinates\n",
    "grid_indices = [get_closest_grid_cell(x, y, x_range, y_range) for x, y in zip(x_coords, y_coords)]\n",
    "\n",
    "# Define the transformation for the raster grid\n",
    "transform = from_origin(x_min, y_max, resolution, resolution)\n",
    "\n",
    "# Loop through each temperature column (each date)\n",
    "for col in df.columns[3:]:  # Assuming temperature columns start from the 4th column onward\n",
    "    temperature = df[col].values  # Extract the temperature data for the current date\n",
    "\n",
    "    # Initialize an array to store temperature values for the current day\n",
    "    raster_array = np.zeros((len(y_range), len(x_range)))\n",
    "\n",
    "    # Assign temperature values to the grid cells based on precomputed indices\n",
    "    for i, (x_idx, y_idx) in enumerate(grid_indices):\n",
    "        temp = temperature[i]\n",
    "        raster_array[y_idx, x_idx] = temp\n",
    "\n",
    "    save_raster(np.flipud(raster_array),f'{folder_path}/watertemp_{col.strftime(\"%Y-%m\")}.tif',leboiron)\n",
    "\n",
    "\n",
    "    # Optional: Visualize the temperature grid for each day\n",
    "    plt.imshow(raster_array, cmap='hot', origin='lower', extent=[x_min, x_max, y_min, y_max])\n",
    "    plt.colorbar(label='Temperature')\n",
    "    plt.title(f'Temperature Heatmap for {col}')\n",
    "    plt.show()\n"
   ]
  },
  {
   "cell_type": "markdown",
   "metadata": {
    "jp-MarkdownHeadingCollapsed": true
   },
   "source": [
    "## Water dataset interpolation"
   ]
  },
  {
   "cell_type": "code",
   "execution_count": null,
   "metadata": {},
   "outputs": [],
   "source": [
    "gdf_points = gpd.read_file('../data/external/wt_filtered/wt_filtered.geojson')"
   ]
  },
  {
   "cell_type": "code",
   "execution_count": null,
   "metadata": {},
   "outputs": [],
   "source": [
    "import numpy as np\n",
    "LR = 5.5\n",
    "\n",
    "for k, river in rivers.items():\n",
    "    x_coords, y_coords, z_coords = project_linestrings_to_points(river)\n",
    "    \n",
    "    if z_coords == []:\n",
    "        dir_altitudes = '../data/external/altitudes'\n",
    "        with rasterio.open('../../../../../data/simon.walther/swissAltitude/swissAltitude.vrt') as src:\n",
    "            for i in range(len(x_coords)):\n",
    "                lon, lat = x_coords[i], y_coords[i]\n",
    "                row, col = src.index(lon, lat)\n",
    "                window = Window(col_off=col, row_off=row, width=1, height=1)\n",
    "                pixel_value = src.read(1, window=window)\n",
    "                z_coords.append(pixel_value[0][0])\n",
    "    \n",
    "    projection_coordenates = pd.DataFrame(data={'Coord X': x_coords,'Coord Y': y_coords,'Altitude': z_coords})\n",
    "    \n",
    "    water_coordinates = pd.DataFrame(data = {'Coord X': gdf_points['latitude'],'Coord Y': gdf_points['longitude'],'watertemp':gdf_points['waterTemperature']})\n",
    "    \n",
    "    water_interpolated = pd.DataFrame(columns=projection_coordenates.index)\n",
    "    temp = water_coordinates.copy()\n",
    "\n",
    "    if len(temp) == 0:\n",
    "        a = np.empty(projection_coordenates.shape[0])\n",
    "        a[:] = np.nan\n",
    "        discharge_interpolated = a\n",
    "    else:\n",
    "        x = temp['Coord X']\n",
    "        y = temp['Coord Y']\n",
    "        z = temp['watertemp']\n",
    "\n",
    "        xi = projection_coordenates['Coord X']\n",
    "        yi = projection_coordenates['Coord Y']\n",
    "        \n",
    "        #print('Soc discharge abans',z)\n",
    "        w_interpolated = simple_idw(x, y, z, xi, yi, beta=2)\n",
    "        #print('Soc discharge',discharge_interpolated)\n",
    "        #temp_interpolated -= LR * projection_coordenates['Altitude']  / 1000\n",
    "        water_interpolated.loc[0]=w_interpolated\n",
    "\n",
    "    df_disch = np.transpose(discharge_interpolated_df)\n",
    "    df_disch.columns = {'Discharge'}\n",
    "    df = pd.concat([projection_coordenates,df_disch],axis =1,ignore_index = False)\n",
    "\n",
    "    folder_path = f'../data/preprocessed/wt_interpolated/{k}'\n",
    "    os.makedirs(folder_path, exist_ok=True)\n",
    "    clear_directory(folder_path)\n",
    "    generate_raster(df, river, k, folder_path)\n",
    "    print('Done',k)\n"
   ]
  },
  {
   "cell_type": "code",
   "execution_count": null,
   "metadata": {},
   "outputs": [],
   "source": []
  }
 ],
 "metadata": {
  "colab": {
   "authorship_tag": "ABX9TyOA+Sa4lInXYF3F00JkOPHR",
   "provenance": [],
   "toc_visible": true
  },
  "kernelspec": {
   "display_name": "Python 3 (ipykernel)",
   "language": "python",
   "name": "python3"
  },
  "language_info": {
   "codemirror_mode": {
    "name": "ipython",
    "version": 3
   },
   "file_extension": ".py",
   "mimetype": "text/x-python",
   "name": "python",
   "nbconvert_exporter": "python",
   "pygments_lexer": "ipython3",
   "version": "3.12.4"
  }
 },
 "nbformat": 4,
 "nbformat_minor": 4
}

{
 "cells": [
  {
   "cell_type": "code",
   "execution_count": 68,
   "metadata": {},
   "outputs": [],
   "source": [
    "from functions import *"
   ]
  },
  {
   "cell_type": "code",
   "execution_count": 69,
   "metadata": {},
   "outputs": [],
   "source": [
    "import matplotlib.pyplot as plt\n",
    "import glob\n",
    "from skimage.transform import resize\n",
    "from sklearn.model_selection import train_test_split\n",
    "from sklearn.linear_model import LinearRegression\n",
    "import geopandas as gpd\n",
    "from sklearn.metrics import mean_absolute_error, mean_squared_error, r2_score\n",
    "import matplotlib\n",
    "import seaborn as sns\n",
    "from sklearn.model_selection import KFold\n",
    "from sklearn.preprocessing import StandardScaler\n",
    "import glob"
   ]
  },
  {
   "cell_type": "markdown",
   "metadata": {},
   "source": [
    "## CNN"
   ]
  },
  {
   "cell_type": "code",
   "execution_count": 70,
   "metadata": {},
   "outputs": [
    {
     "data": {
      "text/plain": [
       "{'lst': ['../data/preprocessed/lst/LaVenoge_shapefile',\n",
       "  '../data/preprocessed/lst/swissTLMboiron',\n",
       "  '../data/preprocessed/lst/LaBroye_shapefile'],\n",
       " 'ndvi': ['../data/preprocessed/ndvi/LaVenoge_shapefile',\n",
       "  '../data/preprocessed/ndvi/swissTLMboiron',\n",
       "  '../data/preprocessed/ndvi/LaBroye_shapefile'],\n",
       " 'wt': ['../data/preprocessed/wt/LaVenoge_shapefile',\n",
       "  '../data/preprocessed/wt/swissTLMboiron',\n",
       "  '../data/preprocessed/wt/LaBroye_shapefile'],\n",
       " 'masked': ['../data/preprocessed/lst/LaVenoge_shapefile/masked',\n",
       "  '../data/preprocessed/lst/swissTLMboiron/masked',\n",
       "  '../data/preprocessed/lst/LaBroye_shapefile/masked']}"
      ]
     },
     "execution_count": 70,
     "metadata": {},
     "output_type": "execute_result"
    }
   ],
   "source": [
    "W = 256\n",
    "source_path = '../data/preprocessed/'\n",
    "data_paths = ['lst', 'ndvi', 'wt', 'masked']#, 'wt_interpolated']\n",
    "dir_paths = [os.path.join(source_path,p) for p in data_paths]\n",
    "all_dir_paths = {k:[] for k in data_paths}\n",
    "\n",
    "for i,dir_p in enumerate(dir_paths):\n",
    "    for subdir, dirs,files in os.walk(dir_p):\n",
    "        if subdir != dir_p and not subdir.endswith('masked'): #and rivers_count < max_rivers:\n",
    "            all_dir_paths[data_paths[i]].append(subdir)\n",
    "        elif subdir.endswith('masked'):\n",
    "            all_dir_paths['masked'].append(subdir)\n",
    "\n",
    "\n",
    "all_dir_paths    "
   ]
  },
  {
   "cell_type": "code",
   "execution_count": 71,
   "metadata": {},
   "outputs": [
    {
     "name": "stdout",
     "output_type": "stream",
     "text": [
      "getting data for path ['../data/preprocessed/lst/LaBroye_shapefile']\n",
      "lst : (20, 256, 256, 3)\n",
      "getting data for path ['../data/preprocessed/ndvi/LaBroye_shapefile']\n",
      "ndvi : (20, 256, 256)\n",
      "getting data for path ['../data/preprocessed/wt/LaBroye_shapefile']\n",
      "wt : (20, 256, 256)\n",
      "getting data for path ['../data/preprocessed/lst/LaBroye_shapefile/masked']\n",
      "masked : (20, 256, 256, 3)\n"
     ]
    }
   ],
   "source": [
    "total_data = {}\n",
    "total_times = {}\n",
    "filter_river = 2\n",
    "for k,v in all_dir_paths.items():\n",
    "    if k == 'lst' or k == 'masked':\n",
    "        list_rgb = [True]*len(v)\n",
    "    else:\n",
    "        list_rgb = [False]*len(v)\n",
    "    \n",
    "    if filter_river != None:\n",
    "        v = [v[filter_river]]\n",
    "    print('getting data for path',v) \n",
    "    data, times = load_data(v,W,list_rgb)\n",
    "    \n",
    "    #d = [item for sublist in data.values() for item in sublist]\n",
    "    total_data[k] = np.concatenate(list(data.values()), axis=0)\n",
    "    total_times[k] = times\n",
    "    print(k,':' ,total_data[k].shape)\n",
    "    "
   ]
  },
  {
   "cell_type": "code",
   "execution_count": 72,
   "metadata": {},
   "outputs": [
    {
     "name": "stdout",
     "output_type": "stream",
     "text": [
      "inputs shape: (20, 256, 256, 3) (20, 256, 256)\n",
      "targets shape: (20, 256, 256)\n"
     ]
    }
   ],
   "source": [
    "lst = total_data['lst']\n",
    "ndvi = total_data['ndvi']\n",
    "data_targets = total_data['wt']\n",
    "#wt_stations = data[dir_paths[3]]\n",
    "print('inputs shape:', lst.shape,ndvi.shape)\n",
    "print('targets shape:', data_targets.shape)"
   ]
  },
  {
   "cell_type": "code",
   "execution_count": 73,
   "metadata": {},
   "outputs": [],
   "source": [
    "inputs = 'ndvi'"
   ]
  },
  {
   "cell_type": "code",
   "execution_count": 74,
   "metadata": {},
   "outputs": [],
   "source": [
    "if inputs == 'lst':\n",
    "  train_input, train_target, validation_input, validation_target, test_input, test_target = split_data(lst, data_targets)\n",
    "else:\n",
    "  ndvi_expanded = np.expand_dims(ndvi, axis=-1)  # Shape: (n_samples, 256, 256, 1)\n",
    "\n",
    "  # Combine LST (RGB) y NDVI in a 4 channel input data\n",
    "  combined_input = np.concatenate([lst, ndvi_expanded], axis=-1)  # Shape: (n_samples, 256, 256, 4)\n",
    "  train_input, train_target, validation_input, validation_target, test_input, test_target = split_data(combined_input, data_targets)"
   ]
  },
  {
   "cell_type": "markdown",
   "metadata": {},
   "source": [
    "### Build model"
   ]
  },
  {
   "cell_type": "code",
   "execution_count": 75,
   "metadata": {},
   "outputs": [],
   "source": [
    "from tensorflow.keras import layers, models\n",
    "import tensorflow as tf\n",
    "\n",
    "\n",
    "def build_simplified_cnn_model(input_shape):\n",
    "    model = models.Sequential()\n",
    "\n",
    "    # Capa 1: Convolucional + ReLU + Max Pooling\n",
    "    model.add(layers.Conv2D(16, (3, 3), activation='relu', padding='same', input_shape=input_shape))\n",
    "    model.add(layers.MaxPooling2D((2, 2)))\n",
    "\n",
    "    # Capa 2: Convolucional + ReLU + Max Pooling\n",
    "    model.add(layers.Conv2D(32, (3, 3), activation='relu', padding='same'))\n",
    "    model.add(layers.MaxPooling2D((2, 2)))\n",
    "\n",
    "    # Capa 3: Convolucional + Upsampling para mantener la resolución original\n",
    "    model.add(layers.Conv2D(64, (3, 3), activation='relu', padding='same'))\n",
    "    model.add(layers.UpSampling2D((2, 2)))  # Escalar de nuevo\n",
    "\n",
    "    # Capa 4: Convolucional + Upsampling\n",
    "    model.add(layers.Conv2D(32, (3, 3), activation='relu', padding='same'))\n",
    "    model.add(layers.UpSampling2D((2, 2)))  # Escalar de nuevo\n",
    "\n",
    "    # Capa de salida con predicción pixel a pixel, con 1 canal\n",
    "    model.add(layers.Conv2D(1, (1, 1), activation='linear'))  # 1 canal para salida de un solo valor (escala de grises o similar)\n",
    "\n",
    "    return model\n"
   ]
  },
  {
   "cell_type": "code",
   "execution_count": 76,
   "metadata": {},
   "outputs": [],
   "source": [
    "if len(train_input.shape) == 3:\n",
    "  input_shape = train_input.shape[1:]+(1,)\n",
    "else:\n",
    "  input_shape = train_input.shape[1:]  # Assuming data_inputs is your dataset\n"
   ]
  },
  {
   "cell_type": "code",
   "execution_count": 77,
   "metadata": {},
   "outputs": [
    {
     "name": "stdout",
     "output_type": "stream",
     "text": [
      "Model: \"sequential_4\"\n",
      "_________________________________________________________________\n",
      " Layer (type)                Output Shape              Param #   \n",
      "=================================================================\n",
      " conv2d_20 (Conv2D)          (None, 256, 256, 16)      592       \n",
      "                                                                 \n",
      " max_pooling2d_8 (MaxPoolin  (None, 128, 128, 16)      0         \n",
      " g2D)                                                            \n",
      "                                                                 \n",
      " conv2d_21 (Conv2D)          (None, 128, 128, 32)      4640      \n",
      "                                                                 \n",
      " max_pooling2d_9 (MaxPoolin  (None, 64, 64, 32)        0         \n",
      " g2D)                                                            \n",
      "                                                                 \n",
      " conv2d_22 (Conv2D)          (None, 64, 64, 64)        18496     \n",
      "                                                                 \n",
      " up_sampling2d_8 (UpSamplin  (None, 128, 128, 64)      0         \n",
      " g2D)                                                            \n",
      "                                                                 \n",
      " conv2d_23 (Conv2D)          (None, 128, 128, 32)      18464     \n",
      "                                                                 \n",
      " up_sampling2d_9 (UpSamplin  (None, 256, 256, 32)      0         \n",
      " g2D)                                                            \n",
      "                                                                 \n",
      " conv2d_24 (Conv2D)          (None, 256, 256, 1)       33        \n",
      "                                                                 \n",
      "=================================================================\n",
      "Total params: 42225 (164.94 KB)\n",
      "Trainable params: 42225 (164.94 KB)\n",
      "Non-trainable params: 0 (0.00 Byte)\n",
      "_________________________________________________________________\n"
     ]
    }
   ],
   "source": [
    "simplified_cnn_model = build_simplified_cnn_model(input_shape)\n",
    "simplified_cnn_model.compile(optimizer='adam', loss='mean_squared_error', metrics=['mae'])\n",
    "\n",
    "# Resumen del modelo\n",
    "simplified_cnn_model.summary()"
   ]
  },
  {
   "cell_type": "code",
   "execution_count": 78,
   "metadata": {},
   "outputs": [
    {
     "name": "stdout",
     "output_type": "stream",
     "text": [
      "Epoch 1/10\n"
     ]
    },
    {
     "name": "stdout",
     "output_type": "stream",
     "text": [
      "4/4 [==============================] - 1s 123ms/step - loss: 1.7186 - mae: 0.2394 - val_loss: 0.3206 - val_mae: 0.1773\n",
      "Epoch 2/10\n",
      "4/4 [==============================] - 0s 109ms/step - loss: 1.7118 - mae: 0.2017 - val_loss: 0.3104 - val_mae: 0.0804\n",
      "Epoch 3/10\n",
      "4/4 [==============================] - 0s 112ms/step - loss: 1.7087 - mae: 0.1576 - val_loss: 0.3102 - val_mae: 0.1217\n",
      "Epoch 4/10\n",
      "4/4 [==============================] - 0s 100ms/step - loss: 1.7041 - mae: 0.2115 - val_loss: 0.3130 - val_mae: 0.1510\n",
      "Epoch 5/10\n",
      "4/4 [==============================] - 1s 146ms/step - loss: 1.7045 - mae: 0.2230 - val_loss: 0.3114 - val_mae: 0.1457\n",
      "Epoch 6/10\n",
      "4/4 [==============================] - 0s 115ms/step - loss: 1.7041 - mae: 0.2244 - val_loss: 0.3110 - val_mae: 0.1504\n",
      "Epoch 7/10\n",
      "4/4 [==============================] - 0s 109ms/step - loss: 1.7031 - mae: 0.2112 - val_loss: 0.3103 - val_mae: 0.1467\n",
      "Epoch 8/10\n",
      "4/4 [==============================] - 0s 113ms/step - loss: 1.7041 - mae: 0.2024 - val_loss: 0.3122 - val_mae: 0.1656\n",
      "Epoch 9/10\n",
      "4/4 [==============================] - 0s 106ms/step - loss: 1.7030 - mae: 0.2287 - val_loss: 0.3147 - val_mae: 0.1859\n",
      "Epoch 10/10\n",
      "4/4 [==============================] - 0s 98ms/step - loss: 1.7031 - mae: 0.2278 - val_loss: 0.3130 - val_mae: 0.1693\n"
     ]
    }
   ],
   "source": [
    "history = simplified_cnn_model.fit(train_input, train_target, batch_size=4, epochs=10, validation_data=(validation_input, validation_target))"
   ]
  },
  {
   "cell_type": "code",
   "execution_count": 79,
   "metadata": {},
   "outputs": [
    {
     "data": {
      "image/png": "[encoded data removed]",
      "text/plain": [
       "<Figure size 1600x500 with 1 Axes>"
      ]
     },
     "metadata": {},
     "output_type": "display_data"
    }
   ],
   "source": [
    "plt.figure(figsize=(16,5))\n",
    "#plt.clf\n",
    "plt.plot(history.history['loss'], label='train loss')\n",
    "plt.plot(history.history['val_loss'], label='validation loss')\n",
    "plt.title('Simpler CNN MSE Loss during training --- lst+ndvi with wt stations target')\n",
    "plt.xlabel('Epoch')\n",
    "plt.ylabel('Loss (MSE)')\n",
    "plt.legend()\n",
    "plt.grid()\n",
    "plt.show()"
   ]
  },
  {
   "cell_type": "markdown",
   "metadata": {},
   "source": [
    "### Validate and test"
   ]
  },
  {
   "cell_type": "code",
   "execution_count": 80,
   "metadata": {},
   "outputs": [
    {
     "name": "stdout",
     "output_type": "stream",
     "text": [
      "1/1 [==============================] - 0s 56ms/step\n",
      "1/1 [==============================] - 0s 24ms/step\n"
     ]
    }
   ],
   "source": [
    "validation_prediction = simplified_cnn_model.predict(validation_input)\n",
    "test_prediction = simplified_cnn_model.predict(test_input)"
   ]
  },
  {
   "cell_type": "code",
   "execution_count": 81,
   "metadata": {},
   "outputs": [],
   "source": [
    "validation_target_flat = validation_target.reshape(-1)\n",
    "validation_prediction_flat = validation_prediction.reshape(-1)\n",
    "\n",
    "test_target_flat = test_target.reshape(-1)\n",
    "test_prediction_flat = test_prediction.reshape(-1)"
   ]
  },
  {
   "cell_type": "code",
   "execution_count": 82,
   "metadata": {},
   "outputs": [],
   "source": [
    "val_target_mask = validation_target_flat[validation_target_flat!= 0]\n",
    "val_pred_mask = validation_prediction_flat[validation_target_flat!= 0]\n",
    "test_target_mask = test_target_flat[test_target_flat!= 0]\n",
    "test_pred_mask = test_prediction_flat[test_target_flat!= 0]"
   ]
  },
  {
   "cell_type": "code",
   "execution_count": 83,
   "metadata": {},
   "outputs": [
    {
     "name": "stdout",
     "output_type": "stream",
     "text": [
      "Test results\n",
      "MAE : 4.8777375\n",
      "MSE : 0.37450647\n",
      "RMSE : 6.3256006\n",
      "R² : -1.460437174984695\n",
      "MAPE (%) : 93.73782873153687\n",
      "MSE sample-wise : 40.013226\n"
     ]
    }
   ],
   "source": [
    "results = evaluate_model(test_target_mask, test_pred_mask)\n",
    "print('Test results')\n",
    "for k,v in results.items():\n",
    "  print(k,':',v)"
   ]
  },
  {
   "cell_type": "markdown",
   "metadata": {},
   "source": [
    "Image wise metrics results"
   ]
  },
  {
   "cell_type": "code",
   "execution_count": 84,
   "metadata": {},
   "outputs": [
    {
     "name": "stdout",
     "output_type": "stream",
     "text": [
      "{'MAE': 4.8777375, 'MSE': 31.104826, 'RMSE': 4.9531584, 'R²': -29.392881768869326, 'MAPE (%)': 93.73782873153687, 'MSE sample-wise': 40.013226}\n"
     ]
    }
   ],
   "source": [
    "c = 0\n",
    "mean_results = {k:[] for k in results.keys()}\n",
    "# Loop through each sample and compute the MSE for that sample\n",
    "for i in range(test_target.shape[0]):\n",
    "    samples_per_image = test_target.shape[1]*test_target.shape[2]\n",
    "    # Flatten the true and predicted values for this sample\n",
    "    y_true_flatten = test_target_flat[c:c+samples_per_image]\n",
    "    y_true_mask = y_true_flatten[y_true_flatten!= 0]\n",
    "\n",
    "    y_pred_flatten = test_prediction_flat[c:c+samples_per_image]\n",
    "    y_pred_mask = y_pred_flatten[y_true_flatten!= 0]\n",
    "\n",
    "    #print(y_true_flatten.shape,y_pred_flatten.shape)\n",
    "    # Calculate MSE for this sample\n",
    "    mse = mean_squared_error(y_true_mask, y_pred_mask)\n",
    "    res = evaluate_model(y_true_mask, y_pred_mask)\n",
    "\n",
    "    for k,v in res.items():\n",
    "      mean_results[k].append(v)\n",
    "\n",
    "\n",
    "    c += samples_per_image\n",
    "\n",
    "for key in mean_results:\n",
    "    mean_results[key] = np.mean(mean_results[key])\n",
    "\n",
    "print(mean_results)"
   ]
  },
  {
   "cell_type": "markdown",
   "metadata": {},
   "source": [
    "#### Save model results"
   ]
  },
  {
   "cell_type": "code",
   "execution_count": 85,
   "metadata": {},
   "outputs": [],
   "source": [
    "model_name = \"pixel_wise_CNN\"\n",
    "details = {'RMSE':mean_results['RMSE'],'Variables':'lst, ndvi','Input': 'la Broye', 'Output': 'wt', 'Resolution': 256, 'nº samples': len(data_targets), 'Batch size': 4, 'Epochs': 10}\n",
    "\n",
    "file_path = f\"../results/{model_name}_results.xlsx\"\n",
    "save_excel(file_path, details, excel = 'Results')\n",
    "\n",
    "mean_results['Model'] = model_name\n",
    "file_path = f\"../results/all_results.xlsx\"\n",
    "save_excel(file_path, mean_results, excel = 'Results')"
   ]
  }
 ],
 "metadata": {
  "kernelspec": {
   "display_name": "Python 3",
   "language": "python",
   "name": "python3"
  },
  "language_info": {
   "codemirror_mode": {
    "name": "ipython",
    "version": 3
   },
   "file_extension": ".py",
   "mimetype": "text/x-python",
   "name": "python",
   "nbconvert_exporter": "python",
   "pygments_lexer": "ipython3",
   "version": "3.9.6"
  },
  "orig_nbformat": 4
 },
 "nbformat": 4,
 "nbformat_minor": 2
}

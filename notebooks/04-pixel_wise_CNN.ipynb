{
 "cells": [
  {
   "cell_type": "code",
   "execution_count": 1,
   "metadata": {},
   "outputs": [],
   "source": [
    "from functions import *"
   ]
  },
  {
   "cell_type": "code",
   "execution_count": 2,
   "metadata": {},
   "outputs": [],
   "source": [
    "import matplotlib.pyplot as plt\n",
    "import glob\n",
    "from skimage.transform import resize\n",
    "from sklearn.model_selection import train_test_split\n",
    "from sklearn.linear_model import LinearRegression\n",
    "import geopandas as gpd\n",
    "from sklearn.metrics import mean_absolute_error, mean_squared_error, r2_score\n",
    "import matplotlib\n",
    "import seaborn as sns\n",
    "from sklearn.model_selection import KFold\n",
    "from sklearn.preprocessing import StandardScaler\n",
    "import glob"
   ]
  },
  {
   "cell_type": "markdown",
   "metadata": {},
   "source": [
    "## CNN"
   ]
  },
  {
   "cell_type": "code",
   "execution_count": 18,
   "metadata": {},
   "outputs": [
    {
     "data": {
      "text/plain": [
       "{'lst': ['../data/preprocessed/lst/Wasserfallenbach',\n",
       "  '../data/preprocessed/lst/Eibachli',\n",
       "  '../data/preprocessed/lst/Bisse-Neuf',\n",
       "  '../data/preprocessed/lst/LaVenoge_shapefile',\n",
       "  '../data/preprocessed/lst/le_boiron2',\n",
       "  '../data/preprocessed/lst/I_Custiell',\n",
       "  '../data/preprocessed/lst/La_Paudeze',\n",
       "  '../data/preprocessed/lst/Zauggenbach',\n",
       "  '../data/preprocessed/lst/Aletenbach',\n",
       "  '../data/preprocessed/lst/Alplibach',\n",
       "  '../data/preprocessed/lst/Plattenbach',\n",
       "  '../data/preprocessed/lst/swissTLMboiron',\n",
       "  '../data/preprocessed/lst/LaBroye_shapefile'],\n",
       " 'ndvi': ['../data/preprocessed/ndvi/Wasserfallenbach',\n",
       "  '../data/preprocessed/ndvi/Eibachli',\n",
       "  '../data/preprocessed/ndvi/Bisse-Neuf',\n",
       "  '../data/preprocessed/ndvi/LaVenoge_shapefile',\n",
       "  '../data/preprocessed/ndvi/le_boiron2',\n",
       "  '../data/preprocessed/ndvi/I_Custiell',\n",
       "  '../data/preprocessed/ndvi/La_Paudeze',\n",
       "  '../data/preprocessed/ndvi/Zauggenbach',\n",
       "  '../data/preprocessed/ndvi/Aletenbach',\n",
       "  '../data/preprocessed/ndvi/Alplibach',\n",
       "  '../data/preprocessed/ndvi/Plattenbach',\n",
       "  '../data/preprocessed/ndvi/swissTLMboiron',\n",
       "  '../data/preprocessed/ndvi/LaBroye_shapefile'],\n",
       " 'wt': ['../data/preprocessed/wt/Wasserfallenbach',\n",
       "  '../data/preprocessed/wt/Eibachli',\n",
       "  '../data/preprocessed/wt/Bisse-Neuf',\n",
       "  '../data/preprocessed/wt/LaVenoge_shapefile',\n",
       "  '../data/preprocessed/wt/le_boiron2',\n",
       "  '../data/preprocessed/wt/I_Custiell',\n",
       "  '../data/preprocessed/wt/La_Paudeze',\n",
       "  '../data/preprocessed/wt/Zauggenbach',\n",
       "  '../data/preprocessed/wt/Aletenbach',\n",
       "  '../data/preprocessed/wt/Alplibach',\n",
       "  '../data/preprocessed/wt/Plattenbach',\n",
       "  '../data/preprocessed/wt/swissTLMboiron',\n",
       "  '../data/preprocessed/wt/LaBroye_shapefile'],\n",
       " 'masked': ['../data/preprocessed/lst/Wasserfallenbach/masked',\n",
       "  '../data/preprocessed/lst/Eibachli/masked',\n",
       "  '../data/preprocessed/lst/Bisse-Neuf/masked',\n",
       "  '../data/preprocessed/lst/LaVenoge_shapefile/masked',\n",
       "  '../data/preprocessed/lst/le_boiron2/masked',\n",
       "  '../data/preprocessed/lst/I_Custiell/masked',\n",
       "  '../data/preprocessed/lst/La_Paudeze/masked',\n",
       "  '../data/preprocessed/lst/Zauggenbach/masked',\n",
       "  '../data/preprocessed/lst/Aletenbach/masked',\n",
       "  '../data/preprocessed/lst/Alplibach/masked',\n",
       "  '../data/preprocessed/lst/Plattenbach/masked',\n",
       "  '../data/preprocessed/lst/swissTLMboiron/masked',\n",
       "  '../data/preprocessed/lst/LaBroye_shapefile/masked']}"
      ]
     },
     "execution_count": 18,
     "metadata": {},
     "output_type": "execute_result"
    }
   ],
   "source": [
    "W = 256\n",
    "source_path = '../data/preprocessed/'\n",
    "data_paths = ['lst', 'ndvi', 'wt', 'masked']#, 'wt_interpolated']\n",
    "dir_paths = [os.path.join(source_path,p) for p in data_paths]\n",
    "all_dir_paths = {k:[] for k in data_paths}\n",
    "\n",
    "for i,dir_p in enumerate(dir_paths):\n",
    "    for subdir, dirs,files in os.walk(dir_p):\n",
    "        if subdir != dir_p and not subdir.endswith('masked'): #and rivers_count < max_rivers:\n",
    "            all_dir_paths[data_paths[i]].append(subdir)\n",
    "        elif subdir.endswith('masked'):\n",
    "            all_dir_paths['masked'].append(subdir)\n",
    "\n",
    "\n",
    "all_dir_paths    "
   ]
  },
  {
   "cell_type": "code",
   "execution_count": 19,
   "metadata": {},
   "outputs": [
    {
     "name": "stdout",
     "output_type": "stream",
     "text": [
      "getting data for path ['../data/preprocessed/lst/Wasserfallenbach', '../data/preprocessed/lst/Eibachli', '../data/preprocessed/lst/Bisse-Neuf', '../data/preprocessed/lst/LaVenoge_shapefile', '../data/preprocessed/lst/le_boiron2', '../data/preprocessed/lst/I_Custiell', '../data/preprocessed/lst/La_Paudeze', '../data/preprocessed/lst/Zauggenbach', '../data/preprocessed/lst/Aletenbach', '../data/preprocessed/lst/Alplibach', '../data/preprocessed/lst/Plattenbach', '../data/preprocessed/lst/swissTLMboiron', '../data/preprocessed/lst/LaBroye_shapefile']\n",
      "lst : (119, 256, 256, 3)\n",
      "getting data for path ['../data/preprocessed/ndvi/Wasserfallenbach', '../data/preprocessed/ndvi/Eibachli', '../data/preprocessed/ndvi/Bisse-Neuf', '../data/preprocessed/ndvi/LaVenoge_shapefile', '../data/preprocessed/ndvi/le_boiron2', '../data/preprocessed/ndvi/I_Custiell', '../data/preprocessed/ndvi/La_Paudeze', '../data/preprocessed/ndvi/Zauggenbach', '../data/preprocessed/ndvi/Aletenbach', '../data/preprocessed/ndvi/Alplibach', '../data/preprocessed/ndvi/Plattenbach', '../data/preprocessed/ndvi/swissTLMboiron', '../data/preprocessed/ndvi/LaBroye_shapefile']\n",
      "ndvi : (119, 256, 256)\n",
      "getting data for path ['../data/preprocessed/wt/Wasserfallenbach', '../data/preprocessed/wt/Eibachli', '../data/preprocessed/wt/Bisse-Neuf', '../data/preprocessed/wt/LaVenoge_shapefile', '../data/preprocessed/wt/le_boiron2', '../data/preprocessed/wt/I_Custiell', '../data/preprocessed/wt/La_Paudeze', '../data/preprocessed/wt/Zauggenbach', '../data/preprocessed/wt/Aletenbach', '../data/preprocessed/wt/Alplibach', '../data/preprocessed/wt/Plattenbach', '../data/preprocessed/wt/swissTLMboiron', '../data/preprocessed/wt/LaBroye_shapefile']\n",
      "wt : (119, 256, 256)\n",
      "getting data for path ['../data/preprocessed/lst/Wasserfallenbach/masked', '../data/preprocessed/lst/Eibachli/masked', '../data/preprocessed/lst/Bisse-Neuf/masked', '../data/preprocessed/lst/LaVenoge_shapefile/masked', '../data/preprocessed/lst/le_boiron2/masked', '../data/preprocessed/lst/I_Custiell/masked', '../data/preprocessed/lst/La_Paudeze/masked', '../data/preprocessed/lst/Zauggenbach/masked', '../data/preprocessed/lst/Aletenbach/masked', '../data/preprocessed/lst/Alplibach/masked', '../data/preprocessed/lst/Plattenbach/masked', '../data/preprocessed/lst/swissTLMboiron/masked', '../data/preprocessed/lst/LaBroye_shapefile/masked']\n",
      "masked : (119, 256, 256, 3)\n"
     ]
    }
   ],
   "source": [
    "total_data = {}\n",
    "total_times = {}\n",
    "filter_river = None\n",
    "for k,v in all_dir_paths.items():\n",
    "    if k == 'lst' or k == 'masked':\n",
    "        list_rgb = [True]*len(v)\n",
    "    else:\n",
    "        list_rgb = [False]*len(v)\n",
    "    \n",
    "    if filter_river != None:\n",
    "        v = [v[filter_river]]\n",
    "    print('getting data for path',v) \n",
    "    data, times = load_data(v,W,list_rgb)\n",
    "    \n",
    "    #d = [item for sublist in data.values() for item in sublist]\n",
    "    total_data[k] = np.concatenate(list(data.values()), axis=0)\n",
    "    total_times[k] = times\n",
    "    print(k,':' ,total_data[k].shape)\n",
    "    "
   ]
  },
  {
   "cell_type": "code",
   "execution_count": 20,
   "metadata": {},
   "outputs": [],
   "source": [
    "r,m=load_raster('../data/preprocessed/discharge/discharge_k.tif', False)"
   ]
  },
  {
   "cell_type": "code",
   "execution_count": 21,
   "metadata": {},
   "outputs": [
    {
     "data": {
      "text/plain": [
       "(256, 256)"
      ]
     },
     "execution_count": 21,
     "metadata": {},
     "output_type": "execute_result"
    }
   ],
   "source": [
    "discharge_lebroye = resize_image(r, W,W)\n",
    "discharge_lebroye.shape"
   ]
  },
  {
   "cell_type": "code",
   "execution_count": 22,
   "metadata": {},
   "outputs": [
    {
     "name": "stdout",
     "output_type": "stream",
     "text": [
      "inputs shape: (119, 256, 256, 3) (119, 256, 256)\n",
      "targets shape: (119, 256, 256)\n"
     ]
    }
   ],
   "source": [
    "lst = total_data['lst']\n",
    "ndvi = total_data['ndvi']\n",
    "data_targets = total_data['wt']\n",
    "#wt_stations = data[dir_paths[3]]\n",
    "print('inputs shape:', lst.shape,ndvi.shape)\n",
    "print('targets shape:', data_targets.shape)"
   ]
  },
  {
   "cell_type": "code",
   "execution_count": 23,
   "metadata": {},
   "outputs": [],
   "source": [
    "inputs = 'ndvi,lst'#discharge'"
   ]
  },
  {
   "cell_type": "code",
   "execution_count": 24,
   "metadata": {},
   "outputs": [
    {
     "data": {
      "text/plain": [
       "(119, 256, 256)"
      ]
     },
     "execution_count": 24,
     "metadata": {},
     "output_type": "execute_result"
    }
   ],
   "source": [
    "disch_lebroye= np.tile(discharge_lebroye, (lst.shape[0], 1, 1))\n",
    "disch_lebroye.shape"
   ]
  },
  {
   "cell_type": "code",
   "execution_count": 25,
   "metadata": {},
   "outputs": [],
   "source": [
    "if inputs == 'lst':\n",
    "    train_input, train_target, validation_input, validation_target, test_input, test_target = split_data(lst, data_targets)\n",
    "else:\n",
    "    # Lista de diferentes conjuntos de imágenes a combinar con LST\n",
    "    additional_images = [ndvi]#, disch_lebroye]  # Añade todas las imágenes adicionales que quieras\n",
    "\n",
    "    # Expande la dimensión de cada conjunto de imágenes para asegurar que tengan un canal extra\n",
    "    expanded_images = [np.expand_dims(img, axis=-1) for img in additional_images]  # Cada imagen tendrá shape: (n_samples, 256, 256, 1)\n",
    "\n",
    "    # Concatenar LST con todas las imágenes adicionales a lo largo del último eje (canales)\n",
    "    combined_input = np.concatenate([lst] + expanded_images, axis=-1)  # LST (RGB) + todas las imágenes adicionales\n",
    "    # Shape final: (n_samples, 256, 256, n_channels) donde n_channels depende del número de conjuntos de imágenes\n",
    "\n",
    "    # Ahora puedes usar 'combined_input' para el resto del procesamiento\n",
    "    train_input, train_target, validation_input, validation_target, test_input, test_target = split_data(combined_input, data_targets)\n"
   ]
  },
  {
   "cell_type": "code",
   "execution_count": 26,
   "metadata": {},
   "outputs": [
    {
     "data": {
      "text/plain": [
       "(97, 256, 256, 4)"
      ]
     },
     "execution_count": 26,
     "metadata": {},
     "output_type": "execute_result"
    }
   ],
   "source": [
    "train_input.shape"
   ]
  },
  {
   "cell_type": "code",
   "execution_count": 27,
   "metadata": {},
   "outputs": [],
   "source": [
    "if inputs == 'lst':\n",
    "  train_input, train_target, validation_input, validation_target, test_input, test_target = split_data(lst, data_targets)\n",
    "else:\n",
    "  ndvi_expanded = np.expand_dims(ndvi, axis=-1)  # Shape: (n_samples, 256, 256, 1)\n",
    "\n",
    "  # Combine LST (RGB) y NDVI in a 4 channel input data\n",
    "  combined_input = np.concatenate([lst, ndvi_expanded], axis=-1)  # Shape: (n_samples, 256, 256, 4)\n",
    "  train_input, train_target, validation_input, validation_target, test_input, test_target = split_data(combined_input, data_targets)"
   ]
  },
  {
   "cell_type": "markdown",
   "metadata": {},
   "source": [
    "## Choose hyperparameters"
   ]
  },
  {
   "cell_type": "code",
   "execution_count": 28,
   "metadata": {},
   "outputs": [],
   "source": [
    "batch_size = 4\n",
    "epochs = 50"
   ]
  },
  {
   "cell_type": "markdown",
   "metadata": {},
   "source": [
    "### Build model"
   ]
  },
  {
   "cell_type": "code",
   "execution_count": 29,
   "metadata": {},
   "outputs": [],
   "source": [
    "from tensorflow.keras import layers, models\n",
    "import tensorflow as tf\n",
    "\n",
    "\n",
    "def build_simplified_cnn_model(input_shape):\n",
    "    model = models.Sequential()\n",
    "\n",
    "    # Capa 1: Convolucional + ReLU + Max Pooling\n",
    "    model.add(layers.Conv2D(16, (3, 3), activation='relu', padding='same', input_shape=input_shape))\n",
    "    model.add(layers.MaxPooling2D((2, 2)))\n",
    "\n",
    "    # Capa 2: Convolucional + ReLU + Max Pooling\n",
    "    model.add(layers.Conv2D(32, (3, 3), activation='relu', padding='same'))\n",
    "    model.add(layers.MaxPooling2D((2, 2)))\n",
    "\n",
    "    # Capa 3: Convolucional + Upsampling para mantener la resolución original\n",
    "    model.add(layers.Conv2D(64, (3, 3), activation='relu', padding='same'))\n",
    "    model.add(layers.UpSampling2D((2, 2)))  # Escalar de nuevo\n",
    "\n",
    "    # Capa 4: Convolucional + Upsampling\n",
    "    model.add(layers.Conv2D(32, (3, 3), activation='relu', padding='same'))\n",
    "    model.add(layers.UpSampling2D((2, 2)))  # Escalar de nuevo\n",
    "\n",
    "    # Capa de salida con predicción pixel a pixel, con 1 canal\n",
    "    model.add(layers.Conv2D(1, (1, 1), activation='linear'))  # 1 canal para salida de un solo valor (escala de grises o similar)\n",
    "\n",
    "    return model\n"
   ]
  },
  {
   "cell_type": "code",
   "execution_count": 30,
   "metadata": {},
   "outputs": [],
   "source": [
    "if len(train_input.shape) == 3:\n",
    "  input_shape = train_input.shape[1:]+(1,)\n",
    "else:\n",
    "  input_shape = train_input.shape[1:]  # Assuming data_inputs is your dataset\n"
   ]
  },
  {
   "cell_type": "code",
   "execution_count": 31,
   "metadata": {},
   "outputs": [
    {
     "name": "stdout",
     "output_type": "stream",
     "text": [
      "Model: \"sequential_1\"\n",
      "_________________________________________________________________\n",
      " Layer (type)                Output Shape              Param #   \n",
      "=================================================================\n",
      " conv2d_5 (Conv2D)           (None, 256, 256, 16)      592       \n",
      "                                                                 \n",
      " max_pooling2d_2 (MaxPoolin  (None, 128, 128, 16)      0         \n",
      " g2D)                                                            \n",
      "                                                                 \n",
      " conv2d_6 (Conv2D)           (None, 128, 128, 32)      4640      \n",
      "                                                                 \n",
      " max_pooling2d_3 (MaxPoolin  (None, 64, 64, 32)        0         \n",
      " g2D)                                                            \n",
      "                                                                 \n",
      " conv2d_7 (Conv2D)           (None, 64, 64, 64)        18496     \n",
      "                                                                 \n",
      " up_sampling2d_2 (UpSamplin  (None, 128, 128, 64)      0         \n",
      " g2D)                                                            \n",
      "                                                                 \n",
      " conv2d_8 (Conv2D)           (None, 128, 128, 32)      18464     \n",
      "                                                                 \n",
      " up_sampling2d_3 (UpSamplin  (None, 256, 256, 32)      0         \n",
      " g2D)                                                            \n",
      "                                                                 \n",
      " conv2d_9 (Conv2D)           (None, 256, 256, 1)       33        \n",
      "                                                                 \n",
      "=================================================================\n",
      "Total params: 42225 (164.94 KB)\n",
      "Trainable params: 42225 (164.94 KB)\n",
      "Non-trainable params: 0 (0.00 Byte)\n",
      "_________________________________________________________________\n"
     ]
    }
   ],
   "source": [
    "simplified_cnn_model = build_simplified_cnn_model(input_shape)\n",
    "simplified_cnn_model.compile(optimizer='adam', loss='mean_squared_error', metrics=['mae'])\n",
    "\n",
    "# Resumen del modelo\n",
    "simplified_cnn_model.summary()"
   ]
  },
  {
   "cell_type": "code",
   "execution_count": 32,
   "metadata": {},
   "outputs": [
    {
     "name": "stdout",
     "output_type": "stream",
     "text": [
      "Epoch 1/50\n",
      "25/25 [==============================] - 3s 104ms/step - loss: 1.3426 - mae: 0.1918 - val_loss: 2.1837 - val_mae: 0.2180\n",
      "Epoch 2/50\n",
      "25/25 [==============================] - 2s 98ms/step - loss: 1.3391 - mae: 0.1950 - val_loss: 2.1835 - val_mae: 0.2139\n",
      "Epoch 3/50\n",
      "25/25 [==============================] - 3s 101ms/step - loss: 1.3391 - mae: 0.1992 - val_loss: 2.1839 - val_mae: 0.2077\n",
      "Epoch 4/50\n",
      "25/25 [==============================] - 3s 112ms/step - loss: 1.3383 - mae: 0.1997 - val_loss: 2.1819 - val_mae: 0.2249\n",
      "Epoch 5/50\n",
      "25/25 [==============================] - 3s 106ms/step - loss: 1.3382 - mae: 0.2095 - val_loss: 2.1823 - val_mae: 0.2205\n",
      "Epoch 6/50\n",
      "25/25 [==============================] - 3s 104ms/step - loss: 1.3389 - mae: 0.1944 - val_loss: 2.1821 - val_mae: 0.2231\n",
      "Epoch 7/50\n",
      "25/25 [==============================] - 2s 96ms/step - loss: 1.3378 - mae: 0.2059 - val_loss: 2.1816 - val_mae: 0.2467\n",
      "Epoch 8/50\n",
      "25/25 [==============================] - 2s 92ms/step - loss: 1.3379 - mae: 0.2042 - val_loss: 2.1836 - val_mae: 0.2095\n",
      "Epoch 9/50\n",
      "25/25 [==============================] - 2s 94ms/step - loss: 1.3387 - mae: 0.1989 - val_loss: 2.1827 - val_mae: 0.2162\n",
      "Epoch 10/50\n",
      "25/25 [==============================] - 2s 94ms/step - loss: 1.3376 - mae: 0.2097 - val_loss: 2.1827 - val_mae: 0.2245\n",
      "Epoch 11/50\n",
      "25/25 [==============================] - 2s 92ms/step - loss: 1.3382 - mae: 0.1966 - val_loss: 2.1839 - val_mae: 0.2048\n",
      "Epoch 12/50\n",
      "25/25 [==============================] - 2s 91ms/step - loss: 1.3380 - mae: 0.2135 - val_loss: 2.1852 - val_mae: 0.1977\n",
      "Epoch 13/50\n",
      "25/25 [==============================] - 2s 92ms/step - loss: 1.3381 - mae: 0.2021 - val_loss: 2.1822 - val_mae: 0.2283\n",
      "Epoch 14/50\n",
      "25/25 [==============================] - 2s 91ms/step - loss: 1.3377 - mae: 0.2064 - val_loss: 2.1816 - val_mae: 0.2277\n",
      "Epoch 15/50\n",
      "25/25 [==============================] - 2s 95ms/step - loss: 1.3374 - mae: 0.2014 - val_loss: 2.1823 - val_mae: 0.2196\n",
      "Epoch 16/50\n",
      "25/25 [==============================] - 2s 97ms/step - loss: 1.3374 - mae: 0.2024 - val_loss: 2.1828 - val_mae: 0.2148\n",
      "Epoch 17/50\n",
      "25/25 [==============================] - 3s 105ms/step - loss: 1.3369 - mae: 0.2144 - val_loss: 2.1841 - val_mae: 0.2057\n",
      "Epoch 18/50\n",
      "25/25 [==============================] - 3s 104ms/step - loss: 1.3378 - mae: 0.1954 - val_loss: 2.1831 - val_mae: 0.2180\n",
      "Epoch 19/50\n",
      "25/25 [==============================] - 3s 102ms/step - loss: 1.3366 - mae: 0.2028 - val_loss: 2.1826 - val_mae: 0.2289\n",
      "Epoch 20/50\n",
      "25/25 [==============================] - 2s 98ms/step - loss: 1.3366 - mae: 0.2055 - val_loss: 2.1825 - val_mae: 0.2476\n",
      "Epoch 21/50\n",
      "25/25 [==============================] - 2s 100ms/step - loss: 1.3354 - mae: 0.2056 - val_loss: 2.1820 - val_mae: 0.2287\n",
      "Epoch 22/50\n",
      "25/25 [==============================] - 3s 100ms/step - loss: 1.3361 - mae: 0.2046 - val_loss: 2.1826 - val_mae: 0.2392\n",
      "Epoch 23/50\n",
      "25/25 [==============================] - 3s 102ms/step - loss: 1.3357 - mae: 0.1975 - val_loss: 2.1828 - val_mae: 0.2512\n",
      "Epoch 24/50\n",
      "25/25 [==============================] - 3s 104ms/step - loss: 1.3349 - mae: 0.2033 - val_loss: 2.1849 - val_mae: 0.2511\n",
      "Epoch 25/50\n",
      "25/25 [==============================] - 3s 108ms/step - loss: 1.3352 - mae: 0.1991 - val_loss: 2.1840 - val_mae: 0.2805\n",
      "Epoch 26/50\n",
      "25/25 [==============================] - 2s 100ms/step - loss: 1.3345 - mae: 0.2016 - val_loss: 2.1832 - val_mae: 0.2655\n",
      "Epoch 27/50\n",
      "25/25 [==============================] - 3s 106ms/step - loss: 1.3365 - mae: 0.1969 - val_loss: 2.1833 - val_mae: 0.2464\n",
      "Epoch 28/50\n",
      "25/25 [==============================] - 3s 102ms/step - loss: 1.3344 - mae: 0.2031 - val_loss: 2.1837 - val_mae: 0.2122\n",
      "Epoch 29/50\n",
      "25/25 [==============================] - 2s 98ms/step - loss: 1.3345 - mae: 0.1887 - val_loss: 2.1871 - val_mae: 0.2850\n",
      "Epoch 30/50\n",
      "25/25 [==============================] - 2s 98ms/step - loss: 1.3362 - mae: 0.2104 - val_loss: 2.1820 - val_mae: 0.2341\n",
      "Epoch 31/50\n",
      "25/25 [==============================] - 3s 109ms/step - loss: 1.3349 - mae: 0.2096 - val_loss: 2.1814 - val_mae: 0.2407\n",
      "Epoch 32/50\n",
      "25/25 [==============================] - 3s 106ms/step - loss: 1.3332 - mae: 0.2019 - val_loss: 2.1829 - val_mae: 0.2713\n",
      "Epoch 33/50\n",
      "25/25 [==============================] - 3s 104ms/step - loss: 1.3380 - mae: 0.2017 - val_loss: 2.1824 - val_mae: 0.2379\n",
      "Epoch 34/50\n",
      "25/25 [==============================] - 3s 100ms/step - loss: 1.3349 - mae: 0.2150 - val_loss: 2.1845 - val_mae: 0.2198\n",
      "Epoch 35/50\n",
      "25/25 [==============================] - 3s 112ms/step - loss: 1.3361 - mae: 0.1875 - val_loss: 2.1838 - val_mae: 0.2560\n",
      "Epoch 36/50\n",
      "25/25 [==============================] - 3s 121ms/step - loss: 1.3343 - mae: 0.2040 - val_loss: 2.1829 - val_mae: 0.2319\n",
      "Epoch 37/50\n",
      "25/25 [==============================] - 3s 106ms/step - loss: 1.3333 - mae: 0.2087 - val_loss: 2.1817 - val_mae: 0.2159\n",
      "Epoch 38/50\n",
      "25/25 [==============================] - 3s 104ms/step - loss: 1.3327 - mae: 0.2117 - val_loss: 2.1830 - val_mae: 0.2205\n",
      "Epoch 39/50\n",
      "25/25 [==============================] - 3s 129ms/step - loss: 1.3321 - mae: 0.1979 - val_loss: 2.1814 - val_mae: 0.2362\n",
      "Epoch 40/50\n",
      "25/25 [==============================] - 3s 114ms/step - loss: 1.3326 - mae: 0.2099 - val_loss: 2.1826 - val_mae: 0.2187\n",
      "Epoch 41/50\n",
      "25/25 [==============================] - 3s 101ms/step - loss: 1.3333 - mae: 0.1862 - val_loss: 2.1815 - val_mae: 0.2746\n",
      "Epoch 42/50\n",
      "25/25 [==============================] - 3s 101ms/step - loss: 1.3358 - mae: 0.2121 - val_loss: 2.1850 - val_mae: 0.2303\n",
      "Epoch 43/50\n",
      "25/25 [==============================] - 3s 109ms/step - loss: 1.3327 - mae: 0.2060 - val_loss: 2.1824 - val_mae: 0.2387\n",
      "Epoch 44/50\n",
      "25/25 [==============================] - 2s 99ms/step - loss: 1.3323 - mae: 0.2079 - val_loss: 2.1830 - val_mae: 0.2417\n",
      "Epoch 45/50\n",
      "25/25 [==============================] - 3s 103ms/step - loss: 1.3310 - mae: 0.2037 - val_loss: 2.1831 - val_mae: 0.2019\n",
      "Epoch 46/50\n",
      "25/25 [==============================] - 3s 126ms/step - loss: 1.3316 - mae: 0.1941 - val_loss: 2.1821 - val_mae: 0.2393\n",
      "Epoch 47/50\n",
      "25/25 [==============================] - 3s 130ms/step - loss: 1.3301 - mae: 0.2108 - val_loss: 2.1853 - val_mae: 0.1974\n",
      "Epoch 48/50\n",
      "25/25 [==============================] - 3s 137ms/step - loss: 1.3320 - mae: 0.1921 - val_loss: 2.1820 - val_mae: 0.2413\n",
      "Epoch 49/50\n",
      "25/25 [==============================] - 3s 129ms/step - loss: 1.3308 - mae: 0.2020 - val_loss: 2.1822 - val_mae: 0.2523\n",
      "Epoch 50/50\n",
      "25/25 [==============================] - 3s 131ms/step - loss: 1.3301 - mae: 0.2069 - val_loss: 2.1812 - val_mae: 0.2322\n"
     ]
    }
   ],
   "source": [
    "history = simplified_cnn_model.fit(train_input, train_target, batch_size=batch_size, epochs=epochs, validation_data=(validation_input, validation_target))"
   ]
  },
  {
   "cell_type": "code",
   "execution_count": 33,
   "metadata": {},
   "outputs": [
    {
     "data": {
      "image/png": "[encoded data removed]",
      "text/plain": [
       "<Figure size 1600x500 with 1 Axes>"
      ]
     },
     "metadata": {},
     "output_type": "display_data"
    }
   ],
   "source": [
    "plt.figure(figsize=(16,5))\n",
    "#plt.clf\n",
    "plt.plot(history.history['loss'], label='train loss')\n",
    "plt.plot(history.history['val_loss'], label='validation loss')\n",
    "plt.title('Simpler CNN MSE Loss during training --- lst+ndvi with wt stations target')\n",
    "plt.xlabel('Epoch')\n",
    "plt.ylabel('Loss (MSE)')\n",
    "plt.legend()\n",
    "plt.grid()\n",
    "plt.show()"
   ]
  },
  {
   "cell_type": "markdown",
   "metadata": {},
   "source": [
    "### Validate and test"
   ]
  },
  {
   "cell_type": "code",
   "execution_count": 34,
   "metadata": {},
   "outputs": [
    {
     "name": "stdout",
     "output_type": "stream",
     "text": [
      "1/1 [==============================] - 0s 181ms/step\n",
      "1/1 [==============================] - 0s 132ms/step\n"
     ]
    }
   ],
   "source": [
    "validation_prediction = simplified_cnn_model.predict(validation_input)\n",
    "test_prediction = simplified_cnn_model.predict(test_input)"
   ]
  },
  {
   "cell_type": "code",
   "execution_count": 35,
   "metadata": {},
   "outputs": [],
   "source": [
    "validation_target_flat = validation_target.reshape(-1)\n",
    "validation_prediction_flat = validation_prediction.reshape(-1)\n",
    "\n",
    "test_target_flat = test_target.reshape(-1)\n",
    "test_prediction_flat = test_prediction.reshape(-1)"
   ]
  },
  {
   "cell_type": "code",
   "execution_count": 36,
   "metadata": {},
   "outputs": [],
   "source": [
    "val_target_mask = validation_target_flat[validation_target_flat!= 0]\n",
    "val_pred_mask = validation_prediction_flat[validation_target_flat!= 0]\n",
    "test_target_mask = test_target_flat[test_target_flat!= 0]\n",
    "test_pred_mask = test_prediction_flat[test_target_flat!= 0]"
   ]
  },
  {
   "cell_type": "code",
   "execution_count": 37,
   "metadata": {},
   "outputs": [
    {
     "name": "stdout",
     "output_type": "stream",
     "text": [
      "Test results\n",
      "MAE : 10.528595\n",
      "MSE : 92.9094\n",
      "RMSE : 12.804861\n",
      "R² : -2.073020657941743\n",
      "MAPE (%) : 93.6126708984375\n",
      "MSE sample-wise : 163.96446\n"
     ]
    }
   ],
   "source": [
    "results = evaluate_model(test_target_mask, test_pred_mask)\n",
    "print('Test results')\n",
    "for k,v in results.items():\n",
    "  print(k,':',v)"
   ]
  },
  {
   "cell_type": "markdown",
   "metadata": {},
   "source": [
    "Image wise metrics results"
   ]
  },
  {
   "cell_type": "code",
   "execution_count": 38,
   "metadata": {},
   "outputs": [
    {
     "name": "stdout",
     "output_type": "stream",
     "text": [
      "{'MAE': 10.6485815, 'MSE': 167.06946, 'RMSE': 10.691329, 'R²': -34275831952821.676, 'MAPE (%)': 93.98580518635836, 'MSE sample-wise': 164.52269}\n"
     ]
    }
   ],
   "source": [
    "c = 0\n",
    "mean_results = {k:[] for k in results.keys()}\n",
    "# Loop through each sample and compute the MSE for that sample\n",
    "for i in range(test_target.shape[0]):\n",
    "    samples_per_image = test_target.shape[1]*test_target.shape[2]\n",
    "    # Flatten the true and predicted values for this sample\n",
    "    y_true_flatten = test_target_flat[c:c+samples_per_image]\n",
    "    y_true_mask = y_true_flatten[y_true_flatten!= 0]\n",
    "\n",
    "    y_pred_flatten = test_prediction_flat[c:c+samples_per_image]\n",
    "    y_pred_mask = y_pred_flatten[y_true_flatten!= 0]\n",
    "\n",
    "    #print(y_true_flatten.shape,y_pred_flatten.shape)\n",
    "    # Calculate MSE for this sample\n",
    "    mse = mean_squared_error(y_true_mask, y_pred_mask)\n",
    "    res = evaluate_model(y_true_mask, y_pred_mask)\n",
    "\n",
    "    for k,v in res.items():\n",
    "      mean_results[k].append(v)\n",
    "\n",
    "\n",
    "    c += samples_per_image\n",
    "\n",
    "for key in mean_results:\n",
    "    mean_results[key] = np.mean(mean_results[key])\n",
    "\n",
    "print(mean_results)"
   ]
  },
  {
   "cell_type": "markdown",
   "metadata": {},
   "source": [
    "#### Save model results"
   ]
  },
  {
   "cell_type": "code",
   "execution_count": 39,
   "metadata": {},
   "outputs": [],
   "source": [
    "model_name = \"pixel_wise_CNN\"\n",
    "details = {'RMSE':mean_results['RMSE'],'Variables':inputs,'Input': '10 rivers', 'Output': 'wt', 'Resolution': 256, 'nº samples': len(data_targets), 'Batch size': batch_size, 'Epochs': epochs}\n",
    "\n",
    "file_path = f\"../results/{model_name}_results.xlsx\"\n",
    "save_excel(file_path, details, excel = 'Results')\n",
    "\n",
    "mean_results['Model'] = model_name\n",
    "file_path = f\"../results/all_results.xlsx\"\n",
    "save_excel(file_path, mean_results, excel = 'Results')"
   ]
  }
 ],
 "metadata": {
  "kernelspec": {
   "display_name": "Python 3",
   "language": "python",
   "name": "python3"
  },
  "language_info": {
   "codemirror_mode": {
    "name": "ipython",
    "version": 3
   },
   "file_extension": ".py",
   "mimetype": "text/x-python",
   "name": "python",
   "nbconvert_exporter": "python",
   "pygments_lexer": "ipython3",
   "version": "3.9.6"
  },
  "orig_nbformat": 4
 },
 "nbformat": 4,
 "nbformat_minor": 2
}
